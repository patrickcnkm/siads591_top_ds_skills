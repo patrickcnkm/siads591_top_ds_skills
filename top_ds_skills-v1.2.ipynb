{
 "cells": [
  {
   "cell_type": "markdown",
   "id": "4f0d962d",
   "metadata": {},
   "source": [
    "## Introduction\n",
    "####  Top Skills of DS ( Data Scientists) on GlassDoor and Indeed\n",
    "This program aims at presenting the top 10 skills of DS listed in job descriptions of glassdoor and indeed. For the detail background, deliverables and processes, please see the readme in this git."
   ]
  },
  {
   "cell_type": "code",
   "execution_count": null,
   "id": "26a90261",
   "metadata": {
    "ExecuteTime": {
     "end_time": "2022-05-16T03:51:12.941532Z",
     "start_time": "2022-05-16T03:51:12.925456Z"
    }
   },
   "outputs": [],
   "source": [
    "### Load required libraries"
   ]
  },
  {
   "cell_type": "code",
   "execution_count": null,
   "id": "6f31b039",
   "metadata": {
    "ExecuteTime": {
     "end_time": "2022-05-16T03:51:19.587440Z",
     "start_time": "2022-05-16T03:51:12.960942Z"
    }
   },
   "outputs": [],
   "source": [
    "from __future__ import print_function\n",
    "import pandas as pd\n",
    "import numpy as np\n",
    "\n",
    "# Text preprocessing\n",
    "import os,re\n",
    "from bs4 import BeautifulSoup\n",
    "from langdetect import detect\n",
    "\n",
    "# Disable warning of 3 types\n",
    "import warnings\n",
    "\n",
    "#Plotting\n",
    "import matplotlib.pyplot as plt\n",
    "import matplotlib.cm as cm\n",
    "\n",
    "# Other utils\n",
    "from tqdm import tqdm  # Progress bar\n",
    "\n",
    "# Azure text analytics service api\n",
    "from azure.core.credentials import AzureKeyCredential\n",
    "from azure.ai.textanalytics import TextAnalyticsClient\n",
    "\n",
    "\n",
    "# aws comprehend\n",
    "import boto3\n",
    "import json\n",
    "\n",
    "#EDA tools.\n",
    "import dtale\n",
    "\n",
    "# Geopy for location\n",
    "from geopy.geocoders import Nominatim\n",
    "\n",
    "# nlp text cleaning\n",
    "import nltk\n",
    "import re\n",
    "import string\n",
    "from nltk.tokenize import word_tokenize, sent_tokenize\n",
    "from nltk.corpus import stopwords\n",
    "from nltk.stem import PorterStemmer # or LancasterStemmer, RegexpStemmer, SnowballStemmer"
   ]
  },
  {
   "cell_type": "markdown",
   "id": "7ba47d7e",
   "metadata": {},
   "source": [
    "### Pre-settings"
   ]
  },
  {
   "cell_type": "code",
   "execution_count": null,
   "id": "0f079213",
   "metadata": {
    "ExecuteTime": {
     "end_time": "2022-05-16T03:51:19.611532Z",
     "start_time": "2022-05-16T03:51:19.599590Z"
    }
   },
   "outputs": [],
   "source": [
    "# Set the width to show the column as much as possible.\n",
    "pd.set_option('display.max_colwidth', 200)\n",
    "\n",
    "# Disable 3 types of warning\n",
    "warnings.filterwarnings(\"ignore\",category=DeprecationWarning)\n",
    "warnings.filterwarnings(\"ignore\",category=(FutureWarning))\n",
    "warnings.filterwarnings(\"ignore\",category=(RuntimeWarning))\n",
    "\n",
    "np.random.seed(1337)"
   ]
  },
  {
   "cell_type": "markdown",
   "id": "1a9415bf",
   "metadata": {},
   "source": [
    "### data cleaning\n",
    "    - Select the jobs of data related, and keep the data scientists' record for analysis.\n",
    "    - Remove the duplicated records.\n",
    "    - Convert job description in HTML to text.\n",
    "    - Store the cleaned data into main table."
   ]
  },
  {
   "cell_type": "code",
   "execution_count": null,
   "id": "1c92f1c6",
   "metadata": {
    "ExecuteTime": {
     "end_time": "2022-05-16T04:03:14.403901Z",
     "start_time": "2022-05-16T03:51:19.629237Z"
    }
   },
   "outputs": [],
   "source": [
    "outputfile= './01_data/output/datajobs.csv'\n",
    "datafile='./01_data/input/glassdoor/glassdoor.csv'\n",
    "\n",
    "if os.path.exists(datafile):\n",
    "    if os.path.exists(outputfile):\n",
    "        Reload=input(\"The processed data exist, do you want to reload it?(y/n)\")\n",
    "    else:\n",
    "        Reload='y'\n",
    "        \n",
    "    # reload the data file, and re-produce the csv of data scientist\n",
    "    if Reload.lower()=='y':\n",
    "        try:\n",
    "            glassdoor=pd.read_csv(datafile)\n",
    "            print(\"Shape of source file:\", glassdoor.shape)\n",
    "             # Produce the list of jobs related to data\n",
    "            # Only keep the non-duplicated records by employer names and jobs.\n",
    "            # Only keep the first records if there are duplicated. Here I keep the latest one\n",
    "            # Sort the jobs by posted date ascendingly\n",
    "            data_jobs=glassdoor[glassdoor['header.jobTitle'].str.contains(' data ',case=False)].sort_values(\n",
    "                by='header.posted',ascending=False).loc[:,[\n",
    "                'gaTrackerData.industry',\n",
    "                'header.employerName',\n",
    "                'gaTrackerData.jobTitle',\n",
    "                'job.jobReqId.long',\n",
    "                'job.description',\n",
    "                'header.posted',\n",
    "                'map.country',\n",
    "                'map.lat',\n",
    "                'map.lng',\n",
    "                'map.location']]\n",
    "            # Keep the first record if the duplicated exist.\n",
    "            data_jobs['duplicated']=data_jobs.duplicated()\n",
    "            data_jobs_unique=data_jobs[data_jobs['duplicated']==False].loc[:,[\n",
    "                'gaTrackerData.industry',\n",
    "                'header.employerName',\n",
    "                'gaTrackerData.jobTitle',\n",
    "                'job.jobReqId.long',\n",
    "                'job.description',\n",
    "                'header.posted',\n",
    "                'map.country',\n",
    "                'map.lat',\n",
    "                'map.lng',\n",
    "                'map.location']]\n",
    "            data_jobs_unique.to_csv('./01_Data/Output/datajobs.csv')\n",
    "            print(\"Shape of jobs related to data:\", data_jobs_unique.shape)\n",
    "            # Assign id into each posted position for the coming identification\n",
    "            # Remove all html tag, and convert each requirements into one item for every posted position.\n",
    "            jobs = pd.DataFrame(\n",
    "                columns=[\n",
    "                    'posting_date',\n",
    "                    'description',\n",
    "                    'title',\n",
    "                    'country',\n",
    "                    'employer',\n",
    "                    'industry',\n",
    "                    'id',\n",
    "                    'source',\n",
    "                    'lat',\n",
    "                    'lng',\n",
    "                    'location']\n",
    "            )\n",
    "            #for i in tqdm(range(len(data_jobs_unique))):\n",
    "            \n",
    "            for i in range(len(data_jobs_unique)):\n",
    "                \n",
    "                html_page=data_jobs_unique.iloc[i,4]\n",
    "                soup = BeautifulSoup(html_page, 'html.parser')\n",
    "                jobs_list = soup.find_all(\"li\")\n",
    "                job_text=''\n",
    "                for job in jobs_list:\n",
    "                    try:\n",
    "                        lang = detect(str(job.contents[0]))\n",
    "                    except:\n",
    "                        lang = \"error\"\n",
    "                # Only handle the position described in English \n",
    "                # since this program is solely focusing on English \n",
    "                    if lang=='en':\n",
    "                        job_text=job_text + str(job.contents[0]).lower().split(\"\\r\\n\")[0]+'.'\n",
    " \n",
    "                # Create df to store the converted job description in text format.\n",
    "                if job_text!='':\n",
    "                    \n",
    "                    jobs=jobs.append(\n",
    "                        {\n",
    "                            \"posting_date\":data_jobs_unique.iloc[i,5],\n",
    "                            \"description\":job_text,\n",
    "                            \"title\":data_jobs_unique.iloc[i,2],\n",
    "                            \"country\":data_jobs_unique.iloc[i,6],\n",
    "                            \"employer\":data_jobs_unique.iloc[i,1],\n",
    "                            \"industry\":data_jobs_unique.iloc[i,0],\n",
    "                            \"id\":data_jobs_unique.iloc[i,3],\n",
    "                            \"source\":\"Glassdoor\",\n",
    "                            \"lat\":data_jobs_unique.iloc[i,7],\n",
    "                            \"lng\":data_jobs_unique.iloc[i,8],\n",
    "                            \"location\":data_jobs_unique.iloc[i,9]\n",
    "                        },\n",
    "                                      ignore_index=True) \n",
    "            # Prevent the issue of 'utf-8' encoding.    \n",
    "            jobs['description'] = jobs['description'].apply(lambda x: \n",
    "                                                            x.encode('ascii', 'ignore').decode('ascii'))\n",
    "            jobs.to_csv(outputfile)\n",
    "        except Exception as e:\n",
    "            print(\"Failed to read the data file due to error:%s, please check the file or path!\" %e)\n",
    "    else:\n",
    "        jobs=pd.read_csv(outputfile)"
   ]
  },
  {
   "cell_type": "code",
   "execution_count": null,
   "id": "a011b813",
   "metadata": {
    "ExecuteTime": {
     "end_time": "2022-05-16T04:03:14.421354Z",
     "start_time": "2022-05-16T04:03:14.406425Z"
    },
    "scrolled": true
   },
   "outputs": [],
   "source": [
    "# Select data scientist jobs\n",
    "df_main=jobs[jobs['title'].str.contains(r'^(?=.*data)(?=.*scientist)',case=False)]"
   ]
  },
  {
   "cell_type": "markdown",
   "id": "7df85bed",
   "metadata": {},
   "source": [
    "### Fill / Standardize the country names\n",
    "\n",
    "- Those job postings without countries can find out countries by:\n",
    "    - From the job posting who has the same locations, but the country is NOT empty.\n",
    "    - Based on Location to look for the country names.\n",
    "\n",
    "- The short names of countries will be converted to full names based on the mapping of glassdoor's table."
   ]
  },
  {
   "cell_type": "code",
   "execution_count": null,
   "id": "0f317b9c",
   "metadata": {
    "ExecuteTime": {
     "end_time": "2022-05-16T04:03:14.435041Z",
     "start_time": "2022-05-16T04:03:14.426961Z"
    }
   },
   "outputs": [],
   "source": [
    "# Identify how many jobs'country are empty\n",
    "len(df_main[df_main['country'].isnull()])"
   ]
  },
  {
   "cell_type": "code",
   "execution_count": null,
   "id": "a87a6f6e",
   "metadata": {
    "ExecuteTime": {
     "end_time": "2022-05-16T04:03:14.456425Z",
     "start_time": "2022-05-16T04:03:14.439053Z"
    }
   },
   "outputs": [],
   "source": [
    "# Create the mapping table for those which has country names and locations\n",
    "a_city=df_main[df_main['country'].isnull()==False]\\\n",
    "    [['country','location']].apply(lambda x: (x.iloc[0],x.iloc[1]),axis=1).unique()"
   ]
  },
  {
   "cell_type": "code",
   "execution_count": null,
   "id": "f2e6adc7",
   "metadata": {
    "ExecuteTime": {
     "end_time": "2022-05-16T04:03:14.465011Z",
     "start_time": "2022-05-16T04:03:14.459274Z"
    }
   },
   "outputs": [],
   "source": [
    "# Create replacing functions to \n",
    "# 1) return 1st element if 2nd element in array is equal to target string\n",
    "# 2) Return empty if target string could be not found\n",
    "def map_replace(a_source=[],s_target=''):\n",
    "    for item in a_source:\n",
    "        if str(item[1]).strip().lower()==s_target.strip().lower():\n",
    "            return item[0]\n",
    "    return None"
   ]
  },
  {
   "cell_type": "code",
   "execution_count": null,
   "id": "c495ee8d",
   "metadata": {
    "ExecuteTime": {
     "end_time": "2022-05-16T04:03:14.520297Z",
     "start_time": "2022-05-16T04:03:14.468012Z"
    }
   },
   "outputs": [],
   "source": [
    "# Fill the country names\n",
    "df_main['country']=df_main.apply(lambda \n",
    "                                 x: map_replace(a_city,x.iloc[10]) if pd.isna(x.iloc[3]) else x.iloc[3],axis=1)"
   ]
  },
  {
   "cell_type": "code",
   "execution_count": null,
   "id": "12201250",
   "metadata": {
    "ExecuteTime": {
     "end_time": "2022-05-16T04:03:14.529324Z",
     "start_time": "2022-05-16T04:03:14.523362Z"
    }
   },
   "outputs": [],
   "source": [
    "# Check how many postings without country names still are left\n",
    "len(df_main[df_main['country'].isnull()==True])"
   ]
  },
  {
   "cell_type": "code",
   "execution_count": null,
   "id": "0c62b6e7",
   "metadata": {
    "ExecuteTime": {
     "end_time": "2022-05-16T04:03:14.546143Z",
     "start_time": "2022-05-16T04:03:14.531896Z"
    }
   },
   "outputs": [],
   "source": [
    "# Import country mapping table for short names' conversion\n",
    "countryfile='./01_data/input/glassdoor/country_names_2_digit_codes.csv'\n",
    "df_country=pd.read_csv(countryfile)\n",
    "\n",
    "# Create function to get and standardize the country name\n",
    "def get_country(country='',lat='0',lng='0',city=''):\n",
    "    try:\n",
    "        country_name=''\n",
    "        \n",
    "        # country name's shortname to full name\n",
    "        if len(country)<=3 and len(country)>1:\n",
    "            country_name=df_country[df_country['Code'].str.lower()==country.lower()]['Name']\n",
    "            \n",
    "            if not country_name.empty:\n",
    "                \n",
    "                return country_name\n",
    "            \n",
    "        else:\n",
    "        # if country name does not exist, look for country name by geo location (latitude, longitude)\n",
    "            if country=='':\n",
    "                if (lat!='0' and lng!='0'):\n",
    "                    # initialize Nominatim API \n",
    "\n",
    "                    geolocator = Nominatim(user_agent=\"geoapiExercises\")\n",
    "\n",
    "                    # Latitude & Longitude input\n",
    "\n",
    "                    location = geolocator.reverse(lat+\",\"+lng,language='en')\n",
    "                    country_name = location.raw['address'].get('country', '')\n",
    "                    if country_name !='':\n",
    "                        return country_name\n",
    "        # if no geo location, search for country name by city name\n",
    "                else:\n",
    "                    if city !='':\n",
    "                        geolocator = Nominatim(timeout=10,user_agent=\"geoapiExercises\")\n",
    "                        #print(city)\n",
    "                        location = geolocator.geocode(city,language='en')\n",
    "                        loc_dict = location.raw\n",
    "                        #print(loc_dict)\n",
    "                        if loc_dict is not None:\n",
    "                            if ',' in loc_dict['display_name']:\n",
    "                                country_name=loc_dict['display_name'].rsplit(',' , 1)[1]\n",
    "                            else:\n",
    "                                country_name=loc_dict['display_name']\n",
    "                            return country_name\n",
    "            else:\n",
    "                return country\n",
    "                    \n",
    "    except Exception as e:\n",
    "            print(\"error:%s\" %e)\n",
    "            print(lat,lng,city,loc_dict)"
   ]
  },
  {
   "cell_type": "code",
   "execution_count": null,
   "id": "1122346d",
   "metadata": {
    "ExecuteTime": {
     "end_time": "2022-05-16T04:05:16.229719Z",
     "start_time": "2022-05-16T04:03:14.548884Z"
    }
   },
   "outputs": [],
   "source": [
    "# Fill the country names based on locations.\n",
    "df_main['country']=df_main.apply(lambda x: get_country(city=x.iloc[10])\n",
    "                                 if pd.isna(x.iloc[3]) else x.iloc[3],axis=1)"
   ]
  },
  {
   "cell_type": "code",
   "execution_count": null,
   "id": "783c1ac7",
   "metadata": {
    "ExecuteTime": {
     "end_time": "2022-05-16T04:05:16.242917Z",
     "start_time": "2022-05-16T04:05:16.233148Z"
    }
   },
   "outputs": [],
   "source": [
    "# Check how many postings without country name are left.\n",
    "len(df_main[df_main['country'].isna()])"
   ]
  },
  {
   "cell_type": "code",
   "execution_count": null,
   "id": "e1f56a6c",
   "metadata": {
    "ExecuteTime": {
     "end_time": "2022-05-16T04:05:16.282747Z",
     "start_time": "2022-05-16T04:05:16.248990Z"
    }
   },
   "outputs": [],
   "source": [
    "# Add 2 Codes for USA and UK given previous mapping table is lack of them\n",
    "df_temp=pd.DataFrame({'Name':['United Kingdom','United States','Switzerland'],\n",
    "                      'Code':['UK','USA','CHE']},columns=['Name','Code']\n",
    "                              )\n",
    "df_country=df_country.append(df_temp,ignore_index=True)\n",
    "\n",
    "# Create mapping array for short names to full names\n",
    "a_name=df_country[['Name','Code']].apply(lambda x: (x.iloc[0],x.iloc[1]),axis=1).unique()"
   ]
  },
  {
   "cell_type": "code",
   "execution_count": null,
   "id": "acf81984",
   "metadata": {
    "ExecuteTime": {
     "end_time": "2022-05-16T04:05:16.309001Z",
     "start_time": "2022-05-16T04:05:16.290742Z"
    }
   },
   "outputs": [],
   "source": [
    "# Display numbers of records which has the short names of country\n",
    "len(df_main[(df_main['country'].str.len()<=3) & (df_main['country'].str.len()>=2)])"
   ]
  },
  {
   "cell_type": "code",
   "execution_count": null,
   "id": "06320519",
   "metadata": {
    "ExecuteTime": {
     "end_time": "2022-05-16T04:05:16.507483Z",
     "start_time": "2022-05-16T04:05:16.318203Z"
    }
   },
   "outputs": [],
   "source": [
    "# Convert short name of country to full name\n",
    "df_main['country']=df_main.apply(lambda x: map_replace(a_name,x.iloc[3]) \n",
    "                                 if (pd.isna(map_replace(a_name,x.iloc[3]))==False) else x.iloc[3],axis=1)"
   ]
  },
  {
   "cell_type": "code",
   "execution_count": null,
   "id": "5533d832",
   "metadata": {
    "ExecuteTime": {
     "end_time": "2022-05-16T04:05:16.524512Z",
     "start_time": "2022-05-16T04:05:16.510516Z"
    }
   },
   "outputs": [],
   "source": [
    "# Verify what the short names are if these exist.\n",
    "len(df_main[df_main['country'].str.len()<=3][['country','location']])"
   ]
  },
  {
   "cell_type": "code",
   "execution_count": null,
   "id": "fca36994",
   "metadata": {
    "ExecuteTime": {
     "end_time": "2022-05-16T04:05:16.600663Z",
     "start_time": "2022-05-16T04:05:16.529441Z"
    }
   },
   "outputs": [],
   "source": [
    "# Export main table only including the jobs of data scientists\n",
    "ds_file= './01_data/output/datascientists.csv'\n",
    "df_main.to_csv(ds_file)"
   ]
  },
  {
   "cell_type": "code",
   "execution_count": null,
   "id": "616d2c6b",
   "metadata": {
    "ExecuteTime": {
     "end_time": "2022-05-16T04:05:16.948811Z",
     "start_time": "2022-05-16T04:05:16.603550Z"
    }
   },
   "outputs": [],
   "source": [
    "# Perform EDA to check main table\n",
    "d1 = dtale.show(df_main)\n",
    "d1.open_browser()"
   ]
  },
  {
   "cell_type": "markdown",
   "id": "200a38fa",
   "metadata": {},
   "source": [
    "### Fill / Standardize the industry name"
   ]
  },
  {
   "cell_type": "code",
   "execution_count": null,
   "id": "e756a7cb",
   "metadata": {
    "ExecuteTime": {
     "end_time": "2022-05-16T04:05:17.443139Z",
     "start_time": "2022-05-16T04:05:17.150056Z"
    }
   },
   "outputs": [],
   "source": [
    "# Identify how many jobs'industry names are empty\n",
    "len(df_main[df_main['industry'].isnull()])"
   ]
  },
  {
   "cell_type": "code",
   "execution_count": null,
   "id": "91937ec9",
   "metadata": {
    "ExecuteTime": {
     "end_time": "2022-05-16T04:05:17.512444Z",
     "start_time": "2022-05-16T04:05:17.480530Z"
    }
   },
   "outputs": [],
   "source": [
    "# Verify whether the industry names could be found from those job postings with industry name and same employer\n",
    "len(set(df_main[df_main['industry'].isnull()==False]['employer']) &\\\n",
    "                set(df_main[df_main['industry'].isnull()]['employer']))"
   ]
  },
  {
   "cell_type": "markdown",
   "id": "d8f639b9",
   "metadata": {},
   "source": [
    "#### To be found way to fill the missing industry names"
   ]
  },
  {
   "cell_type": "markdown",
   "id": "d5674b9d",
   "metadata": {},
   "source": [
    "## Extract skills from job desription"
   ]
  },
  {
   "cell_type": "code",
   "execution_count": null,
   "id": "a5b5ed63",
   "metadata": {
    "ExecuteTime": {
     "end_time": "2022-05-16T04:05:17.576805Z",
     "start_time": "2022-05-16T04:05:17.544574Z"
    }
   },
   "outputs": [],
   "source": [
    "default_stemmer = PorterStemmer()\n",
    "default_stopwords = stopwords.words('english') # or any other list of your choice\n",
    "def clean_text(text, ):\n",
    "\n",
    "    def tokenize_text(text):\n",
    "        return [w for s in sent_tokenize(text) for w in word_tokenize(s)]\n",
    "\n",
    "    def remove_special_characters(text, characters=string.punctuation.replace('-', '')):\n",
    "        tokens = tokenize_text(text)\n",
    "        pattern = re.compile('[{}]'.format(re.escape(characters)))\n",
    "        return ' '.join(filter(None, [pattern.sub('', t) for t in tokens]))\n",
    "\n",
    "    def stem_text(text, stemmer=default_stemmer):\n",
    "        tokens = tokenize_text(text)\n",
    "        return ' '.join([stemmer.stem(t) for t in tokens])\n",
    "\n",
    "    def remove_stopwords(text, stop_words=default_stopwords):\n",
    "        tokens = [w for w in tokenize_text(text) if w not in stop_words]\n",
    "        return ' '.join(tokens)\n",
    "\n",
    "    text = text.strip(' ') # strip whitespaces\n",
    "    text = text.lower() # lowercase\n",
    "    #text = stem_text(text) # stemming\n",
    "    text = remove_special_characters(text) # remove punctuation and symbols\n",
    "    text = remove_stopwords(text) # remove stopwords\n",
    "    #text.strip(' ') # strip whitespaces again?\n",
    "\n",
    "    return text"
   ]
  },
  {
   "cell_type": "code",
   "execution_count": null,
   "id": "653ea418",
   "metadata": {
    "ExecuteTime": {
     "end_time": "2022-05-16T04:05:19.743115Z",
     "start_time": "2022-05-16T04:05:17.588289Z"
    }
   },
   "outputs": [],
   "source": [
    "# Create column \"description_cln\" to store the result of text cleaning\n",
    "df_main['description_cln']=df_main['description'].apply(lambda x: clean_text(x, ))"
   ]
  },
  {
   "cell_type": "markdown",
   "id": "7e7d38ba",
   "metadata": {},
   "source": [
    "### Extract skills from AWS"
   ]
  },
  {
   "cell_type": "code",
   "execution_count": null,
   "id": "2f011a14",
   "metadata": {
    "ExecuteTime": {
     "end_time": "2022-05-17T02:55:47.017973Z",
     "start_time": "2022-05-17T02:50:06.159874Z"
    }
   },
   "outputs": [],
   "source": [
    "sample_frac=1 # % of total records for sample processing.\n",
    "cf_score=0.4  # confidence score threshold for key phrases\n",
    "\n",
    "# Call AWS comprehend to extract key phrases\n",
    "\n",
    "comprehend = boto3.client(service_name='comprehend', region_name='us-east-2')\n",
    "                \n",
    "#text = \"It is raining today in Seattle\"\n",
    "\n",
    "print('Calling DetectKeyPhrases')\n",
    "#df=pd.DataFrame()\n",
    "df_list=[]\n",
    "j=0\n",
    "for i in range(round(sample_frac*len(df_main))):\n",
    "    j=int(len(df_main[\"description_cln\"].iloc[i]) / 5000)+1\n",
    "    txt=[]\n",
    "    for x in range(j): \n",
    "        if j<=1:\n",
    "            txt.append(df_main[\"description_cln\"].iloc[i])\n",
    "        else:\n",
    "            txt.append(df_main[\"description_cln\"].iloc[i][x*5000:(x+1)*5000])\n",
    "        dump_json=json.dumps(comprehend.detect_key_phrases(Text=txt[x]\n",
    "                                                           , LanguageCode='en'), sort_keys=True, indent=4)\n",
    "        df_phrases=pd.json_normalize(json.loads(dump_json)['KeyPhrases'])\n",
    "        df_phrases['id']=df_main[\"id\"].iloc[i]\n",
    "        df_list.append(df_phrases)\n",
    "        \n",
    "df=pd.concat(df_list)\n",
    "print('End of DetectKeyPhrases\\n')"
   ]
  },
  {
   "cell_type": "code",
   "execution_count": null,
   "id": "cce344c9",
   "metadata": {
    "ExecuteTime": {
     "end_time": "2022-05-17T02:56:49.905776Z",
     "start_time": "2022-05-17T02:56:49.880514Z"
    }
   },
   "outputs": [],
   "source": [
    "# Generate the dataframe of skills\n",
    "df_skills=pd.DataFrame(df[df['Score']>=cf_score][['id','Text']])\n",
    "df_skills.columns=['id','skill']\n",
    "df_skills['type']=''"
   ]
  },
  {
   "cell_type": "code",
   "execution_count": null,
   "id": "a006b497",
   "metadata": {
    "ExecuteTime": {
     "end_time": "2022-05-17T02:56:51.525474Z",
     "start_time": "2022-05-17T02:56:51.501064Z"
    }
   },
   "outputs": [],
   "source": [
    "df_skills"
   ]
  },
  {
   "cell_type": "code",
   "execution_count": null,
   "id": "7afa4767",
   "metadata": {
    "ExecuteTime": {
     "end_time": "2022-05-17T02:57:01.184745Z",
     "start_time": "2022-05-17T02:57:00.821636Z"
    }
   },
   "outputs": [],
   "source": [
    "# EDA on aws results\n",
    "d1 = dtale.show(df_skills)\n",
    "d1.open_browser()"
   ]
  },
  {
   "cell_type": "code",
   "execution_count": null,
   "id": "29a679c8",
   "metadata": {
    "ExecuteTime": {
     "end_time": "2022-05-17T12:21:02.569159Z",
     "start_time": "2022-05-17T12:12:55.734978Z"
    }
   },
   "outputs": [],
   "source": [
    "# Call Azure text analytics to identify name entities\n",
    "cred=input(\"Please input azure's credential\")\n",
    "credential = AzureKeyCredential(cred)\n",
    "endpoint=\"https://topskills.cognitiveservices.azure.com/\"\n",
    "\n",
    "text_analytics_client = TextAnalyticsClient(endpoint, credential)\n",
    "\n",
    "#df_list=[]\n",
    "df_list=pd.DataFrame(columns=['id','skill','category','confidence score'])\n",
    "j=0\n",
    "for i in range(round(sample_frac*len(df_main))):\n",
    "    j=int(len(df_main[\"description\"].iloc[i]) / 5000)+1\n",
    "    txt=[]\n",
    "    for x in range(j): \n",
    "        if j<=1:\n",
    "            txt.append(df_main[\"description\"].iloc[i])\n",
    "        else:\n",
    "            txt.append(df_main[\"description\"].iloc[i][x*5000:(x+1)*5000])\n",
    "    \n",
    "        documents = [item for item in txt[x:x+1]]\n",
    "        #print(documents)\n",
    "        response = text_analytics_client.recognize_entities(documents, language=\"en\")\n",
    "        result = [doc for doc in response if not doc.is_error]\n",
    "        #print(result)\n",
    "        for doc in result:\n",
    "            #print(doc)\n",
    "            for entity in doc.entities:\n",
    "                df_list=df_list.append({'id':df_main['id'].iloc[i],\n",
    "                                         'skill':entity.text,\n",
    "                                        'category':entity.category,\n",
    "                                        'confidence score':entity.confidence_score},ignore_index=True)\n",
    "\n",
    "df_skills_az=df_list"
   ]
  },
  {
   "cell_type": "code",
   "execution_count": null,
   "id": "fb75c23a",
   "metadata": {
    "ExecuteTime": {
     "end_time": "2022-05-17T12:53:50.260132Z",
     "start_time": "2022-05-17T12:53:50.086968Z"
    }
   },
   "outputs": [],
   "source": [
    "# EDA on azure results\n",
    "d = dtale.show(df_skills_az)\n",
    "d.open_browser()"
   ]
  },
  {
   "cell_type": "markdown",
   "id": "0c578da1",
   "metadata": {},
   "source": [
    "#### Verify the skill extraction results on both AWS and Azure\n",
    "    1. Randomly choose 10 jobs from glassdoor data scientist'data set.\n",
    "    2. Mannually identify the skills on those job descriptions.\n",
    "    3. Output the skill identification results from AWS and Azure respectively.\n",
    "    4. Compare the manual results with the results of AWS and Azure to choose better one."
   ]
  },
  {
   "cell_type": "code",
   "execution_count": null,
   "id": "fa8fbb55",
   "metadata": {
    "ExecuteTime": {
     "end_time": "2022-05-17T12:52:34.903908Z",
     "start_time": "2022-05-17T12:52:34.897391Z"
    }
   },
   "outputs": [],
   "source": [
    "state_num=13\n",
    "samples=10\n",
    "#li_sample=df_main['id'].sample(n=samples, random_state=state_num).to_list()\n",
    "li_sample=[4197200540,4035778057,4163505477,4170026582,4101129848,4147274432,4141919159,4182008825,4121953071\n",
    ",4209136866]\n",
    "df_samples=df_main[df_main['id'].isin(li_sample)]"
   ]
  },
  {
   "cell_type": "code",
   "execution_count": null,
   "id": "2dcb16ee",
   "metadata": {
    "ExecuteTime": {
     "end_time": "2022-05-17T12:52:36.064227Z",
     "start_time": "2022-05-17T12:52:36.055500Z"
    }
   },
   "outputs": [],
   "source": [
    "# Export samples into csv file for mannual identification of skills\n",
    "sample_file= './01_data/output/samples.csv'\n",
    "df_samples.to_csv(sample_file)"
   ]
  },
  {
   "cell_type": "code",
   "execution_count": null,
   "id": "583b2c61",
   "metadata": {
    "ExecuteTime": {
     "end_time": "2022-05-17T12:52:37.989907Z",
     "start_time": "2022-05-17T12:52:37.977535Z"
    }
   },
   "outputs": [],
   "source": [
    "df_samples_aw=df_skills[df_skills['id'].isin(li_sample)]\n",
    "df_samples_az=df_skills_az[df_skills_az['id'].isin(li_sample)]"
   ]
  },
  {
   "cell_type": "code",
   "execution_count": null,
   "id": "473e0b67",
   "metadata": {
    "ExecuteTime": {
     "end_time": "2022-05-17T12:52:40.252020Z",
     "start_time": "2022-05-17T12:52:40.241034Z"
    }
   },
   "outputs": [],
   "source": [
    "# Export main table only including the jobs of data scientists\n",
    "aws_file= './01_data/output/sample_aws.csv'\n",
    "df_samples_aw.to_csv(aws_file)"
   ]
  },
  {
   "cell_type": "code",
   "execution_count": null,
   "id": "a9087834",
   "metadata": {
    "ExecuteTime": {
     "end_time": "2022-05-17T12:53:00.573315Z",
     "start_time": "2022-05-17T12:53:00.561207Z"
    }
   },
   "outputs": [],
   "source": [
    "# Export main table only including the jobs of data scientists\n",
    "az_file= './01_data/output/sample_az.csv'\n",
    "df_samples_az.to_csv(az_file)"
   ]
  },
  {
   "cell_type": "code",
   "execution_count": null,
   "id": "62bf2524",
   "metadata": {},
   "outputs": [],
   "source": []
  }
 ],
 "metadata": {
  "kernelspec": {
   "display_name": "Python 3",
   "language": "python",
   "name": "python3"
  },
  "language_info": {
   "codemirror_mode": {
    "name": "ipython",
    "version": 3
   },
   "file_extension": ".py",
   "mimetype": "text/x-python",
   "name": "python",
   "nbconvert_exporter": "python",
   "pygments_lexer": "ipython3",
   "version": "3.7.9"
  }
 },
 "nbformat": 4,
 "nbformat_minor": 5
}
