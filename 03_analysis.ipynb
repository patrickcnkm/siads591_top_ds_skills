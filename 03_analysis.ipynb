{
 "cells": [
  {
   "cell_type": "markdown",
   "id": "7bc61cc2",
   "metadata": {},
   "source": [
    "## Introduction\n",
    "####  Data analysis & visualiztion on the skills of data scientists from the job description of 2 hiring websites"
   ]
  },
  {
   "cell_type": "code",
   "execution_count": 1,
   "id": "6b656938",
   "metadata": {
    "ExecuteTime": {
     "end_time": "2022-05-25T01:30:29.648201Z",
     "start_time": "2022-05-25T01:30:14.330779Z"
    }
   },
   "outputs": [],
   "source": [
    "from __future__ import print_function\n",
    "import pandas as pd\n",
    "import numpy as np\n",
    "\n",
    "# Text preprocessing\n",
    "import os,re\n",
    "\n",
    "# Disable warning of 3 types\n",
    "import warnings\n",
    "\n",
    "#Plotting\n",
    "import matplotlib.pyplot as plt\n",
    "import matplotlib.cm as cm\n",
    "import altair as alt\n",
    "from altair import datum\n",
    "import pyLDAvis\n",
    "import pyLDAvis.sklearn\n",
    "pyLDAvis.enable_notebook()\n",
    "\n",
    "\n",
    "# Other utils\n",
    "from tqdm import tqdm  # Progress bar\n",
    "from datetime import datetime\n",
    "from dateutil import parser\n",
    "\n",
    "#EDA tools.\n",
    "import dtale\n",
    "\n",
    "# nlp text cleaning\n",
    "import nltk\n",
    "import re\n",
    "import string\n",
    "from nltk.tokenize import word_tokenize, sent_tokenize\n",
    "from nltk.corpus import stopwords\n",
    "from nltk.stem import PorterStemmer # or LancasterStemmer, RegexpStemmer, SnowballStemmer\n",
    "\n",
    "# Transformers\n",
    "from transformers import pipeline\n",
    "import ipywidgets as widgets\n",
    "from transformers import pipeline\n",
    "from sentence_transformers import SentenceTransformer\n",
    "\n",
    "# Clustering algorithms\n",
    "from sklearn.decomposition import PCA\n",
    "from sklearn.cluster import KMeans, MiniBatchKMeans\n",
    "from sklearn.decomposition import LatentDirichletAllocation\n",
    "from scipy.cluster.hierarchy import ward, dendrogram\n",
    "from sklearn.metrics.pairwise import cosine_similarity\n",
    "\n",
    "from sklearn.feature_extraction.text import CountVectorizer, TfidfVectorizer, ENGLISH_STOP_WORDS\n",
    "from nltk.stem.snowball import SnowballStemmer\n",
    "\n",
    "# Visualizing text\n",
    "import spacy\n",
    "import scattertext"
   ]
  },
  {
   "cell_type": "markdown",
   "id": "21b5b3f1",
   "metadata": {},
   "source": [
    "### Pre-settings"
   ]
  },
  {
   "cell_type": "code",
   "execution_count": 2,
   "id": "d61c083d",
   "metadata": {
    "ExecuteTime": {
     "end_time": "2022-05-25T01:30:29.661128Z",
     "start_time": "2022-05-25T01:30:29.651917Z"
    }
   },
   "outputs": [],
   "source": [
    "# Set the width to show the column as much as possible.\n",
    "pd.set_option('display.max_colwidth', 200)\n",
    "\n",
    "# Disable 3 types of warning\n",
    "warnings.filterwarnings(\"ignore\",category=DeprecationWarning)\n",
    "warnings.filterwarnings(\"ignore\",category=(FutureWarning))\n",
    "warnings.filterwarnings(\"ignore\",category=(RuntimeWarning))"
   ]
  },
  {
   "cell_type": "markdown",
   "id": "8de665d6",
   "metadata": {},
   "source": [
    "### Data clean & manipulation\n",
    "- Remove the duplicated records.\n",
    "- Remove the incorrect or inappropriate skills\n",
    "- Combine the main and skills into one table: df_full"
   ]
  },
  {
   "cell_type": "code",
   "execution_count": 3,
   "id": "7533f708",
   "metadata": {
    "ExecuteTime": {
     "end_time": "2022-05-25T01:30:29.830973Z",
     "start_time": "2022-05-25T01:30:29.686080Z"
    }
   },
   "outputs": [],
   "source": [
    "# load main table only including the jobs of data scientists\n",
    "ds_file= './01_data/output/datascientists.csv'\n",
    "df_main=pd.read_csv(ds_file)\n",
    "df_main['id']=df_main['id'].astype('int64')"
   ]
  },
  {
   "cell_type": "code",
   "execution_count": 4,
   "id": "7cd04b26",
   "metadata": {
    "ExecuteTime": {
     "end_time": "2022-05-25T01:30:29.872091Z",
     "start_time": "2022-05-25T01:30:29.841619Z"
    }
   },
   "outputs": [],
   "source": [
    "# Drop the duplicated job postings \n",
    "df_main.drop_duplicates(subset=['employer','description','title','location'],inplace=True)\n",
    "# Drop the job posting with same id even the above would be a little different.\n",
    "df_main.drop_duplicates(subset=['id'],inplace=True)"
   ]
  },
  {
   "cell_type": "code",
   "execution_count": 5,
   "id": "a32c10a8",
   "metadata": {
    "ExecuteTime": {
     "end_time": "2022-05-25T01:30:29.902700Z",
     "start_time": "2022-05-25T01:30:29.886119Z"
    }
   },
   "outputs": [],
   "source": [
    "#removed space in country\n",
    "df_main['country']=df_main['country'].apply(lambda x: x.strip())"
   ]
  },
  {
   "cell_type": "code",
   "execution_count": 6,
   "id": "ce1d0c7e",
   "metadata": {
    "ExecuteTime": {
     "end_time": "2022-05-25T01:30:29.980320Z",
     "start_time": "2022-05-25T01:30:29.924336Z"
    }
   },
   "outputs": [],
   "source": [
    "# load skills produced by azure\n",
    "az_skills= './01_data/output/az_skills.csv'\n",
    "df_skills=pd.read_csv(az_skills)"
   ]
  },
  {
   "cell_type": "code",
   "execution_count": 7,
   "id": "bfb91f6e",
   "metadata": {
    "ExecuteTime": {
     "end_time": "2022-05-25T01:30:30.004659Z",
     "start_time": "2022-05-25T01:30:29.991065Z"
    }
   },
   "outputs": [],
   "source": [
    "# Select skils from 3 categories generated by azure\n",
    "df_skills=df_skills[df_skills['category'].isin(['Skill','Product','Person'])]"
   ]
  },
  {
   "cell_type": "code",
   "execution_count": 8,
   "id": "ff4cc4f5",
   "metadata": {
    "ExecuteTime": {
     "end_time": "2022-05-25T01:30:30.035218Z",
     "start_time": "2022-05-25T01:30:30.008563Z"
    }
   },
   "outputs": [],
   "source": [
    "# Drop the duplicated skills in the same job description\n",
    "df_skills.drop_duplicates(subset=['id','skill'],inplace=True)"
   ]
  },
  {
   "cell_type": "code",
   "execution_count": 9,
   "id": "685606cd",
   "metadata": {
    "ExecuteTime": {
     "end_time": "2022-05-25T01:30:30.051020Z",
     "start_time": "2022-05-25T01:30:30.039510Z"
    }
   },
   "outputs": [],
   "source": [
    "# Decide to divide the job postings into 3 types:junior, senior, and others\n",
    "def ds_level(title=''):\n",
    "    jr = [\"junior\", \"jr\", \"jr.\",\"intern\",\"internship\",\"young\",\"student\",\"analyst\",\"associate\"]\n",
    "    sr = [\"sr.\",\"sr\",\"senior\",\"lead\",\"leading\",\"principal\",\"president\"]\n",
    "\n",
    "    if any(x in title.lower() for x in jr):\n",
    "        return \"junior\"\n",
    "\n",
    "    if any(x in title.lower() for x in sr):\n",
    "        return \"senior\"\n",
    "    \n",
    "    return \"others\"\n"
   ]
  },
  {
   "cell_type": "code",
   "execution_count": 10,
   "id": "8a2f6873",
   "metadata": {
    "ExecuteTime": {
     "end_time": "2022-05-25T01:30:30.073661Z",
     "start_time": "2022-05-25T01:30:30.056090Z"
    }
   },
   "outputs": [],
   "source": [
    "# Assign types\n",
    "df_main['type']=df_main['title'].apply(lambda x: ds_level(x))"
   ]
  },
  {
   "cell_type": "code",
   "execution_count": 11,
   "id": "cf472f0d",
   "metadata": {
    "ExecuteTime": {
     "end_time": "2022-05-25T01:30:30.191252Z",
     "start_time": "2022-05-25T01:30:30.091157Z"
    }
   },
   "outputs": [],
   "source": [
    "# Change string to datetime\n",
    "df_main['posting_date']=df_main['posting_date'].apply(lambda x: parser.parse(x))"
   ]
  },
  {
   "cell_type": "markdown",
   "id": "776fbd52",
   "metadata": {},
   "source": [
    "#### Refine the skills extracted from Azure"
   ]
  },
  {
   "cell_type": "code",
   "execution_count": 12,
   "id": "84dc1e81",
   "metadata": {
    "ExecuteTime": {
     "end_time": "2022-05-25T01:30:30.206138Z",
     "start_time": "2022-05-25T01:30:30.194249Z"
    }
   },
   "outputs": [],
   "source": [
    "# The list of person to be excluded.\n",
    "xl_prd=[\n",
    "        'food coupons', 'coffee', 'room', 'snacks',\n",
    "      'computer screens', 'computers', 'printers',\n",
    "       'copiers', 'computer', 'pool table', 'beers',\n",
    "       'soft drinks', 'wine', 'mac', 'pc', 'nintendo switch',\n",
    "       'big screen tv', 'mario kart', 'holidays', 'car', 'cycle',\n",
    "       'machine',\n",
    "       'office suite',\n",
    "       'ph', 'd', 'drinks', 'watson', 'breakfast', 'fruits', 'advanced',\n",
    "       'artefact',  'suite',\n",
    "       'tv', 'headphones', 'notebooks', 'medicines',\n",
    "       'beverages', 'vehicle',\n",
    "       'infrastructure', 'food',  'celery',\n",
    "       'ansible', 'espresso', \n",
    "       'petrel', 'macbook', 'books', 'vinted', 'bikes', 'home',\n",
    "       'travel insurance', 'earthsofts equis', 'power', 'journals',\n",
    "       'big machines', \n",
    "        'meal',  'meal vouchers',\n",
    "       'laptop', \n",
    "       'textbooks', 'nail polish', 'fridge',  'company car',\n",
    "       'book', 'goodies', 'fresh fruits', \n",
    "        'refreshments', 'plan',\n",
    "       'disability insurance', 'free drinks', 'fruit', \n",
    "      'notebook',\n",
    "       'passport',\n",
    "       'opportunity',\n",
    "       'artificial barriers',\n",
    "       'tessian anc headphones', 'coffee machine', 'hummus',\n",
    "       'dinner', \n",
    "       'apparel', 'uniform', 'restaurant tickets', 'transport tickets',\n",
    "       'gear',   'pizza',\n",
    "       'beer', 'vouchers', \n",
    "        'dress',\n",
    "        'conference tickets', 'cell phone', 'sport vouchers',\n",
    "       'consumer', 'phone',\n",
    "        'friday drinks',\n",
    "       'beanbags', 'guitars', 'table football',\n",
    "       'meals', \n",
    "       'shiny',\n",
    "       'satellite', 'desks', \n",
    "       'mobile phone', \n",
    "       'outlook', 'word', \n",
    "       'jupiter', \n",
    "       'barista', 'coffee machines', \n",
    "       'furniture',  'health care plan',\n",
    "       'death service plan', 'cycle to work scheme', \n",
    "       'cinema tickets', \n",
    "     'company', \n",
    "       'kitchen', 'gourmet coffee', 'teas', 'leaseauto', 'healthy snacks',\n",
    "       'pc computing',  'hd tv', 'pass', \n",
    "         'bicycle', 'plans',\n",
    "       'oil', 'gas', \n",
    "        'fast food', 'ship',\n",
    "       'gas turbines', 'cntk', 'nvidia tx2,', 'nvidia xavier',\n",
    "       'sap', 'db2.']"
   ]
  },
  {
   "cell_type": "code",
   "execution_count": 13,
   "id": "a656288b",
   "metadata": {
    "ExecuteTime": {
     "end_time": "2022-05-25T01:30:30.226353Z",
     "start_time": "2022-05-25T01:30:30.211445Z"
    }
   },
   "outputs": [],
   "source": [
    "# The list of person to be excluded.\n",
    "xl_per=['ltat de lart', 'john doe',\n",
    "        'monte', 'tiki', 'san francisco', 'roche', 'jhu',\n",
    "      'veronika grollova', 'frederik norgaard', 'kennis van',\n",
    "       'balderton']"
   ]
  },
  {
   "cell_type": "code",
   "execution_count": 14,
   "id": "dc53c422",
   "metadata": {
    "ExecuteTime": {
     "end_time": "2022-05-25T01:30:30.328938Z",
     "start_time": "2022-05-25T01:30:30.234933Z"
    }
   },
   "outputs": [],
   "source": [
    "# Removed the incorrect skills\n",
    "df_skills['skill']=df_skills['skill'].apply(lambda x: None if x in (xl_prd+xl_per) else x)"
   ]
  },
  {
   "cell_type": "code",
   "execution_count": 15,
   "id": "eadf3b6a",
   "metadata": {
    "ExecuteTime": {
     "end_time": "2022-05-25T01:30:30.351661Z",
     "start_time": "2022-05-25T01:30:30.332121Z"
    }
   },
   "outputs": [],
   "source": [
    "df_skills.dropna(subset=['skill'],inplace=True)"
   ]
  },
  {
   "cell_type": "code",
   "execution_count": 16,
   "id": "db43ff36",
   "metadata": {
    "ExecuteTime": {
     "end_time": "2022-05-25T01:30:30.406360Z",
     "start_time": "2022-05-25T01:30:30.355870Z"
    }
   },
   "outputs": [],
   "source": [
    "# Export skills for manual refining\n",
    "df_skill_cnt=df_skills.groupby(['skill']).count()['id'].reset_index().sort_values(['id'],ascending=False)\n",
    "df_skill_cnt.to_csv('skills.csv')"
   ]
  },
  {
   "cell_type": "code",
   "execution_count": 17,
   "id": "3c3d2e78",
   "metadata": {
    "ExecuteTime": {
     "end_time": "2022-05-25T01:30:30.436721Z",
     "start_time": "2022-05-25T01:30:30.410700Z"
    }
   },
   "outputs": [],
   "source": [
    "# load skills refined by manual, the csv's columns are changed to: id, skill,count, keep \n",
    "refined_file= './01_data/manual/skills_refined.csv'\n",
    "df_skills_r=pd.read_csv(refined_file)"
   ]
  },
  {
   "cell_type": "code",
   "execution_count": 18,
   "id": "e86bc1bd",
   "metadata": {
    "ExecuteTime": {
     "end_time": "2022-05-25T01:30:30.489572Z",
     "start_time": "2022-05-25T01:30:30.445243Z"
    }
   },
   "outputs": [
    {
     "data": {
      "text/html": [
       "<div>\n",
       "<style scoped>\n",
       "    .dataframe tbody tr th:only-of-type {\n",
       "        vertical-align: middle;\n",
       "    }\n",
       "\n",
       "    .dataframe tbody tr th {\n",
       "        vertical-align: top;\n",
       "    }\n",
       "\n",
       "    .dataframe thead th {\n",
       "        text-align: right;\n",
       "    }\n",
       "</style>\n",
       "<table border=\"1\" class=\"dataframe\">\n",
       "  <thead>\n",
       "    <tr style=\"text-align: right;\">\n",
       "      <th></th>\n",
       "      <th>Unnamed: 0</th>\n",
       "      <th>id</th>\n",
       "      <th>skill</th>\n",
       "      <th>category</th>\n",
       "      <th>confidence score</th>\n",
       "    </tr>\n",
       "  </thead>\n",
       "  <tbody>\n",
       "    <tr>\n",
       "      <th>0</th>\n",
       "      <td>0</td>\n",
       "      <td>4.148184e+09</td>\n",
       "      <td>technologie-themen</td>\n",
       "      <td>Skill</td>\n",
       "      <td>0.84</td>\n",
       "    </tr>\n",
       "    <tr>\n",
       "      <th>1</th>\n",
       "      <td>1</td>\n",
       "      <td>4.148184e+09</td>\n",
       "      <td>technologie-themen</td>\n",
       "      <td>Skill</td>\n",
       "      <td>0.84</td>\n",
       "    </tr>\n",
       "    <tr>\n",
       "      <th>2</th>\n",
       "      <td>2</td>\n",
       "      <td>4.203393e+09</td>\n",
       "      <td>artificial intelligence</td>\n",
       "      <td>Skill</td>\n",
       "      <td>0.91</td>\n",
       "    </tr>\n",
       "    <tr>\n",
       "      <th>3</th>\n",
       "      <td>3</td>\n",
       "      <td>4.203393e+09</td>\n",
       "      <td>machine learning</td>\n",
       "      <td>Skill</td>\n",
       "      <td>0.83</td>\n",
       "    </tr>\n",
       "    <tr>\n",
       "      <th>7</th>\n",
       "      <td>7</td>\n",
       "      <td>4.203393e+09</td>\n",
       "      <td>datasets</td>\n",
       "      <td>Skill</td>\n",
       "      <td>0.80</td>\n",
       "    </tr>\n",
       "    <tr>\n",
       "      <th>...</th>\n",
       "      <td>...</td>\n",
       "      <td>...</td>\n",
       "      <td>...</td>\n",
       "      <td>...</td>\n",
       "      <td>...</td>\n",
       "    </tr>\n",
       "    <tr>\n",
       "      <th>33281</th>\n",
       "      <td>33281</td>\n",
       "      <td>4.147913e+09</td>\n",
       "      <td>decision tree</td>\n",
       "      <td>Skill</td>\n",
       "      <td>0.95</td>\n",
       "    </tr>\n",
       "    <tr>\n",
       "      <th>33282</th>\n",
       "      <td>33282</td>\n",
       "      <td>4.147913e+09</td>\n",
       "      <td>random</td>\n",
       "      <td>Skill</td>\n",
       "      <td>0.58</td>\n",
       "    </tr>\n",
       "    <tr>\n",
       "      <th>33283</th>\n",
       "      <td>33283</td>\n",
       "      <td>4.147913e+09</td>\n",
       "      <td>neural network</td>\n",
       "      <td>Skill</td>\n",
       "      <td>0.99</td>\n",
       "    </tr>\n",
       "    <tr>\n",
       "      <th>33284</th>\n",
       "      <td>33284</td>\n",
       "      <td>4.189587e+09</td>\n",
       "      <td>machine learning</td>\n",
       "      <td>Skill</td>\n",
       "      <td>1.00</td>\n",
       "    </tr>\n",
       "    <tr>\n",
       "      <th>33285</th>\n",
       "      <td>33285</td>\n",
       "      <td>4.189587e+09</td>\n",
       "      <td>deep learning</td>\n",
       "      <td>Skill</td>\n",
       "      <td>0.99</td>\n",
       "    </tr>\n",
       "  </tbody>\n",
       "</table>\n",
       "<p>22376 rows × 5 columns</p>\n",
       "</div>"
      ],
      "text/plain": [
       "       Unnamed: 0            id                    skill category  \\\n",
       "0               0  4.148184e+09       technologie-themen    Skill   \n",
       "1               1  4.148184e+09       technologie-themen    Skill   \n",
       "2               2  4.203393e+09  artificial intelligence    Skill   \n",
       "3               3  4.203393e+09         machine learning    Skill   \n",
       "7               7  4.203393e+09                 datasets    Skill   \n",
       "...           ...           ...                      ...      ...   \n",
       "33281       33281  4.147913e+09            decision tree    Skill   \n",
       "33282       33282  4.147913e+09                   random    Skill   \n",
       "33283       33283  4.147913e+09           neural network    Skill   \n",
       "33284       33284  4.189587e+09         machine learning    Skill   \n",
       "33285       33285  4.189587e+09            deep learning    Skill   \n",
       "\n",
       "       confidence score  \n",
       "0                  0.84  \n",
       "1                  0.84  \n",
       "2                  0.91  \n",
       "3                  0.83  \n",
       "7                  0.80  \n",
       "...                 ...  \n",
       "33281              0.95  \n",
       "33282              0.58  \n",
       "33283              0.99  \n",
       "33284              1.00  \n",
       "33285              0.99  \n",
       "\n",
       "[22376 rows x 5 columns]"
      ]
     },
     "execution_count": 18,
     "metadata": {},
     "output_type": "execute_result"
    }
   ],
   "source": [
    "df_skills"
   ]
  },
  {
   "cell_type": "code",
   "execution_count": 19,
   "id": "9835e5b4",
   "metadata": {
    "ExecuteTime": {
     "end_time": "2022-05-25T01:30:30.533960Z",
     "start_time": "2022-05-25T01:30:30.504671Z"
    }
   },
   "outputs": [],
   "source": [
    "# Combine skills with manual results\n",
    "df_skills=df_skills.merge(df_skills_r,how='left',right_on=['skill'],left_on=['skill'])"
   ]
  },
  {
   "cell_type": "code",
   "execution_count": 20,
   "id": "f1abfc35",
   "metadata": {
    "ExecuteTime": {
     "end_time": "2022-05-25T01:30:30.566097Z",
     "start_time": "2022-05-25T01:30:30.539503Z"
    }
   },
   "outputs": [],
   "source": [
    "df_skills.dropna(subset=['keep'],inplace=True)"
   ]
  },
  {
   "cell_type": "code",
   "execution_count": 21,
   "id": "aeb3317d",
   "metadata": {
    "ExecuteTime": {
     "end_time": "2022-05-25T01:30:30.618324Z",
     "start_time": "2022-05-25T01:30:30.583848Z"
    }
   },
   "outputs": [
    {
     "data": {
      "text/html": [
       "<div>\n",
       "<style scoped>\n",
       "    .dataframe tbody tr th:only-of-type {\n",
       "        vertical-align: middle;\n",
       "    }\n",
       "\n",
       "    .dataframe tbody tr th {\n",
       "        vertical-align: top;\n",
       "    }\n",
       "\n",
       "    .dataframe thead th {\n",
       "        text-align: right;\n",
       "    }\n",
       "</style>\n",
       "<table border=\"1\" class=\"dataframe\">\n",
       "  <thead>\n",
       "    <tr style=\"text-align: right;\">\n",
       "      <th></th>\n",
       "      <th>Unnamed: 0</th>\n",
       "      <th>id</th>\n",
       "      <th>skill</th>\n",
       "      <th>category</th>\n",
       "      <th>confidence score</th>\n",
       "      <th>index</th>\n",
       "      <th>count</th>\n",
       "      <th>keep</th>\n",
       "    </tr>\n",
       "  </thead>\n",
       "  <tbody>\n",
       "    <tr>\n",
       "      <th>2</th>\n",
       "      <td>2</td>\n",
       "      <td>4.203393e+09</td>\n",
       "      <td>artificial intelligence</td>\n",
       "      <td>Skill</td>\n",
       "      <td>0.91</td>\n",
       "      <td>298.0</td>\n",
       "      <td>46.0</td>\n",
       "      <td>y</td>\n",
       "    </tr>\n",
       "    <tr>\n",
       "      <th>3</th>\n",
       "      <td>3</td>\n",
       "      <td>4.203393e+09</td>\n",
       "      <td>machine learning</td>\n",
       "      <td>Skill</td>\n",
       "      <td>0.83</td>\n",
       "      <td>2414.0</td>\n",
       "      <td>479.0</td>\n",
       "      <td>y</td>\n",
       "    </tr>\n",
       "    <tr>\n",
       "      <th>4</th>\n",
       "      <td>7</td>\n",
       "      <td>4.203393e+09</td>\n",
       "      <td>datasets</td>\n",
       "      <td>Skill</td>\n",
       "      <td>0.80</td>\n",
       "      <td>1346.0</td>\n",
       "      <td>73.0</td>\n",
       "      <td>y</td>\n",
       "    </tr>\n",
       "    <tr>\n",
       "      <th>5</th>\n",
       "      <td>8</td>\n",
       "      <td>4.203393e+09</td>\n",
       "      <td>cybersecurity</td>\n",
       "      <td>Skill</td>\n",
       "      <td>0.87</td>\n",
       "      <td>1075.0</td>\n",
       "      <td>2.0</td>\n",
       "      <td>y</td>\n",
       "    </tr>\n",
       "    <tr>\n",
       "      <th>6</th>\n",
       "      <td>9</td>\n",
       "      <td>4.203393e+09</td>\n",
       "      <td>developing</td>\n",
       "      <td>Skill</td>\n",
       "      <td>0.62</td>\n",
       "      <td>1459.0</td>\n",
       "      <td>96.0</td>\n",
       "      <td>y</td>\n",
       "    </tr>\n",
       "    <tr>\n",
       "      <th>...</th>\n",
       "      <td>...</td>\n",
       "      <td>...</td>\n",
       "      <td>...</td>\n",
       "      <td>...</td>\n",
       "      <td>...</td>\n",
       "      <td>...</td>\n",
       "      <td>...</td>\n",
       "      <td>...</td>\n",
       "    </tr>\n",
       "    <tr>\n",
       "      <th>22370</th>\n",
       "      <td>33280</td>\n",
       "      <td>4.147913e+09</td>\n",
       "      <td>machine learning</td>\n",
       "      <td>Skill</td>\n",
       "      <td>0.98</td>\n",
       "      <td>2414.0</td>\n",
       "      <td>479.0</td>\n",
       "      <td>y</td>\n",
       "    </tr>\n",
       "    <tr>\n",
       "      <th>22371</th>\n",
       "      <td>33281</td>\n",
       "      <td>4.147913e+09</td>\n",
       "      <td>decision tree</td>\n",
       "      <td>Skill</td>\n",
       "      <td>0.95</td>\n",
       "      <td>1369.0</td>\n",
       "      <td>5.0</td>\n",
       "      <td>y</td>\n",
       "    </tr>\n",
       "    <tr>\n",
       "      <th>22373</th>\n",
       "      <td>33283</td>\n",
       "      <td>4.147913e+09</td>\n",
       "      <td>neural network</td>\n",
       "      <td>Skill</td>\n",
       "      <td>0.99</td>\n",
       "      <td>2779.0</td>\n",
       "      <td>7.0</td>\n",
       "      <td>y</td>\n",
       "    </tr>\n",
       "    <tr>\n",
       "      <th>22374</th>\n",
       "      <td>33284</td>\n",
       "      <td>4.189587e+09</td>\n",
       "      <td>machine learning</td>\n",
       "      <td>Skill</td>\n",
       "      <td>1.00</td>\n",
       "      <td>2414.0</td>\n",
       "      <td>479.0</td>\n",
       "      <td>y</td>\n",
       "    </tr>\n",
       "    <tr>\n",
       "      <th>22375</th>\n",
       "      <td>33285</td>\n",
       "      <td>4.189587e+09</td>\n",
       "      <td>deep learning</td>\n",
       "      <td>Skill</td>\n",
       "      <td>0.99</td>\n",
       "      <td>1380.0</td>\n",
       "      <td>121.0</td>\n",
       "      <td>y</td>\n",
       "    </tr>\n",
       "  </tbody>\n",
       "</table>\n",
       "<p>17199 rows × 8 columns</p>\n",
       "</div>"
      ],
      "text/plain": [
       "       Unnamed: 0            id                    skill category  \\\n",
       "2               2  4.203393e+09  artificial intelligence    Skill   \n",
       "3               3  4.203393e+09         machine learning    Skill   \n",
       "4               7  4.203393e+09                 datasets    Skill   \n",
       "5               8  4.203393e+09            cybersecurity    Skill   \n",
       "6               9  4.203393e+09               developing    Skill   \n",
       "...           ...           ...                      ...      ...   \n",
       "22370       33280  4.147913e+09         machine learning    Skill   \n",
       "22371       33281  4.147913e+09            decision tree    Skill   \n",
       "22373       33283  4.147913e+09           neural network    Skill   \n",
       "22374       33284  4.189587e+09         machine learning    Skill   \n",
       "22375       33285  4.189587e+09            deep learning    Skill   \n",
       "\n",
       "       confidence score   index  count keep  \n",
       "2                  0.91   298.0   46.0    y  \n",
       "3                  0.83  2414.0  479.0    y  \n",
       "4                  0.80  1346.0   73.0    y  \n",
       "5                  0.87  1075.0    2.0    y  \n",
       "6                  0.62  1459.0   96.0    y  \n",
       "...                 ...     ...    ...  ...  \n",
       "22370              0.98  2414.0  479.0    y  \n",
       "22371              0.95  1369.0    5.0    y  \n",
       "22373              0.99  2779.0    7.0    y  \n",
       "22374              1.00  2414.0  479.0    y  \n",
       "22375              0.99  1380.0  121.0    y  \n",
       "\n",
       "[17199 rows x 8 columns]"
      ]
     },
     "execution_count": 21,
     "metadata": {},
     "output_type": "execute_result"
    }
   ],
   "source": [
    "df_skills"
   ]
  },
  {
   "cell_type": "markdown",
   "id": "c0576367",
   "metadata": {},
   "source": [
    "#### Generate the sentence embedding to aggregate the duplicate skills"
   ]
  },
  {
   "cell_type": "code",
   "execution_count": 22,
   "id": "182df3cf",
   "metadata": {
    "ExecuteTime": {
     "end_time": "2022-05-25T01:31:12.810647Z",
     "start_time": "2022-05-25T01:30:30.629654Z"
    }
   },
   "outputs": [],
   "source": [
    "# Loading bert model\n",
    "onlinemodel='bert-large-nli-mean-tokens'\n",
    "embedder = SentenceTransformer(onlinemodel)"
   ]
  },
  {
   "cell_type": "code",
   "execution_count": 23,
   "id": "ce3c2c42",
   "metadata": {
    "ExecuteTime": {
     "end_time": "2022-05-25T01:34:29.594165Z",
     "start_time": "2022-05-25T01:31:12.817032Z"
    }
   },
   "outputs": [],
   "source": [
    "# Create skills embedding to aggregate the similiar skills\n",
    "queries = list(df_skills['skill'].unique())\n",
    "query_embeddings = embedder.encode(queries)"
   ]
  },
  {
   "cell_type": "code",
   "execution_count": 24,
   "id": "7a42dee1",
   "metadata": {
    "ExecuteTime": {
     "end_time": "2022-05-25T01:34:29.609144Z",
     "start_time": "2022-05-25T01:34:29.597076Z"
    }
   },
   "outputs": [],
   "source": [
    "# functions to replace skills with similiar one\n",
    "def remove_sim(f_queries,f_embeddings,threshold=0.9):\n",
    "    np_em=np.array(f_embeddings)\n",
    "    map_query=[]\n",
    "    replace_lst=[]\n",
    "    for i in range(len(f_queries)):\n",
    "        sim=cosine_similarity([f_embeddings[i]],np_em[0:])\n",
    "        sim[np.where(sim>=0.99)]=0\n",
    "        #print(sim)\n",
    "        x=np.argmax(sim)\n",
    "        \"\"\"\n",
    "        items=np.where(sim[0]>=threshold)\n",
    "        for item in items[0]:\n",
    "            if item in replace_lst:\n",
    "                print(x,item)\n",
    "                x=item\n",
    "        \"\"\"\n",
    "        if sim[0][x]>=threshold and i not in replace_lst:\n",
    "            f_embeddings[i]=f_embeddings[x]\n",
    "            np_em[i]=np_em[x]\n",
    "            #print((f_queries[i],f_queries[x]))\n",
    "            map_query.append((f_queries[i],f_queries[x]))\n",
    "            f_queries[i]=f_queries[x]\n",
    "            replace_lst.append(x)\n",
    "        else:\n",
    "            map_query.append((f_queries[i],f_queries[i]))\n",
    "    return map_query,f_embeddings"
   ]
  },
  {
   "cell_type": "code",
   "execution_count": 25,
   "id": "257bb104",
   "metadata": {
    "ExecuteTime": {
     "end_time": "2022-05-25T01:35:05.464323Z",
     "start_time": "2022-05-25T01:34:29.612601Z"
    }
   },
   "outputs": [],
   "source": [
    "# Copy skills and embedding for replacement\n",
    "f_queries=queries.copy()\n",
    "f_query_embeddings=query_embeddings.copy()\n",
    "new_query,new_embeddings=remove_sim(f_queries,f_query_embeddings)"
   ]
  },
  {
   "cell_type": "code",
   "execution_count": 26,
   "id": "527bc5b2",
   "metadata": {
    "ExecuteTime": {
     "end_time": "2022-05-25T01:35:05.667873Z",
     "start_time": "2022-05-25T01:35:05.467400Z"
    }
   },
   "outputs": [],
   "source": [
    "df_skills['skill']=df_skills['skill'].apply(lambda x: new_query[queries.index(x)][1])"
   ]
  },
  {
   "cell_type": "code",
   "execution_count": 27,
   "id": "b04bc000",
   "metadata": {
    "ExecuteTime": {
     "end_time": "2022-05-25T01:35:05.682074Z",
     "start_time": "2022-05-25T01:35:05.670498Z"
    }
   },
   "outputs": [],
   "source": [
    "# Drop the duplicated skills in the same job description\n",
    "df_skills.drop_duplicates(subset=['id','skill'],inplace=True)"
   ]
  },
  {
   "cell_type": "code",
   "execution_count": 28,
   "id": "156ce7d8",
   "metadata": {
    "ExecuteTime": {
     "end_time": "2022-05-25T01:35:05.708095Z",
     "start_time": "2022-05-25T01:35:05.684895Z"
    }
   },
   "outputs": [
    {
     "data": {
      "text/html": [
       "<div>\n",
       "<style scoped>\n",
       "    .dataframe tbody tr th:only-of-type {\n",
       "        vertical-align: middle;\n",
       "    }\n",
       "\n",
       "    .dataframe tbody tr th {\n",
       "        vertical-align: top;\n",
       "    }\n",
       "\n",
       "    .dataframe thead th {\n",
       "        text-align: right;\n",
       "    }\n",
       "</style>\n",
       "<table border=\"1\" class=\"dataframe\">\n",
       "  <thead>\n",
       "    <tr style=\"text-align: right;\">\n",
       "      <th></th>\n",
       "      <th>Unnamed: 0</th>\n",
       "      <th>id</th>\n",
       "      <th>skill</th>\n",
       "      <th>category</th>\n",
       "      <th>confidence score</th>\n",
       "      <th>index</th>\n",
       "      <th>count</th>\n",
       "      <th>keep</th>\n",
       "    </tr>\n",
       "  </thead>\n",
       "  <tbody>\n",
       "    <tr>\n",
       "      <th>2</th>\n",
       "      <td>2</td>\n",
       "      <td>4.203393e+09</td>\n",
       "      <td>artificial intelligence models</td>\n",
       "      <td>Skill</td>\n",
       "      <td>0.91</td>\n",
       "      <td>298.0</td>\n",
       "      <td>46.0</td>\n",
       "      <td>y</td>\n",
       "    </tr>\n",
       "    <tr>\n",
       "      <th>3</th>\n",
       "      <td>3</td>\n",
       "      <td>4.203393e+09</td>\n",
       "      <td>machine learning.</td>\n",
       "      <td>Skill</td>\n",
       "      <td>0.83</td>\n",
       "      <td>2414.0</td>\n",
       "      <td>479.0</td>\n",
       "      <td>y</td>\n",
       "    </tr>\n",
       "    <tr>\n",
       "      <th>4</th>\n",
       "      <td>7</td>\n",
       "      <td>4.203393e+09</td>\n",
       "      <td>data sets</td>\n",
       "      <td>Skill</td>\n",
       "      <td>0.80</td>\n",
       "      <td>1346.0</td>\n",
       "      <td>73.0</td>\n",
       "      <td>y</td>\n",
       "    </tr>\n",
       "    <tr>\n",
       "      <th>5</th>\n",
       "      <td>8</td>\n",
       "      <td>4.203393e+09</td>\n",
       "      <td>cyber security</td>\n",
       "      <td>Skill</td>\n",
       "      <td>0.87</td>\n",
       "      <td>1075.0</td>\n",
       "      <td>2.0</td>\n",
       "      <td>y</td>\n",
       "    </tr>\n",
       "    <tr>\n",
       "      <th>6</th>\n",
       "      <td>9</td>\n",
       "      <td>4.203393e+09</td>\n",
       "      <td>develop</td>\n",
       "      <td>Skill</td>\n",
       "      <td>0.62</td>\n",
       "      <td>1459.0</td>\n",
       "      <td>96.0</td>\n",
       "      <td>y</td>\n",
       "    </tr>\n",
       "    <tr>\n",
       "      <th>...</th>\n",
       "      <td>...</td>\n",
       "      <td>...</td>\n",
       "      <td>...</td>\n",
       "      <td>...</td>\n",
       "      <td>...</td>\n",
       "      <td>...</td>\n",
       "      <td>...</td>\n",
       "      <td>...</td>\n",
       "    </tr>\n",
       "    <tr>\n",
       "      <th>22370</th>\n",
       "      <td>33280</td>\n",
       "      <td>4.147913e+09</td>\n",
       "      <td>machine learning.</td>\n",
       "      <td>Skill</td>\n",
       "      <td>0.98</td>\n",
       "      <td>2414.0</td>\n",
       "      <td>479.0</td>\n",
       "      <td>y</td>\n",
       "    </tr>\n",
       "    <tr>\n",
       "      <th>22371</th>\n",
       "      <td>33281</td>\n",
       "      <td>4.147913e+09</td>\n",
       "      <td>decision tree</td>\n",
       "      <td>Skill</td>\n",
       "      <td>0.95</td>\n",
       "      <td>1369.0</td>\n",
       "      <td>5.0</td>\n",
       "      <td>y</td>\n",
       "    </tr>\n",
       "    <tr>\n",
       "      <th>22373</th>\n",
       "      <td>33283</td>\n",
       "      <td>4.147913e+09</td>\n",
       "      <td>neural networks</td>\n",
       "      <td>Skill</td>\n",
       "      <td>0.99</td>\n",
       "      <td>2779.0</td>\n",
       "      <td>7.0</td>\n",
       "      <td>y</td>\n",
       "    </tr>\n",
       "    <tr>\n",
       "      <th>22374</th>\n",
       "      <td>33284</td>\n",
       "      <td>4.189587e+09</td>\n",
       "      <td>machine learning.</td>\n",
       "      <td>Skill</td>\n",
       "      <td>1.00</td>\n",
       "      <td>2414.0</td>\n",
       "      <td>479.0</td>\n",
       "      <td>y</td>\n",
       "    </tr>\n",
       "    <tr>\n",
       "      <th>22375</th>\n",
       "      <td>33285</td>\n",
       "      <td>4.189587e+09</td>\n",
       "      <td>deep learning.</td>\n",
       "      <td>Skill</td>\n",
       "      <td>0.99</td>\n",
       "      <td>1380.0</td>\n",
       "      <td>121.0</td>\n",
       "      <td>y</td>\n",
       "    </tr>\n",
       "  </tbody>\n",
       "</table>\n",
       "<p>16800 rows × 8 columns</p>\n",
       "</div>"
      ],
      "text/plain": [
       "       Unnamed: 0            id                           skill category  \\\n",
       "2               2  4.203393e+09  artificial intelligence models    Skill   \n",
       "3               3  4.203393e+09               machine learning.    Skill   \n",
       "4               7  4.203393e+09                       data sets    Skill   \n",
       "5               8  4.203393e+09                  cyber security    Skill   \n",
       "6               9  4.203393e+09                         develop    Skill   \n",
       "...           ...           ...                             ...      ...   \n",
       "22370       33280  4.147913e+09               machine learning.    Skill   \n",
       "22371       33281  4.147913e+09                   decision tree    Skill   \n",
       "22373       33283  4.147913e+09                 neural networks    Skill   \n",
       "22374       33284  4.189587e+09               machine learning.    Skill   \n",
       "22375       33285  4.189587e+09                  deep learning.    Skill   \n",
       "\n",
       "       confidence score   index  count keep  \n",
       "2                  0.91   298.0   46.0    y  \n",
       "3                  0.83  2414.0  479.0    y  \n",
       "4                  0.80  1346.0   73.0    y  \n",
       "5                  0.87  1075.0    2.0    y  \n",
       "6                  0.62  1459.0   96.0    y  \n",
       "...                 ...     ...    ...  ...  \n",
       "22370              0.98  2414.0  479.0    y  \n",
       "22371              0.95  1369.0    5.0    y  \n",
       "22373              0.99  2779.0    7.0    y  \n",
       "22374              1.00  2414.0  479.0    y  \n",
       "22375              0.99  1380.0  121.0    y  \n",
       "\n",
       "[16800 rows x 8 columns]"
      ]
     },
     "execution_count": 28,
     "metadata": {},
     "output_type": "execute_result"
    }
   ],
   "source": [
    "df_skills"
   ]
  },
  {
   "cell_type": "code",
   "execution_count": 29,
   "id": "fbf3889f",
   "metadata": {
    "ExecuteTime": {
     "end_time": "2022-05-25T01:35:05.740957Z",
     "start_time": "2022-05-25T01:35:05.710548Z"
    }
   },
   "outputs": [],
   "source": [
    "# Produce the refined main table\n",
    "df_full=df_skills.merge(df_main,how='left',left_on=['id'],right_on=['id'])[['id', 'type','posting_date', 'description', 'title', 'country',\n",
    "       'employer', 'industry', 'source', 'skill']]"
   ]
  },
  {
   "cell_type": "code",
   "execution_count": 30,
   "id": "61a04663",
   "metadata": {
    "ExecuteTime": {
     "end_time": "2022-05-25T01:35:05.758021Z",
     "start_time": "2022-05-25T01:35:05.743813Z"
    }
   },
   "outputs": [],
   "source": [
    "#Remove records which are duplicated and removed in main, but still exists in skill table\n",
    "df_full.dropna(subset=['description'],inplace=True)"
   ]
  },
  {
   "cell_type": "code",
   "execution_count": 31,
   "id": "f794eef7",
   "metadata": {
    "ExecuteTime": {
     "end_time": "2022-05-25T01:35:05.847355Z",
     "start_time": "2022-05-25T01:35:05.761341Z"
    }
   },
   "outputs": [],
   "source": [
    "# data clean for data jobs\n",
    "data_file= './01_Data/Output/datajobs.csv'\n",
    "df_data=pd.read_csv(data_file)"
   ]
  },
  {
   "cell_type": "code",
   "execution_count": 32,
   "id": "4cbeef4a",
   "metadata": {
    "ExecuteTime": {
     "end_time": "2022-05-25T01:35:05.870064Z",
     "start_time": "2022-05-25T01:35:05.850189Z"
    }
   },
   "outputs": [],
   "source": [
    "# Drop the duplicated job postings \n",
    "df_data.drop_duplicates(subset=['employer','description','title','location'],inplace=True)\n",
    "# Drop the job posting with same id even the above would be a little different.\n",
    "df_data.drop_duplicates(subset=['id'],inplace=True)"
   ]
  },
  {
   "cell_type": "code",
   "execution_count": 33,
   "id": "22e64e9e",
   "metadata": {
    "ExecuteTime": {
     "end_time": "2022-05-25T01:35:06.152771Z",
     "start_time": "2022-05-25T01:35:05.873422Z"
    }
   },
   "outputs": [],
   "source": [
    "# drop na\n",
    "df_data.dropna(subset=['description'],inplace=True)\n",
    "# Change string to datetime\n",
    "df_data['posting_date']=df_data['posting_date'].apply(lambda x: parser.parse(x))"
   ]
  },
  {
   "cell_type": "markdown",
   "id": "9b0162f5",
   "metadata": {},
   "source": [
    "### Data analysis\n",
    "- Jobs based analysis: by countries, by type(level), by industries\n",
    "- Skills based analysis: by countries, by level, by industries.\n",
    "- Seek to combine the above.\n",
    "- Keywords anaysis in scattertext between Sr. and Jr."
   ]
  },
  {
   "cell_type": "code",
   "execution_count": 34,
   "id": "c4c53464",
   "metadata": {
    "ExecuteTime": {
     "end_time": "2022-05-25T01:35:06.159563Z",
     "start_time": "2022-05-25T01:35:06.155446Z"
    }
   },
   "outputs": [],
   "source": [
    "# top N setting\n",
    "top_n=20\n",
    "# plots' width and height\n",
    "b_height=300\n",
    "b_width=700"
   ]
  },
  {
   "cell_type": "markdown",
   "id": "da0bcc15",
   "metadata": {},
   "source": [
    "##### Job distribution"
   ]
  },
  {
   "cell_type": "code",
   "execution_count": 35,
   "id": "a446cb52",
   "metadata": {
    "ExecuteTime": {
     "end_time": "2022-05-25T01:35:06.175269Z",
     "start_time": "2022-05-25T01:35:06.161909Z"
    }
   },
   "outputs": [
    {
     "data": {
      "text/plain": [
       "posting_date\n",
       "2019-10    475\n",
       "2019-11    274\n",
       "2019-09      7\n",
       "2019-08      5\n",
       "2019-07      3\n",
       "2019-06      1\n",
       "Freq: M, Name: id, dtype: int64"
      ]
     },
     "execution_count": 35,
     "metadata": {},
     "output_type": "execute_result"
    }
   ],
   "source": [
    "df_main.groupby(df_main['posting_date'].dt.to_period(\"M\")).count()['id'].sort_values(ascending=False)"
   ]
  },
  {
   "cell_type": "code",
   "execution_count": 36,
   "id": "d9e85923",
   "metadata": {
    "ExecuteTime": {
     "end_time": "2022-05-25T01:35:06.188054Z",
     "start_time": "2022-05-25T01:35:06.177699Z"
    }
   },
   "outputs": [
    {
     "data": {
      "text/plain": [
       "posting_date\n",
       "2019-10    1980\n",
       "2019-11    1243\n",
       "2019-09      28\n",
       "2019-08      22\n",
       "2019-07       8\n",
       "2019-06       4\n",
       "2018-02       2\n",
       "2019-04       1\n",
       "Freq: M, Name: id, dtype: int64"
      ]
     },
     "execution_count": 36,
     "metadata": {},
     "output_type": "execute_result"
    }
   ],
   "source": [
    "df_data.groupby(df_data['posting_date'].dt.to_period(\"M\")).count()['id'].sort_values(ascending=False)"
   ]
  },
  {
   "cell_type": "markdown",
   "id": "2d0b6d00",
   "metadata": {
    "ExecuteTime": {
     "end_time": "2022-05-23T03:10:45.745246Z",
     "start_time": "2022-05-23T03:10:45.727967Z"
    }
   },
   "source": [
    "##### Skills distribution"
   ]
  },
  {
   "cell_type": "code",
   "execution_count": 37,
   "id": "62c74485",
   "metadata": {
    "ExecuteTime": {
     "end_time": "2022-05-25T01:35:06.206191Z",
     "start_time": "2022-05-25T01:35:06.190222Z"
    }
   },
   "outputs": [],
   "source": [
    "df_id=df_full.groupby(['type','id']).count()['skill']"
   ]
  },
  {
   "cell_type": "code",
   "execution_count": 38,
   "id": "411af784",
   "metadata": {
    "ExecuteTime": {
     "end_time": "2022-05-25T01:35:06.214291Z",
     "start_time": "2022-05-25T01:35:06.209272Z"
    }
   },
   "outputs": [],
   "source": [
    "df_id=df_id.reset_index()\n",
    "df_id.columns=['type','id','cnt']"
   ]
  },
  {
   "cell_type": "code",
   "execution_count": 39,
   "id": "69266470",
   "metadata": {
    "ExecuteTime": {
     "end_time": "2022-05-25T01:35:06.269927Z",
     "start_time": "2022-05-25T01:35:06.216896Z"
    }
   },
   "outputs": [
    {
     "data": {
      "text/html": [
       "\n",
       "<div id=\"altair-viz-5a11462b2aee434bbfa82893ec064497\"></div>\n",
       "<script type=\"text/javascript\">\n",
       "  (function(spec, embedOpt){\n",
       "    let outputDiv = document.currentScript.previousElementSibling;\n",
       "    if (outputDiv.id !== \"altair-viz-5a11462b2aee434bbfa82893ec064497\") {\n",
       "      outputDiv = document.getElementById(\"altair-viz-5a11462b2aee434bbfa82893ec064497\");\n",
       "    }\n",
       "    const paths = {\n",
       "      \"vega\": \"https://cdn.jsdelivr.net/npm//vega@5?noext\",\n",
       "      \"vega-lib\": \"https://cdn.jsdelivr.net/npm//vega-lib?noext\",\n",
       "      \"vega-lite\": \"https://cdn.jsdelivr.net/npm//vega-lite@4.8.1?noext\",\n",
       "      \"vega-embed\": \"https://cdn.jsdelivr.net/npm//vega-embed@6?noext\",\n",
       "    };\n",
       "\n",
       "    function loadScript(lib) {\n",
       "      return new Promise(function(resolve, reject) {\n",
       "        var s = document.createElement('script');\n",
       "        s.src = paths[lib];\n",
       "        s.async = true;\n",
       "        s.onload = () => resolve(paths[lib]);\n",
       "        s.onerror = () => reject(`Error loading script: ${paths[lib]}`);\n",
       "        document.getElementsByTagName(\"head\")[0].appendChild(s);\n",
       "      });\n",
       "    }\n",
       "\n",
       "    function showError(err) {\n",
       "      outputDiv.innerHTML = `<div class=\"error\" style=\"color:red;\">${err}</div>`;\n",
       "      throw err;\n",
       "    }\n",
       "\n",
       "    function displayChart(vegaEmbed) {\n",
       "      vegaEmbed(outputDiv, spec, embedOpt)\n",
       "        .catch(err => showError(`Javascript Error: ${err.message}<br>This usually means there's a typo in your chart specification. See the javascript console for the full traceback.`));\n",
       "    }\n",
       "\n",
       "    if(typeof define === \"function\" && define.amd) {\n",
       "      requirejs.config({paths});\n",
       "      require([\"vega-embed\"], displayChart, err => showError(`Error loading script: ${err.message}`));\n",
       "    } else if (typeof vegaEmbed === \"function\") {\n",
       "      displayChart(vegaEmbed);\n",
       "    } else {\n",
       "      loadScript(\"vega\")\n",
       "        .then(() => loadScript(\"vega-lite\"))\n",
       "        .then(() => loadScript(\"vega-embed\"))\n",
       "        .catch(showError)\n",
       "        .then(() => displayChart(vegaEmbed));\n",
       "    }\n",
       "  })({\"config\": {\"view\": {\"continuousWidth\": 400, \"continuousHeight\": 300}}, \"layer\": [{\"mark\": {\"type\": \"boxplot\", \"extent\": 0.5, \"size\": 50}, \"encoding\": {\"color\": {\"type\": \"nominal\", \"field\": \"type\", \"scale\": {\"scheme\": \"set2\"}, \"title\": \"Type\"}, \"x\": {\"type\": \"ordinal\", \"axis\": {\"labelAngle\": 0, \"labelOverlap\": false}, \"field\": \"type\", \"title\": \"Type\"}, \"y\": {\"type\": \"quantitative\", \"field\": \"cnt\", \"title\": \"# of skills\"}}, \"height\": 300, \"title\": {\"text\": \"Skill Distribution By Types\", \"align\": \"center\", \"color\": \"#3E454F\", \"font\": \"Ubuntu Mono\", \"fontSize\": 20}, \"width\": 700}, {\"mark\": {\"type\": \"rule\", \"color\": \"red\"}, \"encoding\": {\"size\": {\"value\": 5}, \"y\": {\"type\": \"quantitative\", \"aggregate\": \"mean\", \"field\": \"cnt\", \"title\": \"# of skills\"}}}], \"data\": {\"name\": \"data-99f9ee274dd2f1eeeb7edb306d8ec571\"}, \"$schema\": \"https://vega.github.io/schema/vega-lite/v4.8.1.json\", \"datasets\": {\"data-99f9ee274dd2f1eeeb7edb306d8ec571\": [{\"type\": \"junior\", \"id\": 3833696473.0, \"cnt\": 4}, {\"type\": \"junior\", \"id\": 3950087271.0, \"cnt\": 27}, {\"type\": \"junior\", \"id\": 3982570290.0, \"cnt\": 4}, {\"type\": \"junior\", \"id\": 4022687909.0, \"cnt\": 45}, {\"type\": \"junior\", \"id\": 4025476025.0, \"cnt\": 45}, {\"type\": \"junior\", \"id\": 4028732682.0, \"cnt\": 15}, {\"type\": \"junior\", \"id\": 4032811101.0, \"cnt\": 29}, {\"type\": \"junior\", \"id\": 4033190668.0, \"cnt\": 16}, {\"type\": \"junior\", \"id\": 4048777942.0, \"cnt\": 32}, {\"type\": \"junior\", \"id\": 4049109840.0, \"cnt\": 3}, {\"type\": \"junior\", \"id\": 4049213156.0, \"cnt\": 6}, {\"type\": \"junior\", \"id\": 4054635008.0, \"cnt\": 32}, {\"type\": \"junior\", \"id\": 4057072798.0, \"cnt\": 8}, {\"type\": \"junior\", \"id\": 4064130828.0, \"cnt\": 15}, {\"type\": \"junior\", \"id\": 4068153297.0, \"cnt\": 47}, {\"type\": \"junior\", \"id\": 4075124987.0, \"cnt\": 10}, {\"type\": \"junior\", \"id\": 4088294085.0, \"cnt\": 33}, {\"type\": \"junior\", \"id\": 4089434811.0, \"cnt\": 47}, {\"type\": \"junior\", \"id\": 4101678699.0, \"cnt\": 14}, {\"type\": \"junior\", \"id\": 4102849642.0, \"cnt\": 22}, {\"type\": \"junior\", \"id\": 4108304992.0, \"cnt\": 26}, {\"type\": \"junior\", \"id\": 4108643570.0, \"cnt\": 28}, {\"type\": \"junior\", \"id\": 4108764629.0, \"cnt\": 28}, {\"type\": \"junior\", \"id\": 4119808924.0, \"cnt\": 1}, {\"type\": \"junior\", \"id\": 4121396264.0, \"cnt\": 41}, {\"type\": \"junior\", \"id\": 4121410441.0, \"cnt\": 30}, {\"type\": \"junior\", \"id\": 4126807756.0, \"cnt\": 28}, {\"type\": \"junior\", \"id\": 4127037952.0, \"cnt\": 33}, {\"type\": \"junior\", \"id\": 4131800534.0, \"cnt\": 1}, {\"type\": \"junior\", \"id\": 4131966010.0, \"cnt\": 9}, {\"type\": \"junior\", \"id\": 4136717842.0, \"cnt\": 37}, {\"type\": \"junior\", \"id\": 4139882790.0, \"cnt\": 11}, {\"type\": \"junior\", \"id\": 4140169821.0, \"cnt\": 7}, {\"type\": \"junior\", \"id\": 4141048884.0, \"cnt\": 26}, {\"type\": \"junior\", \"id\": 4144321946.0, \"cnt\": 28}, {\"type\": \"junior\", \"id\": 4145548072.0, \"cnt\": 10}, {\"type\": \"junior\", \"id\": 4146847424.0, \"cnt\": 32}, {\"type\": \"junior\", \"id\": 4148134739.0, \"cnt\": 1}, {\"type\": \"junior\", \"id\": 4153385061.0, \"cnt\": 49}, {\"type\": \"junior\", \"id\": 4154634883.0, \"cnt\": 5}, {\"type\": \"junior\", \"id\": 4154723232.0, \"cnt\": 18}, {\"type\": \"junior\", \"id\": 4155745627.0, \"cnt\": 52}, {\"type\": \"junior\", \"id\": 4157013844.0, \"cnt\": 23}, {\"type\": \"junior\", \"id\": 4158259023.0, \"cnt\": 31}, {\"type\": \"junior\", \"id\": 4161302210.0, \"cnt\": 15}, {\"type\": \"junior\", \"id\": 4161515064.0, \"cnt\": 29}, {\"type\": \"junior\", \"id\": 4165332630.0, \"cnt\": 37}, {\"type\": \"junior\", \"id\": 4167190635.0, \"cnt\": 1}, {\"type\": \"junior\", \"id\": 4168855828.0, \"cnt\": 19}, {\"type\": \"junior\", \"id\": 4168990212.0, \"cnt\": 36}, {\"type\": \"junior\", \"id\": 4169860070.0, \"cnt\": 38}, {\"type\": \"junior\", \"id\": 4169860098.0, \"cnt\": 38}, {\"type\": \"junior\", \"id\": 4170549533.0, \"cnt\": 25}, {\"type\": \"junior\", \"id\": 4170868047.0, \"cnt\": 1}, {\"type\": \"junior\", \"id\": 4172399483.0, \"cnt\": 14}, {\"type\": \"junior\", \"id\": 4177471106.0, \"cnt\": 11}, {\"type\": \"junior\", \"id\": 4177881728.0, \"cnt\": 23}, {\"type\": \"junior\", \"id\": 4178159115.0, \"cnt\": 10}, {\"type\": \"junior\", \"id\": 4181358450.0, \"cnt\": 30}, {\"type\": \"junior\", \"id\": 4182271468.0, \"cnt\": 6}, {\"type\": \"junior\", \"id\": 4183528714.0, \"cnt\": 1}, {\"type\": \"junior\", \"id\": 4183566877.0, \"cnt\": 30}, {\"type\": \"junior\", \"id\": 4184266859.0, \"cnt\": 12}, {\"type\": \"junior\", \"id\": 4184398763.0, \"cnt\": 28}, {\"type\": \"junior\", \"id\": 4185162160.0, \"cnt\": 12}, {\"type\": \"junior\", \"id\": 4185386124.0, \"cnt\": 4}, {\"type\": \"junior\", \"id\": 4190123676.0, \"cnt\": 16}, {\"type\": \"junior\", \"id\": 4191465349.0, \"cnt\": 28}, {\"type\": \"junior\", \"id\": 4191539446.0, \"cnt\": 21}, {\"type\": \"junior\", \"id\": 4192865933.0, \"cnt\": 19}, {\"type\": \"junior\", \"id\": 4193347076.0, \"cnt\": 19}, {\"type\": \"junior\", \"id\": 4194678717.0, \"cnt\": 15}, {\"type\": \"junior\", \"id\": 4194827837.0, \"cnt\": 34}, {\"type\": \"junior\", \"id\": 4195495641.0, \"cnt\": 3}, {\"type\": \"junior\", \"id\": 4197218293.0, \"cnt\": 17}, {\"type\": \"junior\", \"id\": 4198512310.0, \"cnt\": 21}, {\"type\": \"junior\", \"id\": 4199258125.0, \"cnt\": 28}, {\"type\": \"junior\", \"id\": 4200599955.0, \"cnt\": 20}, {\"type\": \"junior\", \"id\": 4202391768.0, \"cnt\": 17}, {\"type\": \"junior\", \"id\": 4203427975.0, \"cnt\": 24}, {\"type\": \"junior\", \"id\": 4205307435.0, \"cnt\": 21}, {\"type\": \"junior\", \"id\": 4206784474.0, \"cnt\": 12}, {\"type\": \"junior\", \"id\": 4206875586.0, \"cnt\": 24}, {\"type\": \"junior\", \"id\": 4207911368.0, \"cnt\": 27}, {\"type\": \"junior\", \"id\": 4208011421.0, \"cnt\": 32}, {\"type\": \"junior\", \"id\": 4208871324.0, \"cnt\": 25}, {\"type\": \"junior\", \"id\": 4208921734.0, \"cnt\": 25}, {\"type\": \"junior\", \"id\": 4209621753.0, \"cnt\": 34}, {\"type\": \"junior\", \"id\": 4209696528.0, \"cnt\": 6}, {\"type\": \"junior\", \"id\": 4209819756.0, \"cnt\": 2}, {\"type\": \"others\", \"id\": 3716075642.0, \"cnt\": 21}, {\"type\": \"others\", \"id\": 3950163624.0, \"cnt\": 14}, {\"type\": \"others\", \"id\": 3974403192.0, \"cnt\": 5}, {\"type\": \"others\", \"id\": 3976856642.0, \"cnt\": 15}, {\"type\": \"others\", \"id\": 3984803015.0, \"cnt\": 21}, {\"type\": \"others\", \"id\": 4025471843.0, \"cnt\": 22}, {\"type\": \"others\", \"id\": 4025475515.0, \"cnt\": 45}, {\"type\": \"others\", \"id\": 4029214700.0, \"cnt\": 7}, {\"type\": \"others\", \"id\": 4029652264.0, \"cnt\": 14}, {\"type\": \"others\", \"id\": 4029848810.0, \"cnt\": 4}, {\"type\": \"others\", \"id\": 4032896827.0, \"cnt\": 53}, {\"type\": \"others\", \"id\": 4033689015.0, \"cnt\": 13}, {\"type\": \"others\", \"id\": 4035778057.0, \"cnt\": 5}, {\"type\": \"others\", \"id\": 4038841731.0, \"cnt\": 18}, {\"type\": \"others\", \"id\": 4041334485.0, \"cnt\": 4}, {\"type\": \"others\", \"id\": 4042407716.0, \"cnt\": 18}, {\"type\": \"others\", \"id\": 4042458428.0, \"cnt\": 21}, {\"type\": \"others\", \"id\": 4043419071.0, \"cnt\": 33}, {\"type\": \"others\", \"id\": 4043476002.0, \"cnt\": 22}, {\"type\": \"others\", \"id\": 4043476998.0, \"cnt\": 35}, {\"type\": \"others\", \"id\": 4044733159.0, \"cnt\": 39}, {\"type\": \"others\", \"id\": 4045843490.0, \"cnt\": 12}, {\"type\": \"others\", \"id\": 4047254426.0, \"cnt\": 3}, {\"type\": \"others\", \"id\": 4047260790.0, \"cnt\": 1}, {\"type\": \"others\", \"id\": 4049727277.0, \"cnt\": 10}, {\"type\": \"others\", \"id\": 4053902243.0, \"cnt\": 27}, {\"type\": \"others\", \"id\": 4055514312.0, \"cnt\": 13}, {\"type\": \"others\", \"id\": 4057202285.0, \"cnt\": 1}, {\"type\": \"others\", \"id\": 4057322083.0, \"cnt\": 28}, {\"type\": \"others\", \"id\": 4058925826.0, \"cnt\": 8}, {\"type\": \"others\", \"id\": 4059062589.0, \"cnt\": 18}, {\"type\": \"others\", \"id\": 4059716737.0, \"cnt\": 28}, {\"type\": \"others\", \"id\": 4060685355.0, \"cnt\": 31}, {\"type\": \"others\", \"id\": 4064378196.0, \"cnt\": 45}, {\"type\": \"others\", \"id\": 4070981521.0, \"cnt\": 14}, {\"type\": \"others\", \"id\": 4072227480.0, \"cnt\": 12}, {\"type\": \"others\", \"id\": 4087463087.0, \"cnt\": 24}, {\"type\": \"others\", \"id\": 4087620040.0, \"cnt\": 20}, {\"type\": \"others\", \"id\": 4088512999.0, \"cnt\": 31}, {\"type\": \"others\", \"id\": 4088565407.0, \"cnt\": 15}, {\"type\": \"others\", \"id\": 4094187425.0, \"cnt\": 32}, {\"type\": \"others\", \"id\": 4096254436.0, \"cnt\": 11}, {\"type\": \"others\", \"id\": 4096375086.0, \"cnt\": 11}, {\"type\": \"others\", \"id\": 4097072431.0, \"cnt\": 27}, {\"type\": \"others\", \"id\": 4099231865.0, \"cnt\": 2}, {\"type\": \"others\", \"id\": 4101143555.0, \"cnt\": 16}, {\"type\": \"others\", \"id\": 4101146793.0, \"cnt\": 36}, {\"type\": \"others\", \"id\": 4101161107.0, \"cnt\": 26}, {\"type\": \"others\", \"id\": 4106573278.0, \"cnt\": 10}, {\"type\": \"others\", \"id\": 4107792195.0, \"cnt\": 31}, {\"type\": \"others\", \"id\": 4122374685.0, \"cnt\": 24}, {\"type\": \"others\", \"id\": 4122387425.0, \"cnt\": 26}, {\"type\": \"others\", \"id\": 4123595126.0, \"cnt\": 4}, {\"type\": \"others\", \"id\": 4124950551.0, \"cnt\": 12}, {\"type\": \"others\", \"id\": 4125845972.0, \"cnt\": 27}, {\"type\": \"others\", \"id\": 4129103748.0, \"cnt\": 27}, {\"type\": \"others\", \"id\": 4133549824.0, \"cnt\": 24}, {\"type\": \"others\", \"id\": 4133581885.0, \"cnt\": 21}, {\"type\": \"others\", \"id\": 4136337151.0, \"cnt\": 16}, {\"type\": \"others\", \"id\": 4137199552.0, \"cnt\": 24}, {\"type\": \"others\", \"id\": 4137914400.0, \"cnt\": 32}, {\"type\": \"others\", \"id\": 4139019911.0, \"cnt\": 26}, {\"type\": \"others\", \"id\": 4142254195.0, \"cnt\": 7}, {\"type\": \"others\", \"id\": 4142797691.0, \"cnt\": 47}, {\"type\": \"others\", \"id\": 4146646852.0, \"cnt\": 1}, {\"type\": \"others\", \"id\": 4147912611.0, \"cnt\": 4}, {\"type\": \"others\", \"id\": 4151428712.0, \"cnt\": 31}, {\"type\": \"others\", \"id\": 4154031673.0, \"cnt\": 3}, {\"type\": \"others\", \"id\": 4156449190.0, \"cnt\": 28}, {\"type\": \"others\", \"id\": 4158969022.0, \"cnt\": 22}, {\"type\": \"others\", \"id\": 4161034282.0, \"cnt\": 21}, {\"type\": \"others\", \"id\": 4163505477.0, \"cnt\": 9}, {\"type\": \"others\", \"id\": 4165170932.0, \"cnt\": 11}, {\"type\": \"others\", \"id\": 4167452887.0, \"cnt\": 6}, {\"type\": \"others\", \"id\": 4170117780.0, \"cnt\": 28}, {\"type\": \"others\", \"id\": 4170471351.0, \"cnt\": 23}, {\"type\": \"others\", \"id\": 4172873977.0, \"cnt\": 47}, {\"type\": \"others\", \"id\": 4173299388.0, \"cnt\": 11}, {\"type\": \"others\", \"id\": 4175726672.0, \"cnt\": 15}, {\"type\": \"others\", \"id\": 4175843626.0, \"cnt\": 31}, {\"type\": \"others\", \"id\": 4175924562.0, \"cnt\": 19}, {\"type\": \"others\", \"id\": 4176113933.0, \"cnt\": 44}, {\"type\": \"others\", \"id\": 4176182461.0, \"cnt\": 1}, {\"type\": \"others\", \"id\": 4179907651.0, \"cnt\": 44}, {\"type\": \"others\", \"id\": 4181015992.0, \"cnt\": 33}, {\"type\": \"others\", \"id\": 4182687186.0, \"cnt\": 1}, {\"type\": \"others\", \"id\": 4184211978.0, \"cnt\": 21}, {\"type\": \"others\", \"id\": 4184275470.0, \"cnt\": 19}, {\"type\": \"others\", \"id\": 4184354402.0, \"cnt\": 26}, {\"type\": \"others\", \"id\": 4184666214.0, \"cnt\": 33}, {\"type\": \"others\", \"id\": 4184964001.0, \"cnt\": 28}, {\"type\": \"others\", \"id\": 4185434795.0, \"cnt\": 27}, {\"type\": \"others\", \"id\": 4185808085.0, \"cnt\": 19}, {\"type\": \"others\", \"id\": 4186139647.0, \"cnt\": 9}, {\"type\": \"others\", \"id\": 4186795316.0, \"cnt\": 40}, {\"type\": \"others\", \"id\": 4187801235.0, \"cnt\": 5}, {\"type\": \"others\", \"id\": 4188045471.0, \"cnt\": 24}, {\"type\": \"others\", \"id\": 4188868582.0, \"cnt\": 19}, {\"type\": \"others\", \"id\": 4189215784.0, \"cnt\": 30}, {\"type\": \"others\", \"id\": 4189259043.0, \"cnt\": 20}, {\"type\": \"others\", \"id\": 4189471286.0, \"cnt\": 22}, {\"type\": \"others\", \"id\": 4189586963.0, \"cnt\": 2}, {\"type\": \"others\", \"id\": 4190087953.0, \"cnt\": 4}, {\"type\": \"others\", \"id\": 4190169750.0, \"cnt\": 2}, {\"type\": \"others\", \"id\": 4190310692.0, \"cnt\": 28}, {\"type\": \"others\", \"id\": 4190551909.0, \"cnt\": 24}, {\"type\": \"others\", \"id\": 4190745275.0, \"cnt\": 26}, {\"type\": \"others\", \"id\": 4193248081.0, \"cnt\": 15}, {\"type\": \"others\", \"id\": 4193714054.0, \"cnt\": 1}, {\"type\": \"others\", \"id\": 4194187844.0, \"cnt\": 13}, {\"type\": \"others\", \"id\": 4194192730.0, \"cnt\": 15}, {\"type\": \"others\", \"id\": 4194233309.0, \"cnt\": 10}, {\"type\": \"others\", \"id\": 4194298539.0, \"cnt\": 18}, {\"type\": \"others\", \"id\": 4194610223.0, \"cnt\": 25}, {\"type\": \"others\", \"id\": 4195446002.0, \"cnt\": 9}, {\"type\": \"others\", \"id\": 4195472052.0, \"cnt\": 23}, {\"type\": \"others\", \"id\": 4195745847.0, \"cnt\": 31}, {\"type\": \"others\", \"id\": 4195768719.0, \"cnt\": 35}, {\"type\": \"others\", \"id\": 4195814914.0, \"cnt\": 24}, {\"type\": \"others\", \"id\": 4196054190.0, \"cnt\": 17}, {\"type\": \"others\", \"id\": 4196159917.0, \"cnt\": 8}, {\"type\": \"others\", \"id\": 4197073114.0, \"cnt\": 25}, {\"type\": \"others\", \"id\": 4197171195.0, \"cnt\": 3}, {\"type\": \"others\", \"id\": 4197171306.0, \"cnt\": 5}, {\"type\": \"others\", \"id\": 4197172906.0, \"cnt\": 3}, {\"type\": \"others\", \"id\": 4197199325.0, \"cnt\": 5}, {\"type\": \"others\", \"id\": 4197200540.0, \"cnt\": 3}, {\"type\": \"others\", \"id\": 4197218387.0, \"cnt\": 26}, {\"type\": \"others\", \"id\": 4197284126.0, \"cnt\": 7}, {\"type\": \"others\", \"id\": 4197559416.0, \"cnt\": 41}, {\"type\": \"others\", \"id\": 4197797227.0, \"cnt\": 34}, {\"type\": \"others\", \"id\": 4198303869.0, \"cnt\": 26}, {\"type\": \"others\", \"id\": 4201105218.0, \"cnt\": 26}, {\"type\": \"others\", \"id\": 4201821932.0, \"cnt\": 2}, {\"type\": \"others\", \"id\": 4201839035.0, \"cnt\": 46}, {\"type\": \"others\", \"id\": 4202193593.0, \"cnt\": 14}, {\"type\": \"others\", \"id\": 4202579932.0, \"cnt\": 3}, {\"type\": \"others\", \"id\": 4202790191.0, \"cnt\": 4}, {\"type\": \"others\", \"id\": 4202864498.0, \"cnt\": 3}, {\"type\": \"others\", \"id\": 4202972788.0, \"cnt\": 29}, {\"type\": \"others\", \"id\": 4203181374.0, \"cnt\": 26}, {\"type\": \"others\", \"id\": 4203393208.0, \"cnt\": 15}, {\"type\": \"others\", \"id\": 4203665874.0, \"cnt\": 39}, {\"type\": \"others\", \"id\": 4203722199.0, \"cnt\": 40}, {\"type\": \"others\", \"id\": 4203898906.0, \"cnt\": 1}, {\"type\": \"others\", \"id\": 4204254164.0, \"cnt\": 8}, {\"type\": \"others\", \"id\": 4204486952.0, \"cnt\": 16}, {\"type\": \"others\", \"id\": 4204567481.0, \"cnt\": 1}, {\"type\": \"others\", \"id\": 4205424210.0, \"cnt\": 4}, {\"type\": \"others\", \"id\": 4206473996.0, \"cnt\": 23}, {\"type\": \"others\", \"id\": 4206784892.0, \"cnt\": 41}, {\"type\": \"others\", \"id\": 4207742679.0, \"cnt\": 33}, {\"type\": \"others\", \"id\": 4208218779.0, \"cnt\": 1}, {\"type\": \"others\", \"id\": 4208322115.0, \"cnt\": 23}, {\"type\": \"others\", \"id\": 4208397288.0, \"cnt\": 2}, {\"type\": \"others\", \"id\": 4208397415.0, \"cnt\": 2}, {\"type\": \"others\", \"id\": 4208400459.0, \"cnt\": 14}, {\"type\": \"others\", \"id\": 4208453643.0, \"cnt\": 1}, {\"type\": \"others\", \"id\": 4208530260.0, \"cnt\": 22}, {\"type\": \"others\", \"id\": 4208582250.0, \"cnt\": 21}, {\"type\": \"others\", \"id\": 4208837171.0, \"cnt\": 6}, {\"type\": \"others\", \"id\": 4210174136.0, \"cnt\": 15}, {\"type\": \"senior\", \"id\": 3774448473.0, \"cnt\": 9}, {\"type\": \"senior\", \"id\": 3800207286.0, \"cnt\": 39}, {\"type\": \"senior\", \"id\": 3802960869.0, \"cnt\": 7}, {\"type\": \"senior\", \"id\": 3824449875.0, \"cnt\": 26}, {\"type\": \"senior\", \"id\": 3825615850.0, \"cnt\": 23}, {\"type\": \"senior\", \"id\": 3857874314.0, \"cnt\": 22}, {\"type\": \"senior\", \"id\": 3873882969.0, \"cnt\": 8}, {\"type\": \"senior\", \"id\": 3944540459.0, \"cnt\": 23}, {\"type\": \"senior\", \"id\": 3948813222.0, \"cnt\": 10}, {\"type\": \"senior\", \"id\": 3978107082.0, \"cnt\": 10}, {\"type\": \"senior\", \"id\": 3984803017.0, \"cnt\": 20}, {\"type\": \"senior\", \"id\": 3984963662.0, \"cnt\": 25}, {\"type\": \"senior\", \"id\": 3994038432.0, \"cnt\": 14}, {\"type\": \"senior\", \"id\": 3997199657.0, \"cnt\": 17}, {\"type\": \"senior\", \"id\": 4021301072.0, \"cnt\": 25}, {\"type\": \"senior\", \"id\": 4023915359.0, \"cnt\": 10}, {\"type\": \"senior\", \"id\": 4023916997.0, \"cnt\": 20}, {\"type\": \"senior\", \"id\": 4023991434.0, \"cnt\": 23}, {\"type\": \"senior\", \"id\": 4023995953.0, \"cnt\": 9}, {\"type\": \"senior\", \"id\": 4023996984.0, \"cnt\": 12}, {\"type\": \"senior\", \"id\": 4024017473.0, \"cnt\": 24}, {\"type\": \"senior\", \"id\": 4025439361.0, \"cnt\": 13}, {\"type\": \"senior\", \"id\": 4025469162.0, \"cnt\": 18}, {\"type\": \"senior\", \"id\": 4025473258.0, \"cnt\": 29}, {\"type\": \"senior\", \"id\": 4025475506.0, \"cnt\": 54}, {\"type\": \"senior\", \"id\": 4026689819.0, \"cnt\": 17}, {\"type\": \"senior\", \"id\": 4026920558.0, \"cnt\": 19}, {\"type\": \"senior\", \"id\": 4029396917.0, \"cnt\": 10}, {\"type\": \"senior\", \"id\": 4029709746.0, \"cnt\": 12}, {\"type\": \"senior\", \"id\": 4030203274.0, \"cnt\": 12}, {\"type\": \"senior\", \"id\": 4030421800.0, \"cnt\": 27}, {\"type\": \"senior\", \"id\": 4030427351.0, \"cnt\": 12}, {\"type\": \"senior\", \"id\": 4031779735.0, \"cnt\": 18}, {\"type\": \"senior\", \"id\": 4035110502.0, \"cnt\": 25}, {\"type\": \"senior\", \"id\": 4038505249.0, \"cnt\": 50}, {\"type\": \"senior\", \"id\": 4038841743.0, \"cnt\": 67}, {\"type\": \"senior\", \"id\": 4039983856.0, \"cnt\": 28}, {\"type\": \"senior\", \"id\": 4041015712.0, \"cnt\": 40}, {\"type\": \"senior\", \"id\": 4041324480.0, \"cnt\": 27}, {\"type\": \"senior\", \"id\": 4043415938.0, \"cnt\": 35}, {\"type\": \"senior\", \"id\": 4045093838.0, \"cnt\": 31}, {\"type\": \"senior\", \"id\": 4045722738.0, \"cnt\": 35}, {\"type\": \"senior\", \"id\": 4046571485.0, \"cnt\": 21}, {\"type\": \"senior\", \"id\": 4046571486.0, \"cnt\": 21}, {\"type\": \"senior\", \"id\": 4046626192.0, \"cnt\": 28}, {\"type\": \"senior\", \"id\": 4046758584.0, \"cnt\": 31}, {\"type\": \"senior\", \"id\": 4048504575.0, \"cnt\": 8}, {\"type\": \"senior\", \"id\": 4048505108.0, \"cnt\": 11}, {\"type\": \"senior\", \"id\": 4048550852.0, \"cnt\": 36}, {\"type\": \"senior\", \"id\": 4049213331.0, \"cnt\": 30}, {\"type\": \"senior\", \"id\": 4050178115.0, \"cnt\": 22}, {\"type\": \"senior\", \"id\": 4053374437.0, \"cnt\": 51}, {\"type\": \"senior\", \"id\": 4057072953.0, \"cnt\": 8}, {\"type\": \"senior\", \"id\": 4058751567.0, \"cnt\": 32}, {\"type\": \"senior\", \"id\": 4062028419.0, \"cnt\": 25}, {\"type\": \"senior\", \"id\": 4064765606.0, \"cnt\": 23}, {\"type\": \"senior\", \"id\": 4065514744.0, \"cnt\": 25}, {\"type\": \"senior\", \"id\": 4065604007.0, \"cnt\": 37}, {\"type\": \"senior\", \"id\": 4066487026.0, \"cnt\": 23}, {\"type\": \"senior\", \"id\": 4068100982.0, \"cnt\": 24}, {\"type\": \"senior\", \"id\": 4069766626.0, \"cnt\": 75}, {\"type\": \"senior\", \"id\": 4072061062.0, \"cnt\": 17}, {\"type\": \"senior\", \"id\": 4072445276.0, \"cnt\": 52}, {\"type\": \"senior\", \"id\": 4074816724.0, \"cnt\": 73}, {\"type\": \"senior\", \"id\": 4074816725.0, \"cnt\": 62}, {\"type\": \"senior\", \"id\": 4076409632.0, \"cnt\": 18}, {\"type\": \"senior\", \"id\": 4078360243.0, \"cnt\": 18}, {\"type\": \"senior\", \"id\": 4078360740.0, \"cnt\": 22}, {\"type\": \"senior\", \"id\": 4079111880.0, \"cnt\": 18}, {\"type\": \"senior\", \"id\": 4080437460.0, \"cnt\": 55}, {\"type\": \"senior\", \"id\": 4080735672.0, \"cnt\": 6}, {\"type\": \"senior\", \"id\": 4080942583.0, \"cnt\": 9}, {\"type\": \"senior\", \"id\": 4080983246.0, \"cnt\": 16}, {\"type\": \"senior\", \"id\": 4080983250.0, \"cnt\": 15}, {\"type\": \"senior\", \"id\": 4081535415.0, \"cnt\": 31}, {\"type\": \"senior\", \"id\": 4083565040.0, \"cnt\": 6}, {\"type\": \"senior\", \"id\": 4084224089.0, \"cnt\": 13}, {\"type\": \"senior\", \"id\": 4084726798.0, \"cnt\": 27}, {\"type\": \"senior\", \"id\": 4085433466.0, \"cnt\": 30}, {\"type\": \"senior\", \"id\": 4087050359.0, \"cnt\": 26}, {\"type\": \"senior\", \"id\": 4087698080.0, \"cnt\": 36}, {\"type\": \"senior\", \"id\": 4088369022.0, \"cnt\": 17}, {\"type\": \"senior\", \"id\": 4088371124.0, \"cnt\": 37}, {\"type\": \"senior\", \"id\": 4088835107.0, \"cnt\": 76}, {\"type\": \"senior\", \"id\": 4088836258.0, \"cnt\": 62}, {\"type\": \"senior\", \"id\": 4089754024.0, \"cnt\": 18}, {\"type\": \"senior\", \"id\": 4090041438.0, \"cnt\": 4}, {\"type\": \"senior\", \"id\": 4090041719.0, \"cnt\": 20}, {\"type\": \"senior\", \"id\": 4090668554.0, \"cnt\": 27}, {\"type\": \"senior\", \"id\": 4093206141.0, \"cnt\": 24}, {\"type\": \"senior\", \"id\": 4094819723.0, \"cnt\": 14}, {\"type\": \"senior\", \"id\": 4095265139.0, \"cnt\": 38}, {\"type\": \"senior\", \"id\": 4096631664.0, \"cnt\": 36}, {\"type\": \"senior\", \"id\": 4101033432.0, \"cnt\": 16}, {\"type\": \"senior\", \"id\": 4101119348.0, \"cnt\": 12}, {\"type\": \"senior\", \"id\": 4101124259.0, \"cnt\": 33}, {\"type\": \"senior\", \"id\": 4101125339.0, \"cnt\": 33}, {\"type\": \"senior\", \"id\": 4101129848.0, \"cnt\": 31}, {\"type\": \"senior\", \"id\": 4101139964.0, \"cnt\": 27}, {\"type\": \"senior\", \"id\": 4101151553.0, \"cnt\": 29}, {\"type\": \"senior\", \"id\": 4104579005.0, \"cnt\": 12}, {\"type\": \"senior\", \"id\": 4104830792.0, \"cnt\": 42}, {\"type\": \"senior\", \"id\": 4105703798.0, \"cnt\": 21}, {\"type\": \"senior\", \"id\": 4107246954.0, \"cnt\": 32}, {\"type\": \"senior\", \"id\": 4107341832.0, \"cnt\": 51}, {\"type\": \"senior\", \"id\": 4107957908.0, \"cnt\": 18}, {\"type\": \"senior\", \"id\": 4108186110.0, \"cnt\": 12}, {\"type\": \"senior\", \"id\": 4109613194.0, \"cnt\": 27}, {\"type\": \"senior\", \"id\": 4110484439.0, \"cnt\": 13}, {\"type\": \"senior\", \"id\": 4110742190.0, \"cnt\": 14}, {\"type\": \"senior\", \"id\": 4112107947.0, \"cnt\": 15}, {\"type\": \"senior\", \"id\": 4112382527.0, \"cnt\": 13}, {\"type\": \"senior\", \"id\": 4112956853.0, \"cnt\": 32}, {\"type\": \"senior\", \"id\": 4113070924.0, \"cnt\": 34}, {\"type\": \"senior\", \"id\": 4113267838.0, \"cnt\": 18}, {\"type\": \"senior\", \"id\": 4113544696.0, \"cnt\": 5}, {\"type\": \"senior\", \"id\": 4114711647.0, \"cnt\": 29}, {\"type\": \"senior\", \"id\": 4114740893.0, \"cnt\": 16}, {\"type\": \"senior\", \"id\": 4115391280.0, \"cnt\": 18}, {\"type\": \"senior\", \"id\": 4116707434.0, \"cnt\": 2}, {\"type\": \"senior\", \"id\": 4116763845.0, \"cnt\": 30}, {\"type\": \"senior\", \"id\": 4117023929.0, \"cnt\": 35}, {\"type\": \"senior\", \"id\": 4121952470.0, \"cnt\": 27}, {\"type\": \"senior\", \"id\": 4121953071.0, \"cnt\": 14}, {\"type\": \"senior\", \"id\": 4122200946.0, \"cnt\": 12}, {\"type\": \"senior\", \"id\": 4122335668.0, \"cnt\": 10}, {\"type\": \"senior\", \"id\": 4122374682.0, \"cnt\": 25}, {\"type\": \"senior\", \"id\": 4122376343.0, \"cnt\": 25}, {\"type\": \"senior\", \"id\": 4122387507.0, \"cnt\": 34}, {\"type\": \"senior\", \"id\": 4122388637.0, \"cnt\": 33}, {\"type\": \"senior\", \"id\": 4122392420.0, \"cnt\": 22}, {\"type\": \"senior\", \"id\": 4122408925.0, \"cnt\": 19}, {\"type\": \"senior\", \"id\": 4123297968.0, \"cnt\": 16}, {\"type\": \"senior\", \"id\": 4123382708.0, \"cnt\": 23}, {\"type\": \"senior\", \"id\": 4123550392.0, \"cnt\": 43}, {\"type\": \"senior\", \"id\": 4123583004.0, \"cnt\": 44}, {\"type\": \"senior\", \"id\": 4124549884.0, \"cnt\": 45}, {\"type\": \"senior\", \"id\": 4125931913.0, \"cnt\": 38}, {\"type\": \"senior\", \"id\": 4126573866.0, \"cnt\": 11}, {\"type\": \"senior\", \"id\": 4126573875.0, \"cnt\": 11}, {\"type\": \"senior\", \"id\": 4126806358.0, \"cnt\": 33}, {\"type\": \"senior\", \"id\": 4127051342.0, \"cnt\": 31}, {\"type\": \"senior\", \"id\": 4127236576.0, \"cnt\": 29}, {\"type\": \"senior\", \"id\": 4127519228.0, \"cnt\": 16}, {\"type\": \"senior\", \"id\": 4127555379.0, \"cnt\": 23}, {\"type\": \"senior\", \"id\": 4128889784.0, \"cnt\": 20}, {\"type\": \"senior\", \"id\": 4128889787.0, \"cnt\": 20}, {\"type\": \"senior\", \"id\": 4128889899.0, \"cnt\": 9}, {\"type\": \"senior\", \"id\": 4130015392.0, \"cnt\": 20}, {\"type\": \"senior\", \"id\": 4130405952.0, \"cnt\": 44}, {\"type\": \"senior\", \"id\": 4130773864.0, \"cnt\": 33}, {\"type\": \"senior\", \"id\": 4130995863.0, \"cnt\": 21}, {\"type\": \"senior\", \"id\": 4131270220.0, \"cnt\": 33}, {\"type\": \"senior\", \"id\": 4132173518.0, \"cnt\": 15}, {\"type\": \"senior\", \"id\": 4134479767.0, \"cnt\": 12}, {\"type\": \"senior\", \"id\": 4134479773.0, \"cnt\": 12}, {\"type\": \"senior\", \"id\": 4134790556.0, \"cnt\": 17}, {\"type\": \"senior\", \"id\": 4134790959.0, \"cnt\": 33}, {\"type\": \"senior\", \"id\": 4134791548.0, \"cnt\": 29}, {\"type\": \"senior\", \"id\": 4134992879.0, \"cnt\": 25}, {\"type\": \"senior\", \"id\": 4135919298.0, \"cnt\": 19}, {\"type\": \"senior\", \"id\": 4136091577.0, \"cnt\": 27}, {\"type\": \"senior\", \"id\": 4136377393.0, \"cnt\": 11}, {\"type\": \"senior\", \"id\": 4137028441.0, \"cnt\": 19}, {\"type\": \"senior\", \"id\": 4137050740.0, \"cnt\": 44}, {\"type\": \"senior\", \"id\": 4137840498.0, \"cnt\": 17}, {\"type\": \"senior\", \"id\": 4141834172.0, \"cnt\": 21}, {\"type\": \"senior\", \"id\": 4141919159.0, \"cnt\": 66}, {\"type\": \"senior\", \"id\": 4142201153.0, \"cnt\": 30}, {\"type\": \"senior\", \"id\": 4143141502.0, \"cnt\": 40}, {\"type\": \"senior\", \"id\": 4145900305.0, \"cnt\": 33}, {\"type\": \"senior\", \"id\": 4146548871.0, \"cnt\": 14}, {\"type\": \"senior\", \"id\": 4146874981.0, \"cnt\": 35}, {\"type\": \"senior\", \"id\": 4147274432.0, \"cnt\": 70}, {\"type\": \"senior\", \"id\": 4147770004.0, \"cnt\": 20}, {\"type\": \"senior\", \"id\": 4147770012.0, \"cnt\": 20}, {\"type\": \"senior\", \"id\": 4147770018.0, \"cnt\": 20}, {\"type\": \"senior\", \"id\": 4148244227.0, \"cnt\": 55}, {\"type\": \"senior\", \"id\": 4148662498.0, \"cnt\": 28}, {\"type\": \"senior\", \"id\": 4148770310.0, \"cnt\": 32}, {\"type\": \"senior\", \"id\": 4148774922.0, \"cnt\": 14}, {\"type\": \"senior\", \"id\": 4149075695.0, \"cnt\": 22}, {\"type\": \"senior\", \"id\": 4149585840.0, \"cnt\": 26}, {\"type\": \"senior\", \"id\": 4149585843.0, \"cnt\": 26}, {\"type\": \"senior\", \"id\": 4152491595.0, \"cnt\": 7}, {\"type\": \"senior\", \"id\": 4152852164.0, \"cnt\": 6}, {\"type\": \"senior\", \"id\": 4153548059.0, \"cnt\": 7}, {\"type\": \"senior\", \"id\": 4153603991.0, \"cnt\": 43}, {\"type\": \"senior\", \"id\": 4154342007.0, \"cnt\": 28}, {\"type\": \"senior\", \"id\": 4154521207.0, \"cnt\": 37}, {\"type\": \"senior\", \"id\": 4154522787.0, \"cnt\": 8}, {\"type\": \"senior\", \"id\": 4154827182.0, \"cnt\": 37}, {\"type\": \"senior\", \"id\": 4155441181.0, \"cnt\": 12}, {\"type\": \"senior\", \"id\": 4156307207.0, \"cnt\": 3}, {\"type\": \"senior\", \"id\": 4156650543.0, \"cnt\": 23}, {\"type\": \"senior\", \"id\": 4156721674.0, \"cnt\": 12}, {\"type\": \"senior\", \"id\": 4156919320.0, \"cnt\": 6}, {\"type\": \"senior\", \"id\": 4156973755.0, \"cnt\": 41}, {\"type\": \"senior\", \"id\": 4157264535.0, \"cnt\": 17}, {\"type\": \"senior\", \"id\": 4157661839.0, \"cnt\": 35}, {\"type\": \"senior\", \"id\": 4158547812.0, \"cnt\": 16}, {\"type\": \"senior\", \"id\": 4158634560.0, \"cnt\": 26}, {\"type\": \"senior\", \"id\": 4158662239.0, \"cnt\": 33}, {\"type\": \"senior\", \"id\": 4158960816.0, \"cnt\": 29}, {\"type\": \"senior\", \"id\": 4158994433.0, \"cnt\": 37}, {\"type\": \"senior\", \"id\": 4159215490.0, \"cnt\": 2}, {\"type\": \"senior\", \"id\": 4159710566.0, \"cnt\": 25}, {\"type\": \"senior\", \"id\": 4160079412.0, \"cnt\": 66}, {\"type\": \"senior\", \"id\": 4160153734.0, \"cnt\": 10}, {\"type\": \"senior\", \"id\": 4160410571.0, \"cnt\": 21}, {\"type\": \"senior\", \"id\": 4161148617.0, \"cnt\": 48}, {\"type\": \"senior\", \"id\": 4161325309.0, \"cnt\": 46}, {\"type\": \"senior\", \"id\": 4163539797.0, \"cnt\": 19}, {\"type\": \"senior\", \"id\": 4163638120.0, \"cnt\": 34}, {\"type\": \"senior\", \"id\": 4163753067.0, \"cnt\": 22}, {\"type\": \"senior\", \"id\": 4164375366.0, \"cnt\": 17}, {\"type\": \"senior\", \"id\": 4164431361.0, \"cnt\": 11}, {\"type\": \"senior\", \"id\": 4164434383.0, \"cnt\": 11}, {\"type\": \"senior\", \"id\": 4164481146.0, \"cnt\": 71}, {\"type\": \"senior\", \"id\": 4164520464.0, \"cnt\": 21}, {\"type\": \"senior\", \"id\": 4164533436.0, \"cnt\": 19}, {\"type\": \"senior\", \"id\": 4164872960.0, \"cnt\": 3}, {\"type\": \"senior\", \"id\": 4164956240.0, \"cnt\": 14}, {\"type\": \"senior\", \"id\": 4165846015.0, \"cnt\": 21}, {\"type\": \"senior\", \"id\": 4165846043.0, \"cnt\": 21}, {\"type\": \"senior\", \"id\": 4166056148.0, \"cnt\": 17}, {\"type\": \"senior\", \"id\": 4166146505.0, \"cnt\": 46}, {\"type\": \"senior\", \"id\": 4166972590.0, \"cnt\": 38}, {\"type\": \"senior\", \"id\": 4167190594.0, \"cnt\": 27}, {\"type\": \"senior\", \"id\": 4167361824.0, \"cnt\": 30}, {\"type\": \"senior\", \"id\": 4167362008.0, \"cnt\": 30}, {\"type\": \"senior\", \"id\": 4167518333.0, \"cnt\": 44}, {\"type\": \"senior\", \"id\": 4167529740.0, \"cnt\": 52}, {\"type\": \"senior\", \"id\": 4167585433.0, \"cnt\": 4}, {\"type\": \"senior\", \"id\": 4168440512.0, \"cnt\": 50}, {\"type\": \"senior\", \"id\": 4168707990.0, \"cnt\": 30}, {\"type\": \"senior\", \"id\": 4169003864.0, \"cnt\": 23}, {\"type\": \"senior\", \"id\": 4169107659.0, \"cnt\": 12}, {\"type\": \"senior\", \"id\": 4169138751.0, \"cnt\": 14}, {\"type\": \"senior\", \"id\": 4169244172.0, \"cnt\": 11}, {\"type\": \"senior\", \"id\": 4169302305.0, \"cnt\": 42}, {\"type\": \"senior\", \"id\": 4169493009.0, \"cnt\": 11}, {\"type\": \"senior\", \"id\": 4169950929.0, \"cnt\": 19}, {\"type\": \"senior\", \"id\": 4170026582.0, \"cnt\": 29}, {\"type\": \"senior\", \"id\": 4170095260.0, \"cnt\": 1}, {\"type\": \"senior\", \"id\": 4170119406.0, \"cnt\": 29}, {\"type\": \"senior\", \"id\": 4170217467.0, \"cnt\": 7}, {\"type\": \"senior\", \"id\": 4170361578.0, \"cnt\": 24}, {\"type\": \"senior\", \"id\": 4170370650.0, \"cnt\": 18}, {\"type\": \"senior\", \"id\": 4170660445.0, \"cnt\": 19}, {\"type\": \"senior\", \"id\": 4170696631.0, \"cnt\": 9}, {\"type\": \"senior\", \"id\": 4170862272.0, \"cnt\": 18}, {\"type\": \"senior\", \"id\": 4172525908.0, \"cnt\": 21}, {\"type\": \"senior\", \"id\": 4172695683.0, \"cnt\": 14}, {\"type\": \"senior\", \"id\": 4173177588.0, \"cnt\": 40}, {\"type\": \"senior\", \"id\": 4173177589.0, \"cnt\": 40}, {\"type\": \"senior\", \"id\": 4173215198.0, \"cnt\": 13}, {\"type\": \"senior\", \"id\": 4173394247.0, \"cnt\": 24}, {\"type\": \"senior\", \"id\": 4173511503.0, \"cnt\": 21}, {\"type\": \"senior\", \"id\": 4173831756.0, \"cnt\": 22}, {\"type\": \"senior\", \"id\": 4174192881.0, \"cnt\": 33}, {\"type\": \"senior\", \"id\": 4174306012.0, \"cnt\": 31}, {\"type\": \"senior\", \"id\": 4174643764.0, \"cnt\": 23}, {\"type\": \"senior\", \"id\": 4174714234.0, \"cnt\": 16}, {\"type\": \"senior\", \"id\": 4174915856.0, \"cnt\": 16}, {\"type\": \"senior\", \"id\": 4175004939.0, \"cnt\": 8}, {\"type\": \"senior\", \"id\": 4175912648.0, \"cnt\": 34}, {\"type\": \"senior\", \"id\": 4175920040.0, \"cnt\": 22}, {\"type\": \"senior\", \"id\": 4175920044.0, \"cnt\": 22}, {\"type\": \"senior\", \"id\": 4175920738.0, \"cnt\": 20}, {\"type\": \"senior\", \"id\": 4175920771.0, \"cnt\": 20}, {\"type\": \"senior\", \"id\": 4175921646.0, \"cnt\": 20}, {\"type\": \"senior\", \"id\": 4175924571.0, \"cnt\": 14}, {\"type\": \"senior\", \"id\": 4175925160.0, \"cnt\": 57}, {\"type\": \"senior\", \"id\": 4175947721.0, \"cnt\": 21}, {\"type\": \"senior\", \"id\": 4176000664.0, \"cnt\": 23}, {\"type\": \"senior\", \"id\": 4176085570.0, \"cnt\": 34}, {\"type\": \"senior\", \"id\": 4176669849.0, \"cnt\": 27}, {\"type\": \"senior\", \"id\": 4178035451.0, \"cnt\": 27}, {\"type\": \"senior\", \"id\": 4178062270.0, \"cnt\": 24}, {\"type\": \"senior\", \"id\": 4178129733.0, \"cnt\": 34}, {\"type\": \"senior\", \"id\": 4178140755.0, \"cnt\": 10}, {\"type\": \"senior\", \"id\": 4178266454.0, \"cnt\": 34}, {\"type\": \"senior\", \"id\": 4178990676.0, \"cnt\": 43}, {\"type\": \"senior\", \"id\": 4179324560.0, \"cnt\": 10}, {\"type\": \"senior\", \"id\": 4179338223.0, \"cnt\": 17}, {\"type\": \"senior\", \"id\": 4179373166.0, \"cnt\": 8}, {\"type\": \"senior\", \"id\": 4179423118.0, \"cnt\": 29}, {\"type\": \"senior\", \"id\": 4179620111.0, \"cnt\": 28}, {\"type\": \"senior\", \"id\": 4179783753.0, \"cnt\": 51}, {\"type\": \"senior\", \"id\": 4179978117.0, \"cnt\": 23}, {\"type\": \"senior\", \"id\": 4180512881.0, \"cnt\": 26}, {\"type\": \"senior\", \"id\": 4180531321.0, \"cnt\": 15}, {\"type\": \"senior\", \"id\": 4180533020.0, \"cnt\": 14}, {\"type\": \"senior\", \"id\": 4181383537.0, \"cnt\": 25}, {\"type\": \"senior\", \"id\": 4182109929.0, \"cnt\": 25}, {\"type\": \"senior\", \"id\": 4182252565.0, \"cnt\": 19}, {\"type\": \"senior\", \"id\": 4182287143.0, \"cnt\": 37}, {\"type\": \"senior\", \"id\": 4182314274.0, \"cnt\": 50}, {\"type\": \"senior\", \"id\": 4182335314.0, \"cnt\": 28}, {\"type\": \"senior\", \"id\": 4182477645.0, \"cnt\": 10}, {\"type\": \"senior\", \"id\": 4182562512.0, \"cnt\": 1}, {\"type\": \"senior\", \"id\": 4183110161.0, \"cnt\": 27}, {\"type\": \"senior\", \"id\": 4183253381.0, \"cnt\": 45}, {\"type\": \"senior\", \"id\": 4183298268.0, \"cnt\": 24}, {\"type\": \"senior\", \"id\": 4183319929.0, \"cnt\": 41}, {\"type\": \"senior\", \"id\": 4183346218.0, \"cnt\": 26}, {\"type\": \"senior\", \"id\": 4183346233.0, \"cnt\": 26}, {\"type\": \"senior\", \"id\": 4183370496.0, \"cnt\": 1}, {\"type\": \"senior\", \"id\": 4183414806.0, \"cnt\": 34}, {\"type\": \"senior\", \"id\": 4183658720.0, \"cnt\": 32}, {\"type\": \"senior\", \"id\": 4183738386.0, \"cnt\": 25}, {\"type\": \"senior\", \"id\": 4183774143.0, \"cnt\": 18}, {\"type\": \"senior\", \"id\": 4183779171.0, \"cnt\": 13}, {\"type\": \"senior\", \"id\": 4183840042.0, \"cnt\": 1}, {\"type\": \"senior\", \"id\": 4184262457.0, \"cnt\": 44}, {\"type\": \"senior\", \"id\": 4184449868.0, \"cnt\": 12}, {\"type\": \"senior\", \"id\": 4184603459.0, \"cnt\": 11}, {\"type\": \"senior\", \"id\": 4184817936.0, \"cnt\": 54}, {\"type\": \"senior\", \"id\": 4185399131.0, \"cnt\": 25}, {\"type\": \"senior\", \"id\": 4185399133.0, \"cnt\": 25}, {\"type\": \"senior\", \"id\": 4185522085.0, \"cnt\": 9}, {\"type\": \"senior\", \"id\": 4185899329.0, \"cnt\": 15}, {\"type\": \"senior\", \"id\": 4185926172.0, \"cnt\": 21}, {\"type\": \"senior\", \"id\": 4186057131.0, \"cnt\": 10}, {\"type\": \"senior\", \"id\": 4186156298.0, \"cnt\": 62}, {\"type\": \"senior\", \"id\": 4186348819.0, \"cnt\": 23}, {\"type\": \"senior\", \"id\": 4186382936.0, \"cnt\": 27}, {\"type\": \"senior\", \"id\": 4186462625.0, \"cnt\": 54}, {\"type\": \"senior\", \"id\": 4187234649.0, \"cnt\": 13}, {\"type\": \"senior\", \"id\": 4187267013.0, \"cnt\": 34}, {\"type\": \"senior\", \"id\": 4187281408.0, \"cnt\": 16}, {\"type\": \"senior\", \"id\": 4187327700.0, \"cnt\": 23}, {\"type\": \"senior\", \"id\": 4187379042.0, \"cnt\": 29}, {\"type\": \"senior\", \"id\": 4187686573.0, \"cnt\": 32}, {\"type\": \"senior\", \"id\": 4188512459.0, \"cnt\": 32}, {\"type\": \"senior\", \"id\": 4188965871.0, \"cnt\": 11}, {\"type\": \"senior\", \"id\": 4189261507.0, \"cnt\": 23}, {\"type\": \"senior\", \"id\": 4190018712.0, \"cnt\": 29}, {\"type\": \"senior\", \"id\": 4190478773.0, \"cnt\": 24}, {\"type\": \"senior\", \"id\": 4190728419.0, \"cnt\": 30}, {\"type\": \"senior\", \"id\": 4190800862.0, \"cnt\": 13}, {\"type\": \"senior\", \"id\": 4191487563.0, \"cnt\": 9}, {\"type\": \"senior\", \"id\": 4192251544.0, \"cnt\": 16}, {\"type\": \"senior\", \"id\": 4192270041.0, \"cnt\": 21}, {\"type\": \"senior\", \"id\": 4192301454.0, \"cnt\": 23}, {\"type\": \"senior\", \"id\": 4192327538.0, \"cnt\": 26}, {\"type\": \"senior\", \"id\": 4192344115.0, \"cnt\": 25}, {\"type\": \"senior\", \"id\": 4192504149.0, \"cnt\": 29}, {\"type\": \"senior\", \"id\": 4192677357.0, \"cnt\": 3}, {\"type\": \"senior\", \"id\": 4192880817.0, \"cnt\": 14}, {\"type\": \"senior\", \"id\": 4193268679.0, \"cnt\": 18}, {\"type\": \"senior\", \"id\": 4193291239.0, \"cnt\": 25}, {\"type\": \"senior\", \"id\": 4193455138.0, \"cnt\": 40}, {\"type\": \"senior\", \"id\": 4193551988.0, \"cnt\": 39}, {\"type\": \"senior\", \"id\": 4193605472.0, \"cnt\": 28}, {\"type\": \"senior\", \"id\": 4193605734.0, \"cnt\": 20}, {\"type\": \"senior\", \"id\": 4193648870.0, \"cnt\": 28}, {\"type\": \"senior\", \"id\": 4193665625.0, \"cnt\": 14}, {\"type\": \"senior\", \"id\": 4193684493.0, \"cnt\": 28}, {\"type\": \"senior\", \"id\": 4193757386.0, \"cnt\": 21}, {\"type\": \"senior\", \"id\": 4193899840.0, \"cnt\": 30}, {\"type\": \"senior\", \"id\": 4193904241.0, \"cnt\": 48}, {\"type\": \"senior\", \"id\": 4194449541.0, \"cnt\": 7}, {\"type\": \"senior\", \"id\": 4194744761.0, \"cnt\": 13}, {\"type\": \"senior\", \"id\": 4194972617.0, \"cnt\": 4}, {\"type\": \"senior\", \"id\": 4195084277.0, \"cnt\": 19}, {\"type\": \"senior\", \"id\": 4195104265.0, \"cnt\": 25}, {\"type\": \"senior\", \"id\": 4195436269.0, \"cnt\": 18}, {\"type\": \"senior\", \"id\": 4195442200.0, \"cnt\": 12}, {\"type\": \"senior\", \"id\": 4195479689.0, \"cnt\": 8}, {\"type\": \"senior\", \"id\": 4195670023.0, \"cnt\": 29}, {\"type\": \"senior\", \"id\": 4195727667.0, \"cnt\": 1}, {\"type\": \"senior\", \"id\": 4195795601.0, \"cnt\": 12}, {\"type\": \"senior\", \"id\": 4195800539.0, \"cnt\": 1}, {\"type\": \"senior\", \"id\": 4195826073.0, \"cnt\": 28}, {\"type\": \"senior\", \"id\": 4195872728.0, \"cnt\": 18}, {\"type\": \"senior\", \"id\": 4195872743.0, \"cnt\": 18}, {\"type\": \"senior\", \"id\": 4195971721.0, \"cnt\": 7}, {\"type\": \"senior\", \"id\": 4196125765.0, \"cnt\": 30}, {\"type\": \"senior\", \"id\": 4196286133.0, \"cnt\": 30}, {\"type\": \"senior\", \"id\": 4196508721.0, \"cnt\": 1}, {\"type\": \"senior\", \"id\": 4196635954.0, \"cnt\": 24}, {\"type\": \"senior\", \"id\": 4196737935.0, \"cnt\": 37}, {\"type\": \"senior\", \"id\": 4196883145.0, \"cnt\": 37}, {\"type\": \"senior\", \"id\": 4196993703.0, \"cnt\": 29}, {\"type\": \"senior\", \"id\": 4197181660.0, \"cnt\": 7}, {\"type\": \"senior\", \"id\": 4197198639.0, \"cnt\": 2}, {\"type\": \"senior\", \"id\": 4197640410.0, \"cnt\": 18}, {\"type\": \"senior\", \"id\": 4197689342.0, \"cnt\": 18}, {\"type\": \"senior\", \"id\": 4198074574.0, \"cnt\": 4}, {\"type\": \"senior\", \"id\": 4198135574.0, \"cnt\": 13}, {\"type\": \"senior\", \"id\": 4198136676.0, \"cnt\": 14}, {\"type\": \"senior\", \"id\": 4198136920.0, \"cnt\": 22}, {\"type\": \"senior\", \"id\": 4198145993.0, \"cnt\": 34}, {\"type\": \"senior\", \"id\": 4198508383.0, \"cnt\": 18}, {\"type\": \"senior\", \"id\": 4198714697.0, \"cnt\": 16}, {\"type\": \"senior\", \"id\": 4198727914.0, \"cnt\": 19}, {\"type\": \"senior\", \"id\": 4198895031.0, \"cnt\": 42}, {\"type\": \"senior\", \"id\": 4199023847.0, \"cnt\": 17}, {\"type\": \"senior\", \"id\": 4199287687.0, \"cnt\": 26}, {\"type\": \"senior\", \"id\": 4199598495.0, \"cnt\": 42}, {\"type\": \"senior\", \"id\": 4200767802.0, \"cnt\": 7}, {\"type\": \"senior\", \"id\": 4200971279.0, \"cnt\": 71}, {\"type\": \"senior\", \"id\": 4201905511.0, \"cnt\": 15}, {\"type\": \"senior\", \"id\": 4201986557.0, \"cnt\": 1}, {\"type\": \"senior\", \"id\": 4202085151.0, \"cnt\": 14}, {\"type\": \"senior\", \"id\": 4202463044.0, \"cnt\": 24}, {\"type\": \"senior\", \"id\": 4202484713.0, \"cnt\": 31}, {\"type\": \"senior\", \"id\": 4202524463.0, \"cnt\": 4}, {\"type\": \"senior\", \"id\": 4202525765.0, \"cnt\": 31}, {\"type\": \"senior\", \"id\": 4202548929.0, \"cnt\": 5}, {\"type\": \"senior\", \"id\": 4202568611.0, \"cnt\": 15}, {\"type\": \"senior\", \"id\": 4202629470.0, \"cnt\": 21}, {\"type\": \"senior\", \"id\": 4202643282.0, \"cnt\": 8}, {\"type\": \"senior\", \"id\": 4202669724.0, \"cnt\": 2}, {\"type\": \"senior\", \"id\": 4202832498.0, \"cnt\": 41}, {\"type\": \"senior\", \"id\": 4202897851.0, \"cnt\": 31}, {\"type\": \"senior\", \"id\": 4202902615.0, \"cnt\": 1}, {\"type\": \"senior\", \"id\": 4202972984.0, \"cnt\": 26}, {\"type\": \"senior\", \"id\": 4202981771.0, \"cnt\": 9}, {\"type\": \"senior\", \"id\": 4202983361.0, \"cnt\": 9}, {\"type\": \"senior\", \"id\": 4203403985.0, \"cnt\": 28}, {\"type\": \"senior\", \"id\": 4203467711.0, \"cnt\": 5}, {\"type\": \"senior\", \"id\": 4203901117.0, \"cnt\": 25}, {\"type\": \"senior\", \"id\": 4203919278.0, \"cnt\": 39}, {\"type\": \"senior\", \"id\": 4204008058.0, \"cnt\": 11}, {\"type\": \"senior\", \"id\": 4204107029.0, \"cnt\": 20}, {\"type\": \"senior\", \"id\": 4204182877.0, \"cnt\": 24}, {\"type\": \"senior\", \"id\": 4204229239.0, \"cnt\": 14}, {\"type\": \"senior\", \"id\": 4204721305.0, \"cnt\": 29}, {\"type\": \"senior\", \"id\": 4204952714.0, \"cnt\": 20}, {\"type\": \"senior\", \"id\": 4204953289.0, \"cnt\": 25}, {\"type\": \"senior\", \"id\": 4204976295.0, \"cnt\": 53}, {\"type\": \"senior\", \"id\": 4205009493.0, \"cnt\": 31}, {\"type\": \"senior\", \"id\": 4205183455.0, \"cnt\": 23}, {\"type\": \"senior\", \"id\": 4205238650.0, \"cnt\": 13}, {\"type\": \"senior\", \"id\": 4205246810.0, \"cnt\": 23}, {\"type\": \"senior\", \"id\": 4205253660.0, \"cnt\": 16}, {\"type\": \"senior\", \"id\": 4205268125.0, \"cnt\": 23}, {\"type\": \"senior\", \"id\": 4205290152.0, \"cnt\": 47}, {\"type\": \"senior\", \"id\": 4205512537.0, \"cnt\": 26}, {\"type\": \"senior\", \"id\": 4205607927.0, \"cnt\": 31}, {\"type\": \"senior\", \"id\": 4206193287.0, \"cnt\": 18}, {\"type\": \"senior\", \"id\": 4206733114.0, \"cnt\": 21}, {\"type\": \"senior\", \"id\": 4206774824.0, \"cnt\": 52}, {\"type\": \"senior\", \"id\": 4206777546.0, \"cnt\": 26}, {\"type\": \"senior\", \"id\": 4207165764.0, \"cnt\": 42}, {\"type\": \"senior\", \"id\": 4207355449.0, \"cnt\": 38}, {\"type\": \"senior\", \"id\": 4207399213.0, \"cnt\": 28}, {\"type\": \"senior\", \"id\": 4207400371.0, \"cnt\": 27}, {\"type\": \"senior\", \"id\": 4207533672.0, \"cnt\": 7}, {\"type\": \"senior\", \"id\": 4207543576.0, \"cnt\": 22}, {\"type\": \"senior\", \"id\": 4207637924.0, \"cnt\": 35}, {\"type\": \"senior\", \"id\": 4207725297.0, \"cnt\": 28}, {\"type\": \"senior\", \"id\": 4207857316.0, \"cnt\": 21}, {\"type\": \"senior\", \"id\": 4208458721.0, \"cnt\": 16}, {\"type\": \"senior\", \"id\": 4208504672.0, \"cnt\": 1}, {\"type\": \"senior\", \"id\": 4208530165.0, \"cnt\": 12}, {\"type\": \"senior\", \"id\": 4208835490.0, \"cnt\": 30}, {\"type\": \"senior\", \"id\": 4208835849.0, \"cnt\": 13}, {\"type\": \"senior\", \"id\": 4209009607.0, \"cnt\": 23}, {\"type\": \"senior\", \"id\": 4209083857.0, \"cnt\": 36}, {\"type\": \"senior\", \"id\": 4209123599.0, \"cnt\": 12}, {\"type\": \"senior\", \"id\": 4209126846.0, \"cnt\": 15}, {\"type\": \"senior\", \"id\": 4209136866.0, \"cnt\": 8}, {\"type\": \"senior\", \"id\": 4209357171.0, \"cnt\": 53}, {\"type\": \"senior\", \"id\": 4209360057.0, \"cnt\": 31}, {\"type\": \"senior\", \"id\": 4209371853.0, \"cnt\": 19}, {\"type\": \"senior\", \"id\": 4209673650.0, \"cnt\": 35}, {\"type\": \"senior\", \"id\": 4209704387.0, \"cnt\": 27}, {\"type\": \"senior\", \"id\": 4209831699.0, \"cnt\": 45}, {\"type\": \"senior\", \"id\": 4210304372.0, \"cnt\": 42}, {\"type\": \"senior\", \"id\": 4210326139.0, \"cnt\": 21}, {\"type\": \"senior\", \"id\": 4210656119.0, \"cnt\": 55}, {\"type\": \"senior\", \"id\": 4210708338.0, \"cnt\": 26}, {\"type\": \"senior\", \"id\": 4210740879.0, \"cnt\": 14}, {\"type\": \"senior\", \"id\": 4210951860.0, \"cnt\": 51}]}}, {\"mode\": \"vega-lite\"});\n",
       "</script>"
      ],
      "text/plain": [
       "alt.LayerChart(...)"
      ]
     },
     "execution_count": 39,
     "metadata": {},
     "output_type": "execute_result"
    }
   ],
   "source": [
    "title_str=\"Skill Distribution By Types\"\n",
    "main_chart=alt.Chart(df_id).mark_boxplot(size=50, extent=0.5).encode(\n",
    "        y=alt.Y('cnt:Q', title='# of skills'),\n",
    "        x=alt.X('type:O',title='Type',axis=alt.Axis( \n",
    "                                   labelAngle=0, \n",
    "                                   labelOverlap=False)),\n",
    "        color=alt.Color('type', scale=alt.Scale(scheme='set2'),title='Type'),\n",
    "    ).properties(height=b_height, width=b_width,\n",
    "            title = alt.TitleParams(text = title_str,\n",
    "                                                align='center',\n",
    "                                                font = 'Ubuntu Mono', \n",
    "                                                fontSize = 20, \n",
    "                                                color = '#3E454F'\n",
    "                                                )\n",
    "        )\n",
    "median_line = alt.Chart(df_id).mark_rule(color='red').encode(\n",
    "    y=alt.Y('mean(cnt):Q', title='# of skills'),\n",
    "    size=alt.value(5)\n",
    ")\n",
    "main_chart+median_line"
   ]
  },
  {
   "cell_type": "markdown",
   "id": "3bd1960d",
   "metadata": {},
   "source": [
    "##### Skill analysis by levels - find out top n skills across levels"
   ]
  },
  {
   "cell_type": "code",
   "execution_count": 40,
   "id": "666b2a4c",
   "metadata": {
    "ExecuteTime": {
     "end_time": "2022-05-25T01:35:06.290426Z",
     "start_time": "2022-05-25T01:35:06.272352Z"
    }
   },
   "outputs": [],
   "source": [
    "df_type=df_full.groupby(['type','skill']).count()['id'].sort_values(ascending=False)\n",
    "df_type=df_type.reset_index()\n",
    "df_type.columns=['type','skill','cnt']"
   ]
  },
  {
   "cell_type": "code",
   "execution_count": 41,
   "id": "1bfab59b",
   "metadata": {
    "ExecuteTime": {
     "end_time": "2022-05-25T01:35:06.316305Z",
     "start_time": "2022-05-25T01:35:06.292809Z"
    }
   },
   "outputs": [
    {
     "data": {
      "text/html": [
       "\n",
       "<div id=\"altair-viz-4db3a1ad79684cf6b0329b5ea145da3d\"></div>\n",
       "<script type=\"text/javascript\">\n",
       "  (function(spec, embedOpt){\n",
       "    let outputDiv = document.currentScript.previousElementSibling;\n",
       "    if (outputDiv.id !== \"altair-viz-4db3a1ad79684cf6b0329b5ea145da3d\") {\n",
       "      outputDiv = document.getElementById(\"altair-viz-4db3a1ad79684cf6b0329b5ea145da3d\");\n",
       "    }\n",
       "    const paths = {\n",
       "      \"vega\": \"https://cdn.jsdelivr.net/npm//vega@5?noext\",\n",
       "      \"vega-lib\": \"https://cdn.jsdelivr.net/npm//vega-lib?noext\",\n",
       "      \"vega-lite\": \"https://cdn.jsdelivr.net/npm//vega-lite@4.8.1?noext\",\n",
       "      \"vega-embed\": \"https://cdn.jsdelivr.net/npm//vega-embed@6?noext\",\n",
       "    };\n",
       "\n",
       "    function loadScript(lib) {\n",
       "      return new Promise(function(resolve, reject) {\n",
       "        var s = document.createElement('script');\n",
       "        s.src = paths[lib];\n",
       "        s.async = true;\n",
       "        s.onload = () => resolve(paths[lib]);\n",
       "        s.onerror = () => reject(`Error loading script: ${paths[lib]}`);\n",
       "        document.getElementsByTagName(\"head\")[0].appendChild(s);\n",
       "      });\n",
       "    }\n",
       "\n",
       "    function showError(err) {\n",
       "      outputDiv.innerHTML = `<div class=\"error\" style=\"color:red;\">${err}</div>`;\n",
       "      throw err;\n",
       "    }\n",
       "\n",
       "    function displayChart(vegaEmbed) {\n",
       "      vegaEmbed(outputDiv, spec, embedOpt)\n",
       "        .catch(err => showError(`Javascript Error: ${err.message}<br>This usually means there's a typo in your chart specification. See the javascript console for the full traceback.`));\n",
       "    }\n",
       "\n",
       "    if(typeof define === \"function\" && define.amd) {\n",
       "      requirejs.config({paths});\n",
       "      require([\"vega-embed\"], displayChart, err => showError(`Error loading script: ${err.message}`));\n",
       "    } else if (typeof vegaEmbed === \"function\") {\n",
       "      displayChart(vegaEmbed);\n",
       "    } else {\n",
       "      loadScript(\"vega\")\n",
       "        .then(() => loadScript(\"vega-lite\"))\n",
       "        .then(() => loadScript(\"vega-embed\"))\n",
       "        .catch(showError)\n",
       "        .then(() => displayChart(vegaEmbed));\n",
       "    }\n",
       "  })({\"config\": {\"view\": {\"continuousWidth\": 400, \"continuousHeight\": 300}}, \"data\": {\"name\": \"data-928becd8348a0ff376a909fc031b3e6a\"}, \"mark\": \"bar\", \"encoding\": {\"color\": {\"type\": \"nominal\", \"field\": \"type\", \"scale\": {\"scheme\": \"set2\"}, \"title\": \"Type\"}, \"order\": {\"type\": \"nominal\", \"field\": \"type\", \"sort\": \"ascending\"}, \"x\": {\"type\": \"ordinal\", \"axis\": {\"labelAngle\": -40, \"labelOverlap\": false}, \"field\": \"skill\", \"sort\": \"-y\", \"title\": \"skill\"}, \"y\": {\"type\": \"quantitative\", \"field\": \"cnt\", \"title\": \"# of count\"}}, \"height\": 300, \"title\": {\"text\": \" Top 20 Skills By Types\", \"align\": \"center\", \"color\": \"#3E454F\", \"font\": \"Ubuntu Mono\", \"fontSize\": 20}, \"width\": 700, \"$schema\": \"https://vega.github.io/schema/vega-lite/v4.8.1.json\", \"datasets\": {\"data-928becd8348a0ff376a909fc031b3e6a\": [{\"type\": \"senior\", \"skill\": \"machine learning.\", \"cnt\": 343}, {\"type\": \"senior\", \"skill\": \"statistics.\", \"cnt\": 266}, {\"type\": \"senior\", \"skill\": \"computer sciences\", \"cnt\": 252}, {\"type\": \"senior\", \"skill\": \"python.\", \"cnt\": 237}, {\"type\": \"senior\", \"skill\": \"algorithms.\", \"cnt\": 175}, {\"type\": \"senior\", \"skill\": \"develop\", \"cnt\": 175}, {\"type\": \"senior\", \"skill\": \"mathematics.\", \"cnt\": 156}, {\"type\": \"senior\", \"skill\": \"engineering management\", \"cnt\": 155}, {\"type\": \"senior\", \"skill\": \"analytics methods\", \"cnt\": 143}, {\"type\": \"senior\", \"skill\": \"communicates\", \"cnt\": 137}, {\"type\": \"senior\", \"skill\": \"design\", \"cnt\": 128}, {\"type\": \"senior\", \"skill\": \"researching\", \"cnt\": 127}, {\"type\": \"senior\", \"skill\": \"r/\", \"cnt\": 124}, {\"type\": \"senior\", \"skill\": \"data sets\", \"cnt\": 108}, {\"type\": \"senior\", \"skill\": \"communicating\", \"cnt\": 108}, {\"type\": \"senior\", \"skill\": \"data analytics\", \"cnt\": 108}, {\"type\": \"senior\", \"skill\": \"analyses\", \"cnt\": 105}, {\"type\": \"senior\", \"skill\": \"collaborates\", \"cnt\": 94}, {\"type\": \"others\", \"skill\": \"machine learning.\", \"cnt\": 89}, {\"type\": \"senior\", \"skill\": \"programming\", \"cnt\": 88}, {\"type\": \"senior\", \"skill\": \"deep learning.\", \"cnt\": 86}, {\"type\": \"others\", \"skill\": \"python.\", \"cnt\": 68}, {\"type\": \"others\", \"skill\": \"computer sciences\", \"cnt\": 62}, {\"type\": \"others\", \"skill\": \"statistics.\", \"cnt\": 58}, {\"type\": \"others\", \"skill\": \"develop\", \"cnt\": 53}, {\"type\": \"junior\", \"skill\": \"machine learning.\", \"cnt\": 45}, {\"type\": \"junior\", \"skill\": \"computer sciences\", \"cnt\": 44}, {\"type\": \"junior\", \"skill\": \"python.\", \"cnt\": 43}, {\"type\": \"others\", \"skill\": \"engineering management\", \"cnt\": 40}, {\"type\": \"junior\", \"skill\": \"statistics.\", \"cnt\": 39}, {\"type\": \"others\", \"skill\": \"communicates\", \"cnt\": 36}, {\"type\": \"others\", \"skill\": \"mathematics.\", \"cnt\": 36}, {\"type\": \"others\", \"skill\": \"r/\", \"cnt\": 34}, {\"type\": \"others\", \"skill\": \"algorithms.\", \"cnt\": 34}, {\"type\": \"others\", \"skill\": \"researching\", \"cnt\": 32}, {\"type\": \"junior\", \"skill\": \"develop\", \"cnt\": 31}, {\"type\": \"others\", \"skill\": \"data analytics\", \"cnt\": 31}, {\"type\": \"junior\", \"skill\": \"mathematics.\", \"cnt\": 31}, {\"type\": \"others\", \"skill\": \"analytics methods\", \"cnt\": 31}, {\"type\": \"others\", \"skill\": \"design\", \"cnt\": 30}, {\"type\": \"others\", \"skill\": \"java\", \"cnt\": 29}, {\"type\": \"others\", \"skill\": \"english spoken\", \"cnt\": 29}, {\"type\": \"others\", \"skill\": \"data sets\", \"cnt\": 27}, {\"type\": \"junior\", \"skill\": \"communicates\", \"cnt\": 27}, {\"type\": \"others\", \"skill\": \"analyses\", \"cnt\": 25}, {\"type\": \"others\", \"skill\": \"deep learning.\", \"cnt\": 24}, {\"type\": \"junior\", \"skill\": \"engineering management\", \"cnt\": 24}, {\"type\": \"others\", \"skill\": \"programming\", \"cnt\": 23}, {\"type\": \"junior\", \"skill\": \"data analytics\", \"cnt\": 23}, {\"type\": \"junior\", \"skill\": \"analytical thinking\", \"cnt\": 23}, {\"type\": \"junior\", \"skill\": \"analyses\", \"cnt\": 23}, {\"type\": \"junior\", \"skill\": \"algorithms.\", \"cnt\": 23}, {\"type\": \"junior\", \"skill\": \"data sets\", \"cnt\": 21}, {\"type\": \"junior\", \"skill\": \"r/\", \"cnt\": 21}, {\"type\": \"junior\", \"skill\": \"big data assets\", \"cnt\": 19}, {\"type\": \"junior\", \"skill\": \"analytics methods\", \"cnt\": 19}, {\"type\": \"junior\", \"skill\": \"data visualisations\", \"cnt\": 17}, {\"type\": \"junior\", \"skill\": \"researching\", \"cnt\": 17}, {\"type\": \"junior\", \"skill\": \"english spoken\", \"cnt\": 17}, {\"type\": \"junior\", \"skill\": \"analyzes\", \"cnt\": 17}]}}, {\"mode\": \"vega-lite\"});\n",
       "</script>"
      ],
      "text/plain": [
       "alt.Chart(...)"
      ]
     },
     "execution_count": 41,
     "metadata": {},
     "output_type": "execute_result"
    }
   ],
   "source": [
    "\n",
    "title_str=\" Top %d Skills By Types\" %(top_n)\n",
    "alt.Chart(df_type.groupby('type').head(top_n)).mark_bar().encode(\n",
    "    y=alt.X('cnt:Q', title='# of count'),\n",
    "    x=alt.Y('skill:O',sort='-y',title='skill',axis=alt.Axis( \n",
    "                                   labelAngle=-40, \n",
    "                                   labelOverlap=False)),\n",
    "    color=alt.Color('type', scale=alt.Scale(scheme='set2'),title='Type'),\n",
    "    order=alt.Order(\n",
    "      # Sort the segments of the bars by this field\n",
    "      'type',\n",
    "      sort='ascending'\n",
    "    )\n",
    ").properties(height=b_height, width=b_width,\n",
    "        title = alt.TitleParams(text = title_str,\n",
    "                                            align='center',\n",
    "                                            font = 'Ubuntu Mono', \n",
    "                                            fontSize = 20, \n",
    "                                            color = '#3E454F'\n",
    "                                            )\n",
    "    )"
   ]
  },
  {
   "cell_type": "markdown",
   "id": "92c61da8",
   "metadata": {},
   "source": [
    "##### Skill analysis by countries - find out top n skills in top 3 countries on job listing"
   ]
  },
  {
   "cell_type": "code",
   "execution_count": 42,
   "id": "ff94c0bf",
   "metadata": {
    "ExecuteTime": {
     "end_time": "2022-05-25T01:35:06.328448Z",
     "start_time": "2022-05-25T01:35:06.318574Z"
    }
   },
   "outputs": [],
   "source": [
    "# Select top n countries on job postings\n",
    "df_country=df_main.groupby(['country','type']).count()['id'].sort_values(ascending=False)\n",
    "df_country=df_country.reset_index()\n",
    "df_country.columns=['country','type','# of jobs']"
   ]
  },
  {
   "cell_type": "code",
   "execution_count": 52,
   "id": "48c99f49",
   "metadata": {
    "ExecuteTime": {
     "end_time": "2022-05-25T01:59:19.851978Z",
     "start_time": "2022-05-25T01:59:19.820377Z"
    }
   },
   "outputs": [
    {
     "data": {
      "text/html": [
       "\n",
       "<div id=\"altair-viz-3e5fac4b7548468da538a54055ea2dbd\"></div>\n",
       "<script type=\"text/javascript\">\n",
       "  (function(spec, embedOpt){\n",
       "    let outputDiv = document.currentScript.previousElementSibling;\n",
       "    if (outputDiv.id !== \"altair-viz-3e5fac4b7548468da538a54055ea2dbd\") {\n",
       "      outputDiv = document.getElementById(\"altair-viz-3e5fac4b7548468da538a54055ea2dbd\");\n",
       "    }\n",
       "    const paths = {\n",
       "      \"vega\": \"https://cdn.jsdelivr.net/npm//vega@5?noext\",\n",
       "      \"vega-lib\": \"https://cdn.jsdelivr.net/npm//vega-lib?noext\",\n",
       "      \"vega-lite\": \"https://cdn.jsdelivr.net/npm//vega-lite@4.8.1?noext\",\n",
       "      \"vega-embed\": \"https://cdn.jsdelivr.net/npm//vega-embed@6?noext\",\n",
       "    };\n",
       "\n",
       "    function loadScript(lib) {\n",
       "      return new Promise(function(resolve, reject) {\n",
       "        var s = document.createElement('script');\n",
       "        s.src = paths[lib];\n",
       "        s.async = true;\n",
       "        s.onload = () => resolve(paths[lib]);\n",
       "        s.onerror = () => reject(`Error loading script: ${paths[lib]}`);\n",
       "        document.getElementsByTagName(\"head\")[0].appendChild(s);\n",
       "      });\n",
       "    }\n",
       "\n",
       "    function showError(err) {\n",
       "      outputDiv.innerHTML = `<div class=\"error\" style=\"color:red;\">${err}</div>`;\n",
       "      throw err;\n",
       "    }\n",
       "\n",
       "    function displayChart(vegaEmbed) {\n",
       "      vegaEmbed(outputDiv, spec, embedOpt)\n",
       "        .catch(err => showError(`Javascript Error: ${err.message}<br>This usually means there's a typo in your chart specification. See the javascript console for the full traceback.`));\n",
       "    }\n",
       "\n",
       "    if(typeof define === \"function\" && define.amd) {\n",
       "      requirejs.config({paths});\n",
       "      require([\"vega-embed\"], displayChart, err => showError(`Error loading script: ${err.message}`));\n",
       "    } else if (typeof vegaEmbed === \"function\") {\n",
       "      displayChart(vegaEmbed);\n",
       "    } else {\n",
       "      loadScript(\"vega\")\n",
       "        .then(() => loadScript(\"vega-lite\"))\n",
       "        .then(() => loadScript(\"vega-embed\"))\n",
       "        .catch(showError)\n",
       "        .then(() => displayChart(vegaEmbed));\n",
       "    }\n",
       "  })({\"config\": {\"view\": {\"continuousWidth\": 400, \"continuousHeight\": 300}}, \"data\": {\"name\": \"data-b14e401690e69ce209e9ac8092a4df2c\"}, \"mark\": \"bar\", \"encoding\": {\"color\": {\"type\": \"nominal\", \"field\": \"type\", \"scale\": {\"scheme\": \"set2\"}, \"title\": \"Type\"}, \"x\": {\"type\": \"quantitative\", \"field\": \"# of jobs\", \"title\": \"# of jobs\"}, \"y\": {\"type\": \"ordinal\", \"field\": \"country\", \"sort\": \"-x\", \"title\": \"countries\"}}, \"height\": 400, \"title\": {\"text\": \" Top 20 Countries By Types\", \"align\": \"center\", \"color\": \"#3E454F\", \"font\": \"Ubuntu Mono\", \"fontSize\": 14}, \"width\": 400, \"$schema\": \"https://vega.github.io/schema/vega-lite/v4.8.1.json\", \"datasets\": {\"data-b14e401690e69ce209e9ac8092a4df2c\": [{\"country\": \"United States\", \"type\": \"senior\", \"# of jobs\": 60}, {\"country\": \"India\", \"type\": \"senior\", \"# of jobs\": 55}, {\"country\": \"United Kingdom\", \"type\": \"senior\", \"# of jobs\": 55}, {\"country\": \"Germany\", \"type\": \"senior\", \"# of jobs\": 49}, {\"country\": \"Canada\", \"type\": \"senior\", \"# of jobs\": 38}, {\"country\": \"France\", \"type\": \"others\", \"# of jobs\": 23}, {\"country\": \"Israel\", \"type\": \"senior\", \"# of jobs\": 21}, {\"country\": \"Singapore\", \"type\": \"senior\", \"# of jobs\": 21}, {\"country\": \"United Kingdom\", \"type\": \"others\", \"# of jobs\": 17}, {\"country\": \"Netherlands\", \"type\": \"senior\", \"# of jobs\": 15}, {\"country\": \"France\", \"type\": \"senior\", \"# of jobs\": 14}, {\"country\": \"Germany\", \"type\": \"others\", \"# of jobs\": 13}, {\"country\": \"India\", \"type\": \"others\", \"# of jobs\": 13}, {\"country\": \"Sweden\", \"type\": \"senior\", \"# of jobs\": 12}, {\"country\": \"Germany\", \"type\": \"junior\", \"# of jobs\": 11}, {\"country\": \"Singapore\", \"type\": \"others\", \"# of jobs\": 11}, {\"country\": \"China\", \"type\": \"senior\", \"# of jobs\": 10}, {\"country\": \"Canada\", \"type\": \"junior\", \"# of jobs\": 9}, {\"country\": \"India\", \"type\": \"junior\", \"# of jobs\": 9}, {\"country\": \"Switzerland\", \"type\": \"senior\", \"# of jobs\": 9}]}}, {\"mode\": \"vega-lite\"});\n",
       "</script>"
      ],
      "text/plain": [
       "alt.Chart(...)"
      ]
     },
     "execution_count": 52,
     "metadata": {},
     "output_type": "execute_result"
    }
   ],
   "source": [
    "v_height=400\n",
    "v_width=400\n",
    "title_str=\" Top %d Countries By Types\" %(top_n)\n",
    "alt.Chart(df_country.head(top_n)).mark_bar().encode(\n",
    "    x=alt.X('# of jobs:Q', title='# of jobs'),\n",
    "    y=alt.Y('country:O',sort='-x',title='countries'),\n",
    "    color=alt.Color('type', scale=alt.Scale(scheme='set2'),title='Type'),\n",
    ").properties(height=v_height, width=v_width,\n",
    "        title = alt.TitleParams(text = title_str,\n",
    "                                            align='center',\n",
    "                                            font = 'Ubuntu Mono', \n",
    "                                            fontSize = 14, \n",
    "                                            color = '#3E454F'\n",
    "                                            )\n",
    "    )"
   ]
  },
  {
   "cell_type": "code",
   "execution_count": 44,
   "id": "e16870eb",
   "metadata": {
    "ExecuteTime": {
     "end_time": "2022-05-25T01:35:06.375748Z",
     "start_time": "2022-05-25T01:35:06.352717Z"
    }
   },
   "outputs": [],
   "source": [
    "# Select the above top n countries to select top skills\n",
    "df_type_c=df_full[df_full['country'].isin(df_country['country'].unique())].groupby(\n",
    "    ['type','skill']).count()['id'].sort_values(ascending=False)\n",
    "df_type_c=df_type_c.reset_index()\n",
    "df_type_c.columns=['type','skill','cnt']"
   ]
  },
  {
   "cell_type": "code",
   "execution_count": 45,
   "id": "4eaa160b",
   "metadata": {
    "ExecuteTime": {
     "end_time": "2022-05-25T01:35:06.399883Z",
     "start_time": "2022-05-25T01:35:06.378409Z"
    }
   },
   "outputs": [
    {
     "data": {
      "text/html": [
       "\n",
       "<div id=\"altair-viz-f4e6f705fbfb41cdbc2c50c9bc5988a3\"></div>\n",
       "<script type=\"text/javascript\">\n",
       "  (function(spec, embedOpt){\n",
       "    let outputDiv = document.currentScript.previousElementSibling;\n",
       "    if (outputDiv.id !== \"altair-viz-f4e6f705fbfb41cdbc2c50c9bc5988a3\") {\n",
       "      outputDiv = document.getElementById(\"altair-viz-f4e6f705fbfb41cdbc2c50c9bc5988a3\");\n",
       "    }\n",
       "    const paths = {\n",
       "      \"vega\": \"https://cdn.jsdelivr.net/npm//vega@5?noext\",\n",
       "      \"vega-lib\": \"https://cdn.jsdelivr.net/npm//vega-lib?noext\",\n",
       "      \"vega-lite\": \"https://cdn.jsdelivr.net/npm//vega-lite@4.8.1?noext\",\n",
       "      \"vega-embed\": \"https://cdn.jsdelivr.net/npm//vega-embed@6?noext\",\n",
       "    };\n",
       "\n",
       "    function loadScript(lib) {\n",
       "      return new Promise(function(resolve, reject) {\n",
       "        var s = document.createElement('script');\n",
       "        s.src = paths[lib];\n",
       "        s.async = true;\n",
       "        s.onload = () => resolve(paths[lib]);\n",
       "        s.onerror = () => reject(`Error loading script: ${paths[lib]}`);\n",
       "        document.getElementsByTagName(\"head\")[0].appendChild(s);\n",
       "      });\n",
       "    }\n",
       "\n",
       "    function showError(err) {\n",
       "      outputDiv.innerHTML = `<div class=\"error\" style=\"color:red;\">${err}</div>`;\n",
       "      throw err;\n",
       "    }\n",
       "\n",
       "    function displayChart(vegaEmbed) {\n",
       "      vegaEmbed(outputDiv, spec, embedOpt)\n",
       "        .catch(err => showError(`Javascript Error: ${err.message}<br>This usually means there's a typo in your chart specification. See the javascript console for the full traceback.`));\n",
       "    }\n",
       "\n",
       "    if(typeof define === \"function\" && define.amd) {\n",
       "      requirejs.config({paths});\n",
       "      require([\"vega-embed\"], displayChart, err => showError(`Error loading script: ${err.message}`));\n",
       "    } else if (typeof vegaEmbed === \"function\") {\n",
       "      displayChart(vegaEmbed);\n",
       "    } else {\n",
       "      loadScript(\"vega\")\n",
       "        .then(() => loadScript(\"vega-lite\"))\n",
       "        .then(() => loadScript(\"vega-embed\"))\n",
       "        .catch(showError)\n",
       "        .then(() => displayChart(vegaEmbed));\n",
       "    }\n",
       "  })({\"config\": {\"view\": {\"continuousWidth\": 400, \"continuousHeight\": 300}}, \"data\": {\"name\": \"data-928becd8348a0ff376a909fc031b3e6a\"}, \"mark\": \"bar\", \"encoding\": {\"color\": {\"type\": \"nominal\", \"field\": \"type\", \"scale\": {\"scheme\": \"set2\"}, \"title\": \"Type\"}, \"order\": {\"type\": \"nominal\", \"field\": \"type\", \"sort\": \"ascending\"}, \"x\": {\"type\": \"ordinal\", \"axis\": {\"labelAngle\": -40, \"labelOverlap\": false}, \"field\": \"skill\", \"sort\": \"-y\", \"title\": \"skill\"}, \"y\": {\"type\": \"quantitative\", \"field\": \"cnt\", \"title\": \"# of count\"}}, \"height\": 300, \"title\": {\"text\": \" Top 20 Skills By Countries\", \"align\": \"center\", \"color\": \"#3E454F\", \"font\": \"Ubuntu Mono\", \"fontSize\": 20}, \"width\": 700, \"$schema\": \"https://vega.github.io/schema/vega-lite/v4.8.1.json\", \"datasets\": {\"data-928becd8348a0ff376a909fc031b3e6a\": [{\"type\": \"senior\", \"skill\": \"machine learning.\", \"cnt\": 343}, {\"type\": \"senior\", \"skill\": \"statistics.\", \"cnt\": 266}, {\"type\": \"senior\", \"skill\": \"computer sciences\", \"cnt\": 252}, {\"type\": \"senior\", \"skill\": \"python.\", \"cnt\": 237}, {\"type\": \"senior\", \"skill\": \"algorithms.\", \"cnt\": 175}, {\"type\": \"senior\", \"skill\": \"develop\", \"cnt\": 175}, {\"type\": \"senior\", \"skill\": \"mathematics.\", \"cnt\": 156}, {\"type\": \"senior\", \"skill\": \"engineering management\", \"cnt\": 155}, {\"type\": \"senior\", \"skill\": \"analytics methods\", \"cnt\": 143}, {\"type\": \"senior\", \"skill\": \"communicates\", \"cnt\": 137}, {\"type\": \"senior\", \"skill\": \"design\", \"cnt\": 128}, {\"type\": \"senior\", \"skill\": \"researching\", \"cnt\": 127}, {\"type\": \"senior\", \"skill\": \"r/\", \"cnt\": 124}, {\"type\": \"senior\", \"skill\": \"data sets\", \"cnt\": 108}, {\"type\": \"senior\", \"skill\": \"communicating\", \"cnt\": 108}, {\"type\": \"senior\", \"skill\": \"data analytics\", \"cnt\": 108}, {\"type\": \"senior\", \"skill\": \"analyses\", \"cnt\": 105}, {\"type\": \"senior\", \"skill\": \"collaborates\", \"cnt\": 94}, {\"type\": \"others\", \"skill\": \"machine learning.\", \"cnt\": 89}, {\"type\": \"senior\", \"skill\": \"programming\", \"cnt\": 88}, {\"type\": \"senior\", \"skill\": \"deep learning.\", \"cnt\": 86}, {\"type\": \"others\", \"skill\": \"python.\", \"cnt\": 68}, {\"type\": \"others\", \"skill\": \"computer sciences\", \"cnt\": 62}, {\"type\": \"others\", \"skill\": \"statistics.\", \"cnt\": 58}, {\"type\": \"others\", \"skill\": \"develop\", \"cnt\": 53}, {\"type\": \"junior\", \"skill\": \"machine learning.\", \"cnt\": 45}, {\"type\": \"junior\", \"skill\": \"computer sciences\", \"cnt\": 44}, {\"type\": \"junior\", \"skill\": \"python.\", \"cnt\": 43}, {\"type\": \"others\", \"skill\": \"engineering management\", \"cnt\": 40}, {\"type\": \"junior\", \"skill\": \"statistics.\", \"cnt\": 39}, {\"type\": \"others\", \"skill\": \"communicates\", \"cnt\": 36}, {\"type\": \"others\", \"skill\": \"mathematics.\", \"cnt\": 36}, {\"type\": \"others\", \"skill\": \"r/\", \"cnt\": 34}, {\"type\": \"others\", \"skill\": \"algorithms.\", \"cnt\": 34}, {\"type\": \"others\", \"skill\": \"researching\", \"cnt\": 32}, {\"type\": \"junior\", \"skill\": \"develop\", \"cnt\": 31}, {\"type\": \"others\", \"skill\": \"data analytics\", \"cnt\": 31}, {\"type\": \"junior\", \"skill\": \"mathematics.\", \"cnt\": 31}, {\"type\": \"others\", \"skill\": \"analytics methods\", \"cnt\": 31}, {\"type\": \"others\", \"skill\": \"design\", \"cnt\": 30}, {\"type\": \"others\", \"skill\": \"java\", \"cnt\": 29}, {\"type\": \"others\", \"skill\": \"english spoken\", \"cnt\": 29}, {\"type\": \"others\", \"skill\": \"data sets\", \"cnt\": 27}, {\"type\": \"junior\", \"skill\": \"communicates\", \"cnt\": 27}, {\"type\": \"others\", \"skill\": \"analyses\", \"cnt\": 25}, {\"type\": \"others\", \"skill\": \"deep learning.\", \"cnt\": 24}, {\"type\": \"junior\", \"skill\": \"engineering management\", \"cnt\": 24}, {\"type\": \"others\", \"skill\": \"programming\", \"cnt\": 23}, {\"type\": \"junior\", \"skill\": \"data analytics\", \"cnt\": 23}, {\"type\": \"junior\", \"skill\": \"analytical thinking\", \"cnt\": 23}, {\"type\": \"junior\", \"skill\": \"analyses\", \"cnt\": 23}, {\"type\": \"junior\", \"skill\": \"algorithms.\", \"cnt\": 23}, {\"type\": \"junior\", \"skill\": \"data sets\", \"cnt\": 21}, {\"type\": \"junior\", \"skill\": \"r/\", \"cnt\": 21}, {\"type\": \"junior\", \"skill\": \"big data assets\", \"cnt\": 19}, {\"type\": \"junior\", \"skill\": \"analytics methods\", \"cnt\": 19}, {\"type\": \"junior\", \"skill\": \"data visualisations\", \"cnt\": 17}, {\"type\": \"junior\", \"skill\": \"researching\", \"cnt\": 17}, {\"type\": \"junior\", \"skill\": \"english spoken\", \"cnt\": 17}, {\"type\": \"junior\", \"skill\": \"analyzes\", \"cnt\": 17}]}}, {\"mode\": \"vega-lite\"});\n",
       "</script>"
      ],
      "text/plain": [
       "alt.Chart(...)"
      ]
     },
     "execution_count": 45,
     "metadata": {},
     "output_type": "execute_result"
    }
   ],
   "source": [
    "title_str=\" Top %d Skills By Countries\" %(top_n)\n",
    "alt.Chart(df_type_c.groupby('type').head(top_n)).mark_bar().encode(\n",
    "    y=alt.X('cnt:Q', title='# of count'),\n",
    "    x=alt.Y('skill:O',sort='-y',title='skill',axis=alt.Axis( \n",
    "                                   labelAngle=-40, \n",
    "                                   labelOverlap=False)),\n",
    "    color=alt.Color('type', scale=alt.Scale(scheme='set2'),title='Type'),\n",
    "    order=alt.Order(\n",
    "      # Sort the segments of the bars by this field\n",
    "      'type',\n",
    "      sort='ascending'\n",
    "    )\n",
    ").properties(height=b_height, width=b_width,\n",
    "        title = alt.TitleParams(text = title_str,\n",
    "                                            align='center',\n",
    "                                            font = 'Ubuntu Mono', \n",
    "                                            fontSize = 20, \n",
    "                                            color = '#3E454F'\n",
    "                                            )\n",
    "    )"
   ]
  },
  {
   "cell_type": "markdown",
   "id": "e5315b7d",
   "metadata": {},
   "source": [
    "##### Skill analysis by industries - find out top n skills in those countries on job listing"
   ]
  },
  {
   "cell_type": "code",
   "execution_count": 46,
   "id": "da95d257",
   "metadata": {
    "ExecuteTime": {
     "end_time": "2022-05-25T01:35:06.412823Z",
     "start_time": "2022-05-25T01:35:06.402444Z"
    }
   },
   "outputs": [],
   "source": [
    "# Select top n industries on job postings excluding \"unclassified\"\n",
    "df_industry=df_main[df_main['industry']!='unclassified'].groupby(\n",
    "    ['industry','type']).count()['id'].sort_values(ascending=False)\n",
    "df_industry=df_industry.reset_index()\n",
    "df_industry.columns=['industry','type','# of jobs']"
   ]
  },
  {
   "cell_type": "code",
   "execution_count": 56,
   "id": "aa2e82d1",
   "metadata": {
    "ExecuteTime": {
     "end_time": "2022-05-25T02:14:07.605597Z",
     "start_time": "2022-05-25T02:14:07.572777Z"
    }
   },
   "outputs": [
    {
     "data": {
      "text/html": [
       "\n",
       "<div id=\"altair-viz-943b590b017c493bb5a011c4cf2aa4e1\"></div>\n",
       "<script type=\"text/javascript\">\n",
       "  (function(spec, embedOpt){\n",
       "    let outputDiv = document.currentScript.previousElementSibling;\n",
       "    if (outputDiv.id !== \"altair-viz-943b590b017c493bb5a011c4cf2aa4e1\") {\n",
       "      outputDiv = document.getElementById(\"altair-viz-943b590b017c493bb5a011c4cf2aa4e1\");\n",
       "    }\n",
       "    const paths = {\n",
       "      \"vega\": \"https://cdn.jsdelivr.net/npm//vega@5?noext\",\n",
       "      \"vega-lib\": \"https://cdn.jsdelivr.net/npm//vega-lib?noext\",\n",
       "      \"vega-lite\": \"https://cdn.jsdelivr.net/npm//vega-lite@4.8.1?noext\",\n",
       "      \"vega-embed\": \"https://cdn.jsdelivr.net/npm//vega-embed@6?noext\",\n",
       "    };\n",
       "\n",
       "    function loadScript(lib) {\n",
       "      return new Promise(function(resolve, reject) {\n",
       "        var s = document.createElement('script');\n",
       "        s.src = paths[lib];\n",
       "        s.async = true;\n",
       "        s.onload = () => resolve(paths[lib]);\n",
       "        s.onerror = () => reject(`Error loading script: ${paths[lib]}`);\n",
       "        document.getElementsByTagName(\"head\")[0].appendChild(s);\n",
       "      });\n",
       "    }\n",
       "\n",
       "    function showError(err) {\n",
       "      outputDiv.innerHTML = `<div class=\"error\" style=\"color:red;\">${err}</div>`;\n",
       "      throw err;\n",
       "    }\n",
       "\n",
       "    function displayChart(vegaEmbed) {\n",
       "      vegaEmbed(outputDiv, spec, embedOpt)\n",
       "        .catch(err => showError(`Javascript Error: ${err.message}<br>This usually means there's a typo in your chart specification. See the javascript console for the full traceback.`));\n",
       "    }\n",
       "\n",
       "    if(typeof define === \"function\" && define.amd) {\n",
       "      requirejs.config({paths});\n",
       "      require([\"vega-embed\"], displayChart, err => showError(`Error loading script: ${err.message}`));\n",
       "    } else if (typeof vegaEmbed === \"function\") {\n",
       "      displayChart(vegaEmbed);\n",
       "    } else {\n",
       "      loadScript(\"vega\")\n",
       "        .then(() => loadScript(\"vega-lite\"))\n",
       "        .then(() => loadScript(\"vega-embed\"))\n",
       "        .catch(showError)\n",
       "        .then(() => displayChart(vegaEmbed));\n",
       "    }\n",
       "  })({\"config\": {\"view\": {\"continuousWidth\": 400, \"continuousHeight\": 300}}, \"data\": {\"name\": \"data-af33e2efe0cf3b678a32562e1f445149\"}, \"mark\": \"bar\", \"encoding\": {\"color\": {\"type\": \"nominal\", \"field\": \"type\", \"scale\": {\"scheme\": \"set2\"}}, \"x\": {\"type\": \"quantitative\", \"field\": \"# of jobs\", \"title\": \"# of jobs\"}, \"y\": {\"type\": \"ordinal\", \"field\": \"industry\", \"sort\": \"-x\", \"title\": \"countries\"}}, \"height\": 400, \"title\": {\"text\": \" Top Industries By Types\", \"align\": \"center\", \"color\": \"#3E454F\", \"font\": \"Ubuntu Mono\", \"fontSize\": 14}, \"width\": 400, \"$schema\": \"https://vega.github.io/schema/vega-lite/v4.8.1.json\", \"datasets\": {\"data-af33e2efe0cf3b678a32562e1f445149\": [{\"industry\": \"Internet\", \"type\": \"senior\", \"# of jobs\": 58}, {\"industry\": \"Computer Hardware & Software\", \"type\": \"senior\", \"# of jobs\": 48}, {\"industry\": \"IT Services\", \"type\": \"senior\", \"# of jobs\": 43}, {\"industry\": \"Consulting\", \"type\": \"senior\", \"# of jobs\": 40}, {\"industry\": \"Enterprise Software & Network Solutions\", \"type\": \"senior\", \"# of jobs\": 28}, {\"industry\": \"Biotech & Pharmaceuticals\", \"type\": \"senior\", \"# of jobs\": 18}, {\"industry\": \"IT Services\", \"type\": \"others\", \"# of jobs\": 18}, {\"industry\": \"Staffing & Outsourcing\", \"type\": \"senior\", \"# of jobs\": 14}, {\"industry\": \"Computer Hardware & Software\", \"type\": \"others\", \"# of jobs\": 13}, {\"industry\": \"Advertising & Marketing\", \"type\": \"senior\", \"# of jobs\": 13}, {\"industry\": \"Investment Banking & Asset Management\", \"type\": \"senior\", \"# of jobs\": 13}, {\"industry\": \"Biotech & Pharmaceuticals\", \"type\": \"others\", \"# of jobs\": 12}, {\"industry\": \"Banks & Credit Unions\", \"type\": \"senior\", \"# of jobs\": 12}, {\"industry\": \"Investment Banking & Asset Management\", \"type\": \"others\", \"# of jobs\": 9}, {\"industry\": \"Consulting\", \"type\": \"others\", \"# of jobs\": 9}, {\"industry\": \"Consulting\", \"type\": \"junior\", \"# of jobs\": 9}, {\"industry\": \"Internet\", \"type\": \"others\", \"# of jobs\": 8}, {\"industry\": \"Accounting\", \"type\": \"others\", \"# of jobs\": 8}, {\"industry\": \"Insurance Carriers\", \"type\": \"senior\", \"# of jobs\": 8}, {\"industry\": \"IT Services\", \"type\": \"junior\", \"# of jobs\": 7}]}}, {\"mode\": \"vega-lite\"});\n",
       "</script>"
      ],
      "text/plain": [
       "alt.Chart(...)"
      ]
     },
     "execution_count": 56,
     "metadata": {},
     "output_type": "execute_result"
    }
   ],
   "source": [
    "v_height=400\n",
    "v_width=400\n",
    "title_str=\" Top Industries By Types\"\n",
    "alt.Chart(df_industry.head(top_n)).mark_bar().encode(\n",
    "    x=alt.X('# of jobs:Q', title='# of jobs'),\n",
    "    y=alt.Y('industry:O',sort='-x',title='countries'),\n",
    "    color=alt.Color('type', scale=alt.Scale(scheme='set2')),\n",
    ").properties(height=v_height, width=v_width,\n",
    "        title = alt.TitleParams(text = title_str,\n",
    "                                            align='center',\n",
    "                                            font = 'Ubuntu Mono', \n",
    "                                            fontSize = 14, \n",
    "                                            color = '#3E454F'\n",
    "                                            )\n",
    "    )"
   ]
  },
  {
   "cell_type": "code",
   "execution_count": 48,
   "id": "8071a423",
   "metadata": {
    "ExecuteTime": {
     "end_time": "2022-05-25T01:35:06.455755Z",
     "start_time": "2022-05-25T01:35:06.435361Z"
    }
   },
   "outputs": [],
   "source": [
    "# Select the above top n countries to select top skills\n",
    "df_type_i=df_full[df_full['industry'].isin(df_industry['industry'].unique())].groupby(\n",
    "    ['type','skill']).count()['id'].sort_values(ascending=False)\n",
    "df_type_i=df_type_i.reset_index()\n",
    "df_type_i.columns=['type','skill','cnt']"
   ]
  },
  {
   "cell_type": "code",
   "execution_count": 49,
   "id": "0c201280",
   "metadata": {
    "ExecuteTime": {
     "end_time": "2022-05-25T01:35:06.480320Z",
     "start_time": "2022-05-25T01:35:06.459055Z"
    }
   },
   "outputs": [
    {
     "data": {
      "text/html": [
       "\n",
       "<div id=\"altair-viz-f44a5ae8c48c41f6ae110e3d76e2277a\"></div>\n",
       "<script type=\"text/javascript\">\n",
       "  (function(spec, embedOpt){\n",
       "    let outputDiv = document.currentScript.previousElementSibling;\n",
       "    if (outputDiv.id !== \"altair-viz-f44a5ae8c48c41f6ae110e3d76e2277a\") {\n",
       "      outputDiv = document.getElementById(\"altair-viz-f44a5ae8c48c41f6ae110e3d76e2277a\");\n",
       "    }\n",
       "    const paths = {\n",
       "      \"vega\": \"https://cdn.jsdelivr.net/npm//vega@5?noext\",\n",
       "      \"vega-lib\": \"https://cdn.jsdelivr.net/npm//vega-lib?noext\",\n",
       "      \"vega-lite\": \"https://cdn.jsdelivr.net/npm//vega-lite@4.8.1?noext\",\n",
       "      \"vega-embed\": \"https://cdn.jsdelivr.net/npm//vega-embed@6?noext\",\n",
       "    };\n",
       "\n",
       "    function loadScript(lib) {\n",
       "      return new Promise(function(resolve, reject) {\n",
       "        var s = document.createElement('script');\n",
       "        s.src = paths[lib];\n",
       "        s.async = true;\n",
       "        s.onload = () => resolve(paths[lib]);\n",
       "        s.onerror = () => reject(`Error loading script: ${paths[lib]}`);\n",
       "        document.getElementsByTagName(\"head\")[0].appendChild(s);\n",
       "      });\n",
       "    }\n",
       "\n",
       "    function showError(err) {\n",
       "      outputDiv.innerHTML = `<div class=\"error\" style=\"color:red;\">${err}</div>`;\n",
       "      throw err;\n",
       "    }\n",
       "\n",
       "    function displayChart(vegaEmbed) {\n",
       "      vegaEmbed(outputDiv, spec, embedOpt)\n",
       "        .catch(err => showError(`Javascript Error: ${err.message}<br>This usually means there's a typo in your chart specification. See the javascript console for the full traceback.`));\n",
       "    }\n",
       "\n",
       "    if(typeof define === \"function\" && define.amd) {\n",
       "      requirejs.config({paths});\n",
       "      require([\"vega-embed\"], displayChart, err => showError(`Error loading script: ${err.message}`));\n",
       "    } else if (typeof vegaEmbed === \"function\") {\n",
       "      displayChart(vegaEmbed);\n",
       "    } else {\n",
       "      loadScript(\"vega\")\n",
       "        .then(() => loadScript(\"vega-lite\"))\n",
       "        .then(() => loadScript(\"vega-embed\"))\n",
       "        .catch(showError)\n",
       "        .then(() => displayChart(vegaEmbed));\n",
       "    }\n",
       "  })({\"config\": {\"view\": {\"continuousWidth\": 400, \"continuousHeight\": 300}}, \"data\": {\"name\": \"data-7c7cb234493719f5f57546f8175ef693\"}, \"mark\": \"bar\", \"encoding\": {\"color\": {\"type\": \"nominal\", \"field\": \"type\", \"scale\": {\"scheme\": \"set2\"}, \"title\": \"Type\"}, \"order\": {\"type\": \"nominal\", \"field\": \"type\", \"sort\": \"ascending\"}, \"x\": {\"type\": \"ordinal\", \"axis\": {\"labelAngle\": -40, \"labelOverlap\": false}, \"field\": \"skill\", \"sort\": \"-y\", \"title\": \"skill\"}, \"y\": {\"type\": \"quantitative\", \"field\": \"cnt\", \"title\": \"# of count\"}}, \"height\": 300, \"title\": {\"text\": \" Top 20 Skills By Countries\", \"align\": \"center\", \"color\": \"#3E454F\", \"font\": \"Ubuntu Mono\", \"fontSize\": 20}, \"width\": 700, \"$schema\": \"https://vega.github.io/schema/vega-lite/v4.8.1.json\", \"datasets\": {\"data-7c7cb234493719f5f57546f8175ef693\": [{\"type\": \"senior\", \"skill\": \"machine learning.\", \"cnt\": 285}, {\"type\": \"senior\", \"skill\": \"statistics.\", \"cnt\": 233}, {\"type\": \"senior\", \"skill\": \"python.\", \"cnt\": 212}, {\"type\": \"senior\", \"skill\": \"computer sciences\", \"cnt\": 211}, {\"type\": \"senior\", \"skill\": \"algorithms.\", \"cnt\": 153}, {\"type\": \"senior\", \"skill\": \"develop\", \"cnt\": 152}, {\"type\": \"senior\", \"skill\": \"engineering management\", \"cnt\": 129}, {\"type\": \"senior\", \"skill\": \"analytics methods\", \"cnt\": 128}, {\"type\": \"senior\", \"skill\": \"mathematics.\", \"cnt\": 128}, {\"type\": \"senior\", \"skill\": \"communicates\", \"cnt\": 120}, {\"type\": \"senior\", \"skill\": \"r/\", \"cnt\": 116}, {\"type\": \"senior\", \"skill\": \"design\", \"cnt\": 110}, {\"type\": \"senior\", \"skill\": \"researching\", \"cnt\": 105}, {\"type\": \"senior\", \"skill\": \"communicating\", \"cnt\": 96}, {\"type\": \"senior\", \"skill\": \"data analytics\", \"cnt\": 93}, {\"type\": \"senior\", \"skill\": \"collaborates\", \"cnt\": 91}, {\"type\": \"senior\", \"skill\": \"analyses\", \"cnt\": 91}, {\"type\": \"senior\", \"skill\": \"data sets\", \"cnt\": 86}, {\"type\": \"senior\", \"skill\": \"programming\", \"cnt\": 79}, {\"type\": \"senior\", \"skill\": \"models\", \"cnt\": 73}, {\"type\": \"others\", \"skill\": \"machine learning.\", \"cnt\": 62}, {\"type\": \"others\", \"skill\": \"python.\", \"cnt\": 49}, {\"type\": \"others\", \"skill\": \"computer sciences\", \"cnt\": 46}, {\"type\": \"others\", \"skill\": \"develop\", \"cnt\": 43}, {\"type\": \"others\", \"skill\": \"statistics.\", \"cnt\": 42}, {\"type\": \"junior\", \"skill\": \"machine learning.\", \"cnt\": 39}, {\"type\": \"junior\", \"skill\": \"python.\", \"cnt\": 38}, {\"type\": \"junior\", \"skill\": \"computer sciences\", \"cnt\": 37}, {\"type\": \"junior\", \"skill\": \"statistics.\", \"cnt\": 33}, {\"type\": \"others\", \"skill\": \"engineering management\", \"cnt\": 31}, {\"type\": \"junior\", \"skill\": \"develop\", \"cnt\": 29}, {\"type\": \"junior\", \"skill\": \"mathematics.\", \"cnt\": 29}, {\"type\": \"others\", \"skill\": \"r/\", \"cnt\": 27}, {\"type\": \"others\", \"skill\": \"communicates\", \"cnt\": 27}, {\"type\": \"others\", \"skill\": \"mathematics.\", \"cnt\": 26}, {\"type\": \"others\", \"skill\": \"researching\", \"cnt\": 23}, {\"type\": \"others\", \"skill\": \"analytics methods\", \"cnt\": 23}, {\"type\": \"others\", \"skill\": \"design\", \"cnt\": 22}, {\"type\": \"others\", \"skill\": \"analyses\", \"cnt\": 22}, {\"type\": \"others\", \"skill\": \"algorithms.\", \"cnt\": 22}, {\"type\": \"junior\", \"skill\": \"communicates\", \"cnt\": 22}, {\"type\": \"junior\", \"skill\": \"analyses\", \"cnt\": 22}, {\"type\": \"junior\", \"skill\": \"analytical thinking\", \"cnt\": 21}, {\"type\": \"junior\", \"skill\": \"algorithms.\", \"cnt\": 21}, {\"type\": \"others\", \"skill\": \"english spoken\", \"cnt\": 21}, {\"type\": \"others\", \"skill\": \"java\", \"cnt\": 20}, {\"type\": \"others\", \"skill\": \"deep learning.\", \"cnt\": 19}, {\"type\": \"junior\", \"skill\": \"big data assets\", \"cnt\": 19}, {\"type\": \"junior\", \"skill\": \"engineering management\", \"cnt\": 19}, {\"type\": \"others\", \"skill\": \"data analytics\", \"cnt\": 19}, {\"type\": \"others\", \"skill\": \"data visualisations\", \"cnt\": 18}, {\"type\": \"junior\", \"skill\": \"data sets\", \"cnt\": 18}, {\"type\": \"junior\", \"skill\": \"r/\", \"cnt\": 18}, {\"type\": \"junior\", \"skill\": \"data analytics\", \"cnt\": 17}, {\"type\": \"others\", \"skill\": \"data sets\", \"cnt\": 17}, {\"type\": \"junior\", \"skill\": \"researching\", \"cnt\": 15}, {\"type\": \"junior\", \"skill\": \"analytics methods\", \"cnt\": 15}, {\"type\": \"junior\", \"skill\": \"design\", \"cnt\": 15}, {\"type\": \"junior\", \"skill\": \"databases\", \"cnt\": 15}, {\"type\": \"junior\", \"skill\": \"reports\", \"cnt\": 14}]}}, {\"mode\": \"vega-lite\"});\n",
       "</script>"
      ],
      "text/plain": [
       "alt.Chart(...)"
      ]
     },
     "execution_count": 49,
     "metadata": {},
     "output_type": "execute_result"
    }
   ],
   "source": [
    "title_str=\" Top %d Skills By Countries\" %(top_n)\n",
    "alt.Chart(df_type_i.groupby('type').head(top_n)).mark_bar().encode(\n",
    "    y=alt.X('cnt:Q', title='# of count'),\n",
    "    x=alt.Y('skill:O',sort='-y',title='skill',axis=alt.Axis( \n",
    "                                   labelAngle=-40, \n",
    "                                   labelOverlap=False)),\n",
    "    color=alt.Color('type', scale=alt.Scale(scheme='set2'),title='Type'),\n",
    "    order=alt.Order(\n",
    "      # Sort the segments of the bars by this field\n",
    "      'type',\n",
    "      sort='ascending'\n",
    "    )\n",
    ").properties(height=b_height, width=b_width,\n",
    "        title = alt.TitleParams(text = title_str,\n",
    "                                            align='center',\n",
    "                                            font = 'Ubuntu Mono', \n",
    "                                            fontSize = 20, \n",
    "                                            color = '#3E454F'\n",
    "                                            )\n",
    "    )"
   ]
  },
  {
   "cell_type": "code",
   "execution_count": null,
   "id": "556d3fc1",
   "metadata": {},
   "outputs": [],
   "source": []
  }
 ],
 "metadata": {
  "kernelspec": {
   "display_name": "Python 3",
   "language": "python",
   "name": "python3"
  },
  "language_info": {
   "codemirror_mode": {
    "name": "ipython",
    "version": 3
   },
   "file_extension": ".py",
   "mimetype": "text/x-python",
   "name": "python",
   "nbconvert_exporter": "python",
   "pygments_lexer": "ipython3",
   "version": "3.7.9"
  }
 },
 "nbformat": 4,
 "nbformat_minor": 5
}
