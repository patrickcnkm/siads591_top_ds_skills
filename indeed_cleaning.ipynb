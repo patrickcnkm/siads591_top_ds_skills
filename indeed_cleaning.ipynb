{
 "cells": [
  {
   "cell_type": "markdown",
   "metadata": {},
   "source": [
    "# This notebook contains the cleaning code for the Indeed Dataset\n",
    "Reads the raw dataset and preprocesses to output \"main\" table and \"skill\" table."
   ]
  },
  {
   "cell_type": "code",
   "execution_count": 30,
   "metadata": {},
   "outputs": [],
   "source": [
    "import pandas as pd\n",
    "import numpy as np\n",
    "from datetime import datetime as dt\n",
    "import re\n",
    "import json\n",
    "import time\n",
    "\n",
    "from bs4 import BeautifulSoup\n",
    "from nltk.corpus import stopwords\n",
    "\n",
    "# visualization\n",
    "import seaborn as sns\n",
    "import matplotlib.pyplot as plt\n",
    "import altair as alt\n",
    "import dtale\n",
    "\n",
    "# import aws comprehend\n",
    "import boto3"
   ]
  },
  {
   "cell_type": "code",
   "execution_count": 31,
   "metadata": {},
   "outputs": [],
   "source": [
    "def clean_html(value):\n",
    "    \"\"\"\n",
    "    Clean the job descriptions\n",
    "    \"\"\"\n",
    "    soup = BeautifulSoup(value, 'html.parser')\n",
    "    desc = soup.find(id='jobDescriptionText').text.replace(\"\\n\", \" \").replace(\"  \", \" \")\n",
    "    for word in stopwords.words('english'):#STOPWORDS:\n",
    "        desc = desc.lower().replace(\" \" + word + \" \", \" \")\n",
    "    \n",
    "    return desc\n",
    "\n",
    "\n",
    "def preprocessing(filename, file_format):\n",
    "    \"\"\"\n",
    "    Extract the columns of interest\n",
    "    \"\"\"\n",
    "    if file_format == 'csv':\n",
    "        df = pd.read_csv(filename)\n",
    "        df['country'] = df['country']\n",
    "        df['posting_date'] = pd.to_datetime(df['crawl_timestamp']).dt.date\n",
    "        df['title'] = df['job_title']\n",
    "        df['employer'] = df['company_name']\n",
    "        df['id'] = df['uniq_id']\n",
    "        df['industry'] = df['industry']\n",
    "        df['description'] = df['job_description'].apply(clean_html)\n",
    "    else:\n",
    "        df = pd.read_json(filename, lines=True)\n",
    "        df['country'] = 'India'\n",
    "        df['posting_date'] = pd.to_datetime(df['post_date']).dt.date\n",
    "        df['employer'] = df['company_name']\n",
    "        df['title'] = df['job_title']\n",
    "        df['id'] = df['uniq_id']\n",
    "        df['industry'] = df['category']\n",
    "        df['description'] = df['job_description'].str.lower().apply(lambda x: ' '.join([word for word in x.split() if word not in (stopwords.words('english'))]))\n",
    "    \n",
    "    df['source'] = 'Indeed'\n",
    "        \n",
    "    return df[['posting_date', 'description', 'title', 'employer', 'industry', 'id', 'source', 'country']]"
   ]
  },
  {
   "cell_type": "markdown",
   "metadata": {},
   "source": [
    "### Cleaning and Job Selection"
   ]
  },
  {
   "cell_type": "code",
   "execution_count": 32,
   "metadata": {},
   "outputs": [],
   "source": [
    "filename = \"./01_data/marketing_sample_for_trulia_com_real_estate_20190901_20191031_30k_data.csv\"\n",
    "filename2 = \"./01_data/marketing_sample_for_indeed_co_in-indeed_co_in_job__20201101_20201231__5k_data.ldjson\""
   ]
  },
  {
   "cell_type": "code",
   "execution_count": 33,
   "metadata": {},
   "outputs": [],
   "source": [
    "usa = preprocessing(filename, file_format='csv')\n",
    "india = preprocessing(filename2, file_format='json')"
   ]
  },
  {
   "cell_type": "code",
   "execution_count": 34,
   "metadata": {},
   "outputs": [
    {
     "data": {
      "text/html": [
       "<div>\n",
       "<style scoped>\n",
       "    .dataframe tbody tr th:only-of-type {\n",
       "        vertical-align: middle;\n",
       "    }\n",
       "\n",
       "    .dataframe tbody tr th {\n",
       "        vertical-align: top;\n",
       "    }\n",
       "\n",
       "    .dataframe thead th {\n",
       "        text-align: right;\n",
       "    }\n",
       "</style>\n",
       "<table border=\"1\" class=\"dataframe\">\n",
       "  <thead>\n",
       "    <tr style=\"text-align: right;\">\n",
       "      <th></th>\n",
       "      <th>posting_date</th>\n",
       "      <th>description</th>\n",
       "      <th>title</th>\n",
       "      <th>employer</th>\n",
       "      <th>industry</th>\n",
       "      <th>id</th>\n",
       "      <th>source</th>\n",
       "      <th>country</th>\n",
       "    </tr>\n",
       "  </thead>\n",
       "  <tbody>\n",
       "    <tr>\n",
       "      <th>6751</th>\n",
       "      <td>2019-10-24</td>\n",
       "      <td>summary: meet exceed sales objectives assigned...</td>\n",
       "      <td>Business Development Mgr</td>\n",
       "      <td>Spartan Motors, Inc.</td>\n",
       "      <td>NaN</td>\n",
       "      <td>bd95a5601ac17bba867e5fc137a6d912</td>\n",
       "      <td>Indeed</td>\n",
       "      <td>United States</td>\n",
       "    </tr>\n",
       "    <tr>\n",
       "      <th>11951</th>\n",
       "      <td>2019-10-22</td>\n",
       "      <td>millennium health leading health solutions co...</td>\n",
       "      <td>Territory Manager I-Columbia</td>\n",
       "      <td>Millennium Health</td>\n",
       "      <td>NaN</td>\n",
       "      <td>a0802bd5232228231221fd68cba7e259</td>\n",
       "      <td>Indeed</td>\n",
       "      <td>United States</td>\n",
       "    </tr>\n",
       "    <tr>\n",
       "      <th>23857</th>\n",
       "      <td>2019-08-23</td>\n",
       "      <td>combine power big data, technology, lean econ...</td>\n",
       "      <td>Director, Sales Operations</td>\n",
       "      <td>Callisto Media</td>\n",
       "      <td>NaN</td>\n",
       "      <td>5a218ffc411e6e87d48e845f804e0904</td>\n",
       "      <td>Indeed</td>\n",
       "      <td>United States</td>\n",
       "    </tr>\n",
       "    <tr>\n",
       "      <th>12549</th>\n",
       "      <td>2019-10-25</td>\n",
       "      <td>west pharmaceutical services, inc. leading m...</td>\n",
       "      <td>Manufacturing Development Engineer</td>\n",
       "      <td>West Pharmaceutical Services</td>\n",
       "      <td>NaN</td>\n",
       "      <td>4b8df072334aa177b236ab617bd8cfa8</td>\n",
       "      <td>Indeed</td>\n",
       "      <td>United States</td>\n",
       "    </tr>\n",
       "    <tr>\n",
       "      <th>16624</th>\n",
       "      <td>2019-10-23</td>\n",
       "      <td>flowhub mission help cannabis dispensaries si...</td>\n",
       "      <td>QA Engineer</td>\n",
       "      <td>Flowhub</td>\n",
       "      <td>NaN</td>\n",
       "      <td>d46fde6975a42c3c66e433d1a84b0084</td>\n",
       "      <td>Indeed</td>\n",
       "      <td>United States</td>\n",
       "    </tr>\n",
       "  </tbody>\n",
       "</table>\n",
       "</div>"
      ],
      "text/plain": [
       "      posting_date                                        description  \\\n",
       "6751    2019-10-24  summary: meet exceed sales objectives assigned...   \n",
       "11951   2019-10-22   millennium health leading health solutions co...   \n",
       "23857   2019-08-23   combine power big data, technology, lean econ...   \n",
       "12549   2019-10-25    west pharmaceutical services, inc. leading m...   \n",
       "16624   2019-10-23   flowhub mission help cannabis dispensaries si...   \n",
       "\n",
       "                                    title                      employer  \\\n",
       "6751             Business Development Mgr          Spartan Motors, Inc.   \n",
       "11951        Territory Manager I-Columbia             Millennium Health   \n",
       "23857          Director, Sales Operations                Callisto Media   \n",
       "12549  Manufacturing Development Engineer  West Pharmaceutical Services   \n",
       "16624                         QA Engineer                       Flowhub   \n",
       "\n",
       "       industry                                id  source        country  \n",
       "6751        NaN  bd95a5601ac17bba867e5fc137a6d912  Indeed  United States  \n",
       "11951       NaN  a0802bd5232228231221fd68cba7e259  Indeed  United States  \n",
       "23857       NaN  5a218ffc411e6e87d48e845f804e0904  Indeed  United States  \n",
       "12549       NaN  4b8df072334aa177b236ab617bd8cfa8  Indeed  United States  \n",
       "16624       NaN  d46fde6975a42c3c66e433d1a84b0084  Indeed  United States  "
      ]
     },
     "execution_count": 34,
     "metadata": {},
     "output_type": "execute_result"
    }
   ],
   "source": [
    "usa.sample(5)"
   ]
  },
  {
   "cell_type": "code",
   "execution_count": 35,
   "metadata": {},
   "outputs": [
    {
     "data": {
      "text/html": [
       "<div>\n",
       "<style scoped>\n",
       "    .dataframe tbody tr th:only-of-type {\n",
       "        vertical-align: middle;\n",
       "    }\n",
       "\n",
       "    .dataframe tbody tr th {\n",
       "        vertical-align: top;\n",
       "    }\n",
       "\n",
       "    .dataframe thead th {\n",
       "        text-align: right;\n",
       "    }\n",
       "</style>\n",
       "<table border=\"1\" class=\"dataframe\">\n",
       "  <thead>\n",
       "    <tr style=\"text-align: right;\">\n",
       "      <th></th>\n",
       "      <th>posting_date</th>\n",
       "      <th>description</th>\n",
       "      <th>title</th>\n",
       "      <th>employer</th>\n",
       "      <th>industry</th>\n",
       "      <th>id</th>\n",
       "      <th>source</th>\n",
       "      <th>country</th>\n",
       "    </tr>\n",
       "  </thead>\n",
       "  <tbody>\n",
       "    <tr>\n",
       "      <th>2391</th>\n",
       "      <td>2020-11-25</td>\n",
       "      <td>senior associate - content review noida, india...</td>\n",
       "      <td>Senior Associate</td>\n",
       "      <td>Wiley</td>\n",
       "      <td>Healthcare</td>\n",
       "      <td>870b3682748e646398301d4c83c70180</td>\n",
       "      <td>Indeed</td>\n",
       "      <td>India</td>\n",
       "    </tr>\n",
       "    <tr>\n",
       "      <th>1999</th>\n",
       "      <td>2020-12-21</td>\n",
       "      <td>designation: account assistant locality: thepp...</td>\n",
       "      <td>Accounts Assistant</td>\n",
       "      <td>Insoll</td>\n",
       "      <td>Admin</td>\n",
       "      <td>c8f58d89fb0891752c2a61eaa175430a</td>\n",
       "      <td>Indeed</td>\n",
       "      <td>India</td>\n",
       "    </tr>\n",
       "    <tr>\n",
       "      <th>1429</th>\n",
       "      <td>2020-12-13</td>\n",
       "      <td>looking business manager 3 4 years experience ...</td>\n",
       "      <td>Business Manager - Monthly Basket</td>\n",
       "      <td>MSR India</td>\n",
       "      <td>Manufacturing</td>\n",
       "      <td>2fbce63c030583b9ea30153607c5ee12</td>\n",
       "      <td>Indeed</td>\n",
       "      <td>India</td>\n",
       "    </tr>\n",
       "    <tr>\n",
       "      <th>2367</th>\n",
       "      <td>2020-12-15</td>\n",
       "      <td>job summary visiting chemists provision store ...</td>\n",
       "      <td>Area Sales Manager (OTC DIVISION)</td>\n",
       "      <td>MORVIN INDIA HEALTH CARE PVT LTD</td>\n",
       "      <td>Construction</td>\n",
       "      <td>6af1e6ab04c3a21f355213004a04b187</td>\n",
       "      <td>Indeed</td>\n",
       "      <td>India</td>\n",
       "    </tr>\n",
       "    <tr>\n",
       "      <th>2162</th>\n",
       "      <td>2020-12-24</td>\n",
       "      <td>responsibilities 7+ years experience informati...</td>\n",
       "      <td>Data Security Cntrl Specialist - Hyderabad,TS</td>\n",
       "      <td>Clean Harbors Environmental Services, Inc.</td>\n",
       "      <td>Management</td>\n",
       "      <td>411f0e6e88f6bb7d0ba24c4cb94a1226</td>\n",
       "      <td>Indeed</td>\n",
       "      <td>India</td>\n",
       "    </tr>\n",
       "  </tbody>\n",
       "</table>\n",
       "</div>"
      ],
      "text/plain": [
       "     posting_date                                        description  \\\n",
       "2391   2020-11-25  senior associate - content review noida, india...   \n",
       "1999   2020-12-21  designation: account assistant locality: thepp...   \n",
       "1429   2020-12-13  looking business manager 3 4 years experience ...   \n",
       "2367   2020-12-15  job summary visiting chemists provision store ...   \n",
       "2162   2020-12-24  responsibilities 7+ years experience informati...   \n",
       "\n",
       "                                              title  \\\n",
       "2391                               Senior Associate   \n",
       "1999                             Accounts Assistant   \n",
       "1429              Business Manager - Monthly Basket   \n",
       "2367              Area Sales Manager (OTC DIVISION)   \n",
       "2162  Data Security Cntrl Specialist - Hyderabad,TS   \n",
       "\n",
       "                                        employer       industry  \\\n",
       "2391                                       Wiley     Healthcare   \n",
       "1999                                      Insoll          Admin   \n",
       "1429                                   MSR India  Manufacturing   \n",
       "2367            MORVIN INDIA HEALTH CARE PVT LTD   Construction   \n",
       "2162  Clean Harbors Environmental Services, Inc.     Management   \n",
       "\n",
       "                                    id  source country  \n",
       "2391  870b3682748e646398301d4c83c70180  Indeed   India  \n",
       "1999  c8f58d89fb0891752c2a61eaa175430a  Indeed   India  \n",
       "1429  2fbce63c030583b9ea30153607c5ee12  Indeed   India  \n",
       "2367  6af1e6ab04c3a21f355213004a04b187  Indeed   India  \n",
       "2162  411f0e6e88f6bb7d0ba24c4cb94a1226  Indeed   India  "
      ]
     },
     "execution_count": 35,
     "metadata": {},
     "output_type": "execute_result"
    }
   ],
   "source": [
    "india.sample(5)"
   ]
  },
  {
   "cell_type": "code",
   "execution_count": 36,
   "metadata": {},
   "outputs": [],
   "source": [
    "indeed_master = pd.concat([usa, india])"
   ]
  },
  {
   "cell_type": "code",
   "execution_count": 37,
   "metadata": {},
   "outputs": [],
   "source": [
    "indeed_master.to_csv('./indeed_master.csv', index=False)"
   ]
  },
  {
   "cell_type": "code",
   "execution_count": 38,
   "metadata": {},
   "outputs": [],
   "source": [
    "# select data related jobs\n",
    "indeed_main = indeed_master[indeed_master['title'].str.contains('(?i)(data engineer|machine learning|data scientist|data analyst)', regex=True)]"
   ]
  },
  {
   "cell_type": "code",
   "execution_count": 39,
   "metadata": {},
   "outputs": [
    {
     "data": {
      "text/plain": [
       "array(['Senior Data Scientist, Wholesale Credit Technology',\n",
       "       'Senior Data Engineer- Platform Development', 'Data Analyst',\n",
       "       'Jr. Data Analyst Compliance', 'Data Scientist',\n",
       "       'Customer Data Analyst', 'Business and Data Analyst Manager',\n",
       "       '(Temporary) Researcher and Data Analyst, Fine Arts',\n",
       "       'Sr Data Analyst', 'Senior Data Engineer, BI and Analytics (5905)',\n",
       "       'Sr. Fraud Data Analyst', 'Sr. IT Data Engineer', 'Data Engineer',\n",
       "       'Sr Demand Forecasting Data Scientist',\n",
       "       'data scientist - Seattle, WA', 'Finance Data Analyst',\n",
       "       'Data Engineering Manager', 'Customer Service Data Analyst',\n",
       "       'Business Data Analyst', 'Senior Data Analyst',\n",
       "       'Senior Marketing Data Analyst', 'Technical Data Analyst',\n",
       "       'Lead Data Scientist',\n",
       "       'Product Management Lead - Cloud and Machine Learning',\n",
       "       'Data Scientist - (2 Positions)',\n",
       "       'Senior Director of Product Management, Machine Learning',\n",
       "       'Specialist SA, Machine Learning/AI Services',\n",
       "       'Senior Product Data Scientist',\n",
       "       'Senior Data Engineer / automotive start-up',\n",
       "       'Account Analyst - Sales Data Analyst', 'Sr. Data Analyst',\n",
       "       'Data Analyst 2',\n",
       "       'Senior Data Analyst – Global Supply Analytics, AMERICAS, Analytics',\n",
       "       'Senior Data Engineer', 'Data Analyst Intern', 'Jr. Data Analyst',\n",
       "       'BI Data Analyst', 'Solutions Engineer, Applied Machine Learning',\n",
       "       'Machine Learning Engineer', 'Programmatic Data Analyst',\n",
       "       'Data Analyst, Sales and Customer Support Contact Center',\n",
       "       'Mgr Software Engineering - Data Engineering',\n",
       "       'DATA ANALYST - 9153 73', 'Sales/Data Analyst Intern - Fall 2019',\n",
       "       'Corporate Marketing Data Analyst, Pittsburgh, PA',\n",
       "       'Data Analyst - Investigative Analytics - Senior Associate',\n",
       "       'Product Data Analyst', 'Sales Data Analyst', 'Data Engineer, GMS',\n",
       "       'Data Analyst - Tableau', 'Data Analyst Manager',\n",
       "       'Business & Reporting Data Analyst', 'Data Scientist (Churn)',\n",
       "       'Marketing Data Analyst', 'Master Data Analyst',\n",
       "       'Ecommerce Data Analyst', 'Supplier Master Data Analyst',\n",
       "       'Research/Data Analyst',\n",
       "       'Internship Data Scientist, Product Analytics, Analytics',\n",
       "       'Program Lead, Machine Learning Advanced Solutions, Google Cloud',\n",
       "       'Senior Business Data Analyst',\n",
       "       'Technical Data Analyst (Marketing)', 'Chief Data Scientist',\n",
       "       'Sales and Data Analyst', 'Optical Data Analyst',\n",
       "       'Sr. Leader, Data Engineering',\n",
       "       'Senior Data Scientist, Wholesale Credit and Banking Technology',\n",
       "       'AI/Machine Learning Software Engineer Intern',\n",
       "       'Distribution Senior Data Analyst', 'Sr. Corporate Data Analyst',\n",
       "       'Sr Associate – Data Scientist',\n",
       "       'Senior Data Engineer - Business Systems',\n",
       "       '(Remote) Business/Data Analyst',\n",
       "       'Data Analyst, Planning & Inventory', 'Data Analyst - MaritzCX',\n",
       "       'Commodity Data Analyst', 'Data Engineer II',\n",
       "       'Associate Data Scientist',\n",
       "       'Data Analyst - Passenger Transportation', 'Data Analyst I',\n",
       "       'Senior Business Data Analyst-Web/Digital Analytics',\n",
       "       'Senior Manager of Data Engineering',\n",
       "       'Sales Support and Data Analyst',\n",
       "       'Senior Deep Learning Data Scientist', 'VP, Data Scientist',\n",
       "       'Manager of Data Engineering', 'Director, Data Engineering',\n",
       "       'Data Scientist Manager, SBG', 'Premier Data Analyst',\n",
       "       'Senior Sales Data Analyst - NBA',\n",
       "       'Account Operations Data Analyst', 'Data Scientist/Engineer',\n",
       "       'Data Scientist (Marketing Mix Modeling)',\n",
       "       'Data Engineer - SQL / Big Data / Cloud',\n",
       "       \"Data Analyst Bachelor's (Intern) - United States\",\n",
       "       'Sales Compensation and Data Analyst',\n",
       "       'Data Engineer- Irvine - CA',\n",
       "       'HubSpot Data Analyst (Located in Johnston, Iowa)',\n",
       "       'Data Analyst (Retail, Reporting & SQL)', 'Data Analyst Associate',\n",
       "       'Sr. Data Analyst, Commercial Analytics',\n",
       "       'Principal Machine Learning Engineer - Search',\n",
       "       'Revenue Management Data Analyst/Client Services',\n",
       "       'Data Analyst 3', 'Backend Data Engineer',\n",
       "       'Senior Data Engineer - Apple', 'Senior Data Scientist',\n",
       "       'Senior Data Analyst, Customer Success',\n",
       "       'Data Analyst - Charlotte, NC', 'Associate, Data Scientist',\n",
       "       'Customer Data Scientist (New York)',\n",
       "       'Data Science - Generalist & Machine Learning Engineer - Full Time Opportunities',\n",
       "       'Product Analytics Sr. Data Scientist',\n",
       "       'Big Data Engineer - Mid Level',\n",
       "       'Data Scientist Associate - CIB Wholesale Payments Data and Analytics',\n",
       "       'Manager - Data Engineer/Python Expert - PwC Labs - Bangalore',\n",
       "       'Process Experts - Opportunity to Cash-Data Analyst',\n",
       "       'Data Engineering Internship',\n",
       "       'Data Scientist - Technology Development',\n",
       "       'Software Engineering- Data Engineer',\n",
       "       'Senior Associate-Data Analyst',\n",
       "       'Business Data Analyst / Business Systems Analyst',\n",
       "       'Manager, Data Engineering',\n",
       "       'Senior Associate - Geospatial Lab (Image Processing and Machine Learning)',\n",
       "       'Senior Big Data Engineer (Data Science/ML)',\n",
       "       'Data Scientist- Marketing Analytics -Manager',\n",
       "       'Senior Software Engineer, Data Engineering (Data Lake)',\n",
       "       'Associate Data Scientist II', 'Financial Data Analyst',\n",
       "       'Data Engineer: Data Integration', 'MIS Executive / Data Analyst',\n",
       "       'Informatica Data Engineer',\n",
       "       'Jr. Data Analyst (Freshers welcome to apply)',\n",
       "       'Senior Product Software Engineer (Machine Learning)',\n",
       "       'Lead data Engineer - Snowflake', 'AWS Data Engineer-Staff',\n",
       "       'SENIOR DATA SCIENTIST ( DEEP LEARNING/ NLP)',\n",
       "       'Staff Data Engineer',\n",
       "       'Data Engineer with Cloud(Python and Spark/Scala',\n",
       "       'Junior Data Analyst'], dtype=object)"
      ]
     },
     "execution_count": 39,
     "metadata": {},
     "output_type": "execute_result"
    }
   ],
   "source": [
    "# peek into job titles\n",
    "indeed_main['title'].unique()"
   ]
  },
  {
   "cell_type": "code",
   "execution_count": 40,
   "metadata": {},
   "outputs": [],
   "source": [
    "# export data related jobs\n",
    "indeed_main.to_csv('./indeedjobs.csv', index=False)"
   ]
  },
  {
   "cell_type": "code",
   "execution_count": 41,
   "metadata": {},
   "outputs": [],
   "source": [
    "# export data employers-industry mapping to assist with Glassdoor missing industries\n",
    "indeed_main[['employer', 'industry']].drop_duplicates().to_csv('./employer_industry.csv', index=False)"
   ]
  },
  {
   "cell_type": "markdown",
   "metadata": {
    "tags": []
   },
   "source": [
    "#### Output Employer-Industry for ALL Employers"
   ]
  },
  {
   "cell_type": "code",
   "execution_count": 42,
   "metadata": {},
   "outputs": [],
   "source": [
    "indeed_master[['employer', 'industry']].dropna().drop_duplicates().to_csv('./all_employer_industry.csv', index=False)"
   ]
  },
  {
   "cell_type": "markdown",
   "metadata": {
    "tags": []
   },
   "source": [
    "### AWS Key Phrase Extraction"
   ]
  },
  {
   "cell_type": "code",
   "execution_count": 147,
   "metadata": {},
   "outputs": [],
   "source": [
    "indeed_aws = indeed_main[indeed_main['description'].apply(lambda x: len(x.encode('utf-8'))) <= 5000]"
   ]
  },
  {
   "cell_type": "code",
   "execution_count": null,
   "metadata": {
    "tags": []
   },
   "outputs": [],
   "source": [
    "sample_frac = 1 # % of total records for sample processing.\n",
    "cf_score = 0.8  # confidence score threshold for key phrases\n",
    "\n",
    "# Call AWS comprehend to extract key phrases\n",
    "s3 = boto3.Session(\n",
    "    aws_access_key_id=\"keyhere\",\n",
    "    aws_secret_access_key=\"keyhere\"\n",
    ")\n",
    "\n",
    "comprehend = s3.client(service_name='comprehend', region_name='us-east-2')\n",
    "\n",
    "print('Calling DetectKeyPhrases')\n",
    "\n",
    "df_list = []\n",
    "\n",
    "for i in range(round(sample_frac * len(indeed_main))):\n",
    "    if len(indeed_main[\"description\"].iloc[i].encode('utf-8')) <= 5000:  # AWS' limitation on one request\n",
    "        dump_json = json.dumps(comprehend.detect_key_phrases(Text=indeed_main[\"description\"].iloc[i], \n",
    "                                                           LanguageCode='en'), sort_keys=True, indent=4)\n",
    "        df_phrases = pd.json_normalize(json.loads(dump_json)['KeyPhrases'])\n",
    "        df_phrases['id'] = indeed_main[\"id\"].iloc[i]\n",
    "        df_list.append(df_phrases)\n",
    "    else:\n",
    "        continue # to be handled\n",
    "        \n",
    "df = pd.concat(df_list)\n",
    "print('End of DetectKeyPhrases\\n')"
   ]
  },
  {
   "cell_type": "code",
   "execution_count": 97,
   "metadata": {},
   "outputs": [
    {
     "data": {
      "text/html": [
       "<div>\n",
       "<style scoped>\n",
       "    .dataframe tbody tr th:only-of-type {\n",
       "        vertical-align: middle;\n",
       "    }\n",
       "\n",
       "    .dataframe tbody tr th {\n",
       "        vertical-align: top;\n",
       "    }\n",
       "\n",
       "    .dataframe thead th {\n",
       "        text-align: right;\n",
       "    }\n",
       "</style>\n",
       "<table border=\"1\" class=\"dataframe\">\n",
       "  <thead>\n",
       "    <tr style=\"text-align: right;\">\n",
       "      <th></th>\n",
       "      <th>BeginOffset</th>\n",
       "      <th>EndOffset</th>\n",
       "      <th>Score</th>\n",
       "      <th>Text</th>\n",
       "      <th>id</th>\n",
       "    </tr>\n",
       "  </thead>\n",
       "  <tbody>\n",
       "    <tr>\n",
       "      <th>0</th>\n",
       "      <td>1</td>\n",
       "      <td>16</td>\n",
       "      <td>0.994855</td>\n",
       "      <td>job description</td>\n",
       "      <td>3705b6bdceec9a65cae63741ecff9989</td>\n",
       "    </tr>\n",
       "    <tr>\n",
       "      <th>1</th>\n",
       "      <td>19</td>\n",
       "      <td>31</td>\n",
       "      <td>0.988749</td>\n",
       "      <td>bank america</td>\n",
       "      <td>3705b6bdceec9a65cae63741ecff9989</td>\n",
       "    </tr>\n",
       "    <tr>\n",
       "      <th>2</th>\n",
       "      <td>40</td>\n",
       "      <td>107</td>\n",
       "      <td>0.899997</td>\n",
       "      <td>senior data scientist analytics team digital t...</td>\n",
       "      <td>3705b6bdceec9a65cae63741ecff9989</td>\n",
       "    </tr>\n",
       "    <tr>\n",
       "      <th>3</th>\n",
       "      <td>115</td>\n",
       "      <td>142</td>\n",
       "      <td>0.999753</td>\n",
       "      <td>wholesale credit technology</td>\n",
       "      <td>3705b6bdceec9a65cae63741ecff9989</td>\n",
       "    </tr>\n",
       "    <tr>\n",
       "      <th>4</th>\n",
       "      <td>145</td>\n",
       "      <td>159</td>\n",
       "      <td>0.987955</td>\n",
       "      <td>scope projects</td>\n",
       "      <td>3705b6bdceec9a65cae63741ecff9989</td>\n",
       "    </tr>\n",
       "    <tr>\n",
       "      <th>...</th>\n",
       "      <td>...</td>\n",
       "      <td>...</td>\n",
       "      <td>...</td>\n",
       "      <td>...</td>\n",
       "      <td>...</td>\n",
       "    </tr>\n",
       "    <tr>\n",
       "      <th>92</th>\n",
       "      <td>2634</td>\n",
       "      <td>2646</td>\n",
       "      <td>0.855729</td>\n",
       "      <td>master’s/phd</td>\n",
       "      <td>076196ef66cd3e231bd0d1e97eed18db</td>\n",
       "    </tr>\n",
       "    <tr>\n",
       "      <th>93</th>\n",
       "      <td>2648</td>\n",
       "      <td>2658</td>\n",
       "      <td>0.973829</td>\n",
       "      <td>statistics</td>\n",
       "      <td>076196ef66cd3e231bd0d1e97eed18db</td>\n",
       "    </tr>\n",
       "    <tr>\n",
       "      <th>94</th>\n",
       "      <td>2660</td>\n",
       "      <td>2749</td>\n",
       "      <td>0.812369</td>\n",
       "      <td>economics quantitative discipline database mar...</td>\n",
       "      <td>076196ef66cd3e231bd0d1e97eed18db</td>\n",
       "    </tr>\n",
       "    <tr>\n",
       "      <th>95</th>\n",
       "      <td>2750</td>\n",
       "      <td>2774</td>\n",
       "      <td>0.827273</td>\n",
       "      <td>newer emerging languages</td>\n",
       "      <td>076196ef66cd3e231bd0d1e97eed18db</td>\n",
       "    </tr>\n",
       "    <tr>\n",
       "      <th>96</th>\n",
       "      <td>2775</td>\n",
       "      <td>2783</td>\n",
       "      <td>0.752389</td>\n",
       "      <td>r python</td>\n",
       "      <td>076196ef66cd3e231bd0d1e97eed18db</td>\n",
       "    </tr>\n",
       "  </tbody>\n",
       "</table>\n",
       "<p>20795 rows × 5 columns</p>\n",
       "</div>"
      ],
      "text/plain": [
       "    BeginOffset  EndOffset     Score  \\\n",
       "0             1         16  0.994855   \n",
       "1            19         31  0.988749   \n",
       "2            40        107  0.899997   \n",
       "3           115        142  0.999753   \n",
       "4           145        159  0.987955   \n",
       "..          ...        ...       ...   \n",
       "92         2634       2646  0.855729   \n",
       "93         2648       2658  0.973829   \n",
       "94         2660       2749  0.812369   \n",
       "95         2750       2774  0.827273   \n",
       "96         2775       2783  0.752389   \n",
       "\n",
       "                                                 Text  \\\n",
       "0                                     job description   \n",
       "1                                        bank america   \n",
       "2   senior data scientist analytics team digital t...   \n",
       "3                         wholesale credit technology   \n",
       "4                                      scope projects   \n",
       "..                                                ...   \n",
       "92                                       master’s/phd   \n",
       "93                                         statistics   \n",
       "94  economics quantitative discipline database mar...   \n",
       "95                           newer emerging languages   \n",
       "96                                           r python   \n",
       "\n",
       "                                  id  \n",
       "0   3705b6bdceec9a65cae63741ecff9989  \n",
       "1   3705b6bdceec9a65cae63741ecff9989  \n",
       "2   3705b6bdceec9a65cae63741ecff9989  \n",
       "3   3705b6bdceec9a65cae63741ecff9989  \n",
       "4   3705b6bdceec9a65cae63741ecff9989  \n",
       "..                               ...  \n",
       "92  076196ef66cd3e231bd0d1e97eed18db  \n",
       "93  076196ef66cd3e231bd0d1e97eed18db  \n",
       "94  076196ef66cd3e231bd0d1e97eed18db  \n",
       "95  076196ef66cd3e231bd0d1e97eed18db  \n",
       "96  076196ef66cd3e231bd0d1e97eed18db  \n",
       "\n",
       "[20795 rows x 5 columns]"
      ]
     },
     "execution_count": 97,
     "metadata": {},
     "output_type": "execute_result"
    }
   ],
   "source": [
    "df"
   ]
  },
  {
   "cell_type": "code",
   "execution_count": 98,
   "metadata": {},
   "outputs": [],
   "source": [
    "# Generate the dataframe of skills\n",
    "df_skills = pd.DataFrame(df[df['Score'] >= cf_score][['id','Text']])\n",
    "df_skills.columns = ['id','skill']\n",
    "df_skills['type'] = ''"
   ]
  },
  {
   "cell_type": "code",
   "execution_count": 99,
   "metadata": {},
   "outputs": [
    {
     "data": {
      "text/html": [
       "<div>\n",
       "<style scoped>\n",
       "    .dataframe tbody tr th:only-of-type {\n",
       "        vertical-align: middle;\n",
       "    }\n",
       "\n",
       "    .dataframe tbody tr th {\n",
       "        vertical-align: top;\n",
       "    }\n",
       "\n",
       "    .dataframe thead th {\n",
       "        text-align: right;\n",
       "    }\n",
       "</style>\n",
       "<table border=\"1\" class=\"dataframe\">\n",
       "  <thead>\n",
       "    <tr style=\"text-align: right;\">\n",
       "      <th></th>\n",
       "      <th>id</th>\n",
       "      <th>type</th>\n",
       "    </tr>\n",
       "    <tr>\n",
       "      <th>skill</th>\n",
       "      <th></th>\n",
       "      <th></th>\n",
       "    </tr>\n",
       "  </thead>\n",
       "  <tbody>\n",
       "    <tr>\n",
       "      <th>ability</th>\n",
       "      <td>108</td>\n",
       "      <td>108</td>\n",
       "    </tr>\n",
       "    <tr>\n",
       "      <th>data</th>\n",
       "      <td>94</td>\n",
       "      <td>94</td>\n",
       "    </tr>\n",
       "    <tr>\n",
       "      <th>world</th>\n",
       "      <td>68</td>\n",
       "      <td>68</td>\n",
       "    </tr>\n",
       "    <tr>\n",
       "      <th>role</th>\n",
       "      <td>56</td>\n",
       "      <td>56</td>\n",
       "    </tr>\n",
       "    <tr>\n",
       "      <th>company</th>\n",
       "      <td>47</td>\n",
       "      <td>47</td>\n",
       "    </tr>\n",
       "    <tr>\n",
       "      <th>...</th>\n",
       "      <td>...</td>\n",
       "      <td>...</td>\n",
       "    </tr>\n",
       "    <tr>\n",
       "      <th>globe</th>\n",
       "      <td>11</td>\n",
       "      <td>11</td>\n",
       "    </tr>\n",
       "    <tr>\n",
       "      <th>findings</th>\n",
       "      <td>11</td>\n",
       "      <td>11</td>\n",
       "    </tr>\n",
       "    <tr>\n",
       "      <th>economics</th>\n",
       "      <td>11</td>\n",
       "      <td>11</td>\n",
       "    </tr>\n",
       "    <tr>\n",
       "      <th>data scientists</th>\n",
       "      <td>11</td>\n",
       "      <td>11</td>\n",
       "    </tr>\n",
       "    <tr>\n",
       "      <th>teams</th>\n",
       "      <td>11</td>\n",
       "      <td>11</td>\n",
       "    </tr>\n",
       "  </tbody>\n",
       "</table>\n",
       "<p>103 rows × 2 columns</p>\n",
       "</div>"
      ],
      "text/plain": [
       "                  id  type\n",
       "skill                     \n",
       "ability          108   108\n",
       "data              94    94\n",
       "world             68    68\n",
       "role              56    56\n",
       "company           47    47\n",
       "...              ...   ...\n",
       "globe             11    11\n",
       "findings          11    11\n",
       "economics         11    11\n",
       "data scientists   11    11\n",
       "teams             11    11\n",
       "\n",
       "[103 rows x 2 columns]"
      ]
     },
     "execution_count": 99,
     "metadata": {},
     "output_type": "execute_result"
    }
   ],
   "source": [
    "df_skills.groupby(['skill']).count()[df_skills.groupby(['skill']).count()['id']>10].sort_values('id',ascending=False)"
   ]
  },
  {
   "cell_type": "markdown",
   "metadata": {},
   "source": [
    "### Azure Named Entities Recognition (NER)"
   ]
  },
  {
   "cell_type": "code",
   "execution_count": 258,
   "metadata": {},
   "outputs": [],
   "source": [
    "key = \"keyhere\"\n",
    "endpoint = \"https://mads-milestone1-ds-skills.cognitiveservices.azure.com/\"\n",
    "\n",
    "from azure.ai.textanalytics import TextAnalyticsClient\n",
    "from azure.core.credentials import AzureKeyCredential\n",
    "\n",
    "# Authenticate the client using your key and endpoint \n",
    "def authenticate_client():\n",
    "    ta_credential = AzureKeyCredential(key)\n",
    "    text_analytics_client = TextAnalyticsClient(\n",
    "            endpoint=endpoint, \n",
    "            credential=ta_credential)\n",
    "    return text_analytics_client\n",
    "\n",
    "client = authenticate_client()\n",
    "\n",
    "# Example function for recognizing entities from text\n",
    "def entity_recognition(client, df):\n",
    "    \"\"\"\n",
    "    Args:\n",
    "        client: object. Azure API\n",
    "        df: DataFrame. Contains data\n",
    "        \n",
    "    Returns:\n",
    "        df_list: DataFrame. Contains skills extracted from description\n",
    "    \"\"\"\n",
    "    df_list=pd.DataFrame(columns=['id','skill','category','confidence score'])\n",
    "    num = 0\n",
    "    for i in list(df.index):\n",
    "        if num < 100:\n",
    "            j = int(len(df['description'].iloc[i]) / 5000) + 1\n",
    "            txt = []\n",
    "            \n",
    "            for x in range(j):\n",
    "                if j <= 1:\n",
    "                    txt.append(df['description'].iloc[i])\n",
    "                else:\n",
    "                    txt.append(df['description'].iloc[i][x*5000:(x+1)*5000])\n",
    "                try:\n",
    "                    documents = [item for item in txt[x:x+1]]\n",
    "                    result = client.recognize_entities(documents = documents)[0]\n",
    "                    for entity in result.entities:\n",
    "                        df_list=df_list.append({'id':df['id'].iloc[i],\n",
    "                                                 'skill':entity.text,\n",
    "                                                'category':entity.category,\n",
    "                                                'confidence score':entity.confidence_score},ignore_index=True)\n",
    "                except Exception as err:\n",
    "                    print(\"Encountered exception. {}\".format(err))\n",
    "        else:\n",
    "            time.sleep(60)\n",
    "            num = 0\n",
    "    \n",
    "    return df_list"
   ]
  },
  {
   "cell_type": "markdown",
   "metadata": {},
   "source": [
    "#### Evaluate Azure NER"
   ]
  },
  {
   "cell_type": "code",
   "execution_count": null,
   "metadata": {
    "collapsed": true,
    "jupyter": {
     "outputs_hidden": true
    },
    "tags": []
   },
   "outputs": [
    {
     "name": "stdin",
     "output_type": "stream",
     "text": [
      " \n"
     ]
    },
    {
     "name": "stdout",
     "output_type": "stream",
     "text": [
      "\n",
      "\n",
      "  job description:  bank america seeking senior data scientist analytics team digital transformation program within wholesale credit technology.  scope projects include descriptive, predictive prescriptive analytics. cultivate team infrastructure support modeling analyzing loan data wholesale credit business lines. develop value-added analytics solutions support revenue generation, business insight, risk management, operational efficiency, regulatory compliance, loan pricing, pre post-sale loan facility research. solutions must overcome issues complex data (e.g., vldb, multi-structured, \"big data\", etc.) well deployment advanced techniques (e.g., machine learning, text mining, statistical analysis, etc.) deliver insights. determine best practices areas data science machine learning. facilitate use technologies within loan business loan system applications including precision lender wholesale credit business processes. liaise global banking markets enterprise level teams determine best practices firm contribute improving proficiency areas wct, firm generally. work robotics analytics swat team project intake present new technologies relate solutions high roi applications analytics. manage projects project budget.  minimum qualifications  ph.d. degree related field preferred substantial equivalent experience. typically requires minimum 7-10+ years practitioner machine learning financial markets.  shift: 1st shift (united states america) hours per week: 40\n"
     ]
    },
    {
     "name": "stdin",
     "output_type": "stream",
     "text": [
      " \n"
     ]
    },
    {
     "name": "stdout",
     "output_type": "stream",
     "text": [
      "\n",
      "\n",
      " senior data engineer overview: weedmaps looking senior data engineer help architect, build, scale, maintain world-class data platform. seeking qualified individual eager ensure ability store, process, analyze data keeps business growth ambitions. would early hire fast growing startup significant impact design implementation engineering vision company team grows. impact make: enterprise-wide data modeling database design, processes procedures data governance, change management, taxonomy management master data management. working engineering teams data sme, provide architecture design, development oversight assistance ensuring holistic data strategy scalable data flow architecture. produce documentation standards guidelines technical functional audiences, data flow architecture documentation related platform services. establishing managing ongoing maturity company's business glossary, driving consistent end-to-end data driven integration strategy. develops metadata management repository strategy manage enterprise information architecture. accomplished: strong data schema modeling, orm modeling, soa domain driven design architecture patterns, building highly scalable secure solutions strong understanding aws infrastructure services, python, java/scala, ruby, elixir similar languages required. expert knowledge various relational non relational database systems (aurora postgres, elasticsearch, redshift, dynamodb, graph databases) exceptional documentation communication skills. bs/ms/phd computer science related field benefits: fully covered medical, dental, vision employee dependents matching 401k, 50% match 6% employee contribution 3 weeks accrued pto 5 immediate sick days accident insurance basic life/ad&d (accidental death dismemberment) voluntary short long term disability flexible spending account catered lunch provided 5 days week equipment need get work done fridge always stocked energy drinks snacks casual work environment, read \"no suit tie required\", free dress nines weedmaps equal opportunity employer. qualified applicants receive consideration employment without regard race, color, religion, sex, sexual orientation, gender identity, gender expression, national origin, protected veteran status, basis protected applicable law, discriminated basis disability. looking smartest passionate people want join team develop services, systems, marketplaces serve marijuana industry decades come. company uses e-verify confirm employment eligibility newly hired employees. learn e-verify, including rights responsibilities, please visitwww.dhs.gov/e-verify ( http://www.dhs.gov/e-verify ). weedmaps: founded 2008, weedmaps leading technology software infrastructure provider cannabis industry. suite cloud-based software data solutions includes point sale, logistics ordering solutions enable customers scale businesses complying complex disparate regulations applicable cannabis industry. addition, platform provides consumers information regarding cannabis products across web mobile platforms, including listing local retailers brands, facilitating product discovery allowing consumers educate cannabis history, uses legal status. headquartered irvine, california, weedmaps employs 400 professionals around world, offices including barcelona, berlin, boston, denver, new york, phoenix toronto. waiting for? join weedmaps team!\n"
     ]
    },
    {
     "name": "stdin",
     "output_type": "stream",
     "text": [
      " \n"
     ]
    },
    {
     "name": "stdout",
     "output_type": "stream",
     "text": [
      "\n",
      "\n",
      "  blue skies, data analyst primarily responsible successful completion project activities directed project manager. project activities include understanding customers’ business order complete requirements analysis definition, design solution, prototypes testing, deployment solution post go-live support. data analyst works direction engagement project manager may also required lead small medium engagements. data analyst’s responsibilities fall three major categories: delivery, practice development, sales & marketing. delivery sustain average billable utilization 100% maintain high level customer satisfaction exceeding client expectations self-manage completion assigned activities practice development participate proactively corporate initiatives provide operational support blue skies creation refinement deliverables processes (focused project delivery) sales / sales collaboration & marketing provide sales & business development support assigned maintain expected levels activity within blue skies’ “relationship sales program” position responsibilities: blue skies expects data analyst plan, research analyze business requirements customer; make reasoned decisions assessing details, provide recommendations along risks issues involved alternative. project initiation – participate project onboarding process, assimilate client information project contractual obligations, understand assigned tasks project planning – assist project manager detailed planning assigned activities project execution – successfully complete assigned individual team project tasks throughout project, meeting timelines deliverable quality standards project closure – complete assigned project closure tasks including blue skies’ documentation, templates marketing activities corporate growth – participate corporate initiatives support blue skies’ journey excellence mission required skills experience:  management consulting experience desired master data management (mdm) software implementation experience (informatica, reltio, sap mdg, talend, teradata, etc.) strong analytical, problem solving skills keen attention detail ability collect & interpret large data sets identify patterns & trends ability analyze data report results back relevant members business ability analyze large datasets & write comprehensive reports ability translate business requirements data requirements defining new data collection analysis processes general business process operations understanding (i.e., finance, supply chain, etc.) understanding core data objects (product, customer, vendor) cross-functional impact understanding data gathering, inspecting, cleansing, transforming, modeling/diagramming techniques understanding data integration, data conversion, data profiling data life cycle implementation methodology lifecycle understanding execution ability self-manage effectively excellent verbal written communication skills ability collaborate effectively team ability willingness learn new concepts approaches ms excel sql proficiency support data analysis reporting activities ms powerpoint content development creativity skills friendly, respectful, courteous, selfless modest bachelor’s master’s degree mathematics, computer science, information management statistics job types: full-time, contract experience: data analysis: 3 years (required) location: princeton, nj (required) work authorization: united states (required) contract length: varies contract renewal: likely \n"
     ]
    },
    {
     "name": "stdin",
     "output_type": "stream",
     "text": [
      " \n"
     ]
    },
    {
     "name": "stdout",
     "output_type": "stream",
     "text": [
      "\n",
      "\n",
      "  overview  position reports director compliance operations and, responsible acquire, manage, analyze data report results trends associated compliance risk enable company quickly precisely align resources. responsibilities include items ensuring data quality, identifying resolving issues data logical mathematical nature, identification trends large datasets; develop automation, reporting self-service capabilities duties assigned. ability source data point sale systems associated databases/data marts needed pre-examination, examination, customer remediation reporting package needs.  responsibilities  analyze data associated customer complaints, issues, regulatory examinations, compliance testing findings along associated products/services, financial data, servicing channel geographical data identify shifts trends level within enterprise hierarchy vertical horizontal views. build produce reporting key risk indicators trends associated compliance risk. take active part development continual improvement processes regarding data quality control, user self-service data access, delivery information across enterprise.   qualifications  equivalent education level required: bachelor degree information systems, computer science, mathematics relevant field. experience required: experience relational databases, data warehouses, data manipulation presentation. 1-3 years experience using tableau, sas and/or packages. experience etl tools. experience data mining techniques. knowledge required: excellent written verbal communications skills would needed communicate person, phone, email; adaptability flexibility changing environment; comfortable working dynamic, high volume, fast-paced environment. ability read, write, evaluate, apply information. ability interact professionally exhibit appropriate social skills. ability understand ensure compliance policies, procedures, laws governing industry/business products. ability develop maintain business relationships. ability communicate people across wide range technical financial knowledge. technical expertise regarding data models database design development. physical requirements: sitting long periods time; standing occasionally; walking; bending; squatting; kneeling; pushing/pulling; reaching; twisting; frequent lifting less 10 lbs., occasional lifting 20 lbs.; typing; data entry; grasping; transferring items hands and/or another person receptacle; use office equipment include computers; ability travel to, physically present at, complete physical requirements position assigned location. travel: 0-10% attire: business casual  other: must eligible work usa able pass background check. \n"
     ]
    },
    {
     "name": "stdin",
     "output_type": "stream",
     "text": [
      " \n"
     ]
    },
    {
     "name": "stdout",
     "output_type": "stream",
     "text": [
      "\n",
      "\n",
      "   req. id: 144857  micron technology’s vision transform world uses information enrich life commitment people, innovation, tenacity, collaboration, customer focus allows us fulfill mission global leader memory storage solutions. means conducting business integrity, accountability, professionalism supporting global community.  smart manufacturing & ai data scientist micron technology, inc., work world-class team data engineers, business intelligence experts, software engineers discover data insights unobservable traditional business solutions. draw broad background data-mining techniques mathematics, statistics, information technology, machine learning, data engineering, design experiments, visualization, text mining discover insightful patterns data. position, take exciting projects across enterprise business processes bring data science methods opportunities sales, supply chain, finance, corporate strategy, marketing, business areas.  responsibilities include, limited to:  strong understanding business strategy develop clear vision data science collaborate data scientists, data engineers business process experts access existing data data warehouse big data environments ability develop, tune, deploy predictive models explain predict business outcomes prepare deliver presentations data visualizations business conclusions   minimum qualifications:  masters computer science, engineering, economics, mathematics, statistics another research science, bs least two years relevant experience strong knowledge experience r, python statistical software familiarity core techniques statistical machine learning, including regularized regression, time series analysis, decision trees, boosting algorithms, neural networks, frequentist bayesian inference, power calculation experimental design, clustering, collaborative filtering, nlp, cross-validation bootstrapping, data visualization strong interpersonal skills maintain positive relationships colleagues proactive collaborate effectively rapidly changing environment   us leader innovative memory solutions, micron helping world make sense data delivering technology transforming world uses information. global brands — micron, crucial ballistix — offer industry’s broadest portfolio. company manufacturing today’s major memory storage technologies: dram, nand, 3d xpoint™ memory. solutions purpose built leverage value data unlock financial insights, accelerate scientific breakthroughs enhance communication around world.  micron benefits employee rewards program, healthcare, paid time (combined sick vacation time), retirement savings plans, paid maternity/paternity leave, employee assistance program, professional development training, workplace wellness programs, micron health clinic (boise only), fitness center / activity rooms (boise only), tuition reimbursement, micron corporate discounts, casual dress attire.  qualified applicants receive consideration employment without regard race, color, religion, sex, sexual orientation, gender identity, national origin, veteran disability status. us sites only: request assistance application process and/or reasonable accommodations, please contact micron’s human resources department 1-800-336-8918 208-368-4748 and/or completing general contact form keywords: boise || idaho (us-id) || united states (us) || technology development || college || regular || engineering || #li-sc2 || tier 4 || \n"
     ]
    },
    {
     "name": "stdin",
     "output_type": "stream",
     "text": [
      " \n"
     ]
    },
    {
     "name": "stdout",
     "output_type": "stream",
     "text": [
      "\n",
      "\n",
      "   description customer data analyst bmw responsible providing expertise, insight innovation area data management, acquisition enhancement goal providing new insights recommending best practices health digital aspects bmw’s customer experience. incumbent responsible analyzing understanding online marketing, website traffic offline data, partnering various teams grow improve customer experience throughout journey. ensuring data quality, segmentation security data digitally place. ideal candidate work develop strategic data enrichment programs optimize available data targeted marketing activities customer centric platform. duties include analysis quality data capture techniques, educating internal customers relevance data business, championing strategies, identifying data gaps developing best practices identify data opportunities easy report effective digital measurement. incumbent also partner internal teams improve data integrity help develop new innovative ways impact positive customer experience. role work closely field teams, dealer networks, marketing, sales, bmw financial services agency partners needed. qualifications experience bachelor’s degree ideally business, communications, etc. equivalent work experience 7- 10 years working experience leading executing data analytics, data quality engineering data research 4 years applying statistical techniques marketing communications use cases strong understanding data science landscape big data opportunities, data capture methods strong understanding web analytics techniques working digital platforms excellent presentation skills  \n"
     ]
    },
    {
     "name": "stdin",
     "output_type": "stream",
     "text": [
      " \n"
     ]
    },
    {
     "name": "stdout",
     "output_type": "stream",
     "text": [
      "\n",
      "\n",
      "   managerial direction, wide latitude independent judgment initiative, business data analyst manager (bdam) responsible identifying troubleshooting various issues technical business resolution escalation, appropriate. bdam may responsibility supervising analytical staff. specific duties responsibilities include limited to: collects analyzes statistical quantitative data, employing standard data collection statistical techniques, order produce summary descriptive projective results agency decision making. monitors, reviews, controls coordinates subordinates’ activities, assignments, projects cases personal observation, review statistical narrative data, reports, correspondence. compare work completed milestone expectations, meet program unit objectives. prepare, distribute, schedule work activities assignments based knowledge nature duration activities assignments performed. use basic scheduling techniques, desires abilities staff possible, order provide timetable efficient completion unit work adequate coverage hours operation. analyze department business processes existing technology, recommend needed changes enhancement work departments implement solutions. liaison acs develop repair technical tools maintain project reports entire department. lead development delivery in-service training improve timeliness quality case openings, case maintenance case closings connections, wms/ccrs/bics promis troubleshoot problems identified users applications systems impact case openings, case maintenance, payments, medicaid activations, sso incident management tracking system recon ssps tool. initiate follow-up corrective actions, including interface acs provider agency staff, maintain records errors corrected, order reconcile issues resolve problems. participate development design changes applications like connections, wms/ccrs/bics. promis, lts, ssps tool sso incident management tracking system. rate evaluate job performance subordinates observations, record keeping, use appropriate forms, order document employee’s level performance.   minimum qual requirements  1. master’s degree accredited college university, accredited regional, national, professional specialized agencies recognized accrediting bodies u.s. secretary education council higher education accreditation (chea) economics, finance, accounting, business public administration, human resources management, management science, operations research, organizational behavior, industrial psychology, statistics, personnel administration, labor relations, psychology, sociology, human resources development, political science, urban studies closely related field, one year satisfactory full-time professional experience one combination following: working budget large public private concern budget administration, accounting, economic financial administration, fiscal economic research; management methods analysis, operations research, organizational research program evaluation; personnel public administration, recruitment, position classification, personnel relations, labor relations, employee benefits, staff development, employment program planning/administration, labor market research, economic planning, social services program planning/evaluation, fiscal management; related area; 2. baccalaureate degree accredited college university, accredited regional, national, professional specialized agencies recognized accrediting bodies u.s. secretary education council higher education accreditation (chea) three years satisfactory full-time professional experience areas described “1\" above.   additional information  section 424-a new york social services law requires authorized agency inquire whether candidate employment child-caring responsibilities subject child abuse maltreatment report. position open permanent candidates currently serving civil service title associate staff analyst. city new york administration children’s services equal opportunity employers committed diversity   apply  click \"apply now\" button.   residency requirement  new york city residency generally required within 90 days appointment. however, city employees certain titles worked city 2 continuous years may also eligible reside nassau, suffolk, putnam, westchester, rockland, orange county. determine residency requirement applies you, please discuss agency representative time interview.  \n"
     ]
    },
    {
     "name": "stdin",
     "output_type": "stream",
     "text": [
      " \n"
     ]
    },
    {
     "name": "stdout",
     "output_type": "stream",
     "text": [
      "\n",
      "\n",
      "  analyst update internal tracking, create reporting respond escalations within defined responsibilities. main duties / responsibilities build & qa billing/pricing element tables (interchange, auth, data capture, etc.). provide assistance feedback senior data analyst(s) respond operations, product sales escalations. manage card brand 3rd party invoices; query monthly invoices generate p&l reports coordination it/dba commissions/finance teams. build maintain cross-processor interchange code billing descriptor mapping grids (us & canada regions). analyze impact card brand updates/changes production pricing billing elements. develop portfolio specific reporting/metrics using business intelligence tools e.g. ms power bi.  requirements bachelor’s degree preferred. 3+ years financial and/or payments acquiring position. acquiring and/or payment processing industry experience preferred. good understanding clearing settlement concepts (visa, mastercard & pin debit networks). strong proficiency ms office suite; advanced excel must. mysql experience preferred. ability work simultaneously various data sources large datasets. ability deliver tight deadlines work simultaneously multiple projects. ability exercise discretion judgment dealing confidential sensitive data. ability maintain accurate detailed records. ability establish priorities, work team context, manage multiple tasks/projects. help identify gaps and/or optimization opportunities within existing processes. excellent communication skills (oral written). \n"
     ]
    },
    {
     "name": "stdin",
     "output_type": "stream",
     "text": [
      " \n"
     ]
    },
    {
     "name": "stdout",
     "output_type": "stream",
     "text": [
      "\n",
      "\n",
      "  overview  working part dedicated research team heart fine arts division, individual responsible data input consolidation well management object database. / responsibility partner researcher team build robust database, specialists rely integrity data utilize resource potential business getting.  contract position: december 20, 2019 responsibilities  acting department point person newly identified property, information leads come central point input, upkeep development object database fine arts division. building comprehensive complete lists artists’ oeuvres researching full market history current ownerships works art consolidating intelligence internal sources gathering intelligence external sources centralizing existing internal data  jointly manage object database updating pricing ownership daily entering new intelligence expand database  qualifications  prior data analyst experience strongly preferred exceptional excel proficiency proficiency ms word, outlook general familiarity database management (knowledge sotheby’s systems plus) flexibility work long hours, including evenings weekends sale deadline periods exceptional organizational skills attention detail ability perform multiple tasks simultaneously efficiently meet constant deadlines ability troubleshoot solve problematic situations regular basis strong verbal written communication skills, including excellent phone manner proven client service skills discreet, dependable mature enthusiasm art willingness broaden knowledge knowledge fine art preferred \n"
     ]
    },
    {
     "name": "stdin",
     "output_type": "stream",
     "text": [
      " \n"
     ]
    },
    {
     "name": "stdout",
     "output_type": "stream",
     "text": [
      "\n",
      "\n",
      " expedia carrentals small rapidly growing company within expedia group portfolio premier car rental booking company web. carrentals powers three different brands across multiple points sale single common platform, bringing suppliers customers together find right car best price. carrentals offers phenomenal opportunity work startup-like environment backed resources, benefits, network large, multi-national online e-commerce company.  senior data analyst, carrentals finance tech team, build solutions automate rhythm business functions, apply statistical forecast models support financial operational forecasting, use data science solve problems problem isn’t obvious. cr finance small team big ambitions transform role finance business use data. passionate data analysis? master vb python? find travel fascinating always wondered looks like behind scenes?  position carrentals finance building team technologists objective transforming finance business. looking someone passion using data hypothesize, investigate solve real-world problems. enjoy working various data sets, spanning finance, web, marketing, booking data, different data platforms, collaborating bright minds diverse groups regular basis. able see impact work analyses business contribute deeply.  you’ll do:  complete ad-hoc analysis requests using relational databases/aws, excel, tableau (or looker), hive, python, r. automate boring, eradicate mundane, use keyboard code. use data find insights make data-driven decisions support advise leadership team. collaborate various teams – fp&a, accounting, analytics data engineering pursuit mission. work remote team members foster relationships part multi-functional project team. take inconsistent data multiple sources transform single, usable form. design implement reporting solutions end state analyses. enable internal partners make data-driven decisions.  are:  bachelor’s degree (majors business, statistics, computer science, data science) 3+ years relevant experience. write advanced sql code know basic etl. advanced excel skills. familiarity tableau, looker, similar reporting tool. familiarity python another mainstream scripting language. bias action. think big small grasp entire picture taking care details. experience agile process jira board.  join us: expedia group recognizes success dependent success people. world's travel platform, made knowledgeable, passionate, creative people business. brands recognize power travel break barriers make people's lives better – responsibility inspires us place exceptional people want best work, provide tools so.  whether applying work engineering customer support, marketing lodging supply, expedia group act one team, working towards common goal; bring world within reach. relentlessly strive better, cost customer. act humility optimism, respecting ideas big small. value diversity voices volumes. global organization keep feet ground, act fast stay simple. teams also chance give back local level make difference corporate social responsibility program, expedia cares.  hunger make difference one loved consumer brands world work dynamic travel industry, job you. family travel brands includes: brand expedia®, hotels.com®, expedia® partner solutions, egencia®, trivago®, homeaway®, orbitz®, travelocity®, wotif®, lastminute.com.au®, ebookers®, cheaptickets®, hotwire®, classic vacations®, expedia® media solutions, carrentals.com™, expedia local expert®, expedia® cruiseshipcenters®, silverrail technologies, inc., alice traveldoo®. li-an1 expedia committed creating inclusive work environment diverse workforce. qualified applicants receive consideration employment without regard race, color, religion, gender, gender identity expression, sexual orientation, national origin, genetics, disability, age, veteran status. employer participates e-verify. employer provide social security administration (ssa) and, necessary, department homeland security (dhs) information new employee's i-9 confirm work authorization.\n"
     ]
    }
   ],
   "source": [
    "for desc in indeed_main.description[:10]:\n",
    "    input(\"\")\n",
    "    print(\"\\n\\n\", desc)"
   ]
  },
  {
   "cell_type": "markdown",
   "metadata": {},
   "source": [
    "#### Skills Table Generation Using NER"
   ]
  },
  {
   "cell_type": "code",
   "execution_count": 260,
   "metadata": {},
   "outputs": [],
   "source": [
    "skills = entity_recognition(client, indeed_main)"
   ]
  },
  {
   "cell_type": "code",
   "execution_count": 346,
   "metadata": {},
   "outputs": [],
   "source": [
    "skills.to_csv('./indeed_skills.csv', index=False)"
   ]
  },
  {
   "cell_type": "markdown",
   "metadata": {},
   "source": [
    "## Export Data Scientist Jobs"
   ]
  },
  {
   "cell_type": "code",
   "execution_count": null,
   "metadata": {},
   "outputs": [
    {
     "name": "stderr",
     "output_type": "stream",
     "text": [
      "/opt/conda/lib/python3.7/site-packages/ipykernel_launcher.py:1: UserWarning: This pattern has match groups. To actually get the groups, use str.extract.\n",
      "  \"\"\"Entry point for launching an IPython kernel.\n"
     ]
    }
   ],
   "source": [
    "indeed_ds = indeed_main[indeed_main['title'].str.contains('(?i)(data scientist)', regex=True)]\n",
    "indeed_ds.to_csv('./indeedDSjobs.csv', index=False)"
   ]
  },
  {
   "cell_type": "code",
   "execution_count": null,
   "metadata": {},
   "outputs": [],
   "source": [
    "indeed_ds.reset_index(drop=True, inplace=True)"
   ]
  },
  {
   "cell_type": "code",
   "execution_count": null,
   "metadata": {},
   "outputs": [],
   "source": [
    "ds_skills = entity_recognition(client, indeed_ds)"
   ]
  },
  {
   "cell_type": "code",
   "execution_count": null,
   "metadata": {},
   "outputs": [],
   "source": [
    "ds_skills.to_csv('./indeed_ds_skills.csv', index=False)"
   ]
  },
  {
   "cell_type": "code",
   "execution_count": 361,
   "metadata": {},
   "outputs": [
    {
     "data": {
      "text/html": [
       "<div>\n",
       "<style scoped>\n",
       "    .dataframe tbody tr th:only-of-type {\n",
       "        vertical-align: middle;\n",
       "    }\n",
       "\n",
       "    .dataframe tbody tr th {\n",
       "        vertical-align: top;\n",
       "    }\n",
       "\n",
       "    .dataframe thead th {\n",
       "        text-align: right;\n",
       "    }\n",
       "</style>\n",
       "<table border=\"1\" class=\"dataframe\">\n",
       "  <thead>\n",
       "    <tr style=\"text-align: right;\">\n",
       "      <th></th>\n",
       "      <th>id</th>\n",
       "      <th>skill</th>\n",
       "      <th>category</th>\n",
       "      <th>confidence score</th>\n",
       "      <th>posting_date</th>\n",
       "      <th>description</th>\n",
       "      <th>title</th>\n",
       "      <th>employer</th>\n",
       "      <th>industry</th>\n",
       "      <th>source</th>\n",
       "      <th>country</th>\n",
       "    </tr>\n",
       "  </thead>\n",
       "  <tbody>\n",
       "    <tr>\n",
       "      <th>3425</th>\n",
       "      <td>da78601e21da6ecb53eceba6ee6e4301</td>\n",
       "      <td>25 pounds</td>\n",
       "      <td>Quantity</td>\n",
       "      <td>0.80</td>\n",
       "      <td>2019-10-25</td>\n",
       "      <td>job description visa world’s largest consumer...</td>\n",
       "      <td>Senior Data Scientist</td>\n",
       "      <td>Visa</td>\n",
       "      <td>NaN</td>\n",
       "      <td>Indeed</td>\n",
       "      <td>United States</td>\n",
       "    </tr>\n",
       "    <tr>\n",
       "      <th>1308</th>\n",
       "      <td>00112c0c01d44c55fb544ca5d8c657e9</td>\n",
       "      <td>datasets</td>\n",
       "      <td>Skill</td>\n",
       "      <td>0.49</td>\n",
       "      <td>2019-10-04</td>\n",
       "      <td>criteo, building advertising platform choice ...</td>\n",
       "      <td>Internship Data Scientist, Product Analytics, ...</td>\n",
       "      <td>Criteo</td>\n",
       "      <td>NaN</td>\n",
       "      <td>Indeed</td>\n",
       "      <td>United States</td>\n",
       "    </tr>\n",
       "    <tr>\n",
       "      <th>2566</th>\n",
       "      <td>968161a5b323139f074d3b31a34702f1</td>\n",
       "      <td>coding programming</td>\n",
       "      <td>Skill</td>\n",
       "      <td>0.80</td>\n",
       "      <td>2019-10-25</td>\n",
       "      <td>position title data scientist  location ralei...</td>\n",
       "      <td>Data Scientist</td>\n",
       "      <td>Genworth</td>\n",
       "      <td>NaN</td>\n",
       "      <td>Indeed</td>\n",
       "      <td>United States</td>\n",
       "    </tr>\n",
       "    <tr>\n",
       "      <th>3691</th>\n",
       "      <td>35ad5d2a885fbdd752fa8bc8a2327160</td>\n",
       "      <td>natural language processing</td>\n",
       "      <td>Skill</td>\n",
       "      <td>0.70</td>\n",
       "      <td>2020-11-11</td>\n",
       "      <td>overview: passionate applying data science art...</td>\n",
       "      <td>Data Scientist</td>\n",
       "      <td>ESRI, Inc.</td>\n",
       "      <td>Healthcare</td>\n",
       "      <td>Indeed</td>\n",
       "      <td>India</td>\n",
       "    </tr>\n",
       "    <tr>\n",
       "      <th>2020</th>\n",
       "      <td>88504476dce22903b43ac0ada877fd70</td>\n",
       "      <td>r</td>\n",
       "      <td>Skill</td>\n",
       "      <td>0.59</td>\n",
       "      <td>2019-08-25</td>\n",
       "      <td>live objects live objects delivers continuous...</td>\n",
       "      <td>Data Scientist</td>\n",
       "      <td>LIVE OBJECTS</td>\n",
       "      <td>NaN</td>\n",
       "      <td>Indeed</td>\n",
       "      <td>United States</td>\n",
       "    </tr>\n",
       "  </tbody>\n",
       "</table>\n",
       "</div>"
      ],
      "text/plain": [
       "                                    id                        skill  category  \\\n",
       "3425  da78601e21da6ecb53eceba6ee6e4301                    25 pounds  Quantity   \n",
       "1308  00112c0c01d44c55fb544ca5d8c657e9                     datasets     Skill   \n",
       "2566  968161a5b323139f074d3b31a34702f1           coding programming     Skill   \n",
       "3691  35ad5d2a885fbdd752fa8bc8a2327160  natural language processing     Skill   \n",
       "2020  88504476dce22903b43ac0ada877fd70                            r     Skill   \n",
       "\n",
       "      confidence score posting_date  \\\n",
       "3425              0.80   2019-10-25   \n",
       "1308              0.49   2019-10-04   \n",
       "2566              0.80   2019-10-25   \n",
       "3691              0.70   2020-11-11   \n",
       "2020              0.59   2019-08-25   \n",
       "\n",
       "                                            description  \\\n",
       "3425   job description visa world’s largest consumer...   \n",
       "1308   criteo, building advertising platform choice ...   \n",
       "2566   position title data scientist  location ralei...   \n",
       "3691  overview: passionate applying data science art...   \n",
       "2020   live objects live objects delivers continuous...   \n",
       "\n",
       "                                                  title      employer  \\\n",
       "3425                              Senior Data Scientist          Visa   \n",
       "1308  Internship Data Scientist, Product Analytics, ...        Criteo   \n",
       "2566                                     Data Scientist      Genworth   \n",
       "3691                                     Data Scientist    ESRI, Inc.   \n",
       "2020                                     Data Scientist  LIVE OBJECTS   \n",
       "\n",
       "        industry  source        country  \n",
       "3425         NaN  Indeed  United States  \n",
       "1308         NaN  Indeed  United States  \n",
       "2566         NaN  Indeed  United States  \n",
       "3691  Healthcare  Indeed          India  \n",
       "2020         NaN  Indeed  United States  "
      ]
     },
     "execution_count": 361,
     "metadata": {},
     "output_type": "execute_result"
    }
   ],
   "source": [
    "ds_df = pd.merge(ds_skills, indeed_ds)\n",
    "ds_df.sample(5)"
   ]
  }
 ],
 "metadata": {
  "environment": {
   "name": "tf2-2-3-gpu.2-3.m59",
   "type": "gcloud",
   "uri": "gcr.io/deeplearning-platform-release/tf2-2-3-gpu.2-3:m59"
  },
  "kernelspec": {
   "display_name": "Python 3",
   "language": "python",
   "name": "python3"
  },
  "language_info": {
   "codemirror_mode": {
    "name": "ipython",
    "version": 3
   },
   "file_extension": ".py",
   "mimetype": "text/x-python",
   "name": "python",
   "nbconvert_exporter": "python",
   "pygments_lexer": "ipython3",
   "version": "3.7.8"
  }
 },
 "nbformat": 4,
 "nbformat_minor": 4
}
