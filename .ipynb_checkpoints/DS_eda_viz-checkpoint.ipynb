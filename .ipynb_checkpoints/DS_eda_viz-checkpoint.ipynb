{
 "cells": [
  {
   "cell_type": "markdown",
   "id": "53107f4d",
   "metadata": {},
   "source": [
    "## Introduction\n",
    "####  Data analysis & visualiztion on the skills of data scientists from the job description of 2 hiring websites"
   ]
  },
  {
   "cell_type": "code",
   "execution_count": 17,
   "id": "7e13e6f1",
   "metadata": {
    "ExecuteTime": {
     "end_time": "2022-05-19T11:18:46.475203Z",
     "start_time": "2022-05-19T11:18:46.462570Z"
    }
   },
   "outputs": [],
   "source": [
    "from __future__ import print_function\n",
    "import pandas as pd\n",
    "import numpy as np\n",
    "\n",
    "# Text preprocessing\n",
    "import os,re\n",
    "\n",
    "# Disable warning of 3 types\n",
    "import warnings\n",
    "\n",
    "#Plotting\n",
    "import matplotlib.pyplot as plt\n",
    "import matplotlib.cm as cm\n",
    "\n",
    "# Other utils\n",
    "from tqdm import tqdm  # Progress bar\n",
    "\n",
    "#EDA tools.\n",
    "import dtale\n",
    "\n",
    "# nlp text cleaning\n",
    "import nltk\n",
    "import re\n",
    "import string\n",
    "from nltk.tokenize import word_tokenize, sent_tokenize\n",
    "from nltk.corpus import stopwords\n",
    "from nltk.stem import PorterStemmer # or LancasterStemmer, RegexpStemmer, SnowballStemmer\n",
    "\n",
    "# Transformers\n",
    "from transformers import pipeline\n",
    "import ipywidgets as widgets\n",
    "from transformers import pipeline\n",
    "from sentence_transformers import SentenceTransformer\n",
    "\n",
    "# Clustering algorithms\n",
    "from sklearn.decomposition import PCA\n",
    "from sklearn.cluster import KMeans, MiniBatchKMeans"
   ]
  },
  {
   "cell_type": "code",
   "execution_count": 2,
   "id": "f92d637b",
   "metadata": {
    "ExecuteTime": {
     "end_time": "2022-05-19T10:03:33.811178Z",
     "start_time": "2022-05-19T10:03:33.731741Z"
    }
   },
   "outputs": [],
   "source": [
    "# load main table only including the jobs of data scientists\n",
    "ds_file= './01_data/output/datascientists.csv'\n",
    "df_main=pd.read_csv(ds_file)"
   ]
  },
  {
   "cell_type": "code",
   "execution_count": 3,
   "id": "93f83d75",
   "metadata": {
    "ExecuteTime": {
     "end_time": "2022-05-19T10:03:33.825973Z",
     "start_time": "2022-05-19T10:03:33.813841Z"
    }
   },
   "outputs": [],
   "source": [
    "# Drop the duplicated job postings \n",
    "df_main.drop_duplicates(subset=['employer','description','title','location'],inplace=True)"
   ]
  },
  {
   "cell_type": "code",
   "execution_count": 4,
   "id": "bf2e6255",
   "metadata": {
    "ExecuteTime": {
     "end_time": "2022-05-19T10:03:33.883032Z",
     "start_time": "2022-05-19T10:03:33.829370Z"
    }
   },
   "outputs": [],
   "source": [
    "# load skills produced by azure\n",
    "az_skills= './01_data/output/az_skills.csv'\n",
    "df_skills=pd.read_csv(az_skills)"
   ]
  },
  {
   "cell_type": "code",
   "execution_count": 31,
   "id": "d7c489f4",
   "metadata": {
    "ExecuteTime": {
     "end_time": "2022-05-19T12:47:34.502047Z",
     "start_time": "2022-05-19T12:47:34.464544Z"
    }
   },
   "outputs": [
    {
     "data": {
      "text/html": [
       "<div>\n",
       "<style scoped>\n",
       "    .dataframe tbody tr th:only-of-type {\n",
       "        vertical-align: middle;\n",
       "    }\n",
       "\n",
       "    .dataframe tbody tr th {\n",
       "        vertical-align: top;\n",
       "    }\n",
       "\n",
       "    .dataframe thead th {\n",
       "        text-align: right;\n",
       "    }\n",
       "</style>\n",
       "<table border=\"1\" class=\"dataframe\">\n",
       "  <thead>\n",
       "    <tr style=\"text-align: right;\">\n",
       "      <th></th>\n",
       "      <th>Unnamed: 0</th>\n",
       "      <th>id</th>\n",
       "      <th>skill</th>\n",
       "      <th>category</th>\n",
       "      <th>confidence score</th>\n",
       "    </tr>\n",
       "  </thead>\n",
       "  <tbody>\n",
       "    <tr>\n",
       "      <th>0</th>\n",
       "      <td>0</td>\n",
       "      <td>4.148184e+09</td>\n",
       "      <td>technologie-themen</td>\n",
       "      <td>Skill</td>\n",
       "      <td>0.84</td>\n",
       "    </tr>\n",
       "    <tr>\n",
       "      <th>1</th>\n",
       "      <td>1</td>\n",
       "      <td>4.148184e+09</td>\n",
       "      <td>technologie-themen</td>\n",
       "      <td>Skill</td>\n",
       "      <td>0.84</td>\n",
       "    </tr>\n",
       "    <tr>\n",
       "      <th>2</th>\n",
       "      <td>2</td>\n",
       "      <td>4.203393e+09</td>\n",
       "      <td>artificial intelligence</td>\n",
       "      <td>Skill</td>\n",
       "      <td>0.91</td>\n",
       "    </tr>\n",
       "    <tr>\n",
       "      <th>3</th>\n",
       "      <td>3</td>\n",
       "      <td>4.203393e+09</td>\n",
       "      <td>machine learning</td>\n",
       "      <td>Skill</td>\n",
       "      <td>0.83</td>\n",
       "    </tr>\n",
       "    <tr>\n",
       "      <th>4</th>\n",
       "      <td>4</td>\n",
       "      <td>4.203393e+09</td>\n",
       "      <td>data scientist**</td>\n",
       "      <td>PersonType</td>\n",
       "      <td>0.71</td>\n",
       "    </tr>\n",
       "    <tr>\n",
       "      <th>...</th>\n",
       "      <td>...</td>\n",
       "      <td>...</td>\n",
       "      <td>...</td>\n",
       "      <td>...</td>\n",
       "      <td>...</td>\n",
       "    </tr>\n",
       "    <tr>\n",
       "      <th>33284</th>\n",
       "      <td>33284</td>\n",
       "      <td>4.189587e+09</td>\n",
       "      <td>machine learning</td>\n",
       "      <td>Skill</td>\n",
       "      <td>1.00</td>\n",
       "    </tr>\n",
       "    <tr>\n",
       "      <th>33285</th>\n",
       "      <td>33285</td>\n",
       "      <td>4.189587e+09</td>\n",
       "      <td>deep learning</td>\n",
       "      <td>Skill</td>\n",
       "      <td>0.99</td>\n",
       "    </tr>\n",
       "    <tr>\n",
       "      <th>33286</th>\n",
       "      <td>33286</td>\n",
       "      <td>4.189587e+09</td>\n",
       "      <td>scikit</td>\n",
       "      <td>Organization</td>\n",
       "      <td>0.54</td>\n",
       "    </tr>\n",
       "    <tr>\n",
       "      <th>33287</th>\n",
       "      <td>33287</td>\n",
       "      <td>4.189587e+09</td>\n",
       "      <td>tensorflow</td>\n",
       "      <td>Organization</td>\n",
       "      <td>0.49</td>\n",
       "    </tr>\n",
       "    <tr>\n",
       "      <th>33288</th>\n",
       "      <td>33288</td>\n",
       "      <td>4.189587e+09</td>\n",
       "      <td>nltk</td>\n",
       "      <td>Organization</td>\n",
       "      <td>0.49</td>\n",
       "    </tr>\n",
       "  </tbody>\n",
       "</table>\n",
       "<p>28432 rows × 5 columns</p>\n",
       "</div>"
      ],
      "text/plain": [
       "       Unnamed: 0            id                    skill      category  \\\n",
       "0               0  4.148184e+09       technologie-themen         Skill   \n",
       "1               1  4.148184e+09       technologie-themen         Skill   \n",
       "2               2  4.203393e+09  artificial intelligence         Skill   \n",
       "3               3  4.203393e+09         machine learning         Skill   \n",
       "4               4  4.203393e+09         data scientist**    PersonType   \n",
       "...           ...           ...                      ...           ...   \n",
       "33284       33284  4.189587e+09         machine learning         Skill   \n",
       "33285       33285  4.189587e+09            deep learning         Skill   \n",
       "33286       33286  4.189587e+09                   scikit  Organization   \n",
       "33287       33287  4.189587e+09               tensorflow  Organization   \n",
       "33288       33288  4.189587e+09                     nltk  Organization   \n",
       "\n",
       "       confidence score  \n",
       "0                  0.84  \n",
       "1                  0.84  \n",
       "2                  0.91  \n",
       "3                  0.83  \n",
       "4                  0.71  \n",
       "...                 ...  \n",
       "33284              1.00  \n",
       "33285              0.99  \n",
       "33286              0.54  \n",
       "33287              0.49  \n",
       "33288              0.49  \n",
       "\n",
       "[28432 rows x 5 columns]"
      ]
     },
     "execution_count": 31,
     "metadata": {},
     "output_type": "execute_result"
    }
   ],
   "source": [
    "df_skills=df_skills[df_skills['category'].isin(['Skill','Product','Person'])]"
   ]
  },
  {
   "cell_type": "code",
   "execution_count": 5,
   "id": "6013c7f6",
   "metadata": {
    "ExecuteTime": {
     "end_time": "2022-05-19T10:03:33.899983Z",
     "start_time": "2022-05-19T10:03:33.886415Z"
    }
   },
   "outputs": [
    {
     "data": {
      "text/plain": [
       "33289"
      ]
     },
     "execution_count": 5,
     "metadata": {},
     "output_type": "execute_result"
    }
   ],
   "source": [
    "len(df_skills)"
   ]
  },
  {
   "cell_type": "code",
   "execution_count": 6,
   "id": "928cc4ee",
   "metadata": {
    "ExecuteTime": {
     "end_time": "2022-05-19T10:03:33.932411Z",
     "start_time": "2022-05-19T10:03:33.904182Z"
    }
   },
   "outputs": [],
   "source": [
    "# Drop the duplicated skills in the same job description\n",
    "df_skills.drop_duplicates(subset=['id','skill'],inplace=True)"
   ]
  },
  {
   "cell_type": "code",
   "execution_count": 7,
   "id": "45422552",
   "metadata": {
    "ExecuteTime": {
     "end_time": "2022-05-19T10:03:33.951496Z",
     "start_time": "2022-05-19T10:03:33.943714Z"
    }
   },
   "outputs": [
    {
     "data": {
      "text/plain": [
       "28432"
      ]
     },
     "execution_count": 7,
     "metadata": {},
     "output_type": "execute_result"
    }
   ],
   "source": [
    "len(df_skills)"
   ]
  },
  {
   "cell_type": "code",
   "execution_count": 8,
   "id": "f82ef944",
   "metadata": {
    "ExecuteTime": {
     "end_time": "2022-05-19T10:03:33.993852Z",
     "start_time": "2022-05-19T10:03:33.965977Z"
    }
   },
   "outputs": [],
   "source": [
    "df_id_cnt=df_skills.groupby(['id']).count()['skill']\n",
    "df_id_cnt=df_id_cnt.reset_index()"
   ]
  },
  {
   "cell_type": "code",
   "execution_count": 9,
   "id": "60e43caf",
   "metadata": {
    "ExecuteTime": {
     "end_time": "2022-05-19T10:03:34.035932Z",
     "start_time": "2022-05-19T10:03:34.001080Z"
    }
   },
   "outputs": [
    {
     "data": {
      "text/html": [
       "<div>\n",
       "<style scoped>\n",
       "    .dataframe tbody tr th:only-of-type {\n",
       "        vertical-align: middle;\n",
       "    }\n",
       "\n",
       "    .dataframe tbody tr th {\n",
       "        vertical-align: top;\n",
       "    }\n",
       "\n",
       "    .dataframe thead th {\n",
       "        text-align: right;\n",
       "    }\n",
       "</style>\n",
       "<table border=\"1\" class=\"dataframe\">\n",
       "  <thead>\n",
       "    <tr style=\"text-align: right;\">\n",
       "      <th></th>\n",
       "      <th>id</th>\n",
       "      <th>skill</th>\n",
       "    </tr>\n",
       "  </thead>\n",
       "  <tbody>\n",
       "    <tr>\n",
       "      <th>count</th>\n",
       "      <td>7.670000e+02</td>\n",
       "      <td>767.000000</td>\n",
       "    </tr>\n",
       "    <tr>\n",
       "      <th>mean</th>\n",
       "      <td>4.144957e+09</td>\n",
       "      <td>37.069100</td>\n",
       "    </tr>\n",
       "    <tr>\n",
       "      <th>std</th>\n",
       "      <td>6.821247e+07</td>\n",
       "      <td>22.738993</td>\n",
       "    </tr>\n",
       "    <tr>\n",
       "      <th>min</th>\n",
       "      <td>3.716076e+09</td>\n",
       "      <td>1.000000</td>\n",
       "    </tr>\n",
       "    <tr>\n",
       "      <th>25%</th>\n",
       "      <td>4.113169e+09</td>\n",
       "      <td>20.000000</td>\n",
       "    </tr>\n",
       "    <tr>\n",
       "      <th>50%</th>\n",
       "      <td>4.169860e+09</td>\n",
       "      <td>35.000000</td>\n",
       "    </tr>\n",
       "    <tr>\n",
       "      <th>75%</th>\n",
       "      <td>4.194530e+09</td>\n",
       "      <td>50.500000</td>\n",
       "    </tr>\n",
       "    <tr>\n",
       "      <th>max</th>\n",
       "      <td>4.210952e+09</td>\n",
       "      <td>135.000000</td>\n",
       "    </tr>\n",
       "  </tbody>\n",
       "</table>\n",
       "</div>"
      ],
      "text/plain": [
       "                 id       skill\n",
       "count  7.670000e+02  767.000000\n",
       "mean   4.144957e+09   37.069100\n",
       "std    6.821247e+07   22.738993\n",
       "min    3.716076e+09    1.000000\n",
       "25%    4.113169e+09   20.000000\n",
       "50%    4.169860e+09   35.000000\n",
       "75%    4.194530e+09   50.500000\n",
       "max    4.210952e+09  135.000000"
      ]
     },
     "execution_count": 9,
     "metadata": {},
     "output_type": "execute_result"
    }
   ],
   "source": [
    "df_id_cnt.describe()"
   ]
  },
  {
   "cell_type": "code",
   "execution_count": 10,
   "id": "3ff1e78d",
   "metadata": {
    "ExecuteTime": {
     "end_time": "2022-05-19T10:03:34.079419Z",
     "start_time": "2022-05-19T10:03:34.045293Z"
    }
   },
   "outputs": [],
   "source": [
    "df_skills_cnt=df_skills.groupby(['skill']).count()['id']\n",
    "df_skills_cnt=df_skills_cnt.reset_index()"
   ]
  },
  {
   "cell_type": "code",
   "execution_count": 11,
   "id": "6e4970a3",
   "metadata": {
    "ExecuteTime": {
     "end_time": "2022-05-19T10:03:34.108619Z",
     "start_time": "2022-05-19T10:03:34.083541Z"
    }
   },
   "outputs": [
    {
     "data": {
      "text/html": [
       "<div>\n",
       "<style scoped>\n",
       "    .dataframe tbody tr th:only-of-type {\n",
       "        vertical-align: middle;\n",
       "    }\n",
       "\n",
       "    .dataframe tbody tr th {\n",
       "        vertical-align: top;\n",
       "    }\n",
       "\n",
       "    .dataframe thead th {\n",
       "        text-align: right;\n",
       "    }\n",
       "</style>\n",
       "<table border=\"1\" class=\"dataframe\">\n",
       "  <thead>\n",
       "    <tr style=\"text-align: right;\">\n",
       "      <th></th>\n",
       "      <th>skill</th>\n",
       "      <th>id</th>\n",
       "    </tr>\n",
       "  </thead>\n",
       "  <tbody>\n",
       "    <tr>\n",
       "      <th>3420</th>\n",
       "      <td>machine learning</td>\n",
       "      <td>479</td>\n",
       "    </tr>\n",
       "    <tr>\n",
       "      <th>1614</th>\n",
       "      <td>data</td>\n",
       "      <td>404</td>\n",
       "    </tr>\n",
       "    <tr>\n",
       "      <th>5491</th>\n",
       "      <td>statistics</td>\n",
       "      <td>364</td>\n",
       "    </tr>\n",
       "    <tr>\n",
       "      <th>882</th>\n",
       "      <td>business</td>\n",
       "      <td>359</td>\n",
       "    </tr>\n",
       "    <tr>\n",
       "      <th>4658</th>\n",
       "      <td>python</td>\n",
       "      <td>355</td>\n",
       "    </tr>\n",
       "    <tr>\n",
       "      <th>...</th>\n",
       "      <td>...</td>\n",
       "      <td>...</td>\n",
       "    </tr>\n",
       "    <tr>\n",
       "      <th>2619</th>\n",
       "      <td>funding optimization</td>\n",
       "      <td>1</td>\n",
       "    </tr>\n",
       "    <tr>\n",
       "      <th>2618</th>\n",
       "      <td>funding</td>\n",
       "      <td>1</td>\n",
       "    </tr>\n",
       "    <tr>\n",
       "      <th>2617</th>\n",
       "      <td>functions.work</td>\n",
       "      <td>1</td>\n",
       "    </tr>\n",
       "    <tr>\n",
       "      <th>2615</th>\n",
       "      <td>functional code</td>\n",
       "      <td>1</td>\n",
       "    </tr>\n",
       "    <tr>\n",
       "      <th>6283</th>\n",
       "      <td>zyngas</td>\n",
       "      <td>1</td>\n",
       "    </tr>\n",
       "  </tbody>\n",
       "</table>\n",
       "<p>6284 rows × 2 columns</p>\n",
       "</div>"
      ],
      "text/plain": [
       "                     skill   id\n",
       "3420      machine learning  479\n",
       "1614                  data  404\n",
       "5491            statistics  364\n",
       "882               business  359\n",
       "4658                python  355\n",
       "...                    ...  ...\n",
       "2619  funding optimization    1\n",
       "2618               funding    1\n",
       "2617        functions.work    1\n",
       "2615       functional code    1\n",
       "6283                zyngas    1\n",
       "\n",
       "[6284 rows x 2 columns]"
      ]
     },
     "execution_count": 11,
     "metadata": {},
     "output_type": "execute_result"
    }
   ],
   "source": [
    "df_skills_cnt.sort_values('id',ascending=False)"
   ]
  },
  {
   "cell_type": "code",
   "execution_count": 12,
   "id": "e70b8dfa",
   "metadata": {
    "ExecuteTime": {
     "end_time": "2022-05-19T10:03:34.314612Z",
     "start_time": "2022-05-19T10:03:34.114209Z"
    }
   },
   "outputs": [],
   "source": [
    "# Perform EDA to check main table\n",
    "d0 = dtale.show(df_main)\n",
    "d0.open_browser()"
   ]
  },
  {
   "cell_type": "code",
   "execution_count": 13,
   "id": "f35f5042",
   "metadata": {
    "ExecuteTime": {
     "end_time": "2022-05-19T10:03:59.688171Z",
     "start_time": "2022-05-19T10:03:34.407724Z"
    },
    "scrolled": false
   },
   "outputs": [
    {
     "name": "stderr",
     "output_type": "stream",
     "text": [
      "2022-05-19 18:03:34,420 - INFO     - Load pretrained SentenceTransformer: bert-large-nli-mean-tokens\n",
      "2022-05-19 18:03:59,685 - INFO     - Use pytorch device: cpu\n"
     ]
    }
   ],
   "source": [
    "onlinemodel='bert-large-nli-mean-tokens'\n",
    "embedder = SentenceTransformer(onlinemodel)"
   ]
  },
  {
   "cell_type": "code",
   "execution_count": 26,
   "id": "ee340897",
   "metadata": {
    "ExecuteTime": {
     "end_time": "2022-05-19T12:20:50.862056Z",
     "start_time": "2022-05-19T12:14:49.573780Z"
    }
   },
   "outputs": [
    {
     "data": {
      "application/vnd.jupyter.widget-view+json": {
       "model_id": "8b627794f5474203a127fdc5b0c142dd",
       "version_major": 2,
       "version_minor": 0
      },
      "text/plain": [
       "HBox(children=(HTML(value='Batches'), FloatProgress(value=0.0, max=197.0), HTML(value='')))"
      ]
     },
     "metadata": {},
     "output_type": "display_data"
    },
    {
     "name": "stdout",
     "output_type": "stream",
     "text": [
      "\n"
     ]
    }
   ],
   "source": [
    "#queries = list(jobs['job_desc'][0:30])\n",
    "queries = list(df_skills['skill'].unique())\n",
    "query_embeddings = embedder.encode(queries)"
   ]
  },
  {
   "cell_type": "code",
   "execution_count": 27,
   "id": "c86e558b",
   "metadata": {
    "ExecuteTime": {
     "end_time": "2022-05-19T12:28:32.556064Z",
     "start_time": "2022-05-19T12:20:50.865411Z"
    }
   },
   "outputs": [
    {
     "name": "stdout",
     "output_type": "stream",
     "text": [
      "k:  1 sse:  1038200.0\n",
      "k:  2 sse:  980762.625\n",
      "k:  3 sse:  937072.4375\n",
      "k:  4 sse:  913382.8125\n",
      "k:  5 sse:  895363.9375\n",
      "k:  6 sse:  879164.8125\n",
      "k:  7 sse:  865006.25\n",
      "k:  8 sse:  852341.3125\n",
      "k:  9 sse:  841155.5\n",
      "k:  10 sse:  831114.875\n",
      "k:  11 sse:  821681.75\n",
      "k:  12 sse:  812778.375\n",
      "k:  13 sse:  804503.5\n",
      "k:  14 sse:  796752.3125\n"
     ]
    },
    {
     "data": {
      "image/png": "[encoded data removed]",
      "text/plain": [
       "<Figure size 432x288 with 1 Axes>"
      ]
     },
     "metadata": {
      "needs_background": "light"
     },
     "output_type": "display_data"
    },
    {
     "data": {
      "text/plain": [
       "array([ 2,  0,  0, ..., 12,  8,  0], dtype=int32)"
      ]
     },
     "execution_count": 27,
     "metadata": {},
     "output_type": "execute_result"
    }
   ],
   "source": [
    "\n",
    "# Elbow criterion - Determine optimal numbers of clusters by elbow rule.\n",
    "def elbow_plot(data, maxK=15, seed_centroids=None):\n",
    "    \"\"\"\n",
    "        parameters:\n",
    "        - data: pandas DataFrame (data to be fitted)\n",
    "        - maxK (default = 10): integer (maximum number of clusters with which to run k-means)\n",
    "        - seed_centroids (default = None ): float (initial value of centroids for k-means)\n",
    "    \"\"\"\n",
    "    sse = []\n",
    "    K= range(1, maxK)\n",
    "    for k in K:\n",
    "        if seed_centroids is not None:\n",
    "            seeds = seed_centroids.head(k)\n",
    "            kmeans = KMeans(n_clusters=k, max_iter=500, n_init=100, random_state=0, init=np.reshape(seeds, (k,1))).fit(data)\n",
    "            #data[\"clusters\"] = kmeans.labels_\n",
    "        else:\n",
    "            kmeans = KMeans(n_clusters=k, max_iter=300, n_init=100, random_state=0).fit(data)\n",
    "            #data[\"clusters\"] = kmeans.labels_\n",
    "        print(\"k: \", k,\"sse: \",kmeans.inertia_)\n",
    "        # Inertia: Sum of distances of samples to their closest cluster center\n",
    "        sse.append(kmeans.inertia_)\n",
    "    plt.figure()\n",
    "    plt.plot(K,sse,'bx-')\n",
    "    plt.xlabel('k')\n",
    "    plt.ylabel('Sum_of_squared_distances')\n",
    "    plt.title('Elbow Method For Optimal k')\n",
    "    plt.show()\n",
    "    return kmeans.labels_\n",
    "\n",
    "# Run Elbow\n",
    "elbow_plot(query_embeddings)"
   ]
  },
  {
   "cell_type": "code",
   "execution_count": 29,
   "id": "08248fa4",
   "metadata": {
    "ExecuteTime": {
     "end_time": "2022-05-19T12:41:02.231788Z",
     "start_time": "2022-05-19T12:40:48.337377Z"
    }
   },
   "outputs": [
    {
     "data": {
      "text/html": [
       "<div>\n",
       "<style scoped>\n",
       "    .dataframe tbody tr th:only-of-type {\n",
       "        vertical-align: middle;\n",
       "    }\n",
       "\n",
       "    .dataframe tbody tr th {\n",
       "        vertical-align: top;\n",
       "    }\n",
       "\n",
       "    .dataframe thead th {\n",
       "        text-align: right;\n",
       "    }\n",
       "</style>\n",
       "<table border=\"1\" class=\"dataframe\">\n",
       "  <thead>\n",
       "    <tr style=\"text-align: right;\">\n",
       "      <th></th>\n",
       "      <th>cluster_id</th>\n",
       "      <th>sentence_id</th>\n",
       "      <th>sentence</th>\n",
       "    </tr>\n",
       "  </thead>\n",
       "  <tbody>\n",
       "    <tr>\n",
       "      <th>0</th>\n",
       "      <td>2</td>\n",
       "      <td>0</td>\n",
       "      <td>technologie-themen</td>\n",
       "    </tr>\n",
       "    <tr>\n",
       "      <th>1</th>\n",
       "      <td>2</td>\n",
       "      <td>1</td>\n",
       "      <td>artificial intelligence</td>\n",
       "    </tr>\n",
       "    <tr>\n",
       "      <th>2</th>\n",
       "      <td>2</td>\n",
       "      <td>2</td>\n",
       "      <td>machine learning</td>\n",
       "    </tr>\n",
       "    <tr>\n",
       "      <th>3</th>\n",
       "      <td>2</td>\n",
       "      <td>3</td>\n",
       "      <td>data scientist**</td>\n",
       "    </tr>\n",
       "    <tr>\n",
       "      <th>4</th>\n",
       "      <td>2</td>\n",
       "      <td>4</td>\n",
       "      <td>datasets</td>\n",
       "    </tr>\n",
       "  </tbody>\n",
       "</table>\n",
       "</div>"
      ],
      "text/plain": [
       "  cluster_id sentence_id                 sentence\n",
       "0          2           0       technologie-themen\n",
       "1          2           1  artificial intelligence\n",
       "2          2           2         machine learning\n",
       "3          2           3         data scientist**\n",
       "4          2           4                 datasets"
      ]
     },
     "execution_count": 29,
     "metadata": {},
     "output_type": "execute_result"
    }
   ],
   "source": [
    "# As clustering algorithm KMeams is a perfect fit.\n",
    "num_clusters = 3\n",
    "clf = KMeans(n_clusters=num_clusters, \n",
    "            max_iter=100, \n",
    "            init='k-means++', \n",
    "            n_init=1)\n",
    "clf.fit_predict(query_embeddings)\n",
    "cluster_assignment = clf.labels_\n",
    "\n",
    "cdf=pd.DataFrame(columns=[\"cluster_id\",\"sentence_id\",\"sentence\"])\n",
    "\n",
    "for i in range(len(cluster_assignment)):\n",
    "    new_row=pd.Series(data={\"cluster_id\":cluster_assignment[i],\n",
    "                                \"sentence_id\":i,\n",
    "                                \"sentence\":queries[i]\n",
    "                           }\n",
    "                            )\n",
    "    cdf=cdf.append(new_row,ignore_index=True)\n",
    "\n",
    "cdf.head()"
   ]
  },
  {
   "cell_type": "code",
   "execution_count": 30,
   "id": "209919c6",
   "metadata": {
    "ExecuteTime": {
     "end_time": "2022-05-19T12:42:23.851553Z",
     "start_time": "2022-05-19T12:42:23.752815Z"
    }
   },
   "outputs": [],
   "source": [
    "# Perform EDA to check clustering result\n",
    "d1 = dtale.show(cdf)\n",
    "d1.open_browser()"
   ]
  },
  {
   "cell_type": "code",
   "execution_count": null,
   "id": "aa7b8f96",
   "metadata": {},
   "outputs": [],
   "source": []
  }
 ],
 "metadata": {
  "kernelspec": {
   "display_name": "Python 3",
   "language": "python",
   "name": "python3"
  },
  "language_info": {
   "codemirror_mode": {
    "name": "ipython",
    "version": 3
   },
   "file_extension": ".py",
   "mimetype": "text/x-python",
   "name": "python",
   "nbconvert_exporter": "python",
   "pygments_lexer": "ipython3",
   "version": "3.7.9"
  }
 },
 "nbformat": 4,
 "nbformat_minor": 5
}
