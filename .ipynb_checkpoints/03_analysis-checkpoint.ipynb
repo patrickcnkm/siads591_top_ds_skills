{
 "cells": [
  {
   "cell_type": "markdown",
   "id": "7bc61cc2",
   "metadata": {},
   "source": [
    "## Introduction\n",
    "####  Data analysis & visualiztion on the skills of data scientists from the job description of 2 hiring websites"
   ]
  },
  {
   "cell_type": "code",
   "execution_count": 1,
   "id": "6b656938",
   "metadata": {
    "ExecuteTime": {
     "end_time": "2022-05-25T01:30:29.648201Z",
     "start_time": "2022-05-25T01:30:14.330779Z"
    }
   },
   "outputs": [],
   "source": [
    "from __future__ import print_function\n",
    "import pandas as pd\n",
    "import numpy as np\n",
    "\n",
    "# Text preprocessing\n",
    "import os,re\n",
    "\n",
    "# Disable warning of 3 types\n",
    "import warnings\n",
    "\n",
    "#Plotting\n",
    "import matplotlib.pyplot as plt\n",
    "import matplotlib.cm as cm\n",
    "import altair as alt\n",
    "from altair import datum\n",
    "import pyLDAvis\n",
    "import pyLDAvis.sklearn\n",
    "pyLDAvis.enable_notebook()\n",
    "\n",
    "\n",
    "# Other utils\n",
    "from tqdm import tqdm  # Progress bar\n",
    "from datetime import datetime\n",
    "from dateutil import parser\n",
    "\n",
    "#EDA tools.\n",
    "import dtale\n",
    "\n",
    "# nlp text cleaning\n",
    "import nltk\n",
    "import re\n",
    "import string\n",
    "from nltk.tokenize import word_tokenize, sent_tokenize\n",
    "from nltk.corpus import stopwords\n",
    "from nltk.stem import PorterStemmer # or LancasterStemmer, RegexpStemmer, SnowballStemmer\n",
    "\n",
    "# Transformers\n",
    "from transformers import pipeline\n",
    "import ipywidgets as widgets\n",
    "from transformers import pipeline\n",
    "from sentence_transformers import SentenceTransformer\n",
    "\n",
    "# Clustering algorithms\n",
    "from sklearn.decomposition import PCA\n",
    "from sklearn.cluster import KMeans, MiniBatchKMeans\n",
    "from sklearn.decomposition import LatentDirichletAllocation\n",
    "from scipy.cluster.hierarchy import ward, dendrogram\n",
    "from sklearn.metrics.pairwise import cosine_similarity\n",
    "\n",
    "from sklearn.feature_extraction.text import CountVectorizer, TfidfVectorizer, ENGLISH_STOP_WORDS\n",
    "from nltk.stem.snowball import SnowballStemmer\n",
    "\n",
    "# Visualizing text\n",
    "import spacy\n",
    "import scattertext"
   ]
  },
  {
   "cell_type": "markdown",
   "id": "21b5b3f1",
   "metadata": {},
   "source": [
    "### Pre-settings"
   ]
  },
  {
   "cell_type": "code",
   "execution_count": 2,
   "id": "d61c083d",
   "metadata": {
    "ExecuteTime": {
     "end_time": "2022-05-25T01:30:29.661128Z",
     "start_time": "2022-05-25T01:30:29.651917Z"
    }
   },
   "outputs": [],
   "source": [
    "# Set the width to show the column as much as possible.\n",
    "pd.set_option('display.max_colwidth', 200)\n",
    "\n",
    "# Disable 3 types of warning\n",
    "warnings.filterwarnings(\"ignore\",category=DeprecationWarning)\n",
    "warnings.filterwarnings(\"ignore\",category=(FutureWarning))\n",
    "warnings.filterwarnings(\"ignore\",category=(RuntimeWarning))"
   ]
  },
  {
   "cell_type": "markdown",
   "id": "8de665d6",
   "metadata": {},
   "source": [
    "### Data clean & manipulation\n",
    "- Remove the duplicated records.\n",
    "- Remove the incorrect or inappropriate skills\n",
    "- Combine the main and skills into one table: df_full"
   ]
  },
  {
   "cell_type": "code",
   "execution_count": 3,
   "id": "7533f708",
   "metadata": {
    "ExecuteTime": {
     "end_time": "2022-05-25T01:30:29.830973Z",
     "start_time": "2022-05-25T01:30:29.686080Z"
    }
   },
   "outputs": [],
   "source": [
    "# load main table only including the jobs of data scientists\n",
    "ds_file= './01_data/output/datascientists.csv'\n",
    "df_main=pd.read_csv(ds_file)\n",
    "df_main['id']=df_main['id'].astype('int64')"
   ]
  },
  {
   "cell_type": "code",
   "execution_count": 4,
   "id": "7cd04b26",
   "metadata": {
    "ExecuteTime": {
     "end_time": "2022-05-25T01:30:29.872091Z",
     "start_time": "2022-05-25T01:30:29.841619Z"
    }
   },
   "outputs": [],
   "source": [
    "# Drop the duplicated job postings \n",
    "df_main.drop_duplicates(subset=['employer','description','title','location'],inplace=True)\n",
    "# Drop the job posting with same id even the above would be a little different.\n",
    "df_main.drop_duplicates(subset=['id'],inplace=True)"
   ]
  },
  {
   "cell_type": "code",
   "execution_count": 5,
   "id": "a32c10a8",
   "metadata": {
    "ExecuteTime": {
     "end_time": "2022-05-25T01:30:29.902700Z",
     "start_time": "2022-05-25T01:30:29.886119Z"
    }
   },
   "outputs": [],
   "source": [
    "#removed space in country\n",
    "df_main['country']=df_main['country'].apply(lambda x: x.strip())"
   ]
  },
  {
   "cell_type": "code",
   "execution_count": 6,
   "id": "ce1d0c7e",
   "metadata": {
    "ExecuteTime": {
     "end_time": "2022-05-25T01:30:29.980320Z",
     "start_time": "2022-05-25T01:30:29.924336Z"
    }
   },
   "outputs": [],
   "source": [
    "# load skills produced by azure\n",
    "az_skills= './01_data/output/az_skills.csv'\n",
    "df_skills=pd.read_csv(az_skills)"
   ]
  },
  {
   "cell_type": "code",
   "execution_count": 7,
   "id": "bfb91f6e",
   "metadata": {
    "ExecuteTime": {
     "end_time": "2022-05-25T01:30:30.004659Z",
     "start_time": "2022-05-25T01:30:29.991065Z"
    }
   },
   "outputs": [],
   "source": [
    "# Select skils from 3 categories generated by azure\n",
    "df_skills=df_skills[df_skills['category'].isin(['Skill','Product','Person'])]"
   ]
  },
  {
   "cell_type": "code",
   "execution_count": 8,
   "id": "ff4cc4f5",
   "metadata": {
    "ExecuteTime": {
     "end_time": "2022-05-25T01:30:30.035218Z",
     "start_time": "2022-05-25T01:30:30.008563Z"
    }
   },
   "outputs": [],
   "source": [
    "# Drop the duplicated skills in the same job description\n",
    "df_skills.drop_duplicates(subset=['id','skill'],inplace=True)"
   ]
  },
  {
   "cell_type": "code",
   "execution_count": 9,
   "id": "685606cd",
   "metadata": {
    "ExecuteTime": {
     "end_time": "2022-05-25T01:30:30.051020Z",
     "start_time": "2022-05-25T01:30:30.039510Z"
    }
   },
   "outputs": [],
   "source": [
    "# Decide to divide the job postings into 3 types:junior, senior, and others\n",
    "def ds_level(title=''):\n",
    "    jr = [\"junior\", \"jr\", \"jr.\",\"intern\",\"internship\",\"young\",\"student\",\"analyst\",\"associate\"]\n",
    "    sr = [\"sr.\",\"sr\",\"senior\",\"lead\",\"leading\",\"principal\",\"president\"]\n",
    "\n",
    "    if any(x in title.lower() for x in jr):\n",
    "        return \"junior\"\n",
    "\n",
    "    if any(x in title.lower() for x in sr):\n",
    "        return \"senior\"\n",
    "    \n",
    "    return \"others\"\n"
   ]
  },
  {
   "cell_type": "code",
   "execution_count": 10,
   "id": "8a2f6873",
   "metadata": {
    "ExecuteTime": {
     "end_time": "2022-05-25T01:30:30.073661Z",
     "start_time": "2022-05-25T01:30:30.056090Z"
    }
   },
   "outputs": [],
   "source": [
    "# Assign types\n",
    "df_main['type']=df_main['title'].apply(lambda x: ds_level(x))"
   ]
  },
  {
   "cell_type": "code",
   "execution_count": 11,
   "id": "cf472f0d",
   "metadata": {
    "ExecuteTime": {
     "end_time": "2022-05-25T01:30:30.191252Z",
     "start_time": "2022-05-25T01:30:30.091157Z"
    }
   },
   "outputs": [],
   "source": [
    "# Change string to datetime\n",
    "df_main['posting_date']=df_main['posting_date'].apply(lambda x: parser.parse(x))"
   ]
  },
  {
   "cell_type": "markdown",
   "id": "776fbd52",
   "metadata": {},
   "source": [
    "#### Refine the skills extracted from Azure"
   ]
  },
  {
   "cell_type": "code",
   "execution_count": 12,
   "id": "84dc1e81",
   "metadata": {
    "ExecuteTime": {
     "end_time": "2022-05-25T01:30:30.206138Z",
     "start_time": "2022-05-25T01:30:30.194249Z"
    }
   },
   "outputs": [],
   "source": [
    "# The list of person to be excluded.\n",
    "xl_prd=[\n",
    "        'food coupons', 'coffee', 'room', 'snacks',\n",
    "      'computer screens', 'computers', 'printers',\n",
    "       'copiers', 'computer', 'pool table', 'beers',\n",
    "       'soft drinks', 'wine', 'mac', 'pc', 'nintendo switch',\n",
    "       'big screen tv', 'mario kart', 'holidays', 'car', 'cycle',\n",
    "       'machine',\n",
    "       'office suite',\n",
    "       'ph', 'd', 'drinks', 'watson', 'breakfast', 'fruits', 'advanced',\n",
    "       'artefact',  'suite',\n",
    "       'tv', 'headphones', 'notebooks', 'medicines',\n",
    "       'beverages', 'vehicle',\n",
    "       'infrastructure', 'food',  'celery',\n",
    "       'ansible', 'espresso', \n",
    "       'petrel', 'macbook', 'books', 'vinted', 'bikes', 'home',\n",
    "       'travel insurance', 'earthsofts equis', 'power', 'journals',\n",
    "       'big machines', \n",
    "        'meal',  'meal vouchers',\n",
    "       'laptop', \n",
    "       'textbooks', 'nail polish', 'fridge',  'company car',\n",
    "       'book', 'goodies', 'fresh fruits', \n",
    "        'refreshments', 'plan',\n",
    "       'disability insurance', 'free drinks', 'fruit', \n",
    "      'notebook',\n",
    "       'passport',\n",
    "       'opportunity',\n",
    "       'artificial barriers',\n",
    "       'tessian anc headphones', 'coffee machine', 'hummus',\n",
    "       'dinner', \n",
    "       'apparel', 'uniform', 'restaurant tickets', 'transport tickets',\n",
    "       'gear',   'pizza',\n",
    "       'beer', 'vouchers', \n",
    "        'dress',\n",
    "        'conference tickets', 'cell phone', 'sport vouchers',\n",
    "       'consumer', 'phone',\n",
    "        'friday drinks',\n",
    "       'beanbags', 'guitars', 'table football',\n",
    "       'meals', \n",
    "       'shiny',\n",
    "       'satellite', 'desks', \n",
    "       'mobile phone', \n",
    "       'outlook', 'word', \n",
    "       'jupiter', \n",
    "       'barista', 'coffee machines', \n",
    "       'furniture',  'health care plan',\n",
    "       'death service plan', 'cycle to work scheme', \n",
    "       'cinema tickets', \n",
    "     'company', \n",
    "       'kitchen', 'gourmet coffee', 'teas', 'leaseauto', 'healthy snacks',\n",
    "       'pc computing',  'hd tv', 'pass', \n",
    "         'bicycle', 'plans',\n",
    "       'oil', 'gas', \n",
    "        'fast food', 'ship',\n",
    "       'gas turbines', 'cntk', 'nvidia tx2,', 'nvidia xavier',\n",
    "       'sap', 'db2.']"
   ]
  },
  {
   "cell_type": "code",
   "execution_count": 13,
   "id": "a656288b",
   "metadata": {
    "ExecuteTime": {
     "end_time": "2022-05-25T01:30:30.226353Z",
     "start_time": "2022-05-25T01:30:30.211445Z"
    }
   },
   "outputs": [],
   "source": [
    "# The list of person to be excluded.\n",
    "xl_per=['ltat de lart', 'john doe',\n",
    "        'monte', 'tiki', 'san francisco', 'roche', 'jhu',\n",
    "      'veronika grollova', 'frederik norgaard', 'kennis van',\n",
    "       'balderton']"
   ]
  },
  {
   "cell_type": "code",
   "execution_count": 14,
   "id": "dc53c422",
   "metadata": {
    "ExecuteTime": {
     "end_time": "2022-05-25T01:30:30.328938Z",
     "start_time": "2022-05-25T01:30:30.234933Z"
    }
   },
   "outputs": [],
   "source": [
    "# Removed the incorrect skills\n",
    "df_skills['skill']=df_skills['skill'].apply(lambda x: None if x in (xl_prd+xl_per) else x)"
   ]
  },
  {
   "cell_type": "code",
   "execution_count": 15,
   "id": "eadf3b6a",
   "metadata": {
    "ExecuteTime": {
     "end_time": "2022-05-25T01:30:30.351661Z",
     "start_time": "2022-05-25T01:30:30.332121Z"
    }
   },
   "outputs": [],
   "source": [
    "df_skills.dropna(subset=['skill'],inplace=True)"
   ]
  },
  {
   "cell_type": "code",
   "execution_count": 16,
   "id": "db43ff36",
   "metadata": {
    "ExecuteTime": {
     "end_time": "2022-05-25T01:30:30.406360Z",
     "start_time": "2022-05-25T01:30:30.355870Z"
    }
   },
   "outputs": [],
   "source": [
    "# Export skills for manual refining\n",
    "df_skill_cnt=df_skills.groupby(['skill']).count()['id'].reset_index().sort_values(['id'],ascending=False)\n",
    "df_skill_cnt.to_csv('skills.csv')"
   ]
  },
  {
   "cell_type": "code",
   "execution_count": 17,
   "id": "3c3d2e78",
   "metadata": {
    "ExecuteTime": {
     "end_time": "2022-05-25T01:30:30.436721Z",
     "start_time": "2022-05-25T01:30:30.410700Z"
    }
   },
   "outputs": [],
   "source": [
    "# load skills refined by manual, the csv's columns are changed to: id, skill,count, keep \n",
    "refined_file= './01_data/manual/skills_refined.csv'\n",
    "df_skills_r=pd.read_csv(refined_file)"
   ]
  },
  {
   "cell_type": "code",
   "execution_count": 18,
   "id": "e86bc1bd",
   "metadata": {
    "ExecuteTime": {
     "end_time": "2022-05-25T01:30:30.489572Z",
     "start_time": "2022-05-25T01:30:30.445243Z"
    }
   },
   "outputs": [
    {
     "data": {
      "text/html": [
       "<div>\n",
       "<style scoped>\n",
       "    .dataframe tbody tr th:only-of-type {\n",
       "        vertical-align: middle;\n",
       "    }\n",
       "\n",
       "    .dataframe tbody tr th {\n",
       "        vertical-align: top;\n",
       "    }\n",
       "\n",
       "    .dataframe thead th {\n",
       "        text-align: right;\n",
       "    }\n",
       "</style>\n",
       "<table border=\"1\" class=\"dataframe\">\n",
       "  <thead>\n",
       "    <tr style=\"text-align: right;\">\n",
       "      <th></th>\n",
       "      <th>Unnamed: 0</th>\n",
       "      <th>id</th>\n",
       "      <th>skill</th>\n",
       "      <th>category</th>\n",
       "      <th>confidence score</th>\n",
       "    </tr>\n",
       "  </thead>\n",
       "  <tbody>\n",
       "    <tr>\n",
       "      <th>0</th>\n",
       "      <td>0</td>\n",
       "      <td>4.148184e+09</td>\n",
       "      <td>technologie-themen</td>\n",
       "      <td>Skill</td>\n",
       "      <td>0.84</td>\n",
       "    </tr>\n",
       "    <tr>\n",
       "      <th>1</th>\n",
       "      <td>1</td>\n",
       "      <td>4.148184e+09</td>\n",
       "      <td>technologie-themen</td>\n",
       "      <td>Skill</td>\n",
       "      <td>0.84</td>\n",
       "    </tr>\n",
       "    <tr>\n",
       "      <th>2</th>\n",
       "      <td>2</td>\n",
       "      <td>4.203393e+09</td>\n",
       "      <td>artificial intelligence</td>\n",
       "      <td>Skill</td>\n",
       "      <td>0.91</td>\n",
       "    </tr>\n",
       "    <tr>\n",
       "      <th>3</th>\n",
       "      <td>3</td>\n",
       "      <td>4.203393e+09</td>\n",
       "      <td>machine learning</td>\n",
       "      <td>Skill</td>\n",
       "      <td>0.83</td>\n",
       "    </tr>\n",
       "    <tr>\n",
       "      <th>7</th>\n",
       "      <td>7</td>\n",
       "      <td>4.203393e+09</td>\n",
       "      <td>datasets</td>\n",
       "      <td>Skill</td>\n",
       "      <td>0.80</td>\n",
       "    </tr>\n",
       "    <tr>\n",
       "      <th>...</th>\n",
       "      <td>...</td>\n",
       "      <td>...</td>\n",
       "      <td>...</td>\n",
       "      <td>...</td>\n",
       "      <td>...</td>\n",
       "    </tr>\n",
       "    <tr>\n",
       "      <th>33281</th>\n",
       "      <td>33281</td>\n",
       "      <td>4.147913e+09</td>\n",
       "      <td>decision tree</td>\n",
       "      <td>Skill</td>\n",
       "      <td>0.95</td>\n",
       "    </tr>\n",
       "    <tr>\n",
       "      <th>33282</th>\n",
       "      <td>33282</td>\n",
       "      <td>4.147913e+09</td>\n",
       "      <td>random</td>\n",
       "      <td>Skill</td>\n",
       "      <td>0.58</td>\n",
       "    </tr>\n",
       "    <tr>\n",
       "      <th>33283</th>\n",
       "      <td>33283</td>\n",
       "      <td>4.147913e+09</td>\n",
       "      <td>neural network</td>\n",
       "      <td>Skill</td>\n",
       "      <td>0.99</td>\n",
       "    </tr>\n",
       "    <tr>\n",
       "      <th>33284</th>\n",
       "      <td>33284</td>\n",
       "      <td>4.189587e+09</td>\n",
       "      <td>machine learning</td>\n",
       "      <td>Skill</td>\n",
       "      <td>1.00</td>\n",
       "    </tr>\n",
       "    <tr>\n",
       "      <th>33285</th>\n",
       "      <td>33285</td>\n",
       "      <td>4.189587e+09</td>\n",
       "      <td>deep learning</td>\n",
       "      <td>Skill</td>\n",
       "      <td>0.99</td>\n",
       "    </tr>\n",
       "  </tbody>\n",
       "</table>\n",
       "<p>22376 rows × 5 columns</p>\n",
       "</div>"
      ],
      "text/plain": [
       "       Unnamed: 0            id                    skill category  \\\n",
       "0               0  4.148184e+09       technologie-themen    Skill   \n",
       "1               1  4.148184e+09       technologie-themen    Skill   \n",
       "2               2  4.203393e+09  artificial intelligence    Skill   \n",
       "3               3  4.203393e+09         machine learning    Skill   \n",
       "7               7  4.203393e+09                 datasets    Skill   \n",
       "...           ...           ...                      ...      ...   \n",
       "33281       33281  4.147913e+09            decision tree    Skill   \n",
       "33282       33282  4.147913e+09                   random    Skill   \n",
       "33283       33283  4.147913e+09           neural network    Skill   \n",
       "33284       33284  4.189587e+09         machine learning    Skill   \n",
       "33285       33285  4.189587e+09            deep learning    Skill   \n",
       "\n",
       "       confidence score  \n",
       "0                  0.84  \n",
       "1                  0.84  \n",
       "2                  0.91  \n",
       "3                  0.83  \n",
       "7                  0.80  \n",
       "...                 ...  \n",
       "33281              0.95  \n",
       "33282              0.58  \n",
       "33283              0.99  \n",
       "33284              1.00  \n",
       "33285              0.99  \n",
       "\n",
       "[22376 rows x 5 columns]"
      ]
     },
     "execution_count": 18,
     "metadata": {},
     "output_type": "execute_result"
    }
   ],
   "source": [
    "df_skills"
   ]
  },
  {
   "cell_type": "code",
   "execution_count": 19,
   "id": "9835e5b4",
   "metadata": {
    "ExecuteTime": {
     "end_time": "2022-05-25T01:30:30.533960Z",
     "start_time": "2022-05-25T01:30:30.504671Z"
    }
   },
   "outputs": [],
   "source": [
    "# Combine skills with manual results\n",
    "df_skills=df_skills.merge(df_skills_r,how='left',right_on=['skill'],left_on=['skill'])"
   ]
  },
  {
   "cell_type": "code",
   "execution_count": 20,
   "id": "f1abfc35",
   "metadata": {
    "ExecuteTime": {
     "end_time": "2022-05-25T01:30:30.566097Z",
     "start_time": "2022-05-25T01:30:30.539503Z"
    }
   },
   "outputs": [],
   "source": [
    "df_skills.dropna(subset=['keep'],inplace=True)"
   ]
  },
  {
   "cell_type": "code",
   "execution_count": 21,
   "id": "aeb3317d",
   "metadata": {
    "ExecuteTime": {
     "end_time": "2022-05-25T01:30:30.618324Z",
     "start_time": "2022-05-25T01:30:30.583848Z"
    }
   },
   "outputs": [
    {
     "data": {
      "text/html": [
       "<div>\n",
       "<style scoped>\n",
       "    .dataframe tbody tr th:only-of-type {\n",
       "        vertical-align: middle;\n",
       "    }\n",
       "\n",
       "    .dataframe tbody tr th {\n",
       "        vertical-align: top;\n",
       "    }\n",
       "\n",
       "    .dataframe thead th {\n",
       "        text-align: right;\n",
       "    }\n",
       "</style>\n",
       "<table border=\"1\" class=\"dataframe\">\n",
       "  <thead>\n",
       "    <tr style=\"text-align: right;\">\n",
       "      <th></th>\n",
       "      <th>Unnamed: 0</th>\n",
       "      <th>id</th>\n",
       "      <th>skill</th>\n",
       "      <th>category</th>\n",
       "      <th>confidence score</th>\n",
       "      <th>index</th>\n",
       "      <th>count</th>\n",
       "      <th>keep</th>\n",
       "    </tr>\n",
       "  </thead>\n",
       "  <tbody>\n",
       "    <tr>\n",
       "      <th>2</th>\n",
       "      <td>2</td>\n",
       "      <td>4.203393e+09</td>\n",
       "      <td>artificial intelligence</td>\n",
       "      <td>Skill</td>\n",
       "      <td>0.91</td>\n",
       "      <td>298.0</td>\n",
       "      <td>46.0</td>\n",
       "      <td>y</td>\n",
       "    </tr>\n",
       "    <tr>\n",
       "      <th>3</th>\n",
       "      <td>3</td>\n",
       "      <td>4.203393e+09</td>\n",
       "      <td>machine learning</td>\n",
       "      <td>Skill</td>\n",
       "      <td>0.83</td>\n",
       "      <td>2414.0</td>\n",
       "      <td>479.0</td>\n",
       "      <td>y</td>\n",
       "    </tr>\n",
       "    <tr>\n",
       "      <th>4</th>\n",
       "      <td>7</td>\n",
       "      <td>4.203393e+09</td>\n",
       "      <td>datasets</td>\n",
       "      <td>Skill</td>\n",
       "      <td>0.80</td>\n",
       "      <td>1346.0</td>\n",
       "      <td>73.0</td>\n",
       "      <td>y</td>\n",
       "    </tr>\n",
       "    <tr>\n",
       "      <th>5</th>\n",
       "      <td>8</td>\n",
       "      <td>4.203393e+09</td>\n",
       "      <td>cybersecurity</td>\n",
       "      <td>Skill</td>\n",
       "      <td>0.87</td>\n",
       "      <td>1075.0</td>\n",
       "      <td>2.0</td>\n",
       "      <td>y</td>\n",
       "    </tr>\n",
       "    <tr>\n",
       "      <th>6</th>\n",
       "      <td>9</td>\n",
       "      <td>4.203393e+09</td>\n",
       "      <td>developing</td>\n",
       "      <td>Skill</td>\n",
       "      <td>0.62</td>\n",
       "      <td>1459.0</td>\n",
       "      <td>96.0</td>\n",
       "      <td>y</td>\n",
       "    </tr>\n",
       "    <tr>\n",
       "      <th>...</th>\n",
       "      <td>...</td>\n",
       "      <td>...</td>\n",
       "      <td>...</td>\n",
       "      <td>...</td>\n",
       "      <td>...</td>\n",
       "      <td>...</td>\n",
       "      <td>...</td>\n",
       "      <td>...</td>\n",
       "    </tr>\n",
       "    <tr>\n",
       "      <th>22370</th>\n",
       "      <td>33280</td>\n",
       "      <td>4.147913e+09</td>\n",
       "      <td>machine learning</td>\n",
       "      <td>Skill</td>\n",
       "      <td>0.98</td>\n",
       "      <td>2414.0</td>\n",
       "      <td>479.0</td>\n",
       "      <td>y</td>\n",
       "    </tr>\n",
       "    <tr>\n",
       "      <th>22371</th>\n",
       "      <td>33281</td>\n",
       "      <td>4.147913e+09</td>\n",
       "      <td>decision tree</td>\n",
       "      <td>Skill</td>\n",
       "      <td>0.95</td>\n",
       "      <td>1369.0</td>\n",
       "      <td>5.0</td>\n",
       "      <td>y</td>\n",
       "    </tr>\n",
       "    <tr>\n",
       "      <th>22373</th>\n",
       "      <td>33283</td>\n",
       "      <td>4.147913e+09</td>\n",
       "      <td>neural network</td>\n",
       "      <td>Skill</td>\n",
       "      <td>0.99</td>\n",
       "      <td>2779.0</td>\n",
       "      <td>7.0</td>\n",
       "      <td>y</td>\n",
       "    </tr>\n",
       "    <tr>\n",
       "      <th>22374</th>\n",
       "      <td>33284</td>\n",
       "      <td>4.189587e+09</td>\n",
       "      <td>machine learning</td>\n",
       "      <td>Skill</td>\n",
       "      <td>1.00</td>\n",
       "      <td>2414.0</td>\n",
       "      <td>479.0</td>\n",
       "      <td>y</td>\n",
       "    </tr>\n",
       "    <tr>\n",
       "      <th>22375</th>\n",
       "      <td>33285</td>\n",
       "      <td>4.189587e+09</td>\n",
       "      <td>deep learning</td>\n",
       "      <td>Skill</td>\n",
       "      <td>0.99</td>\n",
       "      <td>1380.0</td>\n",
       "      <td>121.0</td>\n",
       "      <td>y</td>\n",
       "    </tr>\n",
       "  </tbody>\n",
       "</table>\n",
       "<p>17199 rows × 8 columns</p>\n",
       "</div>"
      ],
      "text/plain": [
       "       Unnamed: 0            id                    skill category  \\\n",
       "2               2  4.203393e+09  artificial intelligence    Skill   \n",
       "3               3  4.203393e+09         machine learning    Skill   \n",
       "4               7  4.203393e+09                 datasets    Skill   \n",
       "5               8  4.203393e+09            cybersecurity    Skill   \n",
       "6               9  4.203393e+09               developing    Skill   \n",
       "...           ...           ...                      ...      ...   \n",
       "22370       33280  4.147913e+09         machine learning    Skill   \n",
       "22371       33281  4.147913e+09            decision tree    Skill   \n",
       "22373       33283  4.147913e+09           neural network    Skill   \n",
       "22374       33284  4.189587e+09         machine learning    Skill   \n",
       "22375       33285  4.189587e+09            deep learning    Skill   \n",
       "\n",
       "       confidence score   index  count keep  \n",
       "2                  0.91   298.0   46.0    y  \n",
       "3                  0.83  2414.0  479.0    y  \n",
       "4                  0.80  1346.0   73.0    y  \n",
       "5                  0.87  1075.0    2.0    y  \n",
       "6                  0.62  1459.0   96.0    y  \n",
       "...                 ...     ...    ...  ...  \n",
       "22370              0.98  2414.0  479.0    y  \n",
       "22371              0.95  1369.0    5.0    y  \n",
       "22373              0.99  2779.0    7.0    y  \n",
       "22374              1.00  2414.0  479.0    y  \n",
       "22375              0.99  1380.0  121.0    y  \n",
       "\n",
       "[17199 rows x 8 columns]"
      ]
     },
     "execution_count": 21,
     "metadata": {},
     "output_type": "execute_result"
    }
   ],
   "source": [
    "df_skills"
   ]
  },
  {
   "cell_type": "markdown",
   "id": "c0576367",
   "metadata": {},
   "source": [
    "#### Generate the sentence embedding to aggregate the duplicate skills"
   ]
  },
  {
   "cell_type": "code",
   "execution_count": null,
   "id": "182df3cf",
   "metadata": {
    "ExecuteTime": {
     "start_time": "2022-05-25T01:30:14.366Z"
    }
   },
   "outputs": [],
   "source": [
    "# Loading bert model\n",
    "onlinemodel='bert-large-nli-mean-tokens'\n",
    "embedder = SentenceTransformer(onlinemodel)"
   ]
  },
  {
   "cell_type": "code",
   "execution_count": null,
   "id": "ce3c2c42",
   "metadata": {
    "ExecuteTime": {
     "start_time": "2022-05-25T01:30:14.368Z"
    }
   },
   "outputs": [],
   "source": [
    "# Create skills embedding to aggregate the similiar skills\n",
    "queries = list(df_skills['skill'].unique())\n",
    "query_embeddings = embedder.encode(queries)"
   ]
  },
  {
   "cell_type": "code",
   "execution_count": null,
   "id": "7a42dee1",
   "metadata": {
    "ExecuteTime": {
     "start_time": "2022-05-25T01:30:14.369Z"
    }
   },
   "outputs": [],
   "source": [
    "# functions to replace skills with similiar one\n",
    "def remove_sim(f_queries,f_embeddings,threshold=0.9):\n",
    "    np_em=np.array(f_embeddings)\n",
    "    map_query=[]\n",
    "    replace_lst=[]\n",
    "    for i in range(len(f_queries)):\n",
    "        sim=cosine_similarity([f_embeddings[i]],np_em[0:])\n",
    "        sim[np.where(sim>=0.99)]=0\n",
    "        #print(sim)\n",
    "        x=np.argmax(sim)\n",
    "        \"\"\"\n",
    "        items=np.where(sim[0]>=threshold)\n",
    "        for item in items[0]:\n",
    "            if item in replace_lst:\n",
    "                print(x,item)\n",
    "                x=item\n",
    "        \"\"\"\n",
    "        if sim[0][x]>=threshold and i not in replace_lst:\n",
    "            f_embeddings[i]=f_embeddings[x]\n",
    "            np_em[i]=np_em[x]\n",
    "            #print((f_queries[i],f_queries[x]))\n",
    "            map_query.append((f_queries[i],f_queries[x]))\n",
    "            f_queries[i]=f_queries[x]\n",
    "            replace_lst.append(x)\n",
    "        else:\n",
    "            map_query.append((f_queries[i],f_queries[i]))\n",
    "    return map_query,f_embeddings"
   ]
  },
  {
   "cell_type": "code",
   "execution_count": null,
   "id": "257bb104",
   "metadata": {
    "ExecuteTime": {
     "start_time": "2022-05-25T01:30:14.371Z"
    }
   },
   "outputs": [],
   "source": [
    "# Copy skills and embedding for replacement\n",
    "f_queries=queries.copy()\n",
    "f_query_embeddings=query_embeddings.copy()\n",
    "new_query,new_embeddings=remove_sim(f_queries,f_query_embeddings)"
   ]
  },
  {
   "cell_type": "code",
   "execution_count": null,
   "id": "527bc5b2",
   "metadata": {
    "ExecuteTime": {
     "start_time": "2022-05-25T01:30:14.373Z"
    }
   },
   "outputs": [],
   "source": [
    "df_skills['skill']=df_skills['skill'].apply(lambda x: new_query[queries.index(x)][1])"
   ]
  },
  {
   "cell_type": "code",
   "execution_count": null,
   "id": "b04bc000",
   "metadata": {
    "ExecuteTime": {
     "start_time": "2022-05-25T01:30:14.374Z"
    }
   },
   "outputs": [],
   "source": [
    "# Drop the duplicated skills in the same job description\n",
    "df_skills.drop_duplicates(subset=['id','skill'],inplace=True)"
   ]
  },
  {
   "cell_type": "code",
   "execution_count": null,
   "id": "156ce7d8",
   "metadata": {
    "ExecuteTime": {
     "start_time": "2022-05-25T01:30:14.376Z"
    }
   },
   "outputs": [],
   "source": [
    "df_skills"
   ]
  },
  {
   "cell_type": "code",
   "execution_count": null,
   "id": "fbf3889f",
   "metadata": {
    "ExecuteTime": {
     "start_time": "2022-05-25T01:30:14.378Z"
    }
   },
   "outputs": [],
   "source": [
    "# Produce the refined main table\n",
    "df_full=df_skills.merge(df_main,how='left',left_on=['id'],right_on=['id'])[['id', 'type','posting_date', 'description', 'title', 'country',\n",
    "       'employer', 'industry', 'source', 'skill']]"
   ]
  },
  {
   "cell_type": "code",
   "execution_count": null,
   "id": "61a04663",
   "metadata": {
    "ExecuteTime": {
     "start_time": "2022-05-25T01:30:14.379Z"
    }
   },
   "outputs": [],
   "source": [
    "#Remove records which are duplicated and removed in main, but still exists in skill table\n",
    "df_full.dropna(subset=['description'],inplace=True)"
   ]
  },
  {
   "cell_type": "code",
   "execution_count": null,
   "id": "f794eef7",
   "metadata": {
    "ExecuteTime": {
     "start_time": "2022-05-25T01:30:14.381Z"
    }
   },
   "outputs": [],
   "source": [
    "# data clean for data jobs\n",
    "data_file= './01_Data/Output/datajobs.csv'\n",
    "df_data=pd.read_csv(data_file)"
   ]
  },
  {
   "cell_type": "code",
   "execution_count": null,
   "id": "4cbeef4a",
   "metadata": {
    "ExecuteTime": {
     "start_time": "2022-05-25T01:30:14.382Z"
    }
   },
   "outputs": [],
   "source": [
    "# Drop the duplicated job postings \n",
    "df_data.drop_duplicates(subset=['employer','description','title','location'],inplace=True)\n",
    "# Drop the job posting with same id even the above would be a little different.\n",
    "df_data.drop_duplicates(subset=['id'],inplace=True)"
   ]
  },
  {
   "cell_type": "code",
   "execution_count": null,
   "id": "22e64e9e",
   "metadata": {
    "ExecuteTime": {
     "start_time": "2022-05-25T01:30:14.384Z"
    }
   },
   "outputs": [],
   "source": [
    "# drop na\n",
    "df_data.dropna(subset=['description'],inplace=True)\n",
    "# Change string to datetime\n",
    "df_data['posting_date']=df_data['posting_date'].apply(lambda x: parser.parse(x))"
   ]
  },
  {
   "cell_type": "markdown",
   "id": "9b0162f5",
   "metadata": {},
   "source": [
    "### Data analysis\n",
    "- Jobs based analysis: by countries, by type(level), by industries\n",
    "- Skills based analysis: by countries, by level, by industries.\n",
    "- Seek to combine the above.\n",
    "- Keywords anaysis in scattertext between Sr. and Jr."
   ]
  },
  {
   "cell_type": "code",
   "execution_count": null,
   "id": "c4c53464",
   "metadata": {
    "ExecuteTime": {
     "start_time": "2022-05-25T01:30:14.386Z"
    }
   },
   "outputs": [],
   "source": [
    "# top N setting\n",
    "top_n=20\n",
    "# plots' width and height\n",
    "b_height=300\n",
    "b_width=700"
   ]
  },
  {
   "cell_type": "markdown",
   "id": "da0bcc15",
   "metadata": {},
   "source": [
    "##### Job distribution"
   ]
  },
  {
   "cell_type": "code",
   "execution_count": null,
   "id": "a446cb52",
   "metadata": {
    "ExecuteTime": {
     "start_time": "2022-05-25T01:30:14.387Z"
    }
   },
   "outputs": [],
   "source": [
    "df_main.groupby(df_main['posting_date'].dt.to_period(\"M\")).count()['id'].sort_values(ascending=False)"
   ]
  },
  {
   "cell_type": "code",
   "execution_count": null,
   "id": "d9e85923",
   "metadata": {
    "ExecuteTime": {
     "start_time": "2022-05-25T01:30:14.389Z"
    }
   },
   "outputs": [],
   "source": [
    "df_data.groupby(df_data['posting_date'].dt.to_period(\"M\")).count()['id'].sort_values(ascending=False)"
   ]
  },
  {
   "cell_type": "markdown",
   "id": "2d0b6d00",
   "metadata": {
    "ExecuteTime": {
     "end_time": "2022-05-23T03:10:45.745246Z",
     "start_time": "2022-05-23T03:10:45.727967Z"
    }
   },
   "source": [
    "##### Skills distribution"
   ]
  },
  {
   "cell_type": "code",
   "execution_count": null,
   "id": "62c74485",
   "metadata": {
    "ExecuteTime": {
     "start_time": "2022-05-25T01:30:14.391Z"
    }
   },
   "outputs": [],
   "source": [
    "df_id=df_full.groupby(['type','id']).count()['skill']"
   ]
  },
  {
   "cell_type": "code",
   "execution_count": null,
   "id": "411af784",
   "metadata": {
    "ExecuteTime": {
     "start_time": "2022-05-25T01:30:14.392Z"
    }
   },
   "outputs": [],
   "source": [
    "df_id=df_id.reset_index()\n",
    "df_id.columns=['type','id','cnt']"
   ]
  },
  {
   "cell_type": "code",
   "execution_count": null,
   "id": "69266470",
   "metadata": {
    "ExecuteTime": {
     "start_time": "2022-05-25T01:30:14.394Z"
    }
   },
   "outputs": [],
   "source": [
    "title_str=\"Skill Distribution By Types\"\n",
    "main_chart=alt.Chart(df_id).mark_boxplot(size=50, extent=0.5).encode(\n",
    "        y=alt.Y('cnt:Q', title='# of skills'),\n",
    "        x=alt.X('type:O',title='Type',axis=alt.Axis( \n",
    "                                   labelAngle=0, \n",
    "                                   labelOverlap=False)),\n",
    "        color=alt.Color('type', scale=alt.Scale(scheme='set2'),title='Type'),\n",
    "    ).properties(height=b_height, width=b_width,\n",
    "            title = alt.TitleParams(text = title_str,\n",
    "                                                align='center',\n",
    "                                                font = 'Ubuntu Mono', \n",
    "                                                fontSize = 20, \n",
    "                                                color = '#3E454F'\n",
    "                                                )\n",
    "        )\n",
    "median_line = alt.Chart(df_id).mark_rule(color='red').encode(\n",
    "    y=alt.Y('mean(cnt):Q', title='# of skills'),\n",
    "    size=alt.value(5)\n",
    ")\n",
    "main_chart+median_line"
   ]
  },
  {
   "cell_type": "markdown",
   "id": "3bd1960d",
   "metadata": {},
   "source": [
    "##### Skill analysis by levels - find out top n skills across levels"
   ]
  },
  {
   "cell_type": "code",
   "execution_count": null,
   "id": "666b2a4c",
   "metadata": {
    "ExecuteTime": {
     "start_time": "2022-05-25T01:30:14.396Z"
    }
   },
   "outputs": [],
   "source": [
    "df_type=df_full.groupby(['type','skill']).count()['id'].sort_values(ascending=False)\n",
    "df_type=df_type.reset_index()\n",
    "df_type.columns=['type','skill','cnt']"
   ]
  },
  {
   "cell_type": "code",
   "execution_count": null,
   "id": "1bfab59b",
   "metadata": {
    "ExecuteTime": {
     "start_time": "2022-05-25T01:30:14.398Z"
    }
   },
   "outputs": [],
   "source": [
    "\n",
    "title_str=\" Top %d Skills By Types\" %(top_n)\n",
    "alt.Chart(df_type.groupby('type').head(top_n)).mark_bar().encode(\n",
    "    y=alt.X('cnt:Q', title='# of count'),\n",
    "    x=alt.Y('skill:O',sort='-y',title='skill',axis=alt.Axis( \n",
    "                                   labelAngle=-40, \n",
    "                                   labelOverlap=False)),\n",
    "    color=alt.Color('type', scale=alt.Scale(scheme='set2'),title='Type'),\n",
    "    order=alt.Order(\n",
    "      # Sort the segments of the bars by this field\n",
    "      'type',\n",
    "      sort='ascending'\n",
    "    )\n",
    ").properties(height=b_height, width=b_width,\n",
    "        title = alt.TitleParams(text = title_str,\n",
    "                                            align='center',\n",
    "                                            font = 'Ubuntu Mono', \n",
    "                                            fontSize = 20, \n",
    "                                            color = '#3E454F'\n",
    "                                            )\n",
    "    )"
   ]
  },
  {
   "cell_type": "markdown",
   "id": "92c61da8",
   "metadata": {},
   "source": [
    "##### Skill analysis by countries - find out top n skills in top 3 countries on job listing"
   ]
  },
  {
   "cell_type": "code",
   "execution_count": null,
   "id": "ff94c0bf",
   "metadata": {
    "ExecuteTime": {
     "start_time": "2022-05-25T01:30:14.399Z"
    }
   },
   "outputs": [],
   "source": [
    "# Select top n countries on job postings\n",
    "df_country=df_main.groupby(['country','type']).count()['id'].sort_values(ascending=False)\n",
    "df_country=df_country.reset_index()\n",
    "df_country.columns=['country','type','# of jobs']"
   ]
  },
  {
   "cell_type": "code",
   "execution_count": null,
   "id": "48c99f49",
   "metadata": {
    "ExecuteTime": {
     "start_time": "2022-05-25T01:30:14.401Z"
    }
   },
   "outputs": [],
   "source": [
    "v_height=400\n",
    "v_width=400\n",
    "title_str=\" Top %d Jobs By Countries\" %(top_n)\n",
    "alt.Chart(df_country.head(top_n)).mark_bar().encode(\n",
    "    x=alt.X('# of jobs:Q', title='# of jobs'),\n",
    "    y=alt.Y('country:O',sort='-x',title='countries'),\n",
    "    color=alt.Color('type', scale=alt.Scale(scheme='set2'),title='Type'),\n",
    ").properties(height=v_height, width=v_width,\n",
    "        title = alt.TitleParams(text = title_str,\n",
    "                                            align='center',\n",
    "                                            font = 'Ubuntu Mono', \n",
    "                                            fontSize = 20, \n",
    "                                            color = '#3E454F'\n",
    "                                            )\n",
    "    )"
   ]
  },
  {
   "cell_type": "code",
   "execution_count": null,
   "id": "e16870eb",
   "metadata": {
    "ExecuteTime": {
     "start_time": "2022-05-25T01:30:14.403Z"
    }
   },
   "outputs": [],
   "source": [
    "# Select the above top n countries to select top skills\n",
    "df_type_c=df_full[df_full['country'].isin(df_country['country'].unique())].groupby(\n",
    "    ['type','skill']).count()['id'].sort_values(ascending=False)\n",
    "df_type_c=df_type_c.reset_index()\n",
    "df_type_c.columns=['type','skill','cnt']"
   ]
  },
  {
   "cell_type": "code",
   "execution_count": null,
   "id": "4eaa160b",
   "metadata": {
    "ExecuteTime": {
     "start_time": "2022-05-25T01:30:14.404Z"
    }
   },
   "outputs": [],
   "source": [
    "title_str=\" Top %d Skills By Countries\" %(top_n)\n",
    "alt.Chart(df_type_c.groupby('type').head(top_n)).mark_bar().encode(\n",
    "    y=alt.X('cnt:Q', title='# of count'),\n",
    "    x=alt.Y('skill:O',sort='-y',title='skill',axis=alt.Axis( \n",
    "                                   labelAngle=-40, \n",
    "                                   labelOverlap=False)),\n",
    "    color=alt.Color('type', scale=alt.Scale(scheme='set2'),title='Type'),\n",
    "    order=alt.Order(\n",
    "      # Sort the segments of the bars by this field\n",
    "      'type',\n",
    "      sort='ascending'\n",
    "    )\n",
    ").properties(height=b_height, width=b_width,\n",
    "        title = alt.TitleParams(text = title_str,\n",
    "                                            align='center',\n",
    "                                            font = 'Ubuntu Mono', \n",
    "                                            fontSize = 20, \n",
    "                                            color = '#3E454F'\n",
    "                                            )\n",
    "    )"
   ]
  },
  {
   "cell_type": "markdown",
   "id": "e5315b7d",
   "metadata": {},
   "source": [
    "##### Skill analysis by industries - find out top n skills in those countries on job listing"
   ]
  },
  {
   "cell_type": "code",
   "execution_count": null,
   "id": "da95d257",
   "metadata": {
    "ExecuteTime": {
     "start_time": "2022-05-25T01:30:14.406Z"
    }
   },
   "outputs": [],
   "source": [
    "# Select top n industries on job postings excluding \"unclassified\"\n",
    "df_industry=df_main[df_main['industry']!='unclassified'].groupby(\n",
    "    ['industry','type']).count()['id'].sort_values(ascending=False)\n",
    "df_industry=df_industry.reset_index()\n",
    "df_industry.columns=['industry','type','# of jobs']"
   ]
  },
  {
   "cell_type": "code",
   "execution_count": null,
   "id": "aa2e82d1",
   "metadata": {
    "ExecuteTime": {
     "start_time": "2022-05-25T01:30:14.408Z"
    }
   },
   "outputs": [],
   "source": [
    "v_height=400\n",
    "v_width=400\n",
    "title_str=\" Top %d Jobs By Industries\" %(top_n)\n",
    "alt.Chart(df_industry.head(top_n)).mark_bar().encode(\n",
    "    x=alt.X('# of jobs:Q', title='# of jobs'),\n",
    "    y=alt.Y('industry:O',sort='-x',title='countries'),\n",
    "    color=alt.Color('type', scale=alt.Scale(scheme='set2')),\n",
    ").properties(height=v_height, width=v_width,\n",
    "        title = alt.TitleParams(text = title_str,\n",
    "                                            align='center',\n",
    "                                            font = 'Ubuntu Mono', \n",
    "                                            fontSize = 20, \n",
    "                                            color = '#3E454F'\n",
    "                                            )\n",
    "    )"
   ]
  },
  {
   "cell_type": "code",
   "execution_count": null,
   "id": "8071a423",
   "metadata": {
    "ExecuteTime": {
     "start_time": "2022-05-25T01:30:14.410Z"
    }
   },
   "outputs": [],
   "source": [
    "# Select the above top n countries to select top skills\n",
    "df_type_i=df_full[df_full['industry'].isin(df_industry['industry'].unique())].groupby(\n",
    "    ['type','skill']).count()['id'].sort_values(ascending=False)\n",
    "df_type_i=df_type_i.reset_index()\n",
    "df_type_i.columns=['type','skill','cnt']"
   ]
  },
  {
   "cell_type": "code",
   "execution_count": null,
   "id": "0c201280",
   "metadata": {
    "ExecuteTime": {
     "start_time": "2022-05-25T01:30:14.411Z"
    }
   },
   "outputs": [],
   "source": [
    "title_str=\" Top %d Skills By Countries\" %(top_n)\n",
    "alt.Chart(df_type_i.groupby('type').head(top_n)).mark_bar().encode(\n",
    "    y=alt.X('cnt:Q', title='# of count'),\n",
    "    x=alt.Y('skill:O',sort='-y',title='skill',axis=alt.Axis( \n",
    "                                   labelAngle=-40, \n",
    "                                   labelOverlap=False)),\n",
    "    color=alt.Color('type', scale=alt.Scale(scheme='set2'),title='Type'),\n",
    "    order=alt.Order(\n",
    "      # Sort the segments of the bars by this field\n",
    "      'type',\n",
    "      sort='ascending'\n",
    "    )\n",
    ").properties(height=b_height, width=b_width,\n",
    "        title = alt.TitleParams(text = title_str,\n",
    "                                            align='center',\n",
    "                                            font = 'Ubuntu Mono', \n",
    "                                            fontSize = 20, \n",
    "                                            color = '#3E454F'\n",
    "                                            )\n",
    "    )"
   ]
  },
  {
   "cell_type": "code",
   "execution_count": null,
   "id": "556d3fc1",
   "metadata": {},
   "outputs": [],
   "source": []
  }
 ],
 "metadata": {
  "kernelspec": {
   "display_name": "Python 3",
   "language": "python",
   "name": "python3"
  },
  "language_info": {
   "codemirror_mode": {
    "name": "ipython",
    "version": 3
   },
   "file_extension": ".py",
   "mimetype": "text/x-python",
   "name": "python",
   "nbconvert_exporter": "python",
   "pygments_lexer": "ipython3",
   "version": "3.7.9"
  }
 },
 "nbformat": 4,
 "nbformat_minor": 5
}
