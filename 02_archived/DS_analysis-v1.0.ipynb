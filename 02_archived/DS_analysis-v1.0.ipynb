{
 "cells": [
  {
   "cell_type": "markdown",
   "id": "7bc61cc2",
   "metadata": {},
   "source": [
    "## Introduction\n",
    "####  Data analysis & visualiztion on the skills of data scientists from the job description of 2 hiring websites"
   ]
  },
  {
   "cell_type": "code",
   "execution_count": 63,
   "id": "6b656938",
   "metadata": {
    "ExecuteTime": {
     "end_time": "2022-05-23T12:09:49.051971Z",
     "start_time": "2022-05-23T12:09:49.020595Z"
    }
   },
   "outputs": [],
   "source": [
    "from __future__ import print_function\n",
    "import pandas as pd\n",
    "import numpy as np\n",
    "\n",
    "# Text preprocessing\n",
    "import os,re\n",
    "\n",
    "# Disable warning of 3 types\n",
    "import warnings\n",
    "\n",
    "#Plotting\n",
    "import matplotlib.pyplot as plt\n",
    "import matplotlib.cm as cm\n",
    "import altair as alt\n",
    "from altair import datum\n",
    "import pyLDAvis\n",
    "import pyLDAvis.sklearn\n",
    "pyLDAvis.enable_notebook()\n",
    "\n",
    "\n",
    "# Other utils\n",
    "from tqdm import tqdm  # Progress bar\n",
    "from datetime import datetime\n",
    "from dateutil import parser\n",
    "\n",
    "#EDA tools.\n",
    "import dtale\n",
    "\n",
    "# nlp text cleaning\n",
    "import nltk\n",
    "import re\n",
    "import string\n",
    "from nltk.tokenize import word_tokenize, sent_tokenize\n",
    "from nltk.corpus import stopwords\n",
    "from nltk.stem import PorterStemmer # or LancasterStemmer, RegexpStemmer, SnowballStemmer\n",
    "\n",
    "# Transformers\n",
    "from transformers import pipeline\n",
    "import ipywidgets as widgets\n",
    "from transformers import pipeline\n",
    "from sentence_transformers import SentenceTransformer\n",
    "\n",
    "# Clustering algorithms\n",
    "from sklearn.decomposition import PCA\n",
    "from sklearn.cluster import KMeans, MiniBatchKMeans\n",
    "from sklearn.decomposition import LatentDirichletAllocation\n",
    "from scipy.cluster.hierarchy import ward, dendrogram\n",
    "from sklearn.metrics.pairwise import cosine_similarity\n",
    "\n",
    "from sklearn.feature_extraction.text import CountVectorizer, TfidfVectorizer, ENGLISH_STOP_WORDS\n",
    "from nltk.stem.snowball import SnowballStemmer\n",
    "\n",
    "# Visualizing text\n",
    "import spacy\n",
    "import scattertext"
   ]
  },
  {
   "cell_type": "markdown",
   "id": "50628670",
   "metadata": {},
   "source": [
    "### Data clean & manipulation\n",
    "- Remove the duplicated records.\n",
    "- Remove the incorrect or inappropriate skills\n",
    "- Combine the main and skills into one table: df_full"
   ]
  },
  {
   "cell_type": "code",
   "execution_count": 2,
   "id": "7533f708",
   "metadata": {
    "ExecuteTime": {
     "end_time": "2022-05-23T11:11:56.440529Z",
     "start_time": "2022-05-23T11:11:56.357492Z"
    }
   },
   "outputs": [],
   "source": [
    "# load main table only including the jobs of data scientists\n",
    "ds_file= './01_data/output/datascientists.csv'\n",
    "df_main=pd.read_csv(ds_file)\n",
    "df_main['id']=df_main['id'].astype('int64')"
   ]
  },
  {
   "cell_type": "code",
   "execution_count": 3,
   "id": "7cd04b26",
   "metadata": {
    "ExecuteTime": {
     "end_time": "2022-05-23T11:11:56.475801Z",
     "start_time": "2022-05-23T11:11:56.451494Z"
    }
   },
   "outputs": [],
   "source": [
    "# Drop the duplicated job postings \n",
    "df_main.drop_duplicates(subset=['employer','description','title','location'],inplace=True)\n",
    "# Drop the job posting with same id even the above would be a little different.\n",
    "df_main.drop_duplicates(subset=['id'],inplace=True)"
   ]
  },
  {
   "cell_type": "code",
   "execution_count": 4,
   "id": "9edf96fb",
   "metadata": {
    "ExecuteTime": {
     "end_time": "2022-05-23T11:11:56.498252Z",
     "start_time": "2022-05-23T11:11:56.486578Z"
    }
   },
   "outputs": [],
   "source": [
    "#removed space in country\n",
    "df_main['country']=df_main['country'].apply(lambda x: x.strip())"
   ]
  },
  {
   "cell_type": "code",
   "execution_count": 5,
   "id": "ce1d0c7e",
   "metadata": {
    "ExecuteTime": {
     "end_time": "2022-05-23T11:11:56.582990Z",
     "start_time": "2022-05-23T11:11:56.502806Z"
    }
   },
   "outputs": [],
   "source": [
    "# load skills produced by azure\n",
    "az_skills= './01_data/output/az_skills.csv'\n",
    "df_skills=pd.read_csv(az_skills)"
   ]
  },
  {
   "cell_type": "code",
   "execution_count": 6,
   "id": "bfb91f6e",
   "metadata": {
    "ExecuteTime": {
     "end_time": "2022-05-23T11:11:56.604414Z",
     "start_time": "2022-05-23T11:11:56.586922Z"
    }
   },
   "outputs": [],
   "source": [
    "df_skills=df_skills[df_skills['category'].isin(['Skill','Product','Person'])]"
   ]
  },
  {
   "cell_type": "code",
   "execution_count": 7,
   "id": "ebe614fd",
   "metadata": {
    "ExecuteTime": {
     "end_time": "2022-05-23T11:11:56.639544Z",
     "start_time": "2022-05-23T11:11:56.619312Z"
    }
   },
   "outputs": [
    {
     "data": {
      "text/plain": [
       "26602"
      ]
     },
     "execution_count": 7,
     "metadata": {},
     "output_type": "execute_result"
    }
   ],
   "source": [
    "len(df_skills)"
   ]
  },
  {
   "cell_type": "code",
   "execution_count": 8,
   "id": "ff4cc4f5",
   "metadata": {
    "ExecuteTime": {
     "end_time": "2022-05-23T11:11:56.678102Z",
     "start_time": "2022-05-23T11:11:56.652505Z"
    }
   },
   "outputs": [],
   "source": [
    "# Drop the duplicated skills in the same job description\n",
    "df_skills.drop_duplicates(subset=['id','skill'],inplace=True)"
   ]
  },
  {
   "cell_type": "code",
   "execution_count": 9,
   "id": "78c96e36",
   "metadata": {
    "ExecuteTime": {
     "end_time": "2022-05-23T11:11:56.704628Z",
     "start_time": "2022-05-23T11:11:56.696168Z"
    }
   },
   "outputs": [
    {
     "data": {
      "text/plain": [
       "22743"
      ]
     },
     "execution_count": 9,
     "metadata": {},
     "output_type": "execute_result"
    }
   ],
   "source": [
    "len(df_skills)"
   ]
  },
  {
   "cell_type": "code",
   "execution_count": 10,
   "id": "685606cd",
   "metadata": {
    "ExecuteTime": {
     "end_time": "2022-05-23T11:11:56.730036Z",
     "start_time": "2022-05-23T11:11:56.714461Z"
    }
   },
   "outputs": [],
   "source": [
    "# Decide to divide the job postings into 3 types:junior, senior, and others\n",
    "def ds_level(title=''):\n",
    "    jr = [\"junior\", \"jr\", \"jr.\",\"intern\",\"internship\",\"young\",\"student\",\"analyst\",\"associate\"]\n",
    "    sr = [\"sr.\",\"sr\",\"senior\",\"lead\",\"leading\",\"principal\",\"president\"]\n",
    "\n",
    "    if any(x in title.lower() for x in jr):\n",
    "        return \"junior\"\n",
    "\n",
    "    if any(x in title.lower() for x in sr):\n",
    "        return \"senior\"\n",
    "    \n",
    "    return \"others\"\n"
   ]
  },
  {
   "cell_type": "code",
   "execution_count": 11,
   "id": "3b5241a8",
   "metadata": {
    "ExecuteTime": {
     "end_time": "2022-05-23T11:11:56.763551Z",
     "start_time": "2022-05-23T11:11:56.737990Z"
    }
   },
   "outputs": [],
   "source": [
    "df_main['type']=df_main['title'].apply(lambda x: ds_level(x))"
   ]
  },
  {
   "cell_type": "code",
   "execution_count": 12,
   "id": "d9866e2a",
   "metadata": {
    "ExecuteTime": {
     "end_time": "2022-05-23T11:11:56.939648Z",
     "start_time": "2022-05-23T11:11:56.769426Z"
    }
   },
   "outputs": [],
   "source": [
    "# Change string to datetime\n",
    "df_main['posting_date']=df_main['posting_date'].apply(lambda x: parser.parse(x))"
   ]
  },
  {
   "cell_type": "code",
   "execution_count": 13,
   "id": "ad48a343",
   "metadata": {
    "ExecuteTime": {
     "end_time": "2022-05-23T11:11:56.949434Z",
     "start_time": "2022-05-23T11:11:56.944224Z"
    }
   },
   "outputs": [],
   "source": [
    "# Perform EDA to check main table\n",
    "#d = dtale.show(df_full)\n",
    "#d.open_browser()"
   ]
  },
  {
   "cell_type": "markdown",
   "id": "8609c99c",
   "metadata": {},
   "source": [
    "#### Refine the skills extracted from Azure"
   ]
  },
  {
   "cell_type": "code",
   "execution_count": 14,
   "id": "d612c89d",
   "metadata": {
    "ExecuteTime": {
     "end_time": "2022-05-23T11:11:56.975976Z",
     "start_time": "2022-05-23T11:11:56.954436Z"
    }
   },
   "outputs": [],
   "source": [
    "# The list of person to be excluded.\n",
    "xl_prd=[\n",
    "        'food coupons', 'coffee', 'room', 'snacks',\n",
    "      'computer screens', 'computers', 'printers',\n",
    "       'copiers', 'computer', 'pool table', 'beers',\n",
    "       'soft drinks', 'wine', 'mac', 'pc', 'nintendo switch',\n",
    "       'big screen tv', 'mario kart', 'holidays', 'car', 'cycle',\n",
    "       'machine',\n",
    "       'office suite',\n",
    "       'ph', 'd', 'drinks', 'watson', 'breakfast', 'fruits', 'advanced',\n",
    "       'artefact',  'suite',\n",
    "       'tv', 'headphones', 'notebooks', 'medicines',\n",
    "       'beverages', 'vehicle',\n",
    "       'infrastructure', 'food',  'celery',\n",
    "       'ansible', 'espresso', \n",
    "       'petrel', 'macbook', 'books', 'vinted', 'bikes', 'home',\n",
    "       'travel insurance', 'earthsofts equis', 'power', 'journals',\n",
    "       'big machines', \n",
    "        'meal',  'meal vouchers',\n",
    "       'laptop', \n",
    "       'textbooks', 'nail polish', 'fridge',  'company car',\n",
    "       'book', 'goodies', 'fresh fruits', \n",
    "        'refreshments', 'plan',\n",
    "       'disability insurance', 'free drinks', 'fruit', \n",
    "      'notebook',\n",
    "       'passport',\n",
    "       'opportunity',\n",
    "       'artificial barriers',\n",
    "       'tessian anc headphones', 'coffee machine', 'hummus',\n",
    "       'dinner', \n",
    "       'apparel', 'uniform', 'restaurant tickets', 'transport tickets',\n",
    "       'gear',   'pizza',\n",
    "       'beer', 'vouchers', \n",
    "        'dress',\n",
    "        'conference tickets', 'cell phone', 'sport vouchers',\n",
    "       'consumer', 'phone',\n",
    "        'friday drinks',\n",
    "       'beanbags', 'guitars', 'table football',\n",
    "       'meals', \n",
    "       'shiny',\n",
    "       'satellite', 'desks', \n",
    "       'mobile phone', \n",
    "       'outlook', 'word', \n",
    "       'jupiter', \n",
    "       'barista', 'coffee machines', \n",
    "       'furniture',  'health care plan',\n",
    "       'death service plan', 'cycle to work scheme', \n",
    "       'cinema tickets', \n",
    "     'company', \n",
    "       'kitchen', 'gourmet coffee', 'teas', 'leaseauto', 'healthy snacks',\n",
    "       'pc computing',  'hd tv', 'pass', \n",
    "         'bicycle', 'plans',\n",
    "       'oil', 'gas', \n",
    "        'fast food', 'ship',\n",
    "       'gas turbines', 'cntk', 'nvidia tx2,', 'nvidia xavier',\n",
    "       'sap', 'db2.']"
   ]
  },
  {
   "cell_type": "code",
   "execution_count": 15,
   "id": "eb5f371f",
   "metadata": {
    "ExecuteTime": {
     "end_time": "2022-05-23T11:11:57.017207Z",
     "start_time": "2022-05-23T11:11:56.984461Z"
    }
   },
   "outputs": [],
   "source": [
    "# The list of person to be excluded.\n",
    "xl_per=['ltat de lart', 'john doe',\n",
    "        'monte', 'tiki', 'san francisco', 'roche', 'jhu',\n",
    "      'veronika grollova', 'frederik norgaard', 'kennis van',\n",
    "       'balderton']"
   ]
  },
  {
   "cell_type": "code",
   "execution_count": 16,
   "id": "26edd399",
   "metadata": {
    "ExecuteTime": {
     "end_time": "2022-05-23T11:11:57.173304Z",
     "start_time": "2022-05-23T11:11:57.036923Z"
    }
   },
   "outputs": [],
   "source": [
    "df_skills['skill']=df_skills['skill'].apply(lambda x: None if x in (xl_prd+xl_per) else x)"
   ]
  },
  {
   "cell_type": "code",
   "execution_count": 17,
   "id": "15d60adc",
   "metadata": {
    "ExecuteTime": {
     "end_time": "2022-05-23T11:11:57.201120Z",
     "start_time": "2022-05-23T11:11:57.177058Z"
    }
   },
   "outputs": [
    {
     "data": {
      "text/plain": [
       "22743"
      ]
     },
     "execution_count": 17,
     "metadata": {},
     "output_type": "execute_result"
    }
   ],
   "source": [
    "len(df_skills)"
   ]
  },
  {
   "cell_type": "code",
   "execution_count": 18,
   "id": "5f1b877b",
   "metadata": {
    "ExecuteTime": {
     "end_time": "2022-05-23T11:11:57.253050Z",
     "start_time": "2022-05-23T11:11:57.207985Z"
    }
   },
   "outputs": [],
   "source": [
    "df_skills.dropna(subset=['skill'],inplace=True)"
   ]
  },
  {
   "cell_type": "code",
   "execution_count": 19,
   "id": "74e27939",
   "metadata": {
    "ExecuteTime": {
     "end_time": "2022-05-23T11:11:57.278579Z",
     "start_time": "2022-05-23T11:11:57.266992Z"
    }
   },
   "outputs": [
    {
     "data": {
      "text/plain": [
       "22376"
      ]
     },
     "execution_count": 19,
     "metadata": {},
     "output_type": "execute_result"
    }
   ],
   "source": [
    "len(df_skills)"
   ]
  },
  {
   "cell_type": "code",
   "execution_count": 20,
   "id": "0cd8e41f",
   "metadata": {
    "ExecuteTime": {
     "end_time": "2022-05-23T11:11:57.353930Z",
     "start_time": "2022-05-23T11:11:57.288209Z"
    }
   },
   "outputs": [],
   "source": [
    "# Export skills for manual refining\n",
    "df_skill_cnt=df_skills.groupby(['skill']).count()['id'].reset_index().sort_values(['id'],ascending=False)\n",
    "df_skill_cnt.to_csv('skills.csv')"
   ]
  },
  {
   "cell_type": "code",
   "execution_count": 21,
   "id": "5097f9e5",
   "metadata": {
    "ExecuteTime": {
     "end_time": "2022-05-23T11:11:57.402218Z",
     "start_time": "2022-05-23T11:11:57.378325Z"
    }
   },
   "outputs": [],
   "source": [
    "# load skills refined by manual, the csv's columns are changed to: id, skill,count, keep \n",
    "refined_file= './01_data/manual/skills_refined.csv'\n",
    "df_skills_r=pd.read_csv(refined_file)"
   ]
  },
  {
   "cell_type": "code",
   "execution_count": 22,
   "id": "8b452549",
   "metadata": {
    "ExecuteTime": {
     "end_time": "2022-05-23T11:11:57.415908Z",
     "start_time": "2022-05-23T11:11:57.407117Z"
    }
   },
   "outputs": [
    {
     "data": {
      "text/plain": [
       "4547"
      ]
     },
     "execution_count": 22,
     "metadata": {},
     "output_type": "execute_result"
    }
   ],
   "source": [
    "len(df_skills_r)"
   ]
  },
  {
   "cell_type": "code",
   "execution_count": 23,
   "id": "e2c65239",
   "metadata": {
    "ExecuteTime": {
     "end_time": "2022-05-23T11:11:57.472753Z",
     "start_time": "2022-05-23T11:11:57.432645Z"
    }
   },
   "outputs": [
    {
     "data": {
      "text/html": [
       "<div>\n",
       "<style scoped>\n",
       "    .dataframe tbody tr th:only-of-type {\n",
       "        vertical-align: middle;\n",
       "    }\n",
       "\n",
       "    .dataframe tbody tr th {\n",
       "        vertical-align: top;\n",
       "    }\n",
       "\n",
       "    .dataframe thead th {\n",
       "        text-align: right;\n",
       "    }\n",
       "</style>\n",
       "<table border=\"1\" class=\"dataframe\">\n",
       "  <thead>\n",
       "    <tr style=\"text-align: right;\">\n",
       "      <th></th>\n",
       "      <th>Unnamed: 0</th>\n",
       "      <th>id</th>\n",
       "      <th>skill</th>\n",
       "      <th>category</th>\n",
       "      <th>confidence score</th>\n",
       "    </tr>\n",
       "  </thead>\n",
       "  <tbody>\n",
       "    <tr>\n",
       "      <th>0</th>\n",
       "      <td>0</td>\n",
       "      <td>4.148184e+09</td>\n",
       "      <td>technologie-themen</td>\n",
       "      <td>Skill</td>\n",
       "      <td>0.84</td>\n",
       "    </tr>\n",
       "    <tr>\n",
       "      <th>1</th>\n",
       "      <td>1</td>\n",
       "      <td>4.148184e+09</td>\n",
       "      <td>technologie-themen</td>\n",
       "      <td>Skill</td>\n",
       "      <td>0.84</td>\n",
       "    </tr>\n",
       "    <tr>\n",
       "      <th>2</th>\n",
       "      <td>2</td>\n",
       "      <td>4.203393e+09</td>\n",
       "      <td>artificial intelligence</td>\n",
       "      <td>Skill</td>\n",
       "      <td>0.91</td>\n",
       "    </tr>\n",
       "    <tr>\n",
       "      <th>3</th>\n",
       "      <td>3</td>\n",
       "      <td>4.203393e+09</td>\n",
       "      <td>machine learning</td>\n",
       "      <td>Skill</td>\n",
       "      <td>0.83</td>\n",
       "    </tr>\n",
       "    <tr>\n",
       "      <th>7</th>\n",
       "      <td>7</td>\n",
       "      <td>4.203393e+09</td>\n",
       "      <td>datasets</td>\n",
       "      <td>Skill</td>\n",
       "      <td>0.80</td>\n",
       "    </tr>\n",
       "    <tr>\n",
       "      <th>...</th>\n",
       "      <td>...</td>\n",
       "      <td>...</td>\n",
       "      <td>...</td>\n",
       "      <td>...</td>\n",
       "      <td>...</td>\n",
       "    </tr>\n",
       "    <tr>\n",
       "      <th>33281</th>\n",
       "      <td>33281</td>\n",
       "      <td>4.147913e+09</td>\n",
       "      <td>decision tree</td>\n",
       "      <td>Skill</td>\n",
       "      <td>0.95</td>\n",
       "    </tr>\n",
       "    <tr>\n",
       "      <th>33282</th>\n",
       "      <td>33282</td>\n",
       "      <td>4.147913e+09</td>\n",
       "      <td>random</td>\n",
       "      <td>Skill</td>\n",
       "      <td>0.58</td>\n",
       "    </tr>\n",
       "    <tr>\n",
       "      <th>33283</th>\n",
       "      <td>33283</td>\n",
       "      <td>4.147913e+09</td>\n",
       "      <td>neural network</td>\n",
       "      <td>Skill</td>\n",
       "      <td>0.99</td>\n",
       "    </tr>\n",
       "    <tr>\n",
       "      <th>33284</th>\n",
       "      <td>33284</td>\n",
       "      <td>4.189587e+09</td>\n",
       "      <td>machine learning</td>\n",
       "      <td>Skill</td>\n",
       "      <td>1.00</td>\n",
       "    </tr>\n",
       "    <tr>\n",
       "      <th>33285</th>\n",
       "      <td>33285</td>\n",
       "      <td>4.189587e+09</td>\n",
       "      <td>deep learning</td>\n",
       "      <td>Skill</td>\n",
       "      <td>0.99</td>\n",
       "    </tr>\n",
       "  </tbody>\n",
       "</table>\n",
       "<p>22376 rows × 5 columns</p>\n",
       "</div>"
      ],
      "text/plain": [
       "       Unnamed: 0            id                    skill category  \\\n",
       "0               0  4.148184e+09       technologie-themen    Skill   \n",
       "1               1  4.148184e+09       technologie-themen    Skill   \n",
       "2               2  4.203393e+09  artificial intelligence    Skill   \n",
       "3               3  4.203393e+09         machine learning    Skill   \n",
       "7               7  4.203393e+09                 datasets    Skill   \n",
       "...           ...           ...                      ...      ...   \n",
       "33281       33281  4.147913e+09            decision tree    Skill   \n",
       "33282       33282  4.147913e+09                   random    Skill   \n",
       "33283       33283  4.147913e+09           neural network    Skill   \n",
       "33284       33284  4.189587e+09         machine learning    Skill   \n",
       "33285       33285  4.189587e+09            deep learning    Skill   \n",
       "\n",
       "       confidence score  \n",
       "0                  0.84  \n",
       "1                  0.84  \n",
       "2                  0.91  \n",
       "3                  0.83  \n",
       "7                  0.80  \n",
       "...                 ...  \n",
       "33281              0.95  \n",
       "33282              0.58  \n",
       "33283              0.99  \n",
       "33284              1.00  \n",
       "33285              0.99  \n",
       "\n",
       "[22376 rows x 5 columns]"
      ]
     },
     "execution_count": 23,
     "metadata": {},
     "output_type": "execute_result"
    }
   ],
   "source": [
    "df_skills"
   ]
  },
  {
   "cell_type": "code",
   "execution_count": 24,
   "id": "d9df3550",
   "metadata": {
    "ExecuteTime": {
     "end_time": "2022-05-23T11:11:57.499278Z",
     "start_time": "2022-05-23T11:11:57.481762Z"
    }
   },
   "outputs": [],
   "source": [
    "df_skills=df_skills.merge(df_skills_r,how='left',right_on=['skill'],left_on=['skill'])"
   ]
  },
  {
   "cell_type": "code",
   "execution_count": 25,
   "id": "1026f68c",
   "metadata": {
    "ExecuteTime": {
     "end_time": "2022-05-23T11:11:57.542530Z",
     "start_time": "2022-05-23T11:11:57.508170Z"
    }
   },
   "outputs": [],
   "source": [
    "df_skills.dropna(subset=['keep'],inplace=True)"
   ]
  },
  {
   "cell_type": "code",
   "execution_count": 26,
   "id": "0cdd6d68",
   "metadata": {
    "ExecuteTime": {
     "end_time": "2022-05-23T11:11:57.617102Z",
     "start_time": "2022-05-23T11:11:57.556494Z"
    }
   },
   "outputs": [
    {
     "data": {
      "text/html": [
       "<div>\n",
       "<style scoped>\n",
       "    .dataframe tbody tr th:only-of-type {\n",
       "        vertical-align: middle;\n",
       "    }\n",
       "\n",
       "    .dataframe tbody tr th {\n",
       "        vertical-align: top;\n",
       "    }\n",
       "\n",
       "    .dataframe thead th {\n",
       "        text-align: right;\n",
       "    }\n",
       "</style>\n",
       "<table border=\"1\" class=\"dataframe\">\n",
       "  <thead>\n",
       "    <tr style=\"text-align: right;\">\n",
       "      <th></th>\n",
       "      <th>Unnamed: 0</th>\n",
       "      <th>id</th>\n",
       "      <th>skill</th>\n",
       "      <th>category</th>\n",
       "      <th>confidence score</th>\n",
       "      <th>index</th>\n",
       "      <th>count</th>\n",
       "      <th>keep</th>\n",
       "    </tr>\n",
       "  </thead>\n",
       "  <tbody>\n",
       "    <tr>\n",
       "      <th>2</th>\n",
       "      <td>2</td>\n",
       "      <td>4.203393e+09</td>\n",
       "      <td>artificial intelligence</td>\n",
       "      <td>Skill</td>\n",
       "      <td>0.91</td>\n",
       "      <td>298.0</td>\n",
       "      <td>46.0</td>\n",
       "      <td>y</td>\n",
       "    </tr>\n",
       "    <tr>\n",
       "      <th>3</th>\n",
       "      <td>3</td>\n",
       "      <td>4.203393e+09</td>\n",
       "      <td>machine learning</td>\n",
       "      <td>Skill</td>\n",
       "      <td>0.83</td>\n",
       "      <td>2414.0</td>\n",
       "      <td>479.0</td>\n",
       "      <td>y</td>\n",
       "    </tr>\n",
       "    <tr>\n",
       "      <th>4</th>\n",
       "      <td>7</td>\n",
       "      <td>4.203393e+09</td>\n",
       "      <td>datasets</td>\n",
       "      <td>Skill</td>\n",
       "      <td>0.80</td>\n",
       "      <td>1346.0</td>\n",
       "      <td>73.0</td>\n",
       "      <td>y</td>\n",
       "    </tr>\n",
       "    <tr>\n",
       "      <th>5</th>\n",
       "      <td>8</td>\n",
       "      <td>4.203393e+09</td>\n",
       "      <td>cybersecurity</td>\n",
       "      <td>Skill</td>\n",
       "      <td>0.87</td>\n",
       "      <td>1075.0</td>\n",
       "      <td>2.0</td>\n",
       "      <td>y</td>\n",
       "    </tr>\n",
       "    <tr>\n",
       "      <th>6</th>\n",
       "      <td>9</td>\n",
       "      <td>4.203393e+09</td>\n",
       "      <td>developing</td>\n",
       "      <td>Skill</td>\n",
       "      <td>0.62</td>\n",
       "      <td>1459.0</td>\n",
       "      <td>96.0</td>\n",
       "      <td>y</td>\n",
       "    </tr>\n",
       "    <tr>\n",
       "      <th>...</th>\n",
       "      <td>...</td>\n",
       "      <td>...</td>\n",
       "      <td>...</td>\n",
       "      <td>...</td>\n",
       "      <td>...</td>\n",
       "      <td>...</td>\n",
       "      <td>...</td>\n",
       "      <td>...</td>\n",
       "    </tr>\n",
       "    <tr>\n",
       "      <th>22370</th>\n",
       "      <td>33280</td>\n",
       "      <td>4.147913e+09</td>\n",
       "      <td>machine learning</td>\n",
       "      <td>Skill</td>\n",
       "      <td>0.98</td>\n",
       "      <td>2414.0</td>\n",
       "      <td>479.0</td>\n",
       "      <td>y</td>\n",
       "    </tr>\n",
       "    <tr>\n",
       "      <th>22371</th>\n",
       "      <td>33281</td>\n",
       "      <td>4.147913e+09</td>\n",
       "      <td>decision tree</td>\n",
       "      <td>Skill</td>\n",
       "      <td>0.95</td>\n",
       "      <td>1369.0</td>\n",
       "      <td>5.0</td>\n",
       "      <td>y</td>\n",
       "    </tr>\n",
       "    <tr>\n",
       "      <th>22373</th>\n",
       "      <td>33283</td>\n",
       "      <td>4.147913e+09</td>\n",
       "      <td>neural network</td>\n",
       "      <td>Skill</td>\n",
       "      <td>0.99</td>\n",
       "      <td>2779.0</td>\n",
       "      <td>7.0</td>\n",
       "      <td>y</td>\n",
       "    </tr>\n",
       "    <tr>\n",
       "      <th>22374</th>\n",
       "      <td>33284</td>\n",
       "      <td>4.189587e+09</td>\n",
       "      <td>machine learning</td>\n",
       "      <td>Skill</td>\n",
       "      <td>1.00</td>\n",
       "      <td>2414.0</td>\n",
       "      <td>479.0</td>\n",
       "      <td>y</td>\n",
       "    </tr>\n",
       "    <tr>\n",
       "      <th>22375</th>\n",
       "      <td>33285</td>\n",
       "      <td>4.189587e+09</td>\n",
       "      <td>deep learning</td>\n",
       "      <td>Skill</td>\n",
       "      <td>0.99</td>\n",
       "      <td>1380.0</td>\n",
       "      <td>121.0</td>\n",
       "      <td>y</td>\n",
       "    </tr>\n",
       "  </tbody>\n",
       "</table>\n",
       "<p>17199 rows × 8 columns</p>\n",
       "</div>"
      ],
      "text/plain": [
       "       Unnamed: 0            id                    skill category  \\\n",
       "2               2  4.203393e+09  artificial intelligence    Skill   \n",
       "3               3  4.203393e+09         machine learning    Skill   \n",
       "4               7  4.203393e+09                 datasets    Skill   \n",
       "5               8  4.203393e+09            cybersecurity    Skill   \n",
       "6               9  4.203393e+09               developing    Skill   \n",
       "...           ...           ...                      ...      ...   \n",
       "22370       33280  4.147913e+09         machine learning    Skill   \n",
       "22371       33281  4.147913e+09            decision tree    Skill   \n",
       "22373       33283  4.147913e+09           neural network    Skill   \n",
       "22374       33284  4.189587e+09         machine learning    Skill   \n",
       "22375       33285  4.189587e+09            deep learning    Skill   \n",
       "\n",
       "       confidence score   index  count keep  \n",
       "2                  0.91   298.0   46.0    y  \n",
       "3                  0.83  2414.0  479.0    y  \n",
       "4                  0.80  1346.0   73.0    y  \n",
       "5                  0.87  1075.0    2.0    y  \n",
       "6                  0.62  1459.0   96.0    y  \n",
       "...                 ...     ...    ...  ...  \n",
       "22370              0.98  2414.0  479.0    y  \n",
       "22371              0.95  1369.0    5.0    y  \n",
       "22373              0.99  2779.0    7.0    y  \n",
       "22374              1.00  2414.0  479.0    y  \n",
       "22375              0.99  1380.0  121.0    y  \n",
       "\n",
       "[17199 rows x 8 columns]"
      ]
     },
     "execution_count": 26,
     "metadata": {},
     "output_type": "execute_result"
    }
   ],
   "source": [
    "df_skills"
   ]
  },
  {
   "cell_type": "code",
   "execution_count": 27,
   "id": "9a2f04e3",
   "metadata": {
    "ExecuteTime": {
     "end_time": "2022-05-23T11:11:57.705961Z",
     "start_time": "2022-05-23T11:11:57.623773Z"
    }
   },
   "outputs": [],
   "source": [
    "# Produce the refined main table\n",
    "df_full=df_skills.merge(df_main,how='left',left_on=['id'],right_on=['id'])[['id', 'type','posting_date', 'description', 'title', 'country',\n",
    "       'employer', 'industry', 'source', 'skill']]"
   ]
  },
  {
   "cell_type": "code",
   "execution_count": 28,
   "id": "f3f78116",
   "metadata": {
    "ExecuteTime": {
     "end_time": "2022-05-23T11:11:57.775400Z",
     "start_time": "2022-05-23T11:11:57.713706Z"
    },
    "scrolled": true
   },
   "outputs": [
    {
     "data": {
      "text/html": [
       "<div>\n",
       "<style scoped>\n",
       "    .dataframe tbody tr th:only-of-type {\n",
       "        vertical-align: middle;\n",
       "    }\n",
       "\n",
       "    .dataframe tbody tr th {\n",
       "        vertical-align: top;\n",
       "    }\n",
       "\n",
       "    .dataframe thead th {\n",
       "        text-align: right;\n",
       "    }\n",
       "</style>\n",
       "<table border=\"1\" class=\"dataframe\">\n",
       "  <thead>\n",
       "    <tr style=\"text-align: right;\">\n",
       "      <th></th>\n",
       "      <th>id</th>\n",
       "      <th>type</th>\n",
       "      <th>posting_date</th>\n",
       "      <th>description</th>\n",
       "      <th>title</th>\n",
       "      <th>country</th>\n",
       "      <th>employer</th>\n",
       "      <th>industry</th>\n",
       "      <th>source</th>\n",
       "      <th>skill</th>\n",
       "    </tr>\n",
       "  </thead>\n",
       "  <tbody>\n",
       "    <tr>\n",
       "      <th>0</th>\n",
       "      <td>4.203393e+09</td>\n",
       "      <td>others</td>\n",
       "      <td>2019-09-27</td>\n",
       "      <td>*artificial intelligence/ machine learning dat...</td>\n",
       "      <td>AI/ML Data Scientist</td>\n",
       "      <td>United Kingdom</td>\n",
       "      <td>Tec Partners</td>\n",
       "      <td>unclassified</td>\n",
       "      <td>Glassdoor</td>\n",
       "      <td>artificial intelligence</td>\n",
       "    </tr>\n",
       "    <tr>\n",
       "      <th>1</th>\n",
       "      <td>4.203393e+09</td>\n",
       "      <td>others</td>\n",
       "      <td>2019-09-27</td>\n",
       "      <td>*artificial intelligence/ machine learning dat...</td>\n",
       "      <td>AI/ML Data Scientist</td>\n",
       "      <td>United Kingdom</td>\n",
       "      <td>Tec Partners</td>\n",
       "      <td>unclassified</td>\n",
       "      <td>Glassdoor</td>\n",
       "      <td>machine learning</td>\n",
       "    </tr>\n",
       "    <tr>\n",
       "      <th>2</th>\n",
       "      <td>4.203393e+09</td>\n",
       "      <td>others</td>\n",
       "      <td>2019-09-27</td>\n",
       "      <td>*artificial intelligence/ machine learning dat...</td>\n",
       "      <td>AI/ML Data Scientist</td>\n",
       "      <td>United Kingdom</td>\n",
       "      <td>Tec Partners</td>\n",
       "      <td>unclassified</td>\n",
       "      <td>Glassdoor</td>\n",
       "      <td>datasets</td>\n",
       "    </tr>\n",
       "    <tr>\n",
       "      <th>3</th>\n",
       "      <td>4.203393e+09</td>\n",
       "      <td>others</td>\n",
       "      <td>2019-09-27</td>\n",
       "      <td>*artificial intelligence/ machine learning dat...</td>\n",
       "      <td>AI/ML Data Scientist</td>\n",
       "      <td>United Kingdom</td>\n",
       "      <td>Tec Partners</td>\n",
       "      <td>unclassified</td>\n",
       "      <td>Glassdoor</td>\n",
       "      <td>cybersecurity</td>\n",
       "    </tr>\n",
       "    <tr>\n",
       "      <th>4</th>\n",
       "      <td>4.203393e+09</td>\n",
       "      <td>others</td>\n",
       "      <td>2019-09-27</td>\n",
       "      <td>*artificial intelligence/ machine learning dat...</td>\n",
       "      <td>AI/ML Data Scientist</td>\n",
       "      <td>United Kingdom</td>\n",
       "      <td>Tec Partners</td>\n",
       "      <td>unclassified</td>\n",
       "      <td>Glassdoor</td>\n",
       "      <td>developing</td>\n",
       "    </tr>\n",
       "    <tr>\n",
       "      <th>...</th>\n",
       "      <td>...</td>\n",
       "      <td>...</td>\n",
       "      <td>...</td>\n",
       "      <td>...</td>\n",
       "      <td>...</td>\n",
       "      <td>...</td>\n",
       "      <td>...</td>\n",
       "      <td>...</td>\n",
       "      <td>...</td>\n",
       "      <td>...</td>\n",
       "    </tr>\n",
       "    <tr>\n",
       "      <th>17194</th>\n",
       "      <td>4.147913e+09</td>\n",
       "      <td>others</td>\n",
       "      <td>2019-08-21</td>\n",
       "      <td>algorithmes de data mining.algorithmes de mach...</td>\n",
       "      <td>D/ASE/DATASCIENTIST - Ingénieur Data Scientist...</td>\n",
       "      <td>France</td>\n",
       "      <td>Groupe SII</td>\n",
       "      <td>IT Services</td>\n",
       "      <td>Glassdoor</td>\n",
       "      <td>machine learning</td>\n",
       "    </tr>\n",
       "    <tr>\n",
       "      <th>17195</th>\n",
       "      <td>4.147913e+09</td>\n",
       "      <td>others</td>\n",
       "      <td>2019-08-21</td>\n",
       "      <td>algorithmes de data mining.algorithmes de mach...</td>\n",
       "      <td>D/ASE/DATASCIENTIST - Ingénieur Data Scientist...</td>\n",
       "      <td>France</td>\n",
       "      <td>Groupe SII</td>\n",
       "      <td>IT Services</td>\n",
       "      <td>Glassdoor</td>\n",
       "      <td>decision tree</td>\n",
       "    </tr>\n",
       "    <tr>\n",
       "      <th>17196</th>\n",
       "      <td>4.147913e+09</td>\n",
       "      <td>others</td>\n",
       "      <td>2019-08-21</td>\n",
       "      <td>algorithmes de data mining.algorithmes de mach...</td>\n",
       "      <td>D/ASE/DATASCIENTIST - Ingénieur Data Scientist...</td>\n",
       "      <td>France</td>\n",
       "      <td>Groupe SII</td>\n",
       "      <td>IT Services</td>\n",
       "      <td>Glassdoor</td>\n",
       "      <td>neural network</td>\n",
       "    </tr>\n",
       "    <tr>\n",
       "      <th>17197</th>\n",
       "      <td>4.189587e+09</td>\n",
       "      <td>others</td>\n",
       "      <td>2019-08-21</td>\n",
       "      <td>machine learning et deep learning.librairies d...</td>\n",
       "      <td>Stage : Assistant Data Scientist - Moteur de r...</td>\n",
       "      <td>France</td>\n",
       "      <td>Crédit Agricole</td>\n",
       "      <td>Investment Banking &amp; Asset Management</td>\n",
       "      <td>Glassdoor</td>\n",
       "      <td>machine learning</td>\n",
       "    </tr>\n",
       "    <tr>\n",
       "      <th>17198</th>\n",
       "      <td>4.189587e+09</td>\n",
       "      <td>others</td>\n",
       "      <td>2019-08-21</td>\n",
       "      <td>machine learning et deep learning.librairies d...</td>\n",
       "      <td>Stage : Assistant Data Scientist - Moteur de r...</td>\n",
       "      <td>France</td>\n",
       "      <td>Crédit Agricole</td>\n",
       "      <td>Investment Banking &amp; Asset Management</td>\n",
       "      <td>Glassdoor</td>\n",
       "      <td>deep learning</td>\n",
       "    </tr>\n",
       "  </tbody>\n",
       "</table>\n",
       "<p>17199 rows × 10 columns</p>\n",
       "</div>"
      ],
      "text/plain": [
       "                 id    type posting_date  \\\n",
       "0      4.203393e+09  others   2019-09-27   \n",
       "1      4.203393e+09  others   2019-09-27   \n",
       "2      4.203393e+09  others   2019-09-27   \n",
       "3      4.203393e+09  others   2019-09-27   \n",
       "4      4.203393e+09  others   2019-09-27   \n",
       "...             ...     ...          ...   \n",
       "17194  4.147913e+09  others   2019-08-21   \n",
       "17195  4.147913e+09  others   2019-08-21   \n",
       "17196  4.147913e+09  others   2019-08-21   \n",
       "17197  4.189587e+09  others   2019-08-21   \n",
       "17198  4.189587e+09  others   2019-08-21   \n",
       "\n",
       "                                             description  \\\n",
       "0      *artificial intelligence/ machine learning dat...   \n",
       "1      *artificial intelligence/ machine learning dat...   \n",
       "2      *artificial intelligence/ machine learning dat...   \n",
       "3      *artificial intelligence/ machine learning dat...   \n",
       "4      *artificial intelligence/ machine learning dat...   \n",
       "...                                                  ...   \n",
       "17194  algorithmes de data mining.algorithmes de mach...   \n",
       "17195  algorithmes de data mining.algorithmes de mach...   \n",
       "17196  algorithmes de data mining.algorithmes de mach...   \n",
       "17197  machine learning et deep learning.librairies d...   \n",
       "17198  machine learning et deep learning.librairies d...   \n",
       "\n",
       "                                                   title         country  \\\n",
       "0                                   AI/ML Data Scientist  United Kingdom   \n",
       "1                                   AI/ML Data Scientist  United Kingdom   \n",
       "2                                   AI/ML Data Scientist  United Kingdom   \n",
       "3                                   AI/ML Data Scientist  United Kingdom   \n",
       "4                                   AI/ML Data Scientist  United Kingdom   \n",
       "...                                                  ...             ...   \n",
       "17194  D/ASE/DATASCIENTIST - Ingénieur Data Scientist...          France   \n",
       "17195  D/ASE/DATASCIENTIST - Ingénieur Data Scientist...          France   \n",
       "17196  D/ASE/DATASCIENTIST - Ingénieur Data Scientist...          France   \n",
       "17197  Stage : Assistant Data Scientist - Moteur de r...          France   \n",
       "17198  Stage : Assistant Data Scientist - Moteur de r...          France   \n",
       "\n",
       "              employer                               industry     source  \\\n",
       "0         Tec Partners                           unclassified  Glassdoor   \n",
       "1         Tec Partners                           unclassified  Glassdoor   \n",
       "2         Tec Partners                           unclassified  Glassdoor   \n",
       "3         Tec Partners                           unclassified  Glassdoor   \n",
       "4         Tec Partners                           unclassified  Glassdoor   \n",
       "...                ...                                    ...        ...   \n",
       "17194       Groupe SII                            IT Services  Glassdoor   \n",
       "17195       Groupe SII                            IT Services  Glassdoor   \n",
       "17196       Groupe SII                            IT Services  Glassdoor   \n",
       "17197  Crédit Agricole  Investment Banking & Asset Management  Glassdoor   \n",
       "17198  Crédit Agricole  Investment Banking & Asset Management  Glassdoor   \n",
       "\n",
       "                         skill  \n",
       "0      artificial intelligence  \n",
       "1             machine learning  \n",
       "2                     datasets  \n",
       "3                cybersecurity  \n",
       "4                   developing  \n",
       "...                        ...  \n",
       "17194         machine learning  \n",
       "17195            decision tree  \n",
       "17196           neural network  \n",
       "17197         machine learning  \n",
       "17198            deep learning  \n",
       "\n",
       "[17199 rows x 10 columns]"
      ]
     },
     "execution_count": 28,
     "metadata": {},
     "output_type": "execute_result"
    }
   ],
   "source": [
    "df_full"
   ]
  },
  {
   "cell_type": "code",
   "execution_count": 29,
   "id": "70aace7d",
   "metadata": {
    "ExecuteTime": {
     "end_time": "2022-05-23T11:11:57.805031Z",
     "start_time": "2022-05-23T11:11:57.783173Z"
    }
   },
   "outputs": [],
   "source": [
    "#Remove records which are duplicated and removed in main, but still exists in skill table\n",
    "df_full.dropna(subset=['description'],inplace=True)"
   ]
  },
  {
   "cell_type": "code",
   "execution_count": 53,
   "id": "9dc63c22",
   "metadata": {
    "ExecuteTime": {
     "end_time": "2022-05-23T11:44:56.440578Z",
     "start_time": "2022-05-23T11:44:56.254328Z"
    }
   },
   "outputs": [],
   "source": [
    "# data clean for data jobs\n",
    "data_file= './01_Data/Output/datajobs.csv'\n",
    "df_data=pd.read_csv(data_file)"
   ]
  },
  {
   "cell_type": "code",
   "execution_count": 55,
   "id": "d645f8da",
   "metadata": {
    "ExecuteTime": {
     "end_time": "2022-05-23T11:46:31.284838Z",
     "start_time": "2022-05-23T11:46:31.223809Z"
    }
   },
   "outputs": [],
   "source": [
    "# Drop the duplicated job postings \n",
    "df_data.drop_duplicates(subset=['employer','description','title','location'],inplace=True)\n",
    "# Drop the job posting with same id even the above would be a little different.\n",
    "df_data.drop_duplicates(subset=['id'],inplace=True)"
   ]
  },
  {
   "cell_type": "code",
   "execution_count": 56,
   "id": "8f9fb6b0",
   "metadata": {
    "ExecuteTime": {
     "end_time": "2022-05-23T11:48:42.925569Z",
     "start_time": "2022-05-23T11:48:42.394438Z"
    }
   },
   "outputs": [],
   "source": [
    "# drop na\n",
    "df_data.dropna(subset=['description'],inplace=True)\n",
    "# Change string to datetime\n",
    "df_data['posting_date']=df_data['posting_date'].apply(lambda x: parser.parse(x))"
   ]
  },
  {
   "cell_type": "markdown",
   "id": "4a5fe274",
   "metadata": {},
   "source": [
    "### Data analysis\n",
    "- Jobs based analysis: by countries, by type(level), by industries\n",
    "- Skills based analysis: by countries, by level, by industries.\n",
    "- Seek to combine the above.\n",
    "- Keywords anaysis in scattertext between Sr. and Jr."
   ]
  },
  {
   "cell_type": "markdown",
   "id": "a2574a82",
   "metadata": {},
   "source": [
    "##### Job distribution"
   ]
  },
  {
   "cell_type": "code",
   "execution_count": 50,
   "id": "d284038b",
   "metadata": {
    "ExecuteTime": {
     "end_time": "2022-05-23T11:27:12.724941Z",
     "start_time": "2022-05-23T11:27:12.644231Z"
    }
   },
   "outputs": [
    {
     "data": {
      "text/plain": [
       "country\n",
       "United States     2301\n",
       "India             1941\n",
       "United Kingdom    1468\n",
       "Canada            1460\n",
       "Germany           1271\n",
       "Singapore         1084\n",
       "France             484\n",
       "Israel             404\n",
       "Switzerland        400\n",
       "China              381\n",
       "Name: id, dtype: int64"
      ]
     },
     "execution_count": 50,
     "metadata": {},
     "output_type": "execute_result"
    }
   ],
   "source": [
    "df_full.groupby(['country']).count()['id'].sort_values(ascending=False)[0:10]"
   ]
  },
  {
   "cell_type": "code",
   "execution_count": 49,
   "id": "2e92c957",
   "metadata": {
    "ExecuteTime": {
     "end_time": "2022-05-23T11:26:54.743282Z",
     "start_time": "2022-05-23T11:26:54.698815Z"
    }
   },
   "outputs": [
    {
     "data": {
      "text/plain": [
       "industry\n",
       "unclassified                               2551\n",
       "Internet                                   1539\n",
       "Computer Hardware & Software               1471\n",
       "IT Services                                1439\n",
       "Consulting                                 1191\n",
       "Biotech & Pharmaceuticals                  1068\n",
       "Enterprise Software & Network Solutions     989\n",
       "Accounting                                  579\n",
       "Investment Banking & Asset Management       525\n",
       "Staffing & Outsourcing                      367\n",
       "Name: id, dtype: int64"
      ]
     },
     "execution_count": 49,
     "metadata": {},
     "output_type": "execute_result"
    }
   ],
   "source": [
    "df_full.groupby(['industry']).count()['id'].sort_values(ascending=False)[0:10]"
   ]
  },
  {
   "cell_type": "code",
   "execution_count": 32,
   "id": "14e5c0de",
   "metadata": {
    "ExecuteTime": {
     "end_time": "2022-05-23T11:11:57.974435Z",
     "start_time": "2022-05-23T11:11:57.927798Z"
    }
   },
   "outputs": [
    {
     "data": {
      "text/plain": [
       "type\n",
       "senior    11907\n",
       "others     3137\n",
       "junior     1959\n",
       "Name: id, dtype: int64"
      ]
     },
     "execution_count": 32,
     "metadata": {},
     "output_type": "execute_result"
    }
   ],
   "source": [
    "df_full.groupby(['type']).count()['id'].sort_values(ascending=False)"
   ]
  },
  {
   "cell_type": "code",
   "execution_count": 60,
   "id": "1ee48864",
   "metadata": {
    "ExecuteTime": {
     "end_time": "2022-05-23T11:51:33.486585Z",
     "start_time": "2022-05-23T11:51:33.408807Z"
    }
   },
   "outputs": [
    {
     "data": {
      "text/plain": [
       "posting_date\n",
       "2019-10    475\n",
       "2019-11    274\n",
       "2019-09      7\n",
       "2019-08      5\n",
       "2019-07      3\n",
       "2019-06      1\n",
       "Freq: M, Name: id, dtype: int64"
      ]
     },
     "execution_count": 60,
     "metadata": {},
     "output_type": "execute_result"
    }
   ],
   "source": [
    "df_main.groupby(df_main['posting_date'].dt.to_period(\"M\")).count()['id'].sort_values(ascending=False)"
   ]
  },
  {
   "cell_type": "code",
   "execution_count": 61,
   "id": "b6e9c714",
   "metadata": {
    "ExecuteTime": {
     "end_time": "2022-05-23T11:52:04.949360Z",
     "start_time": "2022-05-23T11:52:04.855104Z"
    }
   },
   "outputs": [
    {
     "data": {
      "text/plain": [
       "posting_date\n",
       "2019-10    1980\n",
       "2019-11    1243\n",
       "2019-09      28\n",
       "2019-08      22\n",
       "2019-07       8\n",
       "2019-06       4\n",
       "2018-02       2\n",
       "2019-04       1\n",
       "Freq: M, Name: id, dtype: int64"
      ]
     },
     "execution_count": 61,
     "metadata": {},
     "output_type": "execute_result"
    }
   ],
   "source": [
    "df_data.groupby(df_data['posting_date'].dt.to_period(\"M\")).count()['id'].sort_values(ascending=False)"
   ]
  },
  {
   "cell_type": "markdown",
   "id": "bbe6f317",
   "metadata": {
    "ExecuteTime": {
     "end_time": "2022-05-23T03:10:45.745246Z",
     "start_time": "2022-05-23T03:10:45.727967Z"
    }
   },
   "source": [
    "##### Skills distribution"
   ]
  },
  {
   "cell_type": "code",
   "execution_count": 48,
   "id": "dad90225",
   "metadata": {
    "ExecuteTime": {
     "end_time": "2022-05-23T11:26:44.265623Z",
     "start_time": "2022-05-23T11:26:44.228570Z"
    }
   },
   "outputs": [
    {
     "data": {
      "text/plain": [
       "country\n",
       "United States     2301\n",
       "India             1941\n",
       "United Kingdom    1468\n",
       "Canada            1460\n",
       "Germany           1271\n",
       "Singapore         1084\n",
       "France             484\n",
       "Israel             404\n",
       "Switzerland        400\n",
       "China              381\n",
       "Name: skill, dtype: int64"
      ]
     },
     "execution_count": 48,
     "metadata": {},
     "output_type": "execute_result"
    }
   ],
   "source": [
    "df_full.groupby(['country']).count()['skill'].sort_values(ascending=False)[0:10]"
   ]
  },
  {
   "cell_type": "code",
   "execution_count": 47,
   "id": "09b4ddab",
   "metadata": {
    "ExecuteTime": {
     "end_time": "2022-05-23T11:26:34.065010Z",
     "start_time": "2022-05-23T11:26:33.983922Z"
    }
   },
   "outputs": [
    {
     "data": {
      "text/plain": [
       "industry\n",
       "unclassified                               2551\n",
       "Internet                                   1539\n",
       "Computer Hardware & Software               1471\n",
       "IT Services                                1439\n",
       "Consulting                                 1191\n",
       "Biotech & Pharmaceuticals                  1068\n",
       "Enterprise Software & Network Solutions     989\n",
       "Accounting                                  579\n",
       "Investment Banking & Asset Management       525\n",
       "Staffing & Outsourcing                      367\n",
       "Name: skill, dtype: int64"
      ]
     },
     "execution_count": 47,
     "metadata": {},
     "output_type": "execute_result"
    }
   ],
   "source": [
    "df_full.groupby(['industry']).count()['skill'].sort_values(ascending=False)[0:10]"
   ]
  },
  {
   "cell_type": "code",
   "execution_count": 36,
   "id": "eb803f22",
   "metadata": {
    "ExecuteTime": {
     "end_time": "2022-05-23T11:11:58.299650Z",
     "start_time": "2022-05-23T11:11:58.262685Z"
    }
   },
   "outputs": [
    {
     "data": {
      "text/plain": [
       "type\n",
       "senior    11907\n",
       "others     3137\n",
       "junior     1959\n",
       "Name: skill, dtype: int64"
      ]
     },
     "execution_count": 36,
     "metadata": {},
     "output_type": "execute_result"
    }
   ],
   "source": [
    "df_full.groupby(['type']).count()['skill'].sort_values(ascending=False)"
   ]
  },
  {
   "cell_type": "code",
   "execution_count": 37,
   "id": "87d0f13e",
   "metadata": {
    "ExecuteTime": {
     "end_time": "2022-05-23T11:11:58.318865Z",
     "start_time": "2022-05-23T11:11:58.304215Z"
    }
   },
   "outputs": [
    {
     "data": {
      "text/plain": [
       "765"
      ]
     },
     "execution_count": 37,
     "metadata": {},
     "output_type": "execute_result"
    }
   ],
   "source": [
    "len(df_main['id'].unique())"
   ]
  },
  {
   "cell_type": "code",
   "execution_count": 38,
   "id": "36d54c0a",
   "metadata": {
    "ExecuteTime": {
     "end_time": "2022-05-23T11:11:58.343640Z",
     "start_time": "2022-05-23T11:11:58.328359Z"
    }
   },
   "outputs": [
    {
     "data": {
      "text/plain": [
       "35"
      ]
     },
     "execution_count": 38,
     "metadata": {},
     "output_type": "execute_result"
    }
   ],
   "source": [
    "len(set(df_main['id'].unique())-set(df_skills['id'].unique()))"
   ]
  },
  {
   "cell_type": "code",
   "execution_count": 39,
   "id": "ce192a14",
   "metadata": {
    "ExecuteTime": {
     "end_time": "2022-05-23T11:11:58.362732Z",
     "start_time": "2022-05-23T11:11:58.348744Z"
    }
   },
   "outputs": [],
   "source": [
    "not_list=list(set(df_main['id'].unique())-set(df_skills['id'].unique()))"
   ]
  },
  {
   "cell_type": "code",
   "execution_count": 40,
   "id": "d19e2fbb",
   "metadata": {
    "ExecuteTime": {
     "end_time": "2022-05-23T11:11:58.382585Z",
     "start_time": "2022-05-23T11:11:58.368264Z"
    }
   },
   "outputs": [
    {
     "data": {
      "text/plain": [
       "741"
      ]
     },
     "execution_count": 40,
     "metadata": {},
     "output_type": "execute_result"
    }
   ],
   "source": [
    "len(df_skills['id'].unique())"
   ]
  },
  {
   "cell_type": "code",
   "execution_count": 41,
   "id": "cf251db0",
   "metadata": {
    "ExecuteTime": {
     "end_time": "2022-05-23T11:11:58.400070Z",
     "start_time": "2022-05-23T11:11:58.392610Z"
    }
   },
   "outputs": [],
   "source": [
    "# The reason that no. of id in df_full is less than df_main is:\n",
    "# 1) No skills have been extracted by azure.\n",
    "# 2) Extracted skills have been removed manually due to inappropriateness\n",
    "# The detail is:\n",
    "# df_main[df_main['id'].isin(not_list)]"
   ]
  },
  {
   "cell_type": "code",
   "execution_count": 42,
   "id": "1a681c72",
   "metadata": {
    "ExecuteTime": {
     "end_time": "2022-05-23T11:11:58.462789Z",
     "start_time": "2022-05-23T11:11:58.405325Z"
    }
   },
   "outputs": [
    {
     "data": {
      "text/plain": [
       "count    730.000000\n",
       "mean      23.291781\n",
       "std       14.184985\n",
       "min        1.000000\n",
       "25%       13.000000\n",
       "50%       22.000000\n",
       "75%       31.000000\n",
       "max       80.000000\n",
       "Name: skill, dtype: float64"
      ]
     },
     "execution_count": 42,
     "metadata": {},
     "output_type": "execute_result"
    }
   ],
   "source": [
    "df_full.groupby(['id']).count()['skill'].describe()"
   ]
  },
  {
   "cell_type": "code",
   "execution_count": 43,
   "id": "4e50ff20",
   "metadata": {
    "ExecuteTime": {
     "end_time": "2022-05-23T11:11:58.500396Z",
     "start_time": "2022-05-23T11:11:58.467873Z"
    }
   },
   "outputs": [
    {
     "data": {
      "text/plain": [
       "type\n",
       "junior     1959\n",
       "others     3137\n",
       "senior    11907\n",
       "Name: skill, dtype: int64"
      ]
     },
     "execution_count": 43,
     "metadata": {},
     "output_type": "execute_result"
    }
   ],
   "source": [
    "df_full.groupby(['type']).count()['skill']"
   ]
  },
  {
   "cell_type": "code",
   "execution_count": 44,
   "id": "61535194",
   "metadata": {
    "ExecuteTime": {
     "end_time": "2022-05-23T11:11:58.540269Z",
     "start_time": "2022-05-23T11:11:58.504097Z"
    }
   },
   "outputs": [
    {
     "data": {
      "text/plain": [
       "count    730.000000\n",
       "mean      23.291781\n",
       "std       14.184985\n",
       "min        1.000000\n",
       "25%       13.000000\n",
       "50%       22.000000\n",
       "75%       31.000000\n",
       "max       80.000000\n",
       "Name: skill, dtype: float64"
      ]
     },
     "execution_count": 44,
     "metadata": {},
     "output_type": "execute_result"
    }
   ],
   "source": [
    "df_full.groupby(['type','id']).count()['skill'].describe()"
   ]
  },
  {
   "cell_type": "code",
   "execution_count": 46,
   "id": "68b8c734",
   "metadata": {
    "ExecuteTime": {
     "end_time": "2022-05-23T11:26:08.481016Z",
     "start_time": "2022-05-23T11:26:08.392128Z"
    }
   },
   "outputs": [
    {
     "data": {
      "text/plain": [
       "skill\n",
       "machine learning    474\n",
       "statistics          361\n",
       "computer science    348\n",
       "python              347\n",
       "algorithms          227\n",
       "mathematics         223\n",
       "engineering         219\n",
       "communication       199\n",
       "analytics           191\n",
       "r                   179\n",
       "Name: id, dtype: int64"
      ]
     },
     "execution_count": 46,
     "metadata": {},
     "output_type": "execute_result"
    }
   ],
   "source": [
    "df_full.groupby(['skill']).count()['id'].sort_values(ascending=False)[0:10]"
   ]
  },
  {
   "cell_type": "code",
   "execution_count": 72,
   "id": "2322a02d",
   "metadata": {
    "ExecuteTime": {
     "end_time": "2022-05-23T12:13:53.513832Z",
     "start_time": "2022-05-23T12:13:53.487574Z"
    }
   },
   "outputs": [
    {
     "data": {
      "text/html": [
       "<div>\n",
       "<style scoped>\n",
       "    .dataframe tbody tr th:only-of-type {\n",
       "        vertical-align: middle;\n",
       "    }\n",
       "\n",
       "    .dataframe tbody tr th {\n",
       "        vertical-align: top;\n",
       "    }\n",
       "\n",
       "    .dataframe thead th {\n",
       "        text-align: right;\n",
       "    }\n",
       "</style>\n",
       "<table border=\"1\" class=\"dataframe\">\n",
       "  <thead>\n",
       "    <tr style=\"text-align: right;\">\n",
       "      <th></th>\n",
       "      <th>type</th>\n",
       "      <th>skill</th>\n",
       "      <th>cnt</th>\n",
       "    </tr>\n",
       "  </thead>\n",
       "  <tbody>\n",
       "    <tr>\n",
       "      <th>0</th>\n",
       "      <td>senior</td>\n",
       "      <td>machine learning</td>\n",
       "      <td>342</td>\n",
       "    </tr>\n",
       "    <tr>\n",
       "      <th>1</th>\n",
       "      <td>senior</td>\n",
       "      <td>statistics</td>\n",
       "      <td>264</td>\n",
       "    </tr>\n",
       "    <tr>\n",
       "      <th>2</th>\n",
       "      <td>senior</td>\n",
       "      <td>computer science</td>\n",
       "      <td>245</td>\n",
       "    </tr>\n",
       "    <tr>\n",
       "      <th>3</th>\n",
       "      <td>senior</td>\n",
       "      <td>python</td>\n",
       "      <td>236</td>\n",
       "    </tr>\n",
       "    <tr>\n",
       "      <th>4</th>\n",
       "      <td>senior</td>\n",
       "      <td>algorithms</td>\n",
       "      <td>171</td>\n",
       "    </tr>\n",
       "    <tr>\n",
       "      <th>...</th>\n",
       "      <td>...</td>\n",
       "      <td>...</td>\n",
       "      <td>...</td>\n",
       "    </tr>\n",
       "    <tr>\n",
       "      <th>4512</th>\n",
       "      <td>others</td>\n",
       "      <td>sec</td>\n",
       "      <td>1</td>\n",
       "    </tr>\n",
       "    <tr>\n",
       "      <th>4513</th>\n",
       "      <td>others</td>\n",
       "      <td>segmentation analysis</td>\n",
       "      <td>1</td>\n",
       "    </tr>\n",
       "    <tr>\n",
       "      <th>4514</th>\n",
       "      <td>others</td>\n",
       "      <td>segregation</td>\n",
       "      <td>1</td>\n",
       "    </tr>\n",
       "    <tr>\n",
       "      <th>4515</th>\n",
       "      <td>others</td>\n",
       "      <td>seismic interpretation</td>\n",
       "      <td>1</td>\n",
       "    </tr>\n",
       "    <tr>\n",
       "      <th>4516</th>\n",
       "      <td>senior</td>\n",
       "      <td>big data technology</td>\n",
       "      <td>1</td>\n",
       "    </tr>\n",
       "  </tbody>\n",
       "</table>\n",
       "<p>4517 rows × 3 columns</p>\n",
       "</div>"
      ],
      "text/plain": [
       "        type                   skill  cnt\n",
       "0     senior        machine learning  342\n",
       "1     senior              statistics  264\n",
       "2     senior        computer science  245\n",
       "3     senior                  python  236\n",
       "4     senior              algorithms  171\n",
       "...      ...                     ...  ...\n",
       "4512  others                     sec    1\n",
       "4513  others   segmentation analysis    1\n",
       "4514  others             segregation    1\n",
       "4515  others  seismic interpretation    1\n",
       "4516  senior     big data technology    1\n",
       "\n",
       "[4517 rows x 3 columns]"
      ]
     },
     "execution_count": 72,
     "metadata": {},
     "output_type": "execute_result"
    }
   ],
   "source": [
    "df_type"
   ]
  },
  {
   "cell_type": "code",
   "execution_count": 97,
   "id": "c83298e4",
   "metadata": {
    "ExecuteTime": {
     "end_time": "2022-05-24T06:45:18.467509Z",
     "start_time": "2022-05-24T06:45:18.253851Z"
    }
   },
   "outputs": [],
   "source": [
    "top_n=10\n",
    "df_type=df_full.groupby(['type','skill']).count()['id'].sort_values(ascending=False)\n",
    "df_type=df_type.reset_index()\n",
    "df_type.columns=['type','skill','cnt']\n",
    "df_sr=df_type[df_type['type']=='senior'].sort_values(['cnt'],ascending=False)[0:top_n]\n",
    "df_jr=df_type[df_type['type']=='junior'].sort_values(['cnt'],ascending=False)[0:top_n]\n",
    "df_ot=df_type[df_type['type']=='others'].sort_values(['cnt'],ascending=False)[0:top_n]"
   ]
  },
  {
   "cell_type": "code",
   "execution_count": 134,
   "id": "872aebfb",
   "metadata": {
    "ExecuteTime": {
     "end_time": "2022-05-24T07:31:17.550397Z",
     "start_time": "2022-05-24T07:31:17.438776Z"
    },
    "scrolled": true
   },
   "outputs": [
    {
     "data": {
      "text/html": [
       "\n",
       "<div id=\"altair-viz-27b1e7f95a174052b9c0c54a091ececa\"></div>\n",
       "<script type=\"text/javascript\">\n",
       "  (function(spec, embedOpt){\n",
       "    let outputDiv = document.currentScript.previousElementSibling;\n",
       "    if (outputDiv.id !== \"altair-viz-27b1e7f95a174052b9c0c54a091ececa\") {\n",
       "      outputDiv = document.getElementById(\"altair-viz-27b1e7f95a174052b9c0c54a091ececa\");\n",
       "    }\n",
       "    const paths = {\n",
       "      \"vega\": \"https://cdn.jsdelivr.net/npm//vega@5?noext\",\n",
       "      \"vega-lib\": \"https://cdn.jsdelivr.net/npm//vega-lib?noext\",\n",
       "      \"vega-lite\": \"https://cdn.jsdelivr.net/npm//vega-lite@4.8.1?noext\",\n",
       "      \"vega-embed\": \"https://cdn.jsdelivr.net/npm//vega-embed@6?noext\",\n",
       "    };\n",
       "\n",
       "    function loadScript(lib) {\n",
       "      return new Promise(function(resolve, reject) {\n",
       "        var s = document.createElement('script');\n",
       "        s.src = paths[lib];\n",
       "        s.async = true;\n",
       "        s.onload = () => resolve(paths[lib]);\n",
       "        s.onerror = () => reject(`Error loading script: ${paths[lib]}`);\n",
       "        document.getElementsByTagName(\"head\")[0].appendChild(s);\n",
       "      });\n",
       "    }\n",
       "\n",
       "    function showError(err) {\n",
       "      outputDiv.innerHTML = `<div class=\"error\" style=\"color:red;\">${err}</div>`;\n",
       "      throw err;\n",
       "    }\n",
       "\n",
       "    function displayChart(vegaEmbed) {\n",
       "      vegaEmbed(outputDiv, spec, embedOpt)\n",
       "        .catch(err => showError(`Javascript Error: ${err.message}<br>This usually means there's a typo in your chart specification. See the javascript console for the full traceback.`));\n",
       "    }\n",
       "\n",
       "    if(typeof define === \"function\" && define.amd) {\n",
       "      requirejs.config({paths});\n",
       "      require([\"vega-embed\"], displayChart, err => showError(`Error loading script: ${err.message}`));\n",
       "    } else if (typeof vegaEmbed === \"function\") {\n",
       "      displayChart(vegaEmbed);\n",
       "    } else {\n",
       "      loadScript(\"vega\")\n",
       "        .then(() => loadScript(\"vega-lite\"))\n",
       "        .then(() => loadScript(\"vega-embed\"))\n",
       "        .catch(showError)\n",
       "        .then(() => displayChart(vegaEmbed));\n",
       "    }\n",
       "  })({\"config\": {\"view\": {\"continuousWidth\": 400, \"continuousHeight\": 300, \"strokeOpacity\": 0}, \"axisY\": {\"titleAlign\": \"right\", \"titleAngle\": 0, \"titleX\": -20, \"titleY\": -10}, \"concat\": {\"spacing\": 30}}, \"hconcat\": [{\"data\": {\"name\": \"data-861f9489b8450953e56645fbd63f2df5\"}, \"mark\": \"bar\", \"encoding\": {\"tooltip\": [{\"type\": \"quantitative\", \"field\": \"cnt\", \"format\": \"d\"}], \"x\": {\"type\": \"quantitative\", \"axis\": {\"labelAngle\": -45, \"labelOverlap\": false}, \"field\": \"cnt\", \"title\": \" # of count\"}, \"y\": {\"type\": \"nominal\", \"field\": \"skill\", \"sort\": \"-x\", \"title\": \"skill\"}}, \"height\": 200, \"width\": 200}, {\"data\": {\"name\": \"data-cb85e1c3add54b983b338a9fc60158c1\"}, \"mark\": \"bar\", \"encoding\": {\"tooltip\": [{\"type\": \"quantitative\", \"field\": \"cnt\", \"format\": \"d\"}], \"x\": {\"type\": \"quantitative\", \"axis\": {\"labelAngle\": -45, \"labelOverlap\": false}, \"field\": \"cnt\", \"title\": \" # of count\"}, \"y\": {\"type\": \"nominal\", \"field\": \"skill\", \"sort\": \"-x\", \"title\": \"skill\"}}, \"height\": 200, \"width\": 200}, {\"data\": {\"name\": \"data-70ff4c33cf4aca2b6da81a992b063eee\"}, \"mark\": \"bar\", \"encoding\": {\"tooltip\": [{\"type\": \"quantitative\", \"field\": \"cnt\", \"format\": \"d\"}], \"x\": {\"type\": \"quantitative\", \"axis\": {\"labelAngle\": -45, \"labelOverlap\": false}, \"field\": \"cnt\", \"title\": \" # of count\"}, \"y\": {\"type\": \"nominal\", \"field\": \"skill\", \"sort\": \"-x\", \"title\": \"skill\"}}, \"height\": 200, \"width\": 200}], \"title\": \"Top skills by levels\", \"$schema\": \"https://vega.github.io/schema/vega-lite/v4.8.1.json\", \"datasets\": {\"data-861f9489b8450953e56645fbd63f2df5\": [{\"type\": \"senior\", \"skill\": \"machine learning\", \"cnt\": 342}, {\"type\": \"senior\", \"skill\": \"statistics\", \"cnt\": 264}, {\"type\": \"senior\", \"skill\": \"computer science\", \"cnt\": 245}, {\"type\": \"senior\", \"skill\": \"python\", \"cnt\": 236}, {\"type\": \"senior\", \"skill\": \"algorithms\", \"cnt\": 171}, {\"type\": \"senior\", \"skill\": \"mathematics\", \"cnt\": 156}, {\"type\": \"senior\", \"skill\": \"engineering\", \"cnt\": 155}, {\"type\": \"senior\", \"skill\": \"analytics\", \"cnt\": 141}, {\"type\": \"senior\", \"skill\": \"communication\", \"cnt\": 136}, {\"type\": \"senior\", \"skill\": \"r\", \"cnt\": 124}], \"data-cb85e1c3add54b983b338a9fc60158c1\": [{\"type\": \"junior\", \"skill\": \"machine learning\", \"cnt\": 44}, {\"type\": \"junior\", \"skill\": \"python\", \"cnt\": 43}, {\"type\": \"junior\", \"skill\": \"computer science\", \"cnt\": 42}, {\"type\": \"junior\", \"skill\": \"statistics\", \"cnt\": 39}, {\"type\": \"junior\", \"skill\": \"mathematics\", \"cnt\": 31}, {\"type\": \"junior\", \"skill\": \"communication\", \"cnt\": 27}, {\"type\": \"junior\", \"skill\": \"engineering\", \"cnt\": 24}, {\"type\": \"junior\", \"skill\": \"analytical\", \"cnt\": 23}, {\"type\": \"junior\", \"skill\": \"analysis\", \"cnt\": 23}, {\"type\": \"junior\", \"skill\": \"algorithms\", \"cnt\": 22}], \"data-70ff4c33cf4aca2b6da81a992b063eee\": [{\"type\": \"others\", \"skill\": \"machine learning\", \"cnt\": 88}, {\"type\": \"others\", \"skill\": \"python\", \"cnt\": 68}, {\"type\": \"others\", \"skill\": \"computer science\", \"cnt\": 61}, {\"type\": \"others\", \"skill\": \"statistics\", \"cnt\": 58}, {\"type\": \"others\", \"skill\": \"engineering\", \"cnt\": 40}, {\"type\": \"others\", \"skill\": \"mathematics\", \"cnt\": 36}, {\"type\": \"others\", \"skill\": \"communication\", \"cnt\": 36}, {\"type\": \"others\", \"skill\": \"algorithms\", \"cnt\": 34}, {\"type\": \"others\", \"skill\": \"r\", \"cnt\": 34}, {\"type\": \"others\", \"skill\": \"analytics\", \"cnt\": 31}]}}, {\"mode\": \"vega-lite\"});\n",
       "</script>"
      ],
      "text/plain": [
       "alt.HConcatChart(...)"
      ]
     },
     "execution_count": 134,
     "metadata": {},
     "output_type": "execute_result"
    }
   ],
   "source": [
    "    height=200\n",
    "    width=200\n",
    "    s_chart=alt.Chart(df_sr\n",
    "                         ).mark_bar().encode(\n",
    "        y=alt.Y('skill:N', sort='-x',title='skill'),\n",
    "        x=alt.X('cnt:Q',title=' # of count',axis=alt.Axis( \n",
    "                                   labelAngle=-45, \n",
    "                                   labelOverlap=False)),\n",
    "        tooltip=[\n",
    "                 alt.Tooltip('cnt:Q', format='d'),\n",
    "                ]\n",
    "    ).properties(\n",
    "        height=height, width=width,\n",
    "    )\n",
    "\n",
    "    j_chart=alt.Chart(df_jr\n",
    "                         ).mark_bar().encode(\n",
    "        y=alt.Y('skill:N', sort='-x',title='skill'),\n",
    "        x=alt.X('cnt:Q',title=' # of count',axis=alt.Axis( \n",
    "                                   labelAngle=-45, \n",
    "                                   labelOverlap=False)),\n",
    "        tooltip=[\n",
    "                 alt.Tooltip('cnt:Q', format='d'),\n",
    "                ]\n",
    "    ).properties(\n",
    "        height=height, width=width,\n",
    "    )\n",
    "    o_chart=alt.Chart(df_ot\n",
    "                         ).mark_bar().encode(\n",
    "        y=alt.Y('skill:N', sort='-x',title='skill'),\n",
    "        x=alt.X('cnt:Q',title=' # of count',axis=alt.Axis( \n",
    "                                   labelAngle=-45, \n",
    "                                   labelOverlap=False)),\n",
    "        tooltip=[\n",
    "                 alt.Tooltip('cnt:Q', format='d'),\n",
    "                ]\n",
    "    ).properties(\n",
    "        height=height, width=width,\n",
    "    )\n",
    " \n",
    "    (s_chart | j_chart | o_chart).properties(\n",
    "        title='Top skills by levels').configure_view(\n",
    "        strokeOpacity=0 # Remove the border of chart title\n",
    "    ).configure_concat(\n",
    "        spacing=30 # Padding among all charts vertically\n",
    "    ).configure_axisY(  # Change y title to horizontally\n",
    "        titleAngle=0,\n",
    "        titleAlign=\"right\",\n",
    "        titleY=-10,\n",
    "        titleX=-20,\n",
    "    )\n"
   ]
  },
  {
   "cell_type": "code",
   "execution_count": 142,
   "id": "2a26506a",
   "metadata": {
    "ExecuteTime": {
     "end_time": "2022-05-24T08:05:19.826115Z",
     "start_time": "2022-05-24T08:05:19.796827Z"
    }
   },
   "outputs": [
    {
     "data": {
      "text/html": [
       "<div>\n",
       "<style scoped>\n",
       "    .dataframe tbody tr th:only-of-type {\n",
       "        vertical-align: middle;\n",
       "    }\n",
       "\n",
       "    .dataframe tbody tr th {\n",
       "        vertical-align: top;\n",
       "    }\n",
       "\n",
       "    .dataframe thead th {\n",
       "        text-align: right;\n",
       "    }\n",
       "</style>\n",
       "<table border=\"1\" class=\"dataframe\">\n",
       "  <thead>\n",
       "    <tr style=\"text-align: right;\">\n",
       "      <th></th>\n",
       "      <th>type</th>\n",
       "      <th>skill</th>\n",
       "      <th>cnt</th>\n",
       "    </tr>\n",
       "  </thead>\n",
       "  <tbody>\n",
       "    <tr>\n",
       "      <th>0</th>\n",
       "      <td>senior</td>\n",
       "      <td>machine learning</td>\n",
       "      <td>342</td>\n",
       "    </tr>\n",
       "    <tr>\n",
       "      <th>1</th>\n",
       "      <td>senior</td>\n",
       "      <td>statistics</td>\n",
       "      <td>264</td>\n",
       "    </tr>\n",
       "    <tr>\n",
       "      <th>2</th>\n",
       "      <td>senior</td>\n",
       "      <td>computer science</td>\n",
       "      <td>245</td>\n",
       "    </tr>\n",
       "    <tr>\n",
       "      <th>3</th>\n",
       "      <td>senior</td>\n",
       "      <td>python</td>\n",
       "      <td>236</td>\n",
       "    </tr>\n",
       "    <tr>\n",
       "      <th>4</th>\n",
       "      <td>senior</td>\n",
       "      <td>algorithms</td>\n",
       "      <td>171</td>\n",
       "    </tr>\n",
       "    <tr>\n",
       "      <th>5</th>\n",
       "      <td>senior</td>\n",
       "      <td>mathematics</td>\n",
       "      <td>156</td>\n",
       "    </tr>\n",
       "    <tr>\n",
       "      <th>6</th>\n",
       "      <td>senior</td>\n",
       "      <td>engineering</td>\n",
       "      <td>155</td>\n",
       "    </tr>\n",
       "    <tr>\n",
       "      <th>7</th>\n",
       "      <td>senior</td>\n",
       "      <td>analytics</td>\n",
       "      <td>141</td>\n",
       "    </tr>\n",
       "    <tr>\n",
       "      <th>8</th>\n",
       "      <td>senior</td>\n",
       "      <td>communication</td>\n",
       "      <td>136</td>\n",
       "    </tr>\n",
       "    <tr>\n",
       "      <th>9</th>\n",
       "      <td>senior</td>\n",
       "      <td>r</td>\n",
       "      <td>124</td>\n",
       "    </tr>\n",
       "    <tr>\n",
       "      <th>12</th>\n",
       "      <td>others</td>\n",
       "      <td>machine learning</td>\n",
       "      <td>88</td>\n",
       "    </tr>\n",
       "    <tr>\n",
       "      <th>25</th>\n",
       "      <td>others</td>\n",
       "      <td>python</td>\n",
       "      <td>68</td>\n",
       "    </tr>\n",
       "    <tr>\n",
       "      <th>29</th>\n",
       "      <td>others</td>\n",
       "      <td>computer science</td>\n",
       "      <td>61</td>\n",
       "    </tr>\n",
       "    <tr>\n",
       "      <th>32</th>\n",
       "      <td>others</td>\n",
       "      <td>statistics</td>\n",
       "      <td>58</td>\n",
       "    </tr>\n",
       "    <tr>\n",
       "      <th>46</th>\n",
       "      <td>junior</td>\n",
       "      <td>machine learning</td>\n",
       "      <td>44</td>\n",
       "    </tr>\n",
       "    <tr>\n",
       "      <th>47</th>\n",
       "      <td>junior</td>\n",
       "      <td>python</td>\n",
       "      <td>43</td>\n",
       "    </tr>\n",
       "    <tr>\n",
       "      <th>48</th>\n",
       "      <td>junior</td>\n",
       "      <td>computer science</td>\n",
       "      <td>42</td>\n",
       "    </tr>\n",
       "    <tr>\n",
       "      <th>53</th>\n",
       "      <td>others</td>\n",
       "      <td>engineering</td>\n",
       "      <td>40</td>\n",
       "    </tr>\n",
       "    <tr>\n",
       "      <th>54</th>\n",
       "      <td>junior</td>\n",
       "      <td>statistics</td>\n",
       "      <td>39</td>\n",
       "    </tr>\n",
       "    <tr>\n",
       "      <th>65</th>\n",
       "      <td>others</td>\n",
       "      <td>mathematics</td>\n",
       "      <td>36</td>\n",
       "    </tr>\n",
       "    <tr>\n",
       "      <th>66</th>\n",
       "      <td>others</td>\n",
       "      <td>communication</td>\n",
       "      <td>36</td>\n",
       "    </tr>\n",
       "    <tr>\n",
       "      <th>69</th>\n",
       "      <td>others</td>\n",
       "      <td>algorithms</td>\n",
       "      <td>34</td>\n",
       "    </tr>\n",
       "    <tr>\n",
       "      <th>70</th>\n",
       "      <td>others</td>\n",
       "      <td>r</td>\n",
       "      <td>34</td>\n",
       "    </tr>\n",
       "    <tr>\n",
       "      <th>83</th>\n",
       "      <td>junior</td>\n",
       "      <td>mathematics</td>\n",
       "      <td>31</td>\n",
       "    </tr>\n",
       "    <tr>\n",
       "      <th>84</th>\n",
       "      <td>others</td>\n",
       "      <td>analytics</td>\n",
       "      <td>31</td>\n",
       "    </tr>\n",
       "    <tr>\n",
       "      <th>102</th>\n",
       "      <td>junior</td>\n",
       "      <td>communication</td>\n",
       "      <td>27</td>\n",
       "    </tr>\n",
       "    <tr>\n",
       "      <th>113</th>\n",
       "      <td>junior</td>\n",
       "      <td>engineering</td>\n",
       "      <td>24</td>\n",
       "    </tr>\n",
       "    <tr>\n",
       "      <th>116</th>\n",
       "      <td>junior</td>\n",
       "      <td>analytical</td>\n",
       "      <td>23</td>\n",
       "    </tr>\n",
       "    <tr>\n",
       "      <th>119</th>\n",
       "      <td>junior</td>\n",
       "      <td>analysis</td>\n",
       "      <td>23</td>\n",
       "    </tr>\n",
       "    <tr>\n",
       "      <th>125</th>\n",
       "      <td>junior</td>\n",
       "      <td>algorithms</td>\n",
       "      <td>22</td>\n",
       "    </tr>\n",
       "  </tbody>\n",
       "</table>\n",
       "</div>"
      ],
      "text/plain": [
       "       type             skill  cnt\n",
       "0    senior  machine learning  342\n",
       "1    senior        statistics  264\n",
       "2    senior  computer science  245\n",
       "3    senior            python  236\n",
       "4    senior        algorithms  171\n",
       "5    senior       mathematics  156\n",
       "6    senior       engineering  155\n",
       "7    senior         analytics  141\n",
       "8    senior     communication  136\n",
       "9    senior                 r  124\n",
       "12   others  machine learning   88\n",
       "25   others            python   68\n",
       "29   others  computer science   61\n",
       "32   others        statistics   58\n",
       "46   junior  machine learning   44\n",
       "47   junior            python   43\n",
       "48   junior  computer science   42\n",
       "53   others       engineering   40\n",
       "54   junior        statistics   39\n",
       "65   others       mathematics   36\n",
       "66   others     communication   36\n",
       "69   others        algorithms   34\n",
       "70   others                 r   34\n",
       "83   junior       mathematics   31\n",
       "84   others         analytics   31\n",
       "102  junior     communication   27\n",
       "113  junior       engineering   24\n",
       "116  junior        analytical   23\n",
       "119  junior          analysis   23\n",
       "125  junior        algorithms   22"
      ]
     },
     "execution_count": 142,
     "metadata": {},
     "output_type": "execute_result"
    }
   ],
   "source": [
    "df_type.groupby('type').head(10)"
   ]
  },
  {
   "cell_type": "code",
   "execution_count": 176,
   "id": "eaabeb4b",
   "metadata": {
    "ExecuteTime": {
     "end_time": "2022-05-24T10:18:04.762033Z",
     "start_time": "2022-05-24T10:18:04.660414Z"
    }
   },
   "outputs": [
    {
     "data": {
      "text/html": [
       "\n",
       "<div id=\"altair-viz-474542a333e748dd8fa65ef4d42340f3\"></div>\n",
       "<script type=\"text/javascript\">\n",
       "  (function(spec, embedOpt){\n",
       "    let outputDiv = document.currentScript.previousElementSibling;\n",
       "    if (outputDiv.id !== \"altair-viz-474542a333e748dd8fa65ef4d42340f3\") {\n",
       "      outputDiv = document.getElementById(\"altair-viz-474542a333e748dd8fa65ef4d42340f3\");\n",
       "    }\n",
       "    const paths = {\n",
       "      \"vega\": \"https://cdn.jsdelivr.net/npm//vega@5?noext\",\n",
       "      \"vega-lib\": \"https://cdn.jsdelivr.net/npm//vega-lib?noext\",\n",
       "      \"vega-lite\": \"https://cdn.jsdelivr.net/npm//vega-lite@4.8.1?noext\",\n",
       "      \"vega-embed\": \"https://cdn.jsdelivr.net/npm//vega-embed@6?noext\",\n",
       "    };\n",
       "\n",
       "    function loadScript(lib) {\n",
       "      return new Promise(function(resolve, reject) {\n",
       "        var s = document.createElement('script');\n",
       "        s.src = paths[lib];\n",
       "        s.async = true;\n",
       "        s.onload = () => resolve(paths[lib]);\n",
       "        s.onerror = () => reject(`Error loading script: ${paths[lib]}`);\n",
       "        document.getElementsByTagName(\"head\")[0].appendChild(s);\n",
       "      });\n",
       "    }\n",
       "\n",
       "    function showError(err) {\n",
       "      outputDiv.innerHTML = `<div class=\"error\" style=\"color:red;\">${err}</div>`;\n",
       "      throw err;\n",
       "    }\n",
       "\n",
       "    function displayChart(vegaEmbed) {\n",
       "      vegaEmbed(outputDiv, spec, embedOpt)\n",
       "        .catch(err => showError(`Javascript Error: ${err.message}<br>This usually means there's a typo in your chart specification. See the javascript console for the full traceback.`));\n",
       "    }\n",
       "\n",
       "    if(typeof define === \"function\" && define.amd) {\n",
       "      requirejs.config({paths});\n",
       "      require([\"vega-embed\"], displayChart, err => showError(`Error loading script: ${err.message}`));\n",
       "    } else if (typeof vegaEmbed === \"function\") {\n",
       "      displayChart(vegaEmbed);\n",
       "    } else {\n",
       "      loadScript(\"vega\")\n",
       "        .then(() => loadScript(\"vega-lite\"))\n",
       "        .then(() => loadScript(\"vega-embed\"))\n",
       "        .catch(showError)\n",
       "        .then(() => displayChart(vegaEmbed));\n",
       "    }\n",
       "  })({\"config\": {\"view\": {\"continuousWidth\": 400, \"continuousHeight\": 300}}, \"data\": {\"name\": \"data-af96fda25070ad01be3999e0db1cdf65\"}, \"mark\": \"bar\", \"encoding\": {\"color\": {\"type\": \"nominal\", \"field\": \"type\", \"scale\": {\"scheme\": \"set2\"}}, \"order\": {\"type\": \"nominal\", \"field\": \"type\", \"sort\": \"ascending\"}, \"x\": {\"type\": \"ordinal\", \"axis\": {\"labelAngle\": -40, \"labelOverlap\": false}, \"field\": \"skill\", \"sort\": \"-y\", \"title\": \"skill\"}, \"y\": {\"type\": \"quantitative\", \"field\": \"cnt\", \"title\": \"# of count\"}}, \"height\": 300, \"title\": {\"text\": \" Top 20 Skills By levels\", \"align\": \"center\", \"color\": \"#3E454F\", \"font\": \"Ubuntu Mono\", \"fontSize\": 20}, \"width\": 700, \"$schema\": \"https://vega.github.io/schema/vega-lite/v4.8.1.json\", \"datasets\": {\"data-af96fda25070ad01be3999e0db1cdf65\": [{\"type\": \"senior\", \"skill\": \"machine learning\", \"cnt\": 342}, {\"type\": \"senior\", \"skill\": \"statistics\", \"cnt\": 264}, {\"type\": \"senior\", \"skill\": \"computer science\", \"cnt\": 245}, {\"type\": \"senior\", \"skill\": \"python\", \"cnt\": 236}, {\"type\": \"senior\", \"skill\": \"algorithms\", \"cnt\": 171}, {\"type\": \"senior\", \"skill\": \"mathematics\", \"cnt\": 156}, {\"type\": \"senior\", \"skill\": \"engineering\", \"cnt\": 155}, {\"type\": \"senior\", \"skill\": \"analytics\", \"cnt\": 141}, {\"type\": \"senior\", \"skill\": \"communication\", \"cnt\": 136}, {\"type\": \"senior\", \"skill\": \"r\", \"cnt\": 124}, {\"type\": \"senior\", \"skill\": \"research\", \"cnt\": 118}, {\"type\": \"senior\", \"skill\": \"design\", \"cnt\": 99}, {\"type\": \"others\", \"skill\": \"machine learning\", \"cnt\": 88}, {\"type\": \"senior\", \"skill\": \"programming\", \"cnt\": 88}, {\"type\": \"senior\", \"skill\": \"data mining\", \"cnt\": 85}, {\"type\": \"senior\", \"skill\": \"deep learning\", \"cnt\": 85}, {\"type\": \"senior\", \"skill\": \"communicate\", \"cnt\": 83}, {\"type\": \"senior\", \"skill\": \"java\", \"cnt\": 82}, {\"type\": \"senior\", \"skill\": \"analysis\", \"cnt\": 82}, {\"type\": \"senior\", \"skill\": \"development\", \"cnt\": 81}, {\"type\": \"senior\", \"skill\": \"collaborate\", \"cnt\": 81}, {\"type\": \"others\", \"skill\": \"python\", \"cnt\": 68}, {\"type\": \"others\", \"skill\": \"computer science\", \"cnt\": 61}, {\"type\": \"others\", \"skill\": \"statistics\", \"cnt\": 58}, {\"type\": \"junior\", \"skill\": \"machine learning\", \"cnt\": 44}, {\"type\": \"junior\", \"skill\": \"python\", \"cnt\": 43}, {\"type\": \"junior\", \"skill\": \"computer science\", \"cnt\": 42}, {\"type\": \"others\", \"skill\": \"engineering\", \"cnt\": 40}, {\"type\": \"junior\", \"skill\": \"statistics\", \"cnt\": 39}, {\"type\": \"others\", \"skill\": \"mathematics\", \"cnt\": 36}, {\"type\": \"others\", \"skill\": \"communication\", \"cnt\": 36}, {\"type\": \"others\", \"skill\": \"algorithms\", \"cnt\": 34}, {\"type\": \"others\", \"skill\": \"r\", \"cnt\": 34}, {\"type\": \"junior\", \"skill\": \"mathematics\", \"cnt\": 31}, {\"type\": \"others\", \"skill\": \"analytics\", \"cnt\": 31}, {\"type\": \"others\", \"skill\": \"research\", \"cnt\": 31}, {\"type\": \"others\", \"skill\": \"java\", \"cnt\": 29}, {\"type\": \"others\", \"skill\": \"development\", \"cnt\": 27}, {\"type\": \"junior\", \"skill\": \"communication\", \"cnt\": 27}, {\"type\": \"others\", \"skill\": \"design\", \"cnt\": 26}, {\"type\": \"junior\", \"skill\": \"engineering\", \"cnt\": 24}, {\"type\": \"others\", \"skill\": \"deep learning\", \"cnt\": 24}, {\"type\": \"junior\", \"skill\": \"analytical\", \"cnt\": 23}, {\"type\": \"others\", \"skill\": \"programming\", \"cnt\": 23}, {\"type\": \"junior\", \"skill\": \"analysis\", \"cnt\": 23}, {\"type\": \"others\", \"skill\": \"analysis\", \"cnt\": 23}, {\"type\": \"junior\", \"skill\": \"algorithms\", \"cnt\": 22}, {\"type\": \"others\", \"skill\": \"english\", \"cnt\": 22}, {\"type\": \"others\", \"skill\": \"data sets\", \"cnt\": 21}, {\"type\": \"others\", \"skill\": \"developing\", \"cnt\": 21}, {\"type\": \"junior\", \"skill\": \"r\", \"cnt\": 21}, {\"type\": \"junior\", \"skill\": \"data mining\", \"cnt\": 20}, {\"type\": \"junior\", \"skill\": \"analytics\", \"cnt\": 19}, {\"type\": \"junior\", \"skill\": \"big data\", \"cnt\": 19}, {\"type\": \"junior\", \"skill\": \"data sets\", \"cnt\": 16}, {\"type\": \"junior\", \"skill\": \"research\", \"cnt\": 16}, {\"type\": \"junior\", \"skill\": \"development\", \"cnt\": 16}, {\"type\": \"junior\", \"skill\": \"english\", \"cnt\": 16}, {\"type\": \"junior\", \"skill\": \"economics\", \"cnt\": 16}, {\"type\": \"junior\", \"skill\": \"programming\", \"cnt\": 15}]}}, {\"mode\": \"vega-lite\"});\n",
       "</script>"
      ],
      "text/plain": [
       "alt.Chart(...)"
      ]
     },
     "execution_count": 176,
     "metadata": {},
     "output_type": "execute_result"
    }
   ],
   "source": [
    "top_n=20\n",
    "b_height=300\n",
    "b_width=700\n",
    "title_str=\" Top %d Skills By levels\" %(top_n)\n",
    "alt.Chart(df_type.groupby('type').head(top_n)).mark_bar().encode(\n",
    "    y=alt.X('cnt:Q', title='# of count'),\n",
    "    x=alt.Y('skill:O',sort='-y',title='skill',axis=alt.Axis( \n",
    "                                   labelAngle=-40, \n",
    "                                   labelOverlap=False)),\n",
    "    color=alt.Color('type', scale=alt.Scale(scheme='set2')),\n",
    "    order=alt.Order(\n",
    "      # Sort the segments of the bars by this field\n",
    "      'type',\n",
    "      sort='ascending'\n",
    "    )\n",
    ").properties(height=b_height, width=b_width,\n",
    "        title = alt.TitleParams(text = title_str,\n",
    "                                            align='center',\n",
    "                                            font = 'Ubuntu Mono', \n",
    "                                            fontSize = 20, \n",
    "                                            color = '#3E454F'\n",
    "                                            )\n",
    "    )"
   ]
  },
  {
   "cell_type": "code",
   "execution_count": 90,
   "id": "808f7ac4",
   "metadata": {
    "ExecuteTime": {
     "end_time": "2022-05-23T12:32:08.889487Z",
     "start_time": "2022-05-23T12:32:07.459087Z"
    }
   },
   "outputs": [],
   "source": [
    "# Using scattertext to visualize the skills by types\n",
    "nlp = spacy.load('en_core_web_sm')"
   ]
  },
  {
   "cell_type": "code",
   "execution_count": 91,
   "id": "b1d0a7c4",
   "metadata": {
    "ExecuteTime": {
     "end_time": "2022-05-23T12:34:53.252477Z",
     "start_time": "2022-05-23T12:32:31.276371Z"
    }
   },
   "outputs": [],
   "source": [
    "    corpus = (scattertext.CorpusFromPandas(df_full,\n",
    "                                           category_col='type', \n",
    "                                           text_col='skill',\n",
    "                                           nlp=nlp)\n",
    "              .build()\n",
    "              .remove_terms(nlp.Defaults.stop_words, ignore_absences=True)\n",
    "              )"
   ]
  },
  {
   "cell_type": "code",
   "execution_count": 92,
   "id": "4cd46969",
   "metadata": {
    "ExecuteTime": {
     "end_time": "2022-05-23T12:34:55.225616Z",
     "start_time": "2022-05-23T12:34:53.255931Z"
    }
   },
   "outputs": [],
   "source": [
    "html = scattertext.produce_scattertext_explorer(\n",
    "                   corpus,\n",
    "                   category='senior',\n",
    "                   category_name='senior',\n",
    "                   not_category_name=['junior'],\n",
    "                   width_in_pixels=1000,\n",
    "                   )"
   ]
  },
  {
   "cell_type": "code",
   "execution_count": 94,
   "id": "ca125bfa",
   "metadata": {
    "ExecuteTime": {
     "end_time": "2022-05-23T12:39:06.473065Z",
     "start_time": "2022-05-23T12:39:06.461072Z"
    }
   },
   "outputs": [
    {
     "data": {
      "text/html": [
       "\n",
       "        <iframe\n",
       "            width=\"900\"\n",
       "            height=\"850\"\n",
       "            src=\"ds_skills.html\"\n",
       "            frameborder=\"0\"\n",
       "            allowfullscreen\n",
       "        ></iframe>\n",
       "        "
      ],
      "text/plain": [
       "<IPython.lib.display.IFrame at 0x7f95823b7210>"
      ]
     },
     "metadata": {},
     "output_type": "display_data"
    }
   ],
   "source": [
    "#open(\"ds_skills.html\", 'wb').write(html.encode('utf-8'))\n",
    "#with open(\"ds_skills.html\", 'w') as outf: outf.write(html)\n",
    "from IPython.display import IFrame    \n",
    "display(IFrame(\"ds_skills.html\", width=900, height=850))"
   ]
  },
  {
   "cell_type": "code",
   "execution_count": 95,
   "id": "5f138272",
   "metadata": {
    "ExecuteTime": {
     "end_time": "2022-05-23T13:34:07.855884Z",
     "start_time": "2022-05-23T13:34:07.217241Z"
    }
   },
   "outputs": [],
   "source": [
    "df = corpus.get_term_freq_df()"
   ]
  },
  {
   "cell_type": "code",
   "execution_count": 96,
   "id": "e829e0c5",
   "metadata": {
    "ExecuteTime": {
     "end_time": "2022-05-23T13:34:13.722190Z",
     "start_time": "2022-05-23T13:34:13.675103Z"
    }
   },
   "outputs": [
    {
     "data": {
      "text/html": [
       "<div>\n",
       "<style scoped>\n",
       "    .dataframe tbody tr th:only-of-type {\n",
       "        vertical-align: middle;\n",
       "    }\n",
       "\n",
       "    .dataframe tbody tr th {\n",
       "        vertical-align: top;\n",
       "    }\n",
       "\n",
       "    .dataframe thead th {\n",
       "        text-align: right;\n",
       "    }\n",
       "</style>\n",
       "<table border=\"1\" class=\"dataframe\">\n",
       "  <thead>\n",
       "    <tr style=\"text-align: right;\">\n",
       "      <th></th>\n",
       "      <th>others freq</th>\n",
       "      <th>senior freq</th>\n",
       "      <th>junior freq</th>\n",
       "    </tr>\n",
       "    <tr>\n",
       "      <th>term</th>\n",
       "      <th></th>\n",
       "      <th></th>\n",
       "      <th></th>\n",
       "    </tr>\n",
       "  </thead>\n",
       "  <tbody>\n",
       "    <tr>\n",
       "      <th>artificial</th>\n",
       "      <td>13</td>\n",
       "      <td>35</td>\n",
       "      <td>7</td>\n",
       "    </tr>\n",
       "    <tr>\n",
       "      <th>intelligence</th>\n",
       "      <td>17</td>\n",
       "      <td>53</td>\n",
       "      <td>12</td>\n",
       "    </tr>\n",
       "    <tr>\n",
       "      <th>artificial intelligence</th>\n",
       "      <td>10</td>\n",
       "      <td>29</td>\n",
       "      <td>7</td>\n",
       "    </tr>\n",
       "    <tr>\n",
       "      <th>machine</th>\n",
       "      <td>98</td>\n",
       "      <td>396</td>\n",
       "      <td>54</td>\n",
       "    </tr>\n",
       "    <tr>\n",
       "      <th>learning</th>\n",
       "      <td>152</td>\n",
       "      <td>573</td>\n",
       "      <td>77</td>\n",
       "    </tr>\n",
       "    <tr>\n",
       "      <th>...</th>\n",
       "      <td>...</td>\n",
       "      <td>...</td>\n",
       "      <td>...</td>\n",
       "    </tr>\n",
       "    <tr>\n",
       "      <th>efficiency measurement</th>\n",
       "      <td>0</td>\n",
       "      <td>0</td>\n",
       "      <td>1</td>\n",
       "    </tr>\n",
       "    <tr>\n",
       "      <th>computing systems</th>\n",
       "      <td>0</td>\n",
       "      <td>2</td>\n",
       "      <td>0</td>\n",
       "    </tr>\n",
       "    <tr>\n",
       "      <th>technique</th>\n",
       "      <td>0</td>\n",
       "      <td>2</td>\n",
       "      <td>0</td>\n",
       "    </tr>\n",
       "    <tr>\n",
       "      <th>technique selection</th>\n",
       "      <td>0</td>\n",
       "      <td>2</td>\n",
       "      <td>0</td>\n",
       "    </tr>\n",
       "    <tr>\n",
       "      <th>agiler</th>\n",
       "      <td>1</td>\n",
       "      <td>0</td>\n",
       "      <td>0</td>\n",
       "    </tr>\n",
       "  </tbody>\n",
       "</table>\n",
       "<p>4447 rows × 3 columns</p>\n",
       "</div>"
      ],
      "text/plain": [
       "                         others freq  senior freq  junior freq\n",
       "term                                                          \n",
       "artificial                        13           35            7\n",
       "intelligence                      17           53           12\n",
       "artificial intelligence           10           29            7\n",
       "machine                           98          396           54\n",
       "learning                         152          573           77\n",
       "...                              ...          ...          ...\n",
       "efficiency measurement             0            0            1\n",
       "computing systems                  0            2            0\n",
       "technique                          0            2            0\n",
       "technique selection                0            2            0\n",
       "agiler                             1            0            0\n",
       "\n",
       "[4447 rows x 3 columns]"
      ]
     },
     "execution_count": 96,
     "metadata": {},
     "output_type": "execute_result"
    }
   ],
   "source": [
    "df"
   ]
  },
  {
   "cell_type": "code",
   "execution_count": null,
   "id": "4bd0957d",
   "metadata": {},
   "outputs": [],
   "source": []
  }
 ],
 "metadata": {
  "kernelspec": {
   "display_name": "Python 3",
   "language": "python",
   "name": "python3"
  },
  "language_info": {
   "codemirror_mode": {
    "name": "ipython",
    "version": 3
   },
   "file_extension": ".py",
   "mimetype": "text/x-python",
   "name": "python",
   "nbconvert_exporter": "python",
   "pygments_lexer": "ipython3",
   "version": "3.7.9"
  }
 },
 "nbformat": 4,
 "nbformat_minor": 5
}
