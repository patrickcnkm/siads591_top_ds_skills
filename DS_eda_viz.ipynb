{
 "cells": [
  {
   "cell_type": "markdown",
   "id": "0b191a72",
   "metadata": {},
   "source": [
    "## Introduction\n",
    "####  Data analysis & visualiztion on the skills of data scientists from the job description of 2 hiring websites"
   ]
  },
  {
   "cell_type": "code",
   "execution_count": 17,
   "id": "cdf4f9f9",
   "metadata": {
    "ExecuteTime": {
     "end_time": "2022-05-19T11:18:46.475203Z",
     "start_time": "2022-05-19T11:18:46.462570Z"
    }
   },
   "outputs": [],
   "source": [
    "from __future__ import print_function\n",
    "import pandas as pd\n",
    "import numpy as np\n",
    "\n",
    "# Text preprocessing\n",
    "import os,re\n",
    "\n",
    "# Disable warning of 3 types\n",
    "import warnings\n",
    "\n",
    "#Plotting\n",
    "import matplotlib.pyplot as plt\n",
    "import matplotlib.cm as cm\n",
    "\n",
    "# Other utils\n",
    "from tqdm import tqdm  # Progress bar\n",
    "\n",
    "#EDA tools.\n",
    "import dtale\n",
    "\n",
    "# nlp text cleaning\n",
    "import nltk\n",
    "import re\n",
    "import string\n",
    "from nltk.tokenize import word_tokenize, sent_tokenize\n",
    "from nltk.corpus import stopwords\n",
    "from nltk.stem import PorterStemmer # or LancasterStemmer, RegexpStemmer, SnowballStemmer\n",
    "\n",
    "# Transformers\n",
    "from transformers import pipeline\n",
    "import ipywidgets as widgets\n",
    "from transformers import pipeline\n",
    "from sentence_transformers import SentenceTransformer\n",
    "\n",
    "# Clustering algorithms\n",
    "from sklearn.decomposition import PCA\n",
    "from sklearn.cluster import KMeans, MiniBatchKMeans"
   ]
  },
  {
   "cell_type": "code",
   "execution_count": 2,
   "id": "2bfa2fd8",
   "metadata": {
    "ExecuteTime": {
     "end_time": "2022-05-19T10:03:33.811178Z",
     "start_time": "2022-05-19T10:03:33.731741Z"
    }
   },
   "outputs": [],
   "source": [
    "# load main table only including the jobs of data scientists\n",
    "ds_file= './01_data/output/datascientists.csv'\n",
    "df_main=pd.read_csv(ds_file)"
   ]
  },
  {
   "cell_type": "code",
   "execution_count": 3,
   "id": "97720fdb",
   "metadata": {
    "ExecuteTime": {
     "end_time": "2022-05-19T10:03:33.825973Z",
     "start_time": "2022-05-19T10:03:33.813841Z"
    }
   },
   "outputs": [],
   "source": [
    "# Drop the duplicated job postings \n",
    "df_main.drop_duplicates(subset=['employer','description','title','location'],inplace=True)"
   ]
  },
  {
   "cell_type": "code",
   "execution_count": 4,
   "id": "9d983748",
   "metadata": {
    "ExecuteTime": {
     "end_time": "2022-05-19T10:03:33.883032Z",
     "start_time": "2022-05-19T10:03:33.829370Z"
    }
   },
   "outputs": [],
   "source": [
    "# load skills produced by azure\n",
    "az_skills= './01_data/output/az_skills.csv'\n",
    "df_skills=pd.read_csv(az_skills)"
   ]
  },
  {
   "cell_type": "code",
   "execution_count": 33,
   "id": "9f345c61",
   "metadata": {
    "ExecuteTime": {
     "end_time": "2022-05-19T12:49:38.622509Z",
     "start_time": "2022-05-19T12:49:38.610658Z"
    }
   },
   "outputs": [],
   "source": [
    "df_skills=df_skills[df_skills['category'].isin(['Skill','Product','Person'])]"
   ]
  },
  {
   "cell_type": "code",
   "execution_count": 34,
   "id": "4df6af53",
   "metadata": {
    "ExecuteTime": {
     "end_time": "2022-05-19T12:49:40.205880Z",
     "start_time": "2022-05-19T12:49:40.197382Z"
    }
   },
   "outputs": [
    {
     "data": {
      "text/plain": [
       "22703"
      ]
     },
     "execution_count": 34,
     "metadata": {},
     "output_type": "execute_result"
    }
   ],
   "source": [
    "len(df_skills)"
   ]
  },
  {
   "cell_type": "code",
   "execution_count": 35,
   "id": "a493509e",
   "metadata": {
    "ExecuteTime": {
     "end_time": "2022-05-19T12:49:42.636473Z",
     "start_time": "2022-05-19T12:49:42.621487Z"
    }
   },
   "outputs": [],
   "source": [
    "# Drop the duplicated skills in the same job description\n",
    "df_skills.drop_duplicates(subset=['id','skill'],inplace=True)"
   ]
  },
  {
   "cell_type": "code",
   "execution_count": 36,
   "id": "b015290c",
   "metadata": {
    "ExecuteTime": {
     "end_time": "2022-05-19T12:49:44.879008Z",
     "start_time": "2022-05-19T12:49:44.870816Z"
    }
   },
   "outputs": [
    {
     "data": {
      "text/plain": [
       "22703"
      ]
     },
     "execution_count": 36,
     "metadata": {},
     "output_type": "execute_result"
    }
   ],
   "source": [
    "len(df_skills)"
   ]
  },
  {
   "cell_type": "code",
   "execution_count": 37,
   "id": "f779f85a",
   "metadata": {
    "ExecuteTime": {
     "end_time": "2022-05-19T12:49:49.312146Z",
     "start_time": "2022-05-19T12:49:49.292218Z"
    }
   },
   "outputs": [],
   "source": [
    "df_id_cnt=df_skills.groupby(['id']).count()['skill']\n",
    "df_id_cnt=df_id_cnt.reset_index()"
   ]
  },
  {
   "cell_type": "code",
   "execution_count": 38,
   "id": "3266df64",
   "metadata": {
    "ExecuteTime": {
     "end_time": "2022-05-19T12:49:50.378763Z",
     "start_time": "2022-05-19T12:49:50.357407Z"
    }
   },
   "outputs": [
    {
     "data": {
      "text/html": [
       "<div>\n",
       "<style scoped>\n",
       "    .dataframe tbody tr th:only-of-type {\n",
       "        vertical-align: middle;\n",
       "    }\n",
       "\n",
       "    .dataframe tbody tr th {\n",
       "        vertical-align: top;\n",
       "    }\n",
       "\n",
       "    .dataframe thead th {\n",
       "        text-align: right;\n",
       "    }\n",
       "</style>\n",
       "<table border=\"1\" class=\"dataframe\">\n",
       "  <thead>\n",
       "    <tr style=\"text-align: right;\">\n",
       "      <th></th>\n",
       "      <th>id</th>\n",
       "      <th>skill</th>\n",
       "    </tr>\n",
       "  </thead>\n",
       "  <tbody>\n",
       "    <tr>\n",
       "      <th>count</th>\n",
       "      <td>7.580000e+02</td>\n",
       "      <td>758.000000</td>\n",
       "    </tr>\n",
       "    <tr>\n",
       "      <th>mean</th>\n",
       "      <td>4.144643e+09</td>\n",
       "      <td>29.951187</td>\n",
       "    </tr>\n",
       "    <tr>\n",
       "      <th>std</th>\n",
       "      <td>6.832706e+07</td>\n",
       "      <td>18.724069</td>\n",
       "    </tr>\n",
       "    <tr>\n",
       "      <th>min</th>\n",
       "      <td>3.716076e+09</td>\n",
       "      <td>1.000000</td>\n",
       "    </tr>\n",
       "    <tr>\n",
       "      <th>25%</th>\n",
       "      <td>4.112985e+09</td>\n",
       "      <td>16.250000</td>\n",
       "    </tr>\n",
       "    <tr>\n",
       "      <th>50%</th>\n",
       "      <td>4.169677e+09</td>\n",
       "      <td>28.000000</td>\n",
       "    </tr>\n",
       "    <tr>\n",
       "      <th>75%</th>\n",
       "      <td>4.194223e+09</td>\n",
       "      <td>40.000000</td>\n",
       "    </tr>\n",
       "    <tr>\n",
       "      <th>max</th>\n",
       "      <td>4.210952e+09</td>\n",
       "      <td>107.000000</td>\n",
       "    </tr>\n",
       "  </tbody>\n",
       "</table>\n",
       "</div>"
      ],
      "text/plain": [
       "                 id       skill\n",
       "count  7.580000e+02  758.000000\n",
       "mean   4.144643e+09   29.951187\n",
       "std    6.832706e+07   18.724069\n",
       "min    3.716076e+09    1.000000\n",
       "25%    4.112985e+09   16.250000\n",
       "50%    4.169677e+09   28.000000\n",
       "75%    4.194223e+09   40.000000\n",
       "max    4.210952e+09  107.000000"
      ]
     },
     "execution_count": 38,
     "metadata": {},
     "output_type": "execute_result"
    }
   ],
   "source": [
    "df_id_cnt.describe()"
   ]
  },
  {
   "cell_type": "code",
   "execution_count": 39,
   "id": "e5a34331",
   "metadata": {
    "ExecuteTime": {
     "end_time": "2022-05-19T12:49:51.846796Z",
     "start_time": "2022-05-19T12:49:51.823015Z"
    }
   },
   "outputs": [],
   "source": [
    "df_skills_cnt=df_skills.groupby(['skill']).count()['id']\n",
    "df_skills_cnt=df_skills_cnt.reset_index()"
   ]
  },
  {
   "cell_type": "code",
   "execution_count": 40,
   "id": "fe840ba6",
   "metadata": {
    "ExecuteTime": {
     "end_time": "2022-05-19T12:49:54.404159Z",
     "start_time": "2022-05-19T12:49:54.383302Z"
    }
   },
   "outputs": [
    {
     "data": {
      "text/html": [
       "<div>\n",
       "<style scoped>\n",
       "    .dataframe tbody tr th:only-of-type {\n",
       "        vertical-align: middle;\n",
       "    }\n",
       "\n",
       "    .dataframe tbody tr th {\n",
       "        vertical-align: top;\n",
       "    }\n",
       "\n",
       "    .dataframe thead th {\n",
       "        text-align: right;\n",
       "    }\n",
       "</style>\n",
       "<table border=\"1\" class=\"dataframe\">\n",
       "  <thead>\n",
       "    <tr style=\"text-align: right;\">\n",
       "      <th></th>\n",
       "      <th>skill</th>\n",
       "      <th>id</th>\n",
       "    </tr>\n",
       "  </thead>\n",
       "  <tbody>\n",
       "    <tr>\n",
       "      <th>2497</th>\n",
       "      <td>machine learning</td>\n",
       "      <td>479</td>\n",
       "    </tr>\n",
       "    <tr>\n",
       "      <th>1123</th>\n",
       "      <td>data</td>\n",
       "      <td>403</td>\n",
       "    </tr>\n",
       "    <tr>\n",
       "      <th>4105</th>\n",
       "      <td>statistics</td>\n",
       "      <td>364</td>\n",
       "    </tr>\n",
       "    <tr>\n",
       "      <th>533</th>\n",
       "      <td>business</td>\n",
       "      <td>355</td>\n",
       "    </tr>\n",
       "    <tr>\n",
       "      <th>3460</th>\n",
       "      <td>python</td>\n",
       "      <td>351</td>\n",
       "    </tr>\n",
       "    <tr>\n",
       "      <th>...</th>\n",
       "      <td>...</td>\n",
       "      <td>...</td>\n",
       "    </tr>\n",
       "    <tr>\n",
       "      <th>1972</th>\n",
       "      <td>gitlab</td>\n",
       "      <td>1</td>\n",
       "    </tr>\n",
       "    <tr>\n",
       "      <th>1973</th>\n",
       "      <td>gizmodo</td>\n",
       "      <td>1</td>\n",
       "    </tr>\n",
       "    <tr>\n",
       "      <th>1974</th>\n",
       "      <td>glm/regression</td>\n",
       "      <td>1</td>\n",
       "    </tr>\n",
       "    <tr>\n",
       "      <th>1977</th>\n",
       "      <td>globally</td>\n",
       "      <td>1</td>\n",
       "    </tr>\n",
       "    <tr>\n",
       "      <th>2343</th>\n",
       "      <td>jquery</td>\n",
       "      <td>1</td>\n",
       "    </tr>\n",
       "  </tbody>\n",
       "</table>\n",
       "<p>4686 rows × 2 columns</p>\n",
       "</div>"
      ],
      "text/plain": [
       "                 skill   id\n",
       "2497  machine learning  479\n",
       "1123              data  403\n",
       "4105        statistics  364\n",
       "533           business  355\n",
       "3460            python  351\n",
       "...                ...  ...\n",
       "1972            gitlab    1\n",
       "1973           gizmodo    1\n",
       "1974    glm/regression    1\n",
       "1977          globally    1\n",
       "2343            jquery    1\n",
       "\n",
       "[4686 rows x 2 columns]"
      ]
     },
     "execution_count": 40,
     "metadata": {},
     "output_type": "execute_result"
    }
   ],
   "source": [
    "df_skills_cnt.sort_values('id',ascending=False)"
   ]
  },
  {
   "cell_type": "code",
   "execution_count": 12,
   "id": "f4a6e9d0",
   "metadata": {
    "ExecuteTime": {
     "end_time": "2022-05-19T10:03:34.314612Z",
     "start_time": "2022-05-19T10:03:34.114209Z"
    }
   },
   "outputs": [],
   "source": [
    "# Perform EDA to check main table\n",
    "d0 = dtale.show(df_main)\n",
    "d0.open_browser()"
   ]
  },
  {
   "cell_type": "code",
   "execution_count": 41,
   "id": "c04ba318",
   "metadata": {
    "ExecuteTime": {
     "end_time": "2022-05-19T12:51:03.956551Z",
     "start_time": "2022-05-19T12:50:01.740270Z"
    },
    "scrolled": false
   },
   "outputs": [
    {
     "name": "stderr",
     "output_type": "stream",
     "text": [
      "2022-05-19 20:50:01,741 - INFO     - Load pretrained SentenceTransformer: bert-large-nli-mean-tokens\n",
      "2022-05-19 20:51:03,953 - INFO     - Use pytorch device: cpu\n"
     ]
    }
   ],
   "source": [
    "onlinemodel='bert-large-nli-mean-tokens'\n",
    "embedder = SentenceTransformer(onlinemodel)"
   ]
  },
  {
   "cell_type": "code",
   "execution_count": 42,
   "id": "6bb79512",
   "metadata": {
    "ExecuteTime": {
     "end_time": "2022-05-19T12:55:32.747107Z",
     "start_time": "2022-05-19T12:51:03.960223Z"
    }
   },
   "outputs": [
    {
     "data": {
      "application/vnd.jupyter.widget-view+json": {
       "model_id": "ace9bd50eb4a411a9e766763379149ee",
       "version_major": 2,
       "version_minor": 0
      },
      "text/plain": [
       "HBox(children=(HTML(value='Batches'), FloatProgress(value=0.0, max=147.0), HTML(value='')))"
      ]
     },
     "metadata": {},
     "output_type": "display_data"
    },
    {
     "name": "stdout",
     "output_type": "stream",
     "text": [
      "\n"
     ]
    }
   ],
   "source": [
    "#queries = list(jobs['job_desc'][0:30])\n",
    "queries = list(df_skills['skill'].unique())\n",
    "query_embeddings = embedder.encode(queries)"
   ]
  },
  {
   "cell_type": "code",
   "execution_count": null,
   "id": "d24f3d82",
   "metadata": {
    "ExecuteTime": {
     "start_time": "2022-05-19T12:51:13.832Z"
    }
   },
   "outputs": [
    {
     "name": "stdout",
     "output_type": "stream",
     "text": [
      "k:  1 sse:  715951.6875\n",
      "k:  2 sse:  670928.125\n",
      "k:  3 sse:  646905.5\n"
     ]
    }
   ],
   "source": [
    "\n",
    "# Elbow criterion - Determine optimal numbers of clusters by elbow rule.\n",
    "def elbow_plot(data, maxK=15, seed_centroids=None):\n",
    "    \"\"\"\n",
    "        parameters:\n",
    "        - data: pandas DataFrame (data to be fitted)\n",
    "        - maxK (default = 10): integer (maximum number of clusters with which to run k-means)\n",
    "        - seed_centroids (default = None ): float (initial value of centroids for k-means)\n",
    "    \"\"\"\n",
    "    sse = []\n",
    "    K= range(1, maxK)\n",
    "    for k in K:\n",
    "        if seed_centroids is not None:\n",
    "            seeds = seed_centroids.head(k)\n",
    "            kmeans = KMeans(n_clusters=k, max_iter=500, n_init=100, random_state=0, init=np.reshape(seeds, (k,1))).fit(data)\n",
    "            #data[\"clusters\"] = kmeans.labels_\n",
    "        else:\n",
    "            kmeans = KMeans(n_clusters=k, max_iter=300, n_init=100, random_state=0).fit(data)\n",
    "            #data[\"clusters\"] = kmeans.labels_\n",
    "        print(\"k: \", k,\"sse: \",kmeans.inertia_)\n",
    "        # Inertia: Sum of distances of samples to their closest cluster center\n",
    "        sse.append(kmeans.inertia_)\n",
    "    plt.figure()\n",
    "    plt.plot(K,sse,'bx-')\n",
    "    plt.xlabel('k')\n",
    "    plt.ylabel('Sum_of_squared_distances')\n",
    "    plt.title('Elbow Method For Optimal k')\n",
    "    plt.show()\n",
    "    return kmeans.labels_\n",
    "\n",
    "# Run Elbow\n",
    "elbow_plot(query_embeddings)"
   ]
  },
  {
   "cell_type": "code",
   "execution_count": null,
   "id": "3f0cb6f5",
   "metadata": {
    "ExecuteTime": {
     "start_time": "2022-05-19T12:51:17.440Z"
    }
   },
   "outputs": [],
   "source": [
    "# As clustering algorithm KMeams is a perfect fit.\n",
    "num_clusters = 3\n",
    "clf = KMeans(n_clusters=num_clusters, \n",
    "            max_iter=100, \n",
    "            init='k-means++', \n",
    "            n_init=1)\n",
    "clf.fit_predict(query_embeddings)\n",
    "cluster_assignment = clf.labels_\n",
    "\n",
    "cdf=pd.DataFrame(columns=[\"cluster_id\",\"sentence_id\",\"sentence\"])\n",
    "\n",
    "for i in range(len(cluster_assignment)):\n",
    "    new_row=pd.Series(data={\"cluster_id\":cluster_assignment[i],\n",
    "                                \"sentence_id\":i,\n",
    "                                \"sentence\":queries[i]\n",
    "                           }\n",
    "                            )\n",
    "    cdf=cdf.append(new_row,ignore_index=True)\n",
    "\n",
    "cdf.head()"
   ]
  },
  {
   "cell_type": "code",
   "execution_count": 30,
   "id": "2fd613e7",
   "metadata": {
    "ExecuteTime": {
     "end_time": "2022-05-19T12:42:23.851553Z",
     "start_time": "2022-05-19T12:42:23.752815Z"
    }
   },
   "outputs": [],
   "source": [
    "# Perform EDA to check clustering result\n",
    "d1 = dtale.show(cdf)\n",
    "d1.open_browser()"
   ]
  },
  {
   "cell_type": "code",
   "execution_count": null,
   "id": "7a40917f",
   "metadata": {},
   "outputs": [],
   "source": []
  }
 ],
 "metadata": {
  "kernelspec": {
   "display_name": "Python 3",
   "language": "python",
   "name": "python3"
  },
  "language_info": {
   "codemirror_mode": {
    "name": "ipython",
    "version": 3
   },
   "file_extension": ".py",
   "mimetype": "text/x-python",
   "name": "python",
   "nbconvert_exporter": "python",
   "pygments_lexer": "ipython3",
   "version": "3.7.9"
  }
 },
 "nbformat": 4,
 "nbformat_minor": 5
}
